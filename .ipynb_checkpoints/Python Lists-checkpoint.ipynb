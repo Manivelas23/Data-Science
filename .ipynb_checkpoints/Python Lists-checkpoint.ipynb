{
 "cells": [
  {
   "cell_type": "markdown",
   "metadata": {},
   "source": [
    "## **What is a list?**\n",
    "A list is an __ordered__ set of objects in Python.\n",
    "\n",
    "Suppose we want to make a list of the heights of students in a class:\n",
    "\n",
    "Jenny is 61 inches tall\n",
    "Alexus is 70 inches tall\n",
    "Sam is 67 inches tall\n",
    "Grace is 64 inches tall\n",
    "\n",
    "In Python, we can create a variable called heights to store these numbers:\n",
    "\n",
    "`heights = [61, 70, 67, 64]`\n",
    "\n",
    "Notice that:\n",
    "\n",
    "A list begins and ends with square brackets ([ and ]).\n",
    "Each item (i.e., 67 or 70) is separated by a comma (,)\n",
    "It’s considered good practice to insert a space () after each comma, but your code will run just fine if you forget the space."
   ]
  },
  {
   "cell_type": "markdown",
   "metadata": {},
   "source": [
    "#### Exercises\n",
    "1. A new student just joined the class:\n",
    "   * Cole is 65 inches tall\n",
    "   * Add Cole’s height to the end of the list heights. "
   ]
  },
  {
   "cell_type": "code",
   "execution_count": 190,
   "metadata": {},
   "outputs": [],
   "source": [
    "heights = [61, 70, 67, 64, 65]"
   ]
  },
  {
   "cell_type": "markdown",
   "metadata": {},
   "source": [
    "***\n",
    "## **Lists II**\n",
    "Lists can contain more than just numbers.\n",
    "\n",
    "Let’s revisit our height example:\n",
    "\n",
    "* Jenny is 61 inches tall\n",
    "* Alexus is 70 inches tall\n",
    "* Sam is 67 inches tall\n",
    "* Grace is 64 inches tall\n",
    "We can make a list of strings that contain the students’ names:\n",
    "\n",
    "`names = ['Jenny', 'Alexus', 'Sam', 'Grace']`\n",
    "\n",
    "We can also __combine multiple data types in one list__. \n",
    "\n",
    "For example, this list contains both a string and an integer:\n",
    "\n",
    "`mixed_list = ['Jenny', 61]`"
   ]
  },
  {
   "cell_type": "markdown",
   "metadata": {},
   "source": [
    "#### Exercises\n",
    "1. Create a new list called sam_height that contains:\n",
    "* The string 'Sam'\n",
    "* The number 67. "
   ]
  },
  {
   "cell_type": "code",
   "execution_count": 191,
   "metadata": {},
   "outputs": [],
   "source": [
    "sam_height = ['Sam', 67]"
   ]
  },
  {
   "cell_type": "markdown",
   "metadata": {},
   "source": [
    "***\n",
    "## **List of Lists**\n",
    "We’ve seen that the items in a list can be numbers or strings. They can also be other lists!\n",
    "\n",
    "Once more, let’s return to our class height example:\n",
    "\n",
    "* Jenny is 61 inches tall\n",
    "* Alexus is 70 inches tall\n",
    "* Sam is 67 inches tall\n",
    "* Grace is 64 inches tall\n",
    "\n",
    "\n",
    "Previously, we saw that we could create a list representing both Jenny’s name and height:\n",
    "\n",
    "`jenny = ['Jenny', 61]`\n",
    "\n",
    "**_We can put several of these lists into one list, such that each entry in the list represents a student and their height:_**\n",
    "\n",
    "`heights = [['Jenny', 61], ['Alexus', 70], ['Sam', 67], ['Grace', 64]]`"
   ]
  },
  {
   "cell_type": "markdown",
   "metadata": {},
   "source": [
    "#### Exercises\n",
    "1. A new student named 'Vik' has joined our class. \n",
    "<br>\n",
    "Vik is 68 inches tall. \n",
    "<br>\n",
    "Add a sublist to heights that represents Vik and his height."
   ]
  },
  {
   "cell_type": "code",
   "execution_count": 192,
   "metadata": {},
   "outputs": [],
   "source": [
    "heights = [['Jenny', 61], ['Alexus', 70], ['Sam', 67], ['Grace', 64]]"
   ]
  },
  {
   "cell_type": "code",
   "execution_count": 193,
   "metadata": {},
   "outputs": [],
   "source": [
    "heights = [['Jenny', 61], ['Alexus', 70], ['Sam', 67], ['Grace', 64], ['Vik', 68]]"
   ]
  },
  {
   "cell_type": "markdown",
   "metadata": {},
   "source": [
    "2. Create a list of lists called ages where each sublist contains a student’s name and their age. Use the following data:\n",
    "\n",
    "* 'Aaron' is 15\n",
    "* 'Dhruti' is 16"
   ]
  },
  {
   "cell_type": "code",
   "execution_count": 194,
   "metadata": {},
   "outputs": [],
   "source": [
    "ages = [['Aaron', 15], ['Dhruti', 16]]"
   ]
  },
  {
   "cell_type": "markdown",
   "metadata": {},
   "source": [
    "***\n",
    "## **Zip**\n",
    "\n",
    "Again, let’s return to our class height example:\n",
    "\n",
    "* Jenny is 61 inches tall\n",
    "* Alexus is 70 inches tall\n",
    "* Sam is 67 inches tall\n",
    "* Grace is 64 inches tall\n",
    "\n",
    "\n",
    "Suppose that we already had a list of names and a list of heights:\n",
    "\n",
    "* `names = ['Jenny', 'Alexus', 'Sam', 'Grace']`\n",
    "\n",
    "* `heights = [61, 70, 67, 65]`\n",
    "\n",
    "If we wanted to create a list of lists that __paired each name with a height, we could use the command zip__. <br> Zip **_takes two (or more) lists as inputs and returns an object that contains a list of pairs_**. <br> Each pair contains one element from each of the inputs. You won’t be able to see much about this object from just printing it:\n",
    "\n",
    "* `names_and_heights = zip(names, heights)`\n",
    "* `print(names_and_heights)`\n",
    "\n",
    "because it will return the location of this object in memory. Output would look something like this:\n",
    "\n",
    "`<zip object at 0x7f1631e86b48>`\n",
    "\n",
    "To see the nested lists, you can convert the zip object to a list first:\n",
    "\n",
    "`print(list(names_and_heights))`\n",
    "<br> \n",
    "\n",
    "**returns:**\n",
    "\n",
    "`[('Jenny', 61), ('Alexus', 70), ('Sam', 67), ('Grace', 65)]`"
   ]
  },
  {
   "cell_type": "markdown",
   "metadata": {},
   "source": [
    "#### Exercises\n",
    "1. Use zip to create a new variable called names_and_dogs_names that combines names and dogs_names into a zip object.\n",
    "\n",
    "Make sure to run the code for this step before proceeding to the next instruction!"
   ]
  },
  {
   "cell_type": "code",
   "execution_count": 195,
   "metadata": {},
   "outputs": [],
   "source": [
    "names = ['Jenny', 'Alexus', 'Sam', 'Grace']\n",
    "dogs_names = ['Elphonse', 'Dr. Doggy DDS', 'Carter', 'Ralph']"
   ]
  },
  {
   "cell_type": "code",
   "execution_count": 196,
   "metadata": {},
   "outputs": [],
   "source": [
    "names_and_dogs_names = zip(names,dogs_names)"
   ]
  },
  {
   "cell_type": "markdown",
   "metadata": {},
   "source": [
    "2. Create a new variable named list_of_names_and_dogs_names by calling list() on names_and_dogs_names. Print this new variable ."
   ]
  },
  {
   "cell_type": "code",
   "execution_count": 197,
   "metadata": {},
   "outputs": [
    {
     "name": "stdout",
     "output_type": "stream",
     "text": [
      "[('Jenny', 'Elphonse'), ('Alexus', 'Dr. Doggy DDS'), ('Sam', 'Carter'), ('Grace', 'Ralph')]\n"
     ]
    }
   ],
   "source": [
    "list_of_names_and_dogs_names = list(names_and_dogs_names)\n",
    "\n",
    "print(list_of_names_and_dogs_names)"
   ]
  },
  {
   "cell_type": "markdown",
   "metadata": {},
   "source": [
    "***\n",
    "## **Growing a List: Append**\n",
    "We can add a __single element to a list using .append()__. For example, suppose we have an empty list called empty_list:\n",
    "\n",
    "`empty_list = []`\n",
    "\n",
    "We can add the element 1 using the following commands:\n",
    "\n",
    "`empty_list.append(1)`\n",
    "\n",
    "If we examine empty_list, we see that it now contains 1:\n",
    "\n",
    "`>>> print(empty_list)`\n",
    "\n",
    "`[1]`\n",
    "\n",
    "When we use .append() on a list that already has elements, our new element is added to the end of the list:\n",
    "\n",
    "##### Create a list\n",
    "my_list = [1, 2, 3]\n",
    "\n",
    "#####  Append a number\n",
    "`my_list.append(5)`\n",
    "\n",
    "`print(my_list)`\n",
    "\n",
    "The output looks like:\n",
    "\n",
    "`1, 2, 3, 5]`\n",
    "\n",
    "It’s important to remember that .append() comes after the list. This is different from functions like print, which come before."
   ]
  },
  {
   "cell_type": "markdown",
   "metadata": {},
   "source": [
    "#### Exercises\n",
    "1. Jiho works for a gardening store called Petal Power. He keeps a record of orders in a list called orders.\n",
    "\n",
    "    Use print to inspect the orders he has received today."
   ]
  },
  {
   "cell_type": "code",
   "execution_count": 198,
   "metadata": {},
   "outputs": [],
   "source": [
    "orders = ['daisies', 'periwinkle']"
   ]
  },
  {
   "cell_type": "code",
   "execution_count": 199,
   "metadata": {},
   "outputs": [
    {
     "name": "stdout",
     "output_type": "stream",
     "text": [
      "['daisies', 'periwinkle']\n"
     ]
    }
   ],
   "source": [
    "print(orders)"
   ]
  },
  {
   "cell_type": "markdown",
   "metadata": {},
   "source": [
    "2. Jiho just received a new order for 'tulips'. Use append to add this string to orders."
   ]
  },
  {
   "cell_type": "code",
   "execution_count": 200,
   "metadata": {},
   "outputs": [],
   "source": [
    "orders.append('tulips')"
   ]
  },
  {
   "cell_type": "markdown",
   "metadata": {},
   "source": [
    "3. Another order has come in! Use append to add 'roses' to orders."
   ]
  },
  {
   "cell_type": "code",
   "execution_count": 201,
   "metadata": {},
   "outputs": [],
   "source": [
    "orders.append('roses')"
   ]
  },
  {
   "cell_type": "markdown",
   "metadata": {},
   "source": [
    "4. Use print to inspect the orders Jiho has received today."
   ]
  },
  {
   "cell_type": "code",
   "execution_count": 202,
   "metadata": {},
   "outputs": [
    {
     "name": "stdout",
     "output_type": "stream",
     "text": [
      "['daisies', 'periwinkle', 'tulips', 'roses']\n"
     ]
    }
   ],
   "source": [
    "print(orders)"
   ]
  },
  {
   "cell_type": "markdown",
   "metadata": {},
   "source": [
    "***\n",
    "## **Growing a List: Plus (+)**\n",
    "When we want to add multiple items to a list, **we can use + to combine two lists**.\n",
    "\n",
    "Below, we have a list of items sold at a bakery called items_sold:\n",
    "\n",
    "`items_sold = ['cake', 'cookie', 'bread']`\n",
    "\n",
    "Suppose the bakery wants to start selling 'biscuit' and 'tart':\n",
    "\n",
    "`>>> items_sold_new = items_sold + ['biscuit', 'tart']`\n",
    "\n",
    "`>>> print(items_sold_new)`\n",
    "\n",
    "`['cake', 'cookie', 'bread', 'biscuit', 'tart']`\n",
    "\n",
    "In this example, we created a new variable, **items_sold_new**, _which contained both the original items sold, and the new ones_. We can inspect the original **items_sold** and see that it did not change:\n",
    "\n",
    "`>>> print(items_sold)`\n",
    "`['cake', 'cookie', 'bread']`\n",
    "\n",
    "_**We can only use + with other lists**_. If we type in this code:\n",
    "\n",
    "`my_list = [1, 2, 3]`\n",
    "\n",
    "`my_list + 4`\n",
    "\n",
    "we will get the following error:\n",
    "\n",
    "`TypeError: can only concatenate list (not \"int\") to list`\n",
    "\n",
    "If we want to add a single element using +, we have to put it into a list with brackets ([]):\n",
    "\n",
    "`my_list + [4]`"
   ]
  },
  {
   "cell_type": "markdown",
   "metadata": {},
   "source": [
    "#### Exercises\n",
    "1. Jiho is still updating his list of orders. He just received orders for 'lilac' and 'iris'. <br#### Exercises\n",
    "1. Jiho is still updating his list of orders. He just received orders for 'lilac' and 'iris'. <br>Use + to create a new list called new_orders that combines orders with the two new orders.>Use + to create a new list called new_orders that combines orders with the two new orders."
   ]
  },
  {
   "cell_type": "code",
   "execution_count": 203,
   "metadata": {},
   "outputs": [],
   "source": [
    "orders = ['daisy', 'buttercup', 'snapdragon', 'gardenia', 'lily']"
   ]
  },
  {
   "cell_type": "code",
   "execution_count": 204,
   "metadata": {},
   "outputs": [],
   "source": [
    "new_orders = orders + ['lilac', 'iris'] "
   ]
  },
  {
   "cell_type": "markdown",
   "metadata": {},
   "source": [
    "***\n",
    "## **Range I**\n",
    "Often, we want to create a list of consecutive numbers. For example, suppose we want a list containing the numbers 0 through 9:\n",
    "\n",
    "`my_list = [0, 1, 2, 3, 4, 5, 6, 7, 8, 9]`\n",
    "\n",
    "Typing out all of those numbers takes time and the more numbers we type, the more likely it is that we have a typo.\n",
    "\n",
    "__Python gives us an easy way of creating these lists using a function called range__. The function range takes a single input, and generates numbers starting at 0 and ending at the number before the input. So, if we want the numbers from 0 through 9, we use range(10) because 10 is 1 greater than 9:\n",
    "\n",
    "`my_range = range(10)`\n",
    "\n",
    "Just like with zip, the range function returns an object that we can convert into a list:\n",
    "\n",
    "`>>> print(my_range)`\n",
    "\n",
    "`range(0, 10)`\n",
    "\n",
    "`>>> print(list(my_range))`\n",
    "\n",
    "`[0, 1, 2, 3, 4, 5, 6, 7, 8, 9]`"
   ]
  },
  {
   "cell_type": "markdown",
   "metadata": {},
   "source": [
    "#### Exercises\n",
    "1. Modify __list1__ so that it is a range containing numbers starting at 0 and up to, but not including, 9."
   ]
  },
  {
   "cell_type": "code",
   "execution_count": 205,
   "metadata": {},
   "outputs": [],
   "source": [
    "list1 = range(5)"
   ]
  },
  {
   "cell_type": "code",
   "execution_count": 206,
   "metadata": {},
   "outputs": [],
   "source": [
    "list1 = range(9) #modified"
   ]
  },
  {
   "cell_type": "markdown",
   "metadata": {},
   "source": [
    "2. Create a range called __list2__ with the numbers 0 through 7."
   ]
  },
  {
   "cell_type": "code",
   "execution_count": 207,
   "metadata": {},
   "outputs": [],
   "source": [
    "list2 = range(8) "
   ]
  },
  {
   "cell_type": "markdown",
   "metadata": {},
   "source": [
    "## **Range II**\n",
    "\n",
    "We can use range to generate more interesting lists.\n",
    "\n",
    "By default, range creates a list starting at 0. However, __if we call range with two arguments, we can create a list that starts at a different number__. For example, __range(2, 9) would generate numbers starting at 2 and ending at 8 (just before 9)__:\n",
    "\n",
    "`>>> my_list = range(2, 9)`\n",
    "\n",
    "`>>> print(list(my_list))`\n",
    " \n",
    "`[2, 3, 4, 5, 6, 7, 8]`\n",
    "\n",
    "With one or two arguments, range will create a list of consecutive numbers (i.e., each number is one greater than the previous number). If we use a third argument, __we can create a list that “skips” numbers. For example, range(2, 9, 2) will give us a list where each number is 2 greater than the previous number:__\n",
    "\n",
    "`>>> my_range2 = range(2, 9, 2)`\n",
    "\n",
    "`>>> print(list(my_range2))`\n",
    "\n",
    "`[2, 4, 6, 8]`\n",
    "\n",
    "We can skip as many numbers as we want! In this example, we’ll start at 1 and skip 10 between each number until we get to 100:\n",
    "\n",
    "`>>> my_range3 = range(1, 100, 10)`\n",
    "\n",
    "`>>> print(list(my_range3))`\n",
    "\n",
    "`[1, 11, 21, 31, 41, 51, 61, 71, 81, 91]`\n",
    "\n",
    "Our list stops at 91 because the next number in the sequence would be 101, which is greater than 100 (our stopping point).\n",
    "\n"
   ]
  },
  {
   "cell_type": "markdown",
   "metadata": {},
   "source": [
    "#### Exercises\n",
    "1. Modify the range function that created list1 such that it:\n",
    "\n",
    "* Starts at 5\n",
    "* Has a difference of 3 between each item\n",
    "* Ends before 15"
   ]
  },
  {
   "cell_type": "code",
   "execution_count": 208,
   "metadata": {},
   "outputs": [],
   "source": [
    "list1 = range(5, 15, 3)"
   ]
  },
  {
   "cell_type": "markdown",
   "metadata": {},
   "source": [
    "2. Create a range object called list2 that:\n",
    "\n",
    "* Starts at 0\n",
    "* Has a difference of 5 between each item\n",
    "* Ends before 40"
   ]
  },
  {
   "cell_type": "code",
   "execution_count": 209,
   "metadata": {},
   "outputs": [],
   "source": [
    "list2 = range(0,40,5)"
   ]
  },
  {
   "cell_type": "markdown",
   "metadata": {},
   "source": [
    "*****\n",
    "## **Practice**\n"
   ]
  },
  {
   "cell_type": "markdown",
   "metadata": {},
   "source": [
    "1. Maria is entering customer data for her web design business. You’re going to help her organize her data.\n",
    "\n",
    "Start by turning this list of customer first names into a list called first_names. Make sure to enter the names in this order:\n",
    "\n",
    "* Ainsley\n",
    "* Ben\n",
    "* Chani\n",
    "* Depak"
   ]
  },
  {
   "cell_type": "code",
   "execution_count": 210,
   "metadata": {},
   "outputs": [],
   "source": [
    "first_names = ['Ainsley', 'Ben', 'Chani', 'Depak']"
   ]
  },
  {
   "cell_type": "markdown",
   "metadata": {},
   "source": [
    "2. Create an empty list called age."
   ]
  },
  {
   "cell_type": "code",
   "execution_count": 211,
   "metadata": {},
   "outputs": [],
   "source": [
    "age = []"
   ]
  },
  {
   "cell_type": "markdown",
   "metadata": {},
   "source": [
    "3. Depak’s age is 42.<br>Use .append() to add 42 to age."
   ]
  },
  {
   "cell_type": "code",
   "execution_count": 212,
   "metadata": {},
   "outputs": [],
   "source": [
    "age.append(42)"
   ]
  },
  {
   "cell_type": "markdown",
   "metadata": {},
   "source": [
    "4. Maria needs a list of the ages for all customers. Create a new list called all_ages that adds age with the following list, containing the ages for Ainsley, Ben, and Chani:\n",
    "\n",
    "   `[32, 41, 29]`\n",
    "\n",
    "   Make sure all_ages begins with the ages for Ainsley, Ben, and Chani and ends with Depak’s age (stored in age)!\n",
    "\n"
   ]
  },
  {
   "cell_type": "code",
   "execution_count": 213,
   "metadata": {},
   "outputs": [],
   "source": [
    "all_ages = [32, 41, 29] + age #The list goes first because of the order of the names"
   ]
  },
  {
   "cell_type": "markdown",
   "metadata": {},
   "source": [
    "5.Create a new variable called name_and_age that combines first_names and all_ages using zip"
   ]
  },
  {
   "cell_type": "code",
   "execution_count": 214,
   "metadata": {},
   "outputs": [],
   "source": [
    "name_and_age = zip(first_names,all_ages)"
   ]
  },
  {
   "cell_type": "markdown",
   "metadata": {},
   "source": [
    "6.Create a range object called ids with an id number for each customer. Since there are 4 customers, so id values should go from 0 to 3."
   ]
  },
  {
   "cell_type": "code",
   "execution_count": 215,
   "metadata": {},
   "outputs": [],
   "source": [
    "ids = range(4)"
   ]
  }
 ],
 "metadata": {
  "kernelspec": {
   "display_name": "Python 3",
   "language": "python",
   "name": "python3"
  },
  "language_info": {
   "codemirror_mode": {
    "name": "ipython",
    "version": 3
   },
   "file_extension": ".py",
   "mimetype": "text/x-python",
   "name": "python",
   "nbconvert_exporter": "python",
   "pygments_lexer": "ipython3",
   "version": "3.8.3"
  }
 },
 "nbformat": 4,
 "nbformat_minor": 4
}
