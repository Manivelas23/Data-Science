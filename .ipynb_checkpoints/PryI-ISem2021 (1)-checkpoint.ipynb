{
 "cells": [
  {
   "cell_type": "markdown",
   "metadata": {},
   "source": [
    "1) Importando la data y leyendo el archivo con los numeros de telefono"
   ]
  },
  {
   "cell_type": "code",
   "execution_count": 11,
   "metadata": {},
   "outputs": [
    {
     "data": {
      "text/plain": [
       "['506 2574-2088',\n",
       " '506 40061120',\n",
       " '88745745',\n",
       " '6050-7008',\n",
       " '1722',\n",
       " '900-1234567',\n",
       " '900-EXPRESS',\n",
       " '911']"
      ]
     },
     "execution_count": 11,
     "metadata": {},
     "output_type": "execute_result"
    }
   ],
   "source": [
    "import re\n",
    "no_validado = True\n",
    "numeros = []\n",
    "for numero in open('telefonos.txt', 'r'):\n",
    "    datos = numeros.append(numero.strip('\\n')) #Eliminando los saltos de linea\n",
    "numeros"
   ]
  },
  {
   "cell_type": "markdown",
   "metadata": {},
   "source": [
    "2) Creando el regex que toma los numeros que empiezan con `506` o que empiezan con caracteres del `5` al `9`"
   ]
  },
  {
   "cell_type": "code",
   "execution_count": 19,
   "metadata": {
    "scrolled": false
   },
   "outputs": [
    {
     "data": {
      "text/plain": [
       "[['506 2574-2088'], ['506 40061120'], ['88745745'], ['6050-7008']]"
      ]
     },
     "execution_count": 19,
     "metadata": {},
     "output_type": "execute_result"
    }
   ],
   "source": [
    "resultados=[]\n",
    "for i in numeros:\n",
    "    a = re.findall(\"(506\\s[0-9]\\d{3}-?\\d{4}|[5-9]\\d{3}-?\\d{4})\", i) \n",
    "    resultados.append(a)\n",
    "    \n",
    "numeros_ticos = [x for x in resultados if x] #Filtrando las listas que no estan vacias\n",
    "numeros_ticos"
   ]
  },
  {
   "cell_type": "markdown",
   "metadata": {},
   "source": [
    "3) Creando el archivo que va a contener los numeros de Costa Rica"
   ]
  },
  {
   "cell_type": "code",
   "execution_count": 20,
   "metadata": {},
   "outputs": [
    {
     "name": "stdout",
     "output_type": "stream",
     "text": [
      "El archivo ya existe\n"
     ]
    }
   ],
   "source": [
    "try:\n",
    "    f = open(\"numeros_ticos.txt\", \"x\") \n",
    "    f.close\n",
    "except:\n",
    "    print(\"El archivo ya existe\")\n"
   ]
  },
  {
   "cell_type": "markdown",
   "metadata": {},
   "source": [
    "4) Llenando el archivo `numeros_ticos` con los numeros de Costa Rica"
   ]
  },
  {
   "cell_type": "code",
   "execution_count": 31,
   "metadata": {},
   "outputs": [],
   "source": [
    "if no_validado:\n",
    "    for i in numeros_ticos:\n",
    "        f = open(\"numeros_ticos.txt\", \"a\")\n",
    "        f.write(str(i))\n",
    "        f.close()\n",
    "        no_validado = False\n",
    "else:\n",
    "    print(\"Se ha llenado una vez el archivo con los numeros de costa rica\")"
   ]
  },
  {
   "cell_type": "markdown",
   "metadata": {},
   "source": [
    "5) Cambiando la palabra 'EXPRESS' a numeros segun las letras del abecedario"
   ]
  },
  {
   "cell_type": "code",
   "execution_count": 5,
   "metadata": {
    "scrolled": true
   },
   "outputs": [
    {
     "data": {
      "text/plain": [
       "[5, 24, 16, 18, 5, 19, 19]"
      ]
     },
     "execution_count": 5,
     "metadata": {},
     "output_type": "execute_result"
    }
   ],
   "source": [
    "a = numeros[-2]\n",
    "a.strip()\n",
    "x = [(ord(i.lower())-96) for i in a[4:]]\n",
    "x"
   ]
  }
 ],
 "metadata": {
  "kernelspec": {
   "display_name": "Python 3",
   "language": "python",
   "name": "python3"
  },
  "language_info": {
   "codemirror_mode": {
    "name": "ipython",
    "version": 3
   },
   "file_extension": ".py",
   "mimetype": "text/x-python",
   "name": "python",
   "nbconvert_exporter": "python",
   "pygments_lexer": "ipython3",
   "version": "3.8.5"
  }
 },
 "nbformat": 4,
 "nbformat_minor": 4
}
