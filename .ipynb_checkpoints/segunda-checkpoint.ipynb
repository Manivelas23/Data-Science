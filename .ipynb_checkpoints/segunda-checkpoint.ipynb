{
 "cells": [
  {
   "cell_type": "code",
   "execution_count": 203,
   "metadata": {},
   "outputs": [],
   "source": [
    "import pandas as pd\n",
    "import numpy as np\n",
    "import seaborn as sns\n",
    "import matplotlib.pyplot as plt \n",
    "\n",
    "#cambiar tamaño de grafico\n",
    "plt.rcParams[\"figure.figsize\"] = (10,3)\n",
    "dt = pd.read_excel(\"covid_data.xlsx\")\n"
   ]
  },
  {
   "cell_type": "markdown",
   "metadata": {},
   "source": [
    "# Pasos"
   ]
  },
  {
   "cell_type": "markdown",
   "metadata": {},
   "source": [
    "Imprimiendo las primeras 10 filas "
   ]
  },
  {
   "cell_type": "code",
   "execution_count": 204,
   "metadata": {
    "scrolled": true
   },
   "outputs": [
    {
     "data": {
      "text/html": [
       "<div>\n",
       "<style scoped>\n",
       "    .dataframe tbody tr th:only-of-type {\n",
       "        vertical-align: middle;\n",
       "    }\n",
       "\n",
       "    .dataframe tbody tr th {\n",
       "        vertical-align: top;\n",
       "    }\n",
       "\n",
       "    .dataframe thead th {\n",
       "        text-align: right;\n",
       "    }\n",
       "</style>\n",
       "<table border=\"1\" class=\"dataframe\">\n",
       "  <thead>\n",
       "    <tr style=\"text-align: right;\">\n",
       "      <th></th>\n",
       "      <th>Grupo de Edad</th>\n",
       "      <th>dosis1</th>\n",
       "      <th>dosis 2</th>\n",
       "    </tr>\n",
       "  </thead>\n",
       "  <tbody>\n",
       "    <tr>\n",
       "      <th>0</th>\n",
       "      <td>18 a 19 años</td>\n",
       "      <td>632.000</td>\n",
       "      <td>381.000</td>\n",
       "    </tr>\n",
       "    <tr>\n",
       "      <th>1</th>\n",
       "      <td>20 a 29 años</td>\n",
       "      <td>26.418</td>\n",
       "      <td>20.964</td>\n",
       "    </tr>\n",
       "    <tr>\n",
       "      <th>2</th>\n",
       "      <td>30 a 39 años</td>\n",
       "      <td>48.276</td>\n",
       "      <td>38.280</td>\n",
       "    </tr>\n",
       "    <tr>\n",
       "      <th>3</th>\n",
       "      <td>40 a 49 años</td>\n",
       "      <td>32.615</td>\n",
       "      <td>23.701</td>\n",
       "    </tr>\n",
       "    <tr>\n",
       "      <th>4</th>\n",
       "      <td>50 a 57 años</td>\n",
       "      <td>32.298</td>\n",
       "      <td>14.851</td>\n",
       "    </tr>\n",
       "    <tr>\n",
       "      <th>5</th>\n",
       "      <td>58 a 59 años</td>\n",
       "      <td>43.664</td>\n",
       "      <td>20.881</td>\n",
       "    </tr>\n",
       "    <tr>\n",
       "      <th>6</th>\n",
       "      <td>60 a 69 años</td>\n",
       "      <td>260.335</td>\n",
       "      <td>164.776</td>\n",
       "    </tr>\n",
       "    <tr>\n",
       "      <th>7</th>\n",
       "      <td>70 a 79 años</td>\n",
       "      <td>177.686</td>\n",
       "      <td>158.952</td>\n",
       "    </tr>\n",
       "    <tr>\n",
       "      <th>8</th>\n",
       "      <td>80 a 89 años</td>\n",
       "      <td>74.651</td>\n",
       "      <td>71.622</td>\n",
       "    </tr>\n",
       "    <tr>\n",
       "      <th>9</th>\n",
       "      <td>90 a 99 años</td>\n",
       "      <td>15.756</td>\n",
       "      <td>15.084</td>\n",
       "    </tr>\n",
       "  </tbody>\n",
       "</table>\n",
       "</div>"
      ],
      "text/plain": [
       "   Grupo de Edad   dosis1   dosis 2\n",
       "0   18 a 19 años  632.000   381.000\n",
       "1  20 a 29 años    26.418    20.964\n",
       "2   30 a 39 años   48.276    38.280\n",
       "3   40 a 49 años   32.615    23.701\n",
       "4   50 a 57 años   32.298    14.851\n",
       "5  58 a 59 años    43.664    20.881\n",
       "6  60 a 69 años   260.335   164.776\n",
       "7  70 a 79 años   177.686   158.952\n",
       "8  80 a 89 años    74.651    71.622\n",
       "9  90 a 99 años    15.756    15.084"
      ]
     },
     "execution_count": 204,
     "metadata": {},
     "output_type": "execute_result"
    }
   ],
   "source": [
    "dt.head(10)"
   ]
  },
  {
   "cell_type": "markdown",
   "metadata": {},
   "source": [
    "Renombrando las columnas "
   ]
  },
  {
   "cell_type": "code",
   "execution_count": 205,
   "metadata": {},
   "outputs": [
    {
     "data": {
      "text/html": [
       "<div>\n",
       "<style scoped>\n",
       "    .dataframe tbody tr th:only-of-type {\n",
       "        vertical-align: middle;\n",
       "    }\n",
       "\n",
       "    .dataframe tbody tr th {\n",
       "        vertical-align: top;\n",
       "    }\n",
       "\n",
       "    .dataframe thead th {\n",
       "        text-align: right;\n",
       "    }\n",
       "</style>\n",
       "<table border=\"1\" class=\"dataframe\">\n",
       "  <thead>\n",
       "    <tr style=\"text-align: right;\">\n",
       "      <th></th>\n",
       "      <th>grupoEdad</th>\n",
       "      <th>dosis1</th>\n",
       "      <th>dosis2</th>\n",
       "    </tr>\n",
       "  </thead>\n",
       "  <tbody>\n",
       "    <tr>\n",
       "      <th>0</th>\n",
       "      <td>18-19</td>\n",
       "      <td>632.000</td>\n",
       "      <td>381.000</td>\n",
       "    </tr>\n",
       "    <tr>\n",
       "      <th>1</th>\n",
       "      <td>20-29</td>\n",
       "      <td>26.418</td>\n",
       "      <td>20.964</td>\n",
       "    </tr>\n",
       "    <tr>\n",
       "      <th>2</th>\n",
       "      <td>30-39</td>\n",
       "      <td>48.276</td>\n",
       "      <td>38.280</td>\n",
       "    </tr>\n",
       "    <tr>\n",
       "      <th>3</th>\n",
       "      <td>40-49</td>\n",
       "      <td>32.615</td>\n",
       "      <td>23.701</td>\n",
       "    </tr>\n",
       "    <tr>\n",
       "      <th>4</th>\n",
       "      <td>50-57</td>\n",
       "      <td>32.298</td>\n",
       "      <td>14.851</td>\n",
       "    </tr>\n",
       "    <tr>\n",
       "      <th>5</th>\n",
       "      <td>58-59</td>\n",
       "      <td>43.664</td>\n",
       "      <td>20.881</td>\n",
       "    </tr>\n",
       "    <tr>\n",
       "      <th>6</th>\n",
       "      <td>60-69</td>\n",
       "      <td>260.335</td>\n",
       "      <td>164.776</td>\n",
       "    </tr>\n",
       "    <tr>\n",
       "      <th>7</th>\n",
       "      <td>70-79</td>\n",
       "      <td>177.686</td>\n",
       "      <td>158.952</td>\n",
       "    </tr>\n",
       "    <tr>\n",
       "      <th>8</th>\n",
       "      <td>80-89</td>\n",
       "      <td>74.651</td>\n",
       "      <td>71.622</td>\n",
       "    </tr>\n",
       "    <tr>\n",
       "      <th>9</th>\n",
       "      <td>90-99</td>\n",
       "      <td>15.756</td>\n",
       "      <td>15.084</td>\n",
       "    </tr>\n",
       "    <tr>\n",
       "      <th>10</th>\n",
       "      <td>100</td>\n",
       "      <td>551.000</td>\n",
       "      <td>526.000</td>\n",
       "    </tr>\n",
       "  </tbody>\n",
       "</table>\n",
       "</div>"
      ],
      "text/plain": [
       "   grupoEdad   dosis1   dosis2\n",
       "0      18-19  632.000  381.000\n",
       "1     20-29    26.418   20.964\n",
       "2      30-39   48.276   38.280\n",
       "3      40-49   32.615   23.701\n",
       "4      50-57   32.298   14.851\n",
       "5     58-59    43.664   20.881\n",
       "6     60-69   260.335  164.776\n",
       "7     70-79   177.686  158.952\n",
       "8     80-89    74.651   71.622\n",
       "9     90-99    15.756   15.084\n",
       "10      100   551.000  526.000"
      ]
     },
     "execution_count": 205,
     "metadata": {},
     "output_type": "execute_result"
    }
   ],
   "source": [
    "dt = dt.rename(columns = {'Grupo de Edad':'grupoEdad', ' dosis1':'dosis1' , ' dosis 2':'dosis2'})\n",
    "dt.grupoEdad = dt['grupoEdad'].str.replace(' a ',\"-\")\n",
    "dt.grupoEdad = dt['grupoEdad'].str.replace(' años',\"\")\n",
    "dt.grupoEdad = dt['grupoEdad'].str.replace('100 y mas',\"100\")\n",
    "dt.head(100)"
   ]
  },
  {
   "cell_type": "markdown",
   "metadata": {},
   "source": [
    "Agarrar la columnas de las dosis y la columna de la edad"
   ]
  },
  {
   "cell_type": "code",
   "execution_count": 214,
   "metadata": {
    "scrolled": true
   },
   "outputs": [
    {
     "ename": "SyntaxError",
     "evalue": "unexpected EOF while parsing (<ipython-input-214-aebf55bbf53d>, line 1)",
     "output_type": "error",
     "traceback": [
      "\u001b[0;36m  File \u001b[0;32m\"<ipython-input-214-aebf55bbf53d>\"\u001b[0;36m, line \u001b[0;32m1\u001b[0m\n\u001b[0;31m    primera = dt.iloc[:,1:[]\u001b[0m\n\u001b[0m                            ^\u001b[0m\n\u001b[0;31mSyntaxError\u001b[0m\u001b[0;31m:\u001b[0m unexpected EOF while parsing\n"
     ]
    }
   ],
   "source": [
    "primera = dt.iloc[:,1:]"
   ]
  },
  {
   "cell_type": "markdown",
   "metadata": {},
   "source": [
    "Hacemos dos graficos individuales para cada dosis"
   ]
  },
  {
   "cell_type": "code",
   "execution_count": 207,
   "metadata": {},
   "outputs": [
    {
     "data": {
      "image/png": "[encoded data removed]",
      "text/plain": [
       "<Figure size 720x216 with 1 Axes>"
      ]
     },
     "metadata": {
      "needs_background": "light"
     },
     "output_type": "display_data"
    }
   ],
   "source": [
    "plt.plot(edad,primera.dosis1,alpha = 0.5, label = \"Dosis 1\")\n",
    "plt.plot(edad,primera.dosis2,alpha = 0.5, label = \"Dosis 2\")\n",
    "plt.legend()\n",
    "plt.show()"
   ]
  }
 ],
 "metadata": {
  "kernelspec": {
   "display_name": "Python 3",
   "language": "python",
   "name": "python3"
  },
  "language_info": {
   "codemirror_mode": {
    "name": "ipython",
    "version": 3
   },
   "file_extension": ".py",
   "mimetype": "text/x-python",
   "name": "python",
   "nbconvert_exporter": "python",
   "pygments_lexer": "ipython3",
   "version": "3.8.5"
  }
 },
 "nbformat": 4,
 "nbformat_minor": 4
}
