{
 "cells": [
  {
   "cell_type": "markdown",
   "metadata": {},
   "source": [
    "# Creating, Loading, and Selecting Data with Pandas"
   ]
  },
  {
   "cell_type": "markdown",
   "metadata": {},
   "source": [
    "## Create\n",
    "***"
   ]
  },
  {
   "cell_type": "markdown",
   "metadata": {},
   "source": [
    "### Create a DataFrame I"
   ]
  },
  {
   "cell_type": "markdown",
   "metadata": {},
   "source": [
    "A DataFrame is an object that stores data as rows and columns. You can think of a DataFrame as a spreadsheet or as a SQL table. You can manually create a DataFrame or fill it with data from a CSV, an Excel spreadsheet, or a SQL query."
   ]
  },
  {
   "cell_type": "markdown",
   "metadata": {},
   "source": [
    "You can pass in a dictionary to `pd.DataFrame()`. Each key is a column name and each value is a list of column values. The columns must all be the same length or you will get an error."
   ]
  },
  {
   "cell_type": "code",
   "execution_count": 8,
   "metadata": {},
   "outputs": [],
   "source": [
    "import pandas as pd"
   ]
  },
  {
   "cell_type": "code",
   "execution_count": 20,
   "metadata": {},
   "outputs": [],
   "source": [
    "df1 = pd.DataFrame({\n",
    "    'Product ID': [1, 2, 3, 4],\n",
    "    'Product Name': ['t-shirt', 't-shirt', 'skirt', 'skirt'],\n",
    "    'Color': ['blue', 'green', 'red', 'black']\n",
    "})\n",
    "#df1"
   ]
  },
  {
   "cell_type": "markdown",
   "metadata": {},
   "source": [
    "### Create a DataFrame II"
   ]
  },
  {
   "cell_type": "markdown",
   "metadata": {},
   "source": [
    "You can also add data using lists.\n",
    "\n",
    "For example, you can pass in a list of lists, where each one represents a row of data. Use the keyword argument columns to pass a list of column names."
   ]
  },
  {
   "cell_type": "code",
   "execution_count": 19,
   "metadata": {},
   "outputs": [],
   "source": [
    "df2 = pd.DataFrame([[1,'Paris',100],[2,'NYC',70],[3,'Rome', 120],[4,'Aspen',88]], columns= ['Store Id','Location','Number of Employees'])\n",
    "#df2.set_index('Store Id')"
   ]
  },
  {
   "cell_type": "markdown",
   "metadata": {},
   "source": [
    "## Loading\n",
    "***"
   ]
  },
  {
   "cell_type": "markdown",
   "metadata": {},
   "source": [
    "### Loading and Saving CSVs\n",
    "When you have data in a CSV, you can load it into a DataFrame in Pandas using `.read_csv()`:"
   ]
  },
  {
   "cell_type": "code",
   "execution_count": 22,
   "metadata": {},
   "outputs": [],
   "source": [
    "#pd.read_csv('my-csv-file.csv')"
   ]
  },
  {
   "cell_type": "markdown",
   "metadata": {},
   "source": [
    "In the example above, the .read_csv() method is called. The CSV file called my-csv-file is passed in as an argument.\n",
    "\n",
    "We can also **save data to a CSV**, using `.to_csv()`."
   ]
  },
  {
   "cell_type": "code",
   "execution_count": 24,
   "metadata": {},
   "outputs": [],
   "source": [
    "#df.to_csv('new-csv-file.csv')"
   ]
  },
  {
   "cell_type": "markdown",
   "metadata": {},
   "source": [
    "In the example above, the `.to_csv()` method is called on df (which represents a DataFrame object). The name of the CSV file is passed in as an argument (new-csv-file.csv). By default, this method will save the CSV file in your current directory."
   ]
  },
  {
   "cell_type": "markdown",
   "metadata": {},
   "source": [
    "### Inspect a DataFrame"
   ]
  },
  {
   "cell_type": "markdown",
   "metadata": {},
   "source": [
    "When we load a new DataFrame from a CSV, we want to know what it looks like.\n",
    "\n",
    "If it’s a **small DataFrame**, you can display it by typing `print(df)`.\n",
    "\n",
    "If it’s a larger DataFrame, it’s helpful to be able to inspect a few items without having to look at the entire DataFrame.\n",
    "\n",
    "The method `.head()` gives the **first 5 rows of a DataFrame**. If you want to see more rows, you can pass in the positional argument n. For example, `df.head(10)` would show the first 10 rows.\n",
    "\n",
    "The method `df.info()` gives some statistics for each column."
   ]
  },
  {
   "cell_type": "code",
   "execution_count": 31,
   "metadata": {
    "scrolled": true
   },
   "outputs": [
    {
     "data": {
      "text/html": [
       "<div>\n",
       "<style scoped>\n",
       "    .dataframe tbody tr th:only-of-type {\n",
       "        vertical-align: middle;\n",
       "    }\n",
       "\n",
       "    .dataframe tbody tr th {\n",
       "        vertical-align: top;\n",
       "    }\n",
       "\n",
       "    .dataframe thead th {\n",
       "        text-align: right;\n",
       "    }\n",
       "</style>\n",
       "<table border=\"1\" class=\"dataframe\">\n",
       "  <thead>\n",
       "    <tr style=\"text-align: right;\">\n",
       "      <th></th>\n",
       "      <th>id</th>\n",
       "      <th>name</th>\n",
       "      <th>genre</th>\n",
       "      <th>year</th>\n",
       "      <th>imdb_rating</th>\n",
       "    </tr>\n",
       "  </thead>\n",
       "  <tbody>\n",
       "    <tr>\n",
       "      <th>0</th>\n",
       "      <td>1</td>\n",
       "      <td>Avatar</td>\n",
       "      <td>action</td>\n",
       "      <td>2009</td>\n",
       "      <td>7.9</td>\n",
       "    </tr>\n",
       "    <tr>\n",
       "      <th>1</th>\n",
       "      <td>2</td>\n",
       "      <td>Jurassic World</td>\n",
       "      <td>action</td>\n",
       "      <td>2015</td>\n",
       "      <td>7.3</td>\n",
       "    </tr>\n",
       "    <tr>\n",
       "      <th>2</th>\n",
       "      <td>3</td>\n",
       "      <td>The Avengers</td>\n",
       "      <td>action</td>\n",
       "      <td>2012</td>\n",
       "      <td>8.1</td>\n",
       "    </tr>\n",
       "    <tr>\n",
       "      <th>3</th>\n",
       "      <td>4</td>\n",
       "      <td>The Dark Knight</td>\n",
       "      <td>action</td>\n",
       "      <td>2008</td>\n",
       "      <td>9.0</td>\n",
       "    </tr>\n",
       "    <tr>\n",
       "      <th>4</th>\n",
       "      <td>5</td>\n",
       "      <td>Star Wars: Episode I - The Phantom Menace</td>\n",
       "      <td>action</td>\n",
       "      <td>1999</td>\n",
       "      <td>6.6</td>\n",
       "    </tr>\n",
       "    <tr>\n",
       "      <th>5</th>\n",
       "      <td>6</td>\n",
       "      <td>Star Wars</td>\n",
       "      <td>action</td>\n",
       "      <td>1977</td>\n",
       "      <td>8.7</td>\n",
       "    </tr>\n",
       "    <tr>\n",
       "      <th>6</th>\n",
       "      <td>7</td>\n",
       "      <td>Avengers: Age of Ultron</td>\n",
       "      <td>action</td>\n",
       "      <td>2015</td>\n",
       "      <td>7.9</td>\n",
       "    </tr>\n",
       "  </tbody>\n",
       "</table>\n",
       "</div>"
      ],
      "text/plain": [
       "   id                                       name   genre  year  imdb_rating\n",
       "0   1                                     Avatar  action  2009          7.9\n",
       "1   2                             Jurassic World  action  2015          7.3\n",
       "2   3                               The Avengers  action  2012          8.1\n",
       "3   4                            The Dark Knight  action  2008          9.0\n",
       "4   5  Star Wars: Episode I - The Phantom Menace  action  1999          6.6\n",
       "5   6                                  Star Wars  action  1977          8.7\n",
       "6   7                    Avengers: Age of Ultron  action  2015          7.9"
      ]
     },
     "execution_count": 31,
     "metadata": {},
     "output_type": "execute_result"
    }
   ],
   "source": [
    "df = pd.read_csv('imdb.csv')\n",
    "df.head(7)\n",
    "#df.info()"
   ]
  },
  {
   "cell_type": "markdown",
   "metadata": {},
   "source": [
    "## Selecting\n",
    "***"
   ]
  },
  {
   "cell_type": "markdown",
   "metadata": {},
   "source": [
    "### Select Columns\n"
   ]
  },
  {
   "cell_type": "markdown",
   "metadata": {},
   "source": [
    "Suppose you have the DataFrame called `customers`, which contains the ages of your customers:\n",
    "\n",
    "|name |age | \n",
    "| --- | --- |\n",
    "| Rebecca Erikson | 35 | \n",
    "| Thomas Roberson | 28 |\n",
    "| Diane Ochoa | 42 |\n",
    "\n",
    "Perhaps you want to take the average or plot a histogram of the ages. In order to do either of these tasks, you’d need to select the column.\n",
    "\n",
    "There are two possible syntaxes for selecting all values from a column:\n",
    "\n",
    "* Select the column as if you were **selecting a value from a dictionary using a key**. In our example, we would type `customers['age']` to select the ages.\n",
    "\n",
    "\n",
    "* If the name of a column follows all of the rules for a variable name (doesn’t start with a number, doesn’t contain spaces or special characters, etc.), then you can select it using the following notation: `df.MySecondColumn`. In our example, we would type **`customers.age`**.\n"
   ]
  },
  {
   "cell_type": "code",
   "execution_count": 33,
   "metadata": {},
   "outputs": [
    {
     "data": {
      "text/plain": [
       "0    100\n",
       "1     45\n",
       "2     96\n",
       "3     80\n",
       "4     54\n",
       "5    109\n",
       "Name: clinic_north, dtype: int64"
      ]
     },
     "execution_count": 33,
     "metadata": {},
     "output_type": "execute_result"
    }
   ],
   "source": [
    "df = pd.DataFrame(\n",
    "    [['January', 100, 100, 23, 100], ['February', 51, 45, 145, 45],\n",
    "     ['March', 81, 96, 65, 96], ['April', 80, 80, 54, 180],\n",
    "     ['May', 51, 54, 54, 154], ['June', 112, 109, 79, 129]],\n",
    "    columns=[\n",
    "        'month', 'clinic_east', 'clinic_north', 'clinic_south', 'clinic_west'\n",
    "    ])\n",
    "\n",
    "clinic_north = df['clinic_north']\n",
    "clinic_north"
   ]
  }
 ],
 "metadata": {
  "kernelspec": {
   "display_name": "Python 3",
   "language": "python",
   "name": "python3"
  },
  "language_info": {
   "codemirror_mode": {
    "name": "ipython",
    "version": 3
   },
   "file_extension": ".py",
   "mimetype": "text/x-python",
   "name": "python",
   "nbconvert_exporter": "python",
   "pygments_lexer": "ipython3",
   "version": "3.8.6"
  }
 },
 "nbformat": 4,
 "nbformat_minor": 4
}
