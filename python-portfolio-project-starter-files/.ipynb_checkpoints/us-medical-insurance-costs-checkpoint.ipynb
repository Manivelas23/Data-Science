{
 "cells": [
  {
   "cell_type": "markdown",
   "metadata": {},
   "source": [
    "# U.S. Medical Insurance Costs"
   ]
  },
  {
   "cell_type": "markdown",
   "metadata": {},
   "source": [
    "***\n",
    "## Modules"
   ]
  },
  {
   "cell_type": "code",
   "execution_count": 382,
   "metadata": {},
   "outputs": [],
   "source": [
    "import csv\n",
    "import matplotlib.pyplot as plt"
   ]
  },
  {
   "cell_type": "markdown",
   "metadata": {},
   "source": [
    "***\n",
    "## Getting all the Data"
   ]
  },
  {
   "cell_type": "code",
   "execution_count": 383,
   "metadata": {},
   "outputs": [],
   "source": [
    "insurance_data = []\n",
    "with open('insurance.csv') as insurance_file:\n",
    "    data_dict = csv.DictReader(insurance_file)\n",
    "    for i in data_dict:\n",
    "        insurance_data.append(i)"
   ]
  },
  {
   "cell_type": "markdown",
   "metadata": {},
   "source": [
    "* #### Getting all the headers values into lists"
   ]
  },
  {
   "cell_type": "code",
   "execution_count": 384,
   "metadata": {},
   "outputs": [],
   "source": [
    "ages = [int(i['age']) for i in insurance_data]\n",
    "sex = [i['sex'] for i in insurance_data]\n",
    "bmis = [float(i['bmi']) for i in insurance_data]\n",
    "children = [int(i['children']) for i in insurance_data]\n",
    "regions = [i['region'] for i in insurance_data]\n",
    "charges = [float(i['charges']) for i in insurance_data]\n",
    "smokers = [i['smoker']for i in insurance_data]"
   ]
  },
  {
   "cell_type": "markdown",
   "metadata": {},
   "source": [
    "***\n",
    "## Smokers Info"
   ]
  },
  {
   "cell_type": "markdown",
   "metadata": {},
   "source": [
    "* #### Brief calculation of people who smoke and those who do not\n"
   ]
  },
  {
   "cell_type": "code",
   "execution_count": 385,
   "metadata": {
    "scrolled": true
   },
   "outputs": [
    {
     "name": "stdout",
     "output_type": "stream",
     "text": [
      "Smokers: 274\n",
      "Non-Smokers: 1064\n"
     ]
    }
   ],
   "source": [
    "smokers_list = []\n",
    "non_smokers_list = []\n",
    "\n",
    "for i in smokers:\n",
    "    if i == 'yes':\n",
    "        smokers_list.append(i)\n",
    "    else:\n",
    "        non_smokers_list.append(i)\n",
    "        \n",
    "total_smokers = len(smokers_list)\n",
    "total_non_smokers = len(non_smokers_list)\n",
    "\n",
    "print('Smokers: {smokers}\\nNon-Smokers: {non_smokers}'.format(smokers=total_smokers,non_smokers=total_non_smokers))"
   ]
  },
  {
   "cell_type": "markdown",
   "metadata": {},
   "source": [
    "* #### Percentage of people who smoke and who don't\n",
    "\n",
    "    Pie Chart based on the smokers and non-smokers"
   ]
  },
  {
   "cell_type": "code",
   "execution_count": 386,
   "metadata": {
    "scrolled": false
   },
   "outputs": [
    {
     "data": {
      "image/png": "[encoded data removed]",
      "text/plain": [
       "<Figure size 432x288 with 1 Axes>"
      ]
     },
     "metadata": {},
     "output_type": "display_data"
    },
    {
     "name": "stdout",
     "output_type": "stream",
     "text": [
      "Smokers Percentage: 20.48\n",
      "Non-Smokers Percentage: 79.52\n"
     ]
    }
   ],
   "source": [
    "#Getting the total smoker and the total of non-smokers\n",
    "smokers_percentage = round(((total_smokers/len(insurance_data))*100),2)\n",
    "non_smokers_percentage = round(((total_non_smokers/len(insurance_data))*100),2)\n",
    "\n",
    "#Building the pie chart\n",
    "labels = 'Smokers', 'Non-Smokers'\n",
    "sizes = [smokers_percentage, non_smokers_percentage]\n",
    "explode = (0, 0.1)  \n",
    "\n",
    "fig1, ax1 = plt.subplots()\n",
    "ax1.pie(sizes, explode=explode, labels=labels, autopct='%1.1f%%', shadow=True, startangle=90)\n",
    "ax1.axis('equal')  \n",
    "\n",
    "plt.show()\n",
    "print('Smokers Percentage: {percentage_smoker}\\nNon-Smokers Percentage: {percentage_non_smoker}'.format(percentage_smoker=smokers_percentage,percentage_non_smoker=non_smokers_percentage))"
   ]
  },
  {
   "cell_type": "markdown",
   "metadata": {},
   "source": [
    "***\n",
    "## Region Info"
   ]
  },
  {
   "cell_type": "markdown",
   "metadata": {},
   "source": [
    "* #### How many people live in the different geographic areas"
   ]
  },
  {
   "cell_type": "code",
   "execution_count": 387,
   "metadata": {},
   "outputs": [],
   "source": [
    "def count_population(region_list):\n",
    "    setted_values = list(set(region_list))\n",
    "    my_dict = {}\n",
    "    for i in region_list:\n",
    "        if i not in my_dict and i in setted_values:\n",
    "            my_dict[i] = 1\n",
    "        else:\n",
    "             my_dict[i] += 1\n",
    "    return my_dict\n",
    "            \n",
    "population_by_region = count_population(regions)\n"
   ]
  },
  {
   "cell_type": "markdown",
   "metadata": {},
   "source": [
    "* #### Percentage of people who live in the different regions\n",
    "    Pie Chart based on people who live in the different regions"
   ]
  },
  {
   "cell_type": "code",
   "execution_count": 388,
   "metadata": {
    "scrolled": true
   },
   "outputs": [
    {
     "data": {
      "image/png": "[encoded data removed]",
      "text/plain": [
       "<Figure size 432x288 with 1 Axes>"
      ]
     },
     "metadata": {},
     "output_type": "display_data"
    },
    {
     "name": "stdout",
     "output_type": "stream",
     "text": [
      "People who live in SouthWest: 325\n",
      "People who live in NorthEast: 324\n",
      "People who live in NorthWest: 325\n",
      "People who live in SouthEast: 364\n"
     ]
    }
   ],
   "source": [
    "labels = 'SouthWest', 'SouthEast', 'NorthWest', 'NorthEast'\n",
    "sizes = [round(((population_by_region['southwest']/len(regions))*100),2), round(((population_by_region['southeast']/len(regions))*100),2),round(((population_by_region['northwest']/len(regions))*100),2),round(((population_by_region['northeast']/len(regions))*100),2)]\n",
    "explode = (0, 0, 0, 0)  \n",
    "\n",
    "fig1, ax1 = plt.subplots()\n",
    "ax1.pie(sizes, explode=explode, labels=labels, autopct='%1.1f%%', shadow=True, startangle=90)\n",
    "ax1.axis('equal')  \n",
    "\n",
    "plt.show()\n",
    "print('People who live in SouthWest: {southwest}\\nPeople who live in NorthEast: {northeast}\\nPeople who live in NorthWest: {northwest}\\nPeople who live in SouthEast: {southeast}'.format(southwest=population_by_region['southwest'],northeast=population_by_region['northeast'],northwest=population_by_region['northwest'],southeast=population_by_region['southeast']))"
   ]
  },
  {
   "cell_type": "markdown",
   "metadata": {},
   "source": [
    "***\n",
    "## Sex Info"
   ]
  },
  {
   "cell_type": "markdown",
   "metadata": {},
   "source": [
    "* #### How many females and males are in the dataset\n"
   ]
  },
  {
   "cell_type": "code",
   "execution_count": 389,
   "metadata": {
    "scrolled": true
   },
   "outputs": [
    {
     "name": "stdout",
     "output_type": "stream",
     "text": [
      "Total Females: 662\n",
      "Total Males: 676\n"
     ]
    },
    {
     "data": {
      "image/png": "[encoded data removed]",
      "text/plain": [
       "<Figure size 432x288 with 1 Axes>"
      ]
     },
     "metadata": {},
     "output_type": "display_data"
    },
    {
     "name": "stdout",
     "output_type": "stream",
     "text": [
      "Females Percentage: 49.48%\n",
      "Males Percentage: 50.52%\n"
     ]
    }
   ],
   "source": [
    "males = 0\n",
    "females = 0 \n",
    "for i in sex:\n",
    "    if i == 'female':\n",
    "        females+=1\n",
    "    else:\n",
    "        males +=1 \n",
    "\n",
    "\n",
    "labels = 'Females', 'Males'\n",
    "sizes = [round(females/len(sex)*100,2),round(males/len(sex)*100,2)]\n",
    "explode = (0, 0)\n",
    "\n",
    "fig1, ax1 = plt.subplots()\n",
    "ax1.pie(sizes, explode=explode, labels=labels, autopct='%1.1f%%', shadow=True, startangle=90)\n",
    "ax1.axis('equal')  \n",
    "\n",
    "print('Total Females: {total_females}\\nTotal Males: {total_males}'.format(total_females=females,total_males=males))\n",
    "plt.show()\n",
    "\n",
    "print('Females Percentage: {females_percentage}%\\nMales Percentage: {males_percentage}%'.format(females_percentage=round(females/len(sex)*100,2),males_percentage=round(males/len(sex)*100,2)))"
   ]
  },
  {
   "cell_type": "markdown",
   "metadata": {},
   "source": [
    "***\n",
    "## Charges Info"
   ]
  },
  {
   "cell_type": "code",
   "execution_count": 413,
   "metadata": {},
   "outputs": [
    {
     "name": "stdout",
     "output_type": "stream",
     "text": [
      "The greatest charge that people are getting charged by Medical Insurance Cost according to the data from \"Medical Cost Personal Datasets\" is: $63770.43\n",
      "The least amount of money that people are getting charged by Medical Insurance Cost according to the data from \"Medical Cost Personal Datasets\" is: $1121.87\n",
      "The grand total of money extracted on this dataset is: $17755824.99\n",
      "The Average Charge for Every Individual is: $13270.42\n"
     ]
    }
   ],
   "source": [
    "max_charge = round(max(charges),2)\n",
    "min_charge = round(min(charges),2)\n",
    "total_charge = round(sum(charges),2)\n",
    "average_charge = round(total_charge/len(charges),2)\n",
    "print('The greatest charge that people are getting charged by Medical Insurance Cost according to the data from \"Medical Cost Personal Datasets\" is: ${most_expensive}\\nThe least amount of money that people are getting charged by Medical Insurance Cost according to the data from \\\"Medical Cost Personal Datasets\\\" is: ${cheapest_charge}\\nThe grand total of money extracted on this dataset is: ${grand_total}\\nThe Average Charge for Every Individual is: ${average_charge}'.format(most_expensive=max_charge,cheapest_charge=min_charge,grand_total=total_charge,average_charge=average_charge))"
   ]
  },
  {
   "cell_type": "markdown",
   "metadata": {},
   "source": [
    "***\n",
    "## Children Info"
   ]
  },
  {
   "cell_type": "code",
   "execution_count": 391,
   "metadata": {},
   "outputs": [
    {
     "name": "stdout",
     "output_type": "stream",
     "text": [
      "5 0 1465 1.09\n"
     ]
    }
   ],
   "source": [
    "max_children = round(max(children),2)\n",
    "min_child = round(min(children),2)\n",
    "total_children = round(sum(children),2)\n",
    "average_children = round(total_children/len(children),2)\n",
    "print(max_children,min_child,total_children,average_children)"
   ]
  },
  {
   "cell_type": "markdown",
   "metadata": {},
   "source": [
    "***\n",
    "## BMI Info"
   ]
  },
  {
   "cell_type": "code",
   "execution_count": 392,
   "metadata": {},
   "outputs": [
    {
     "name": "stdout",
     "output_type": "stream",
     "text": [
      "53.13 15.96 41027.62 30.66\n"
     ]
    }
   ],
   "source": [
    "max_bmi = round(max(bmis),2)\n",
    "min_bmi = round(min(bmis),2)\n",
    "total_bmi = round(sum(bmis),2)\n",
    "average_bmi = round(total_bmi/len(bmis),2)\n",
    "print(max_bmi,min_bmi,total_bmi,average_bmi)"
   ]
  },
  {
   "cell_type": "markdown",
   "metadata": {},
   "source": [
    "***\n",
    "## Ages Info"
   ]
  },
  {
   "cell_type": "code",
   "execution_count": 394,
   "metadata": {},
   "outputs": [
    {
     "name": "stdout",
     "output_type": "stream",
     "text": [
      "64 18 52459 39.21\n"
     ]
    }
   ],
   "source": [
    "max_age = round(max(ages),2)\n",
    "min_age = round(min(ages),2)\n",
    "total_ages = round(sum(ages),2)\n",
    "average_age = round(total_ages/len(ages),2)\n",
    "print(max_age,min_age,total_ages,average_age)"
   ]
  },
  {
   "cell_type": "markdown",
   "metadata": {},
   "source": [
    "# To-do's:"
   ]
  },
  {
   "cell_type": "code",
   "execution_count": null,
   "metadata": {},
   "outputs": [],
   "source": []
  }
 ],
 "metadata": {
  "kernelspec": {
   "display_name": "Python 3",
   "language": "python",
   "name": "python3"
  },
  "language_info": {
   "codemirror_mode": {
    "name": "ipython",
    "version": 3
   },
   "file_extension": ".py",
   "mimetype": "text/x-python",
   "name": "python",
   "nbconvert_exporter": "python",
   "pygments_lexer": "ipython3",
   "version": "3.8.3"
  }
 },
 "nbformat": 4,
 "nbformat_minor": 4
}
