{
 "cells": [
  {
   "cell_type": "code",
   "execution_count": 2,
   "metadata": {},
   "outputs": [],
   "source": [
    "import re"
   ]
  },
  {
   "cell_type": "markdown",
   "metadata": {},
   "source": [
    "# Regex"
   ]
  },
  {
   "cell_type": "markdown",
   "metadata": {},
   "source": [
    "A regular expression is a special sequence of characters that describe a pattern of text that should be found, or matched, in a string or document. By matching text, we can identify how often and where certain pieces of text occur, as well as have the opportunity to replace or update these pieces of text if needed."
   ]
  },
  {
   "cell_type": "markdown",
   "metadata": {},
   "source": [
    "## Literals"
   ]
  },
  {
   "cell_type": "markdown",
   "metadata": {},
   "source": [
    "This is where our regular expression contains the exact text that we want to match. The regex `a`, for example, will match the text a, and the regex bananas will match the text bananas."
   ]
  },
  {
   "cell_type": "code",
   "execution_count": 3,
   "metadata": {
    "scrolled": true
   },
   "outputs": [
    {
     "data": {
      "text/plain": [
       "['bananas']"
      ]
     },
     "metadata": {},
     "output_type": "display_data"
    }
   ],
   "source": [
    "text = 'Monkeys love bananas'\n",
    "regex = re.findall('bananas',text)\n",
    "display(regex)"
   ]
  },
  {
   "cell_type": "markdown",
   "metadata": {},
   "source": [
    "## Alternation"
   ]
  },
  {
   "cell_type": "markdown",
   "metadata": {},
   "source": [
    "Alternation, performed in regular expressions with the pipe symbol, `|` , allows us to match either the characters preceding the `|` OR the characters after the `|`."
   ]
  },
  {
   "cell_type": "code",
   "execution_count": 68,
   "metadata": {
    "scrolled": false
   },
   "outputs": [
    {
     "data": {
      "text/plain": [
       "['cat', 'bananas']"
      ]
     },
     "metadata": {},
     "output_type": "display_data"
    }
   ],
   "source": [
    "words = \"cat gorilla bananas monkey\"\n",
    "regex = re.findall('bananas|cat',words)\n",
    "display(regex)"
   ]
  },
  {
   "cell_type": "markdown",
   "metadata": {},
   "source": [
    "## Character Sets"
   ]
  },
  {
   "cell_type": "markdown",
   "metadata": {},
   "source": [
    "Character sets, denoted by a pair of brackets `[]`, let us match one character from a series of characters, allowing for matches with incorrect or different spellings.\n",
    "\n",
    "The regex con`[sc]`en`[sc]`us will match consensus, the correct spelling of the word, but also match the following three incorrect spellings: concensus, consencus, and concencus. The letters inside the first brackets, s and c, are the different possibilities for the character that comes after con and before en. Similarly for the second brackets, s and c are the different character possibilities to come after en and before us.\n",
    "\n",
    "We can make our character sets even more powerful with the help of the caret `^` symbol. Placed at the front of a character set, the `^` negates the set, matching any character that is not stated. These are called negated character sets. Thus the regex `[^cat]` will match any character that is not c, a, or t, and would completely match each character `d`, `o` or `g`."
   ]
  },
  {
   "cell_type": "code",
   "execution_count": 6,
   "metadata": {
    "scrolled": true
   },
   "outputs": [
    {
     "data": {
      "text/plain": [
       "<re.Match object; span=(0, 9), match='concensus'>"
      ]
     },
     "metadata": {},
     "output_type": "display_data"
    }
   ],
   "source": [
    "#Well spelled word CONSENSUS\n",
    "word = \"concensus\"\n",
    "regex = re.search('con[sc]en[sc]us',word)\n",
    "display(regex)"
   ]
  },
  {
   "cell_type": "markdown",
   "metadata": {},
   "source": [
    "## Wild for Wildcards"
   ]
  },
  {
   "cell_type": "markdown",
   "metadata": {},
   "source": [
    "Sometimes we don’t care exactly WHAT characters are in a text, just that there are SOME characters. Enter the wildcard `.`! Wildcards will match any single character (letter, number, symbol or whitespace) in a piece of text. **They are useful when we do not care about the specific value of a character, but only that a character exists!**\n",
    "\n",
    "Let’s say we want to match any 9-character piece of text. The regex `.........` will completely match `orangutan` and `marsupial`! Similarly, the regex `I ate . bananas` will completely match both I` ate 3 bananas` and `I ate 8 bananas!`"
   ]
  },
  {
   "cell_type": "code",
   "execution_count": 12,
   "metadata": {
    "scrolled": true
   },
   "outputs": [
    {
     "data": {
      "text/plain": [
       "<re.Match object; span=(0, 7), match='monkeys'>"
      ]
     },
     "metadata": {},
     "output_type": "display_data"
    }
   ],
   "source": [
    "words = \"monkeys are amazing\"\n",
    "regex = re.search('.......', words)\n",
    "display(regex)"
   ]
  },
  {
   "cell_type": "markdown",
   "metadata": {},
   "source": [
    "## Ranges"
   ]
  },
  {
   "cell_type": "markdown",
   "metadata": {},
   "source": [
    "Ranges allow us to specify a range of characters in which we can make a match without having to type out each individual character. The regex `[abc]`, which would match any character `a`, `b`, or `c`, is equivalent to regex range `[a-c]`. The `-` character allows us to specify that we are interested in matching a range of characters"
   ]
  },
  {
   "cell_type": "code",
   "execution_count": 72,
   "metadata": {},
   "outputs": [
    {
     "data": {
      "text/plain": [
       "['cub', 'dog', 'elk']"
      ]
     },
     "metadata": {},
     "output_type": "display_data"
    }
   ],
   "source": [
    "#match only the words cub,dog and elk\n",
    "match_words = 'cub dog elk ape cow ewe'\n",
    "regex = re.findall('[c-e][l-u][b-k]',match_words)\n",
    "display(regex)"
   ]
  },
  {
   "cell_type": "markdown",
   "metadata": {},
   "source": [
    "## Shorthand Character Classes"
   ]
  },
  {
   "cell_type": "markdown",
   "metadata": {},
   "source": [
    "* **\\w**: the “word character” class represents the regex range `[A-Za-z0-9_]`, and it matches a single uppercase character, lowercase character, digit or underscore\n",
    "\n",
    "\n",
    "* **\\d**: the “digit character” class represents the regex range `[0-9]`, and it matches a single digit character\n",
    "\n",
    "\n",
    "* **\\s**: the “whitespace character” class represents the regex range `[ \\t\\r\\n\\f\\v]`, matching a single space, tab, carriage return, line break, form feed, or vertical tab\n",
    "\n",
    "\n",
    "For example, the regex `\\d\\s\\w\\w\\w\\w\\w\\w\\w` matches a **digit character**, followed by a **whitespace** character, followed by **7 word characters**. Thus the regex completely matches `the text 3 monkeys`."
   ]
  },
  {
   "cell_type": "code",
   "execution_count": 74,
   "metadata": {
    "scrolled": true
   },
   "outputs": [
    {
     "data": {
      "text/plain": [
       "['5 sloths', '8 llamas', '7 hyenas']"
      ]
     },
     "metadata": {},
     "output_type": "display_data"
    }
   ],
   "source": [
    "#Match these: 5 sloths ,8 llamas,7 hyenas \n",
    "#Don't match these: one bird , two owls\n",
    "\n",
    "text = '5 sloths one bird 8 llamas two owls 7 hyenas'\n",
    "regex = re.findall('\\d\\s\\w\\w\\w\\w\\w\\w',text)\n",
    "display(regex)"
   ]
  },
  {
   "cell_type": "markdown",
   "metadata": {},
   "source": [
    "## Grouping"
   ]
  },
  {
   "cell_type": "markdown",
   "metadata": {},
   "source": [
    "Grouping, denoted with the open parenthesis ( and the closing parenthesis ), lets us group parts of a regular expression together, and allows us to limit alternation to part of the regex.\n",
    "\n",
    "The regex `I love (baboons|gorillas)` will match the text `I love` and then match either `baboons` or `gorillas,` as the grouping limits the reach of the `|` to the text within the parentheses."
   ]
  },
  {
   "cell_type": "code",
   "execution_count": 13,
   "metadata": {},
   "outputs": [
    {
     "data": {
      "text/plain": [
       "['puppies', 'kitty cats']"
      ]
     },
     "metadata": {},
     "output_type": "display_data"
    }
   ],
   "source": [
    "#Match these: puppies are my favorite!, kitty cats are my favorite!\n",
    "#Don't match these: deer are my favorite!,otters are my favorite!, hedgehogs are my favorite!\n",
    "\n",
    "text = 'puppies are my favorites! deer are my favorite! kitty cats are my favorite! otters are my favorite! hedgehogs are my favorite!'\n",
    "regex = re.findall('(puppies|kitty cats) are my favorite',text)\n",
    "display(regex)"
   ]
  },
  {
   "cell_type": "markdown",
   "metadata": {},
   "source": [
    "## Quantifiers - Fixed"
   ]
  },
  {
   "cell_type": "markdown",
   "metadata": {},
   "source": [
    "Fixed quantifiers, denoted with curly braces `{}`, let us indicate the exact quantity of a character we wish to match, or allow us to provide a quantity range to match on.\n",
    "\n",
    "* `\\w{3}` will match exactly **3 word characters**\n",
    "\n",
    "\n",
    "* `\\w{4,7}` will match at **minimum 4 word characters** and at **maximum 7 word characters**\n",
    "\n",
    "The regex `roa{3}r` will match the characters `ro` followed by 3 `as`, and then the character `r`, such as in the text `roaaar`. The regex `roa{3,7}r` will match the characters `ro` followed by at least 3 `a` and at most 7 `a`s, followed by an `r`, matching the strings `roaaar`, `roaaaaar` and `roaaaaaaar`.\n",
    "\n",
    "An important note is that quantifiers are considered to be greedy. This means that **they will match the greatest quantity of characters they possibly can**. For example, the regex `mo{2,4}` will match the text `moooo` in the string `moooo`, and not return a match of `moo`, or `mooo`. **This is because the fixed quantifier wants to match the largest number of os as possible, which is 4 in the string moooo.**"
   ]
  },
  {
   "cell_type": "code",
   "execution_count": 87,
   "metadata": {},
   "outputs": [
    {
     "data": {
      "text/plain": [
       "['squeaaak', 'squeaaaak', 'squeaaaaak']"
      ]
     },
     "metadata": {},
     "output_type": "display_data"
    }
   ],
   "source": [
    "#Match these: squeaaak,squeaaaak,squeaaaaak\n",
    "#Don't match these: squeak,squeaak,squeaaaaaak\n",
    "\n",
    "text = 'squeaaak squeak squeaaaak squeaak squeaaaaak squeaaaaaak'\n",
    "regex = re.findall('squea{3,5}k',text)\n",
    "display(regex)"
   ]
  },
  {
   "cell_type": "markdown",
   "metadata": {},
   "source": [
    "## Quantifiers - Optional"
   ]
  },
  {
   "cell_type": "markdown",
   "metadata": {},
   "source": [
    "Optional quantifiers, indicated by the question mark `?`, allow us to indicate a character in a regex is optional, or can appear either 0 times or 1 time. For example, the regex `humou?r` matches the characters `humo`, then either 0 occurrences or 1 occurrence of the letter `u`, and finally the letter `r`. Note the `?` only applies to the character directly **before** it.\n",
    "\n",
    "With all quantifiers, we can take advantage of grouping to make even more advanced regexes. The regex `The monkey ate a (rotten )?banana` will completely match both `The monkey ate a rotten banana` and `The monkey ate a banana`."
   ]
  },
  {
   "cell_type": "code",
   "execution_count": 21,
   "metadata": {
    "scrolled": true
   },
   "outputs": [
    {
     "data": {
      "text/plain": [
       "['1 duck for adoption?', '5 ducks for adoption?', '7 ducks for adoption?']"
      ]
     },
     "metadata": {},
     "output_type": "display_data"
    }
   ],
   "source": [
    "#Match these: 1 duck for adoption? ,5 ducks for adoption? ,7 ducks for adoption?\n",
    "\n",
    "text = ' 1 duck for adoption? 5 ducks for adoption? 7 ducks for adoption?'\n",
    "regex = re.findall('\\d ducks? for adoption\\?',text)\n",
    "display(regex)"
   ]
  },
  {
   "cell_type": "markdown",
   "metadata": {},
   "source": [
    "## Quantifiers - 0 or More, 1 or More"
   ]
  },
  {
   "cell_type": "markdown",
   "metadata": {},
   "source": [
    "The Kleene star, denoted with the asterisk `*`, is also a quantifier, and matches the preceding character 0 or more times. This means that **the character doesn’t need to appear, can appear once, or can appear many many times**.\n",
    "\n",
    "The regex `meo*w` will match the characters `me`, followed by 0 or more `os`, followed by a `w`. Thus the regex will match `mew`, `meow`, `meooow`, and `meoooooooooooow`.\n",
    "\n",
    "Another useful quantifier is the Kleene plus, denoted by the plus `+`, which **matches the preceding character 1 or more times.**\n",
    "\n",
    "The regex `meo+w` will match the characters `me`, followed by 1 or more `os`, followed by a `w`. Thus the regex will match `meow`, `meooow`, and `meoooooooooooow`, but not match `mew`."
   ]
  },
  {
   "cell_type": "code",
   "execution_count": 23,
   "metadata": {},
   "outputs": [
    {
     "data": {
      "text/plain": [
       "['hoot', 'hoooooot', 'hooooooooooot']"
      ]
     },
     "metadata": {},
     "output_type": "display_data"
    }
   ],
   "source": [
    "#Match these: hoot hoooooot hooooooooooot\n",
    "#Don't match these: hot hoat hoo\n",
    "text = ' hoot hoooooot hooooooooooot hot hoat hoo'\n",
    "regex = re.findall('hoo+t',text)\n",
    "display(regex)"
   ]
  },
  {
   "cell_type": "markdown",
   "metadata": {},
   "source": [
    "## Anchors"
   ]
  },
  {
   "cell_type": "markdown",
   "metadata": {},
   "source": [
    "The anchors hat `^` and dollar sign '$' are used to match text at the start and the end of a string, respectively.\n",
    "\n",
    "The regex `^Monkeys: my mortal enemy$` will completely match the text `Monkeys: my mortal enemy` but not match `Spider Monkeys: my mortal enemy in the wild` or `Squirrel Monkeys: my mortal enemy in the wild`. **The ^ ensures that the matched text begins with Monkeys, and the $ ensures the matched text ends with enemy.**\n",
    "\n",
    "Without the anchor tags, the regex `Monkeys: my mortal enemy` will match the text `Monkeys: my mortal enemy` in both `Spider Monkeys: my mortal enemy in the wild` and `Squirrel Monkeys: my mortal enemy in the wild`.\n",
    "\n"
   ]
  },
  {
   "cell_type": "code",
   "execution_count": 24,
   "metadata": {},
   "outputs": [
    {
     "data": {
      "text/plain": [
       "[]"
      ]
     },
     "metadata": {},
     "output_type": "display_data"
    }
   ],
   "source": [
    "#Match this: penguins are cooler than regular expressions\n",
    "#Don't match these: king penguins are cooler than regular expressions, penguins are cooler than regular expressions!\n",
    "\n",
    "text = \"king penguins are cooler than regular expressions penguins are cooler than regular expressions penguins are cooler than regular expressions!\"\n",
    "\n",
    "regex = re.findall('^penguins are cooler than regular expressions$',text)\n",
    "display(regex)\n"
   ]
  }
 ],
 "metadata": {
  "kernelspec": {
   "display_name": "Python 3",
   "language": "python",
   "name": "python3"
  },
  "language_info": {
   "codemirror_mode": {
    "name": "ipython",
    "version": 3
   },
   "file_extension": ".py",
   "mimetype": "text/x-python",
   "name": "python",
   "nbconvert_exporter": "python",
   "pygments_lexer": "ipython3",
   "version": "3.8.6"
  }
 },
 "nbformat": 4,
 "nbformat_minor": 4
}
