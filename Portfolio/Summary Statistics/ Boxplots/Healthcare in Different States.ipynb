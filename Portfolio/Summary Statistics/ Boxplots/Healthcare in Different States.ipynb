{
 "cells": [
  {
   "cell_type": "markdown",
   "id": "searching-lighting",
   "metadata": {},
   "source": [
    "#### SUMMARY STATISTICS\n",
    "# Healthcare in Different States"
   ]
  },
  {
   "cell_type": "markdown",
   "id": "played-necklace",
   "metadata": {},
   "source": [
    "In this project, we will use boxplots to investigate the way hospitals in different states across the United States charge their patients for medical procedures.\n",
    "\n",
    "The data originally came from the [United State Health and Human Services Department](https://data.cms.gov/Medicare-Inpatient/Inpatient-Prospective-Payment-System-IPPS-Provider/97k6-zzx3)\n",
    "***"
   ]
  },
  {
   "cell_type": "code",
   "execution_count": 30,
   "id": "signed-armor",
   "metadata": {},
   "outputs": [],
   "source": [
    "import numpy as np\n",
    "import pandas as pd\n",
    "import matplotlib.pyplot as plt"
   ]
  },
  {
   "cell_type": "markdown",
   "id": "protected-exploration",
   "metadata": {},
   "source": [
    "### Looking at the data"
   ]
  },
  {
   "cell_type": "code",
   "execution_count": 53,
   "id": "surprised-president",
   "metadata": {},
   "outputs": [
    {
     "data": {
      "text/html": [
       "<div>\n",
       "<style scoped>\n",
       "    .dataframe tbody tr th:only-of-type {\n",
       "        vertical-align: middle;\n",
       "    }\n",
       "\n",
       "    .dataframe tbody tr th {\n",
       "        vertical-align: top;\n",
       "    }\n",
       "\n",
       "    .dataframe thead th {\n",
       "        text-align: right;\n",
       "    }\n",
       "</style>\n",
       "<table border=\"1\" class=\"dataframe\">\n",
       "  <thead>\n",
       "    <tr style=\"text-align: right;\">\n",
       "      <th></th>\n",
       "      <th>DRGDefinition</th>\n",
       "      <th>ProviderId</th>\n",
       "      <th>ProviderName</th>\n",
       "      <th>ProviderStreetAddress</th>\n",
       "      <th>ProviderCity</th>\n",
       "      <th>ProviderState</th>\n",
       "      <th>ProviderZipCode</th>\n",
       "      <th>HospitalReferralRegionDescription</th>\n",
       "      <th>TotalDischarges</th>\n",
       "      <th>AverageCoaveredCharges</th>\n",
       "      <th>AverageTotalPayments</th>\n",
       "      <th>AverageMedicarePayments</th>\n",
       "    </tr>\n",
       "  </thead>\n",
       "  <tbody>\n",
       "    <tr>\n",
       "      <th>0</th>\n",
       "      <td>039 - EXTRACRANIAL PROCEDURES W/O CC/MCC</td>\n",
       "      <td>10001</td>\n",
       "      <td>SOUTHEAST ALABAMA MEDICAL CENTER</td>\n",
       "      <td>1108 ROSS CLARK CIRCLE</td>\n",
       "      <td>DOTHAN</td>\n",
       "      <td>AL</td>\n",
       "      <td>36301</td>\n",
       "      <td>AL - Dothan</td>\n",
       "      <td>91</td>\n",
       "      <td>32963.07</td>\n",
       "      <td>5777.24</td>\n",
       "      <td>4763.73</td>\n",
       "    </tr>\n",
       "    <tr>\n",
       "      <th>1</th>\n",
       "      <td>039 - EXTRACRANIAL PROCEDURES W/O CC/MCC</td>\n",
       "      <td>10005</td>\n",
       "      <td>MARSHALL MEDICAL CENTER SOUTH</td>\n",
       "      <td>2505 U S HIGHWAY 431 NORTH</td>\n",
       "      <td>BOAZ</td>\n",
       "      <td>AL</td>\n",
       "      <td>35957</td>\n",
       "      <td>AL - Birmingham</td>\n",
       "      <td>14</td>\n",
       "      <td>15131.85</td>\n",
       "      <td>5787.57</td>\n",
       "      <td>4976.71</td>\n",
       "    </tr>\n",
       "    <tr>\n",
       "      <th>2</th>\n",
       "      <td>039 - EXTRACRANIAL PROCEDURES W/O CC/MCC</td>\n",
       "      <td>10006</td>\n",
       "      <td>ELIZA COFFEE MEMORIAL HOSPITAL</td>\n",
       "      <td>205 MARENGO STREET</td>\n",
       "      <td>FLORENCE</td>\n",
       "      <td>AL</td>\n",
       "      <td>35631</td>\n",
       "      <td>AL - Birmingham</td>\n",
       "      <td>24</td>\n",
       "      <td>37560.37</td>\n",
       "      <td>5434.95</td>\n",
       "      <td>4453.79</td>\n",
       "    </tr>\n",
       "    <tr>\n",
       "      <th>3</th>\n",
       "      <td>039 - EXTRACRANIAL PROCEDURES W/O CC/MCC</td>\n",
       "      <td>10011</td>\n",
       "      <td>ST VINCENT'S EAST</td>\n",
       "      <td>50 MEDICAL PARK EAST DRIVE</td>\n",
       "      <td>BIRMINGHAM</td>\n",
       "      <td>AL</td>\n",
       "      <td>35235</td>\n",
       "      <td>AL - Birmingham</td>\n",
       "      <td>25</td>\n",
       "      <td>13998.28</td>\n",
       "      <td>5417.56</td>\n",
       "      <td>4129.16</td>\n",
       "    </tr>\n",
       "    <tr>\n",
       "      <th>4</th>\n",
       "      <td>039 - EXTRACRANIAL PROCEDURES W/O CC/MCC</td>\n",
       "      <td>10016</td>\n",
       "      <td>SHELBY BAPTIST MEDICAL CENTER</td>\n",
       "      <td>1000 FIRST STREET NORTH</td>\n",
       "      <td>ALABASTER</td>\n",
       "      <td>AL</td>\n",
       "      <td>35007</td>\n",
       "      <td>AL - Birmingham</td>\n",
       "      <td>18</td>\n",
       "      <td>31633.27</td>\n",
       "      <td>5658.33</td>\n",
       "      <td>4851.44</td>\n",
       "    </tr>\n",
       "  </tbody>\n",
       "</table>\n",
       "</div>"
      ],
      "text/plain": [
       "                              DRGDefinition  ProviderId  \\\n",
       "0  039 - EXTRACRANIAL PROCEDURES W/O CC/MCC       10001   \n",
       "1  039 - EXTRACRANIAL PROCEDURES W/O CC/MCC       10005   \n",
       "2  039 - EXTRACRANIAL PROCEDURES W/O CC/MCC       10006   \n",
       "3  039 - EXTRACRANIAL PROCEDURES W/O CC/MCC       10011   \n",
       "4  039 - EXTRACRANIAL PROCEDURES W/O CC/MCC       10016   \n",
       "\n",
       "                       ProviderName       ProviderStreetAddress ProviderCity  \\\n",
       "0  SOUTHEAST ALABAMA MEDICAL CENTER      1108 ROSS CLARK CIRCLE       DOTHAN   \n",
       "1     MARSHALL MEDICAL CENTER SOUTH  2505 U S HIGHWAY 431 NORTH         BOAZ   \n",
       "2    ELIZA COFFEE MEMORIAL HOSPITAL          205 MARENGO STREET     FLORENCE   \n",
       "3                 ST VINCENT'S EAST  50 MEDICAL PARK EAST DRIVE   BIRMINGHAM   \n",
       "4     SHELBY BAPTIST MEDICAL CENTER     1000 FIRST STREET NORTH    ALABASTER   \n",
       "\n",
       "  ProviderState  ProviderZipCode HospitalReferralRegionDescription  \\\n",
       "0            AL            36301                       AL - Dothan   \n",
       "1            AL            35957                   AL - Birmingham   \n",
       "2            AL            35631                   AL - Birmingham   \n",
       "3            AL            35235                   AL - Birmingham   \n",
       "4            AL            35007                   AL - Birmingham   \n",
       "\n",
       "   TotalDischarges  AverageCoaveredCharges  AverageTotalPayments  \\\n",
       "0               91                32963.07               5777.24   \n",
       "1               14                15131.85               5787.57   \n",
       "2               24                37560.37               5434.95   \n",
       "3               25                13998.28               5417.56   \n",
       "4               18                31633.27               5658.33   \n",
       "\n",
       "   AverageMedicarePayments  \n",
       "0                  4763.73  \n",
       "1                  4976.71  \n",
       "2                  4453.79  \n",
       "3                  4129.16  \n",
       "4                  4851.44  "
      ]
     },
     "execution_count": 53,
     "metadata": {},
     "output_type": "execute_result"
    }
   ],
   "source": [
    "data = pd.read_csv(\"healthcare-data.csv\")\n",
    "data.columns = data.columns.str.replace(' ', '')\n",
    "data.head()\n"
   ]
  },
  {
   "cell_type": "markdown",
   "id": "presidential-paper",
   "metadata": {},
   "source": [
    "We’re going to focus on only the ways in which hospitals charge patients for chest pain, but we want to see all of the different diagnoses in our dataset."
   ]
  },
  {
   "cell_type": "code",
   "execution_count": 32,
   "id": "internal-joint",
   "metadata": {},
   "outputs": [],
   "source": [
    "#print(data[\"DRG Definition\"].unique())"
   ]
  },
  {
   "cell_type": "markdown",
   "id": "lesser-partner",
   "metadata": {},
   "source": [
    "Let’s grab only the rows in the dataset that are about chest pain."
   ]
  },
  {
   "cell_type": "code",
   "execution_count": 54,
   "id": "broadband-uncertainty",
   "metadata": {},
   "outputs": [],
   "source": [
    "chest_pain = data[data[\"DRGDefinition\"] == '313 - CHEST PAIN']\n",
    "#chest_pain.head()"
   ]
  },
  {
   "cell_type": "markdown",
   "id": "another-economy",
   "metadata": {},
   "source": [
    "***"
   ]
  },
  {
   "cell_type": "markdown",
   "id": "cordless-lighting",
   "metadata": {},
   "source": [
    "## Separating By State (Alabama)"
   ]
  },
  {
   "cell_type": "markdown",
   "id": "coated-andrew",
   "metadata": {},
   "source": [
    "We now want to separate the dataset by state. Eventually, we’ll use a for loop to do this for every state, but for now, let’s make a boxplot for one state. <br>\n",
    "When we printed the head, we saw the first few rows had a `'Provider State'` of `\"AL\"`. Those were hospitals in Alabama."
   ]
  },
  {
   "cell_type": "code",
   "execution_count": 55,
   "id": "curious-convenience",
   "metadata": {},
   "outputs": [],
   "source": [
    "alabama_chest_pain = chest_pain[chest_pain[\"ProviderState\"] == 'AL']"
   ]
  },
  {
   "cell_type": "markdown",
   "id": "honest-president",
   "metadata": {},
   "source": [
    "1. **We now have all of the hospitals in Alabama that have a diagnosed chest pain. We now want to find the average cost of those diagnoses. These value is stored in the column `' Average Covered Charges '`**"
   ]
  },
  {
   "cell_type": "code",
   "execution_count": 56,
   "id": "neutral-tsunami",
   "metadata": {},
   "outputs": [],
   "source": [
    "costs = alabama_chest_pain[\"AverageCoaveredCharges\"].values"
   ]
  },
  {
   "cell_type": "markdown",
   "id": "sitting-surge",
   "metadata": {},
   "source": [
    "2. **Let’s now make a boxplot of those values**"
   ]
  },
  {
   "cell_type": "code",
   "execution_count": 36,
   "id": "polyphonic-corrections",
   "metadata": {
    "scrolled": true
   },
   "outputs": [
    {
     "data": {
      "image/png": "[encoded data removed]",
      "text/plain": [
       "<Figure size 432x288 with 1 Axes>"
      ]
     },
     "metadata": {
      "needs_background": "light"
     },
     "output_type": "display_data"
    }
   ],
   "source": [
    "plt.boxplot(costs)\n",
    "plt.show()"
   ]
  },
  {
   "cell_type": "markdown",
   "id": "changed-theology",
   "metadata": {},
   "source": [
    "***"
   ]
  },
  {
   "cell_type": "markdown",
   "id": "vocal-disorder",
   "metadata": {},
   "source": [
    "## Making a Boxplot for All States"
   ]
  },
  {
   "cell_type": "markdown",
   "id": "biological-party",
   "metadata": {},
   "source": [
    "Let’s make a boxplot for every state"
   ]
  },
  {
   "cell_type": "markdown",
   "id": "foster-vector",
   "metadata": {},
   "source": [
    "1. **To begin, we first need to create a list of all the states in our dataset**"
   ]
  },
  {
   "cell_type": "code",
   "execution_count": null,
   "id": "northern-current",
   "metadata": {},
   "outputs": [],
   "source": []
  }
 ],
 "metadata": {
  "kernelspec": {
   "display_name": "Python 3",
   "language": "python",
   "name": "python3"
  },
  "language_info": {
   "codemirror_mode": {
    "name": "ipython",
    "version": 3
   },
   "file_extension": ".py",
   "mimetype": "text/x-python",
   "name": "python",
   "nbconvert_exporter": "python",
   "pygments_lexer": "ipython3",
   "version": "3.8.5"
  }
 },
 "nbformat": 4,
 "nbformat_minor": 5
}
