{
 "cells": [
  {
   "cell_type": "markdown",
   "metadata": {},
   "source": [
    "# Central Tendency for Housing Data\n",
    "In this project, you will find the mean, median, and mode cost of one-bedroom apartments in three of the five New York City boroughs: Brooklyn, Manhattan, and Queens.\n",
    "\n",
    "Using your findings, you will make conclusions about the cost of living in each of the boroughs. We will also discuss an important assumption that we make when we point out differences between the boroughs.\n",
    "\n",
    "We worked with **reeteasy.com** to collect this data. While we will only focus on the cost of one-bedroom apartments, the dataset includes a lot more information if you’re interested in asking your own questions about the Brooklyn, Manhattan, and Queens housing market."
   ]
  },
  {
   "cell_type": "code",
   "execution_count": 71,
   "metadata": {},
   "outputs": [],
   "source": [
    "# Import packages\n",
    "import numpy as np\n",
    "import pandas as pd\n",
    "from scipy import stats\n",
    "import matplotlib.pyplot as plt\n",
    "from matplotlib import colors\n",
    "from matplotlib.ticker import PercentFormatter"
   ]
  },
  {
   "cell_type": "markdown",
   "metadata": {},
   "source": [
    "## Observing your Data\n",
    "1. We’ve imported data about one-bedroom apartments in three of New York City’s boroughs: Brooklyn, Manhattan, and Queens. We saved the values to:\n",
    "\n",
    "* `brooklyn_one_bed`\n",
    "* `manhattan_one_bed`\n",
    "* `queens_one_bed`\n",
    "\n",
    "In this project, we only care about the price of apartments, so we saved the price of apartments in each borough to:\n",
    "\n",
    "* `brooklyn_price`\n",
    "* `manhattan_price`\n",
    "* `queens_price`\n"
   ]
  },
  {
   "cell_type": "code",
   "execution_count": 60,
   "metadata": {},
   "outputs": [],
   "source": [
    "# Read in housing data\n",
    "brooklyn_one_bed = pd.read_csv('brooklyn-one-bed.csv')\n",
    "brooklyn_price = brooklyn_one_bed['rent']\n",
    "\n",
    "manhattan_one_bed = pd.read_csv('manhattan-one-bed.csv')\n",
    "manhattan_price = manhattan_one_bed['rent']\n",
    "\n",
    "queens_one_bed = pd.read_csv('queens-one-bed.csv')\n",
    "queens_price = queens_one_bed['rent']"
   ]
  },
  {
   "cell_type": "markdown",
   "metadata": {},
   "source": [
    "## Find the Mean\n",
    "2. Find the average value of one-bedroom apartments in Brooklyn and save the value to `brooklyn_mean`.\n",
    "\n",
    "\n",
    "3. Find the average value of one-bedroom apartments in Manhattan and save the value to `manhattan_mean`.\n",
    "\n",
    "\n",
    "\n",
    "4. Find the average value of one-bedroom apartments in Queens and save the value to `queens_mean`."
   ]
  },
  {
   "cell_type": "code",
   "execution_count": 61,
   "metadata": {},
   "outputs": [],
   "source": [
    "# Adding mean calculations below\n",
    "brooklyn_mean = np.average(brooklyn_price)\n",
    "manhattan_mean = np.average(manhattan_price)\n",
    "queens_mean = np.average(queens_price)"
   ]
  },
  {
   "cell_type": "markdown",
   "metadata": {},
   "source": [
    "## Find the Median\n",
    "5. Find the median value of one-bedroom apartments in Brooklyn and save the value to `brooklyn_median`.\n",
    "\n",
    "6. Find the median value of one-bedroom apartments in Manhattan and save the value to `manhattan_median`.\n",
    "\n",
    "7. Find the median value of one-bedroom apartments in Queens and save the value to `queens_median`.\n"
   ]
  },
  {
   "cell_type": "code",
   "execution_count": 62,
   "metadata": {},
   "outputs": [],
   "source": [
    "# Adding median calculations below\n",
    "brooklyn_median = np.median(brooklyn_price)\n",
    "manhattan_median = np.median(manhattan_price)\n",
    "queens_median = np.median(queens_price)"
   ]
  },
  {
   "cell_type": "markdown",
   "metadata": {},
   "source": [
    "## Find the Mode\n",
    "8. Find the mode value of one-bedroom apartments in Brooklyn and save the value to `brooklyn_mode`.\n",
    "\n",
    "9. Find the mode value of one-bedroom apartments in Manhattan and save the value to `manhattan_mode`.\n",
    "\n",
    "10. Find the mode value of one-bedroom apartments in Queens and save the value to `queens_mode`."
   ]
  },
  {
   "cell_type": "code",
   "execution_count": 63,
   "metadata": {},
   "outputs": [],
   "source": [
    "# Adding mode calculations below\n",
    "brooklyn_mode = stats.mode(brooklyn_price)\n",
    "manhattan_mode = stats.mode(manhattan_price)\n",
    "queens_mode = stats.mode(queens_price)"
   ]
  },
  {
   "cell_type": "code",
   "execution_count": 69,
   "metadata": {},
   "outputs": [
    {
     "name": "stdout",
     "output_type": "stream",
     "text": [
      "The mean price in Brooklyn is 3327.4\n",
      "The mean price in Manhattan is 3993.48\n",
      "The mean price in Queens is 2346.25\n",
      "The median price in Brooklyn is 3000.0\n",
      "The median price in Manhattan is 3800.0\n",
      "The median price in Queens is 2200.0\n",
      "The mode price in Brooklyn is 2500 and it appears 26 times out of 1013\n",
      "The mode price in Manhattan is 3500 and it appears 56 times out of 1476\n",
      "The mode price in Queens is 1750 and it appears 11 times out of 232\n"
     ]
    }
   ],
   "source": [
    "G=' times out of '\n",
    "F=' and it appears '\n",
    "E=len\n",
    "D=round\n",
    "C=NameError\n",
    "B=str\n",
    "A=print\n",
    "try:A('The mean price in Brooklyn is '+B(D(brooklyn_mean,2)))\n",
    "except C:A('The mean price in Brooklyn is not yet defined.')\n",
    "try:A('The mean price in Manhattan is '+B(D(manhattan_mean,2)))\n",
    "except C:A('The mean in Manhattan is not yet defined.')\n",
    "try:A('The mean price in Queens is '+B(D(queens_mean,2)))\n",
    "except C:A('The mean price in Queens is not yet defined.')\n",
    "try:A('The median price in Brooklyn is '+B(brooklyn_median))\n",
    "except C:A('The median price in Brooklyn is not yet defined.')\n",
    "try:A('The median price in Manhattan is '+B(manhattan_median))\n",
    "except C:A('The median price in Manhattan is not yet defined.')\n",
    "try:A('The median price in Queens is '+B(queens_median))\n",
    "except C:A('The median price in Queens is not yet defined.')\n",
    "try:A('The mode price in Brooklyn is '+B(brooklyn_mode[0][0])+F+B(brooklyn_mode[1][0])+G+B(E(brooklyn_price)))\n",
    "except C:A('The mode price in Brooklyn is not yet defined.')\n",
    "try:A('The mode price in Manhattan is '+B(manhattan_mode[0][0])+F+B(manhattan_mode[1][0])+G+B(E(manhattan_price)))\n",
    "except C:A('The mode price in Manhattan is not yet defined.')\n",
    "try:A('The mode price in Queens is '+B(queens_mode[0][0])+F+B(queens_mode[1][0])+G+B(E(queens_price)))\n",
    "except C:A('The mode price in Queens is not yet defined.')"
   ]
  },
  {
   "cell_type": "markdown",
   "metadata": {},
   "source": [
    "## What does our data tell us?\n",
    "11. What can you say about the housing prices in Brooklyn, Queens, and Manhattan? Besides, “It’s really expensive to live in any of them.”\n",
    "\n",
    "    **Answer: It looks like the average cost of one-bedroom apartments in Manhattan is the most, and in Queens is the least. This pattern holds for the median and mode values as well. <br> While the mode is not the most important indicator of centrality, the fact that mean, median, and mode are within a few hundred dollars for each borough indicates the data is centered around:**\n",
    "\n",
    "* \\\\$3,300 for Brooklyn\n",
    "* \\\\$3,900 for Manhattan\n",
    "* \\\\$2,300 for Queens"
   ]
  },
  {
   "cell_type": "markdown",
   "metadata": {},
   "source": [
    "## Creating the histograms\n",
    "13. Finally, think about what the histogram for each dataset will look like. Make a rough sketch of the histograms for the cost of a one-bedroom apartment in Brooklyn, Manhattan, and Queens."
   ]
  },
  {
   "cell_type": "code",
   "execution_count": 65,
   "metadata": {
    "scrolled": true
   },
   "outputs": [
    {
     "data": {
      "image/png": "[encoded data removed]",
      "text/plain": [
       "<Figure size 432x288 with 1 Axes>"
      ]
     },
     "metadata": {
      "needs_background": "light"
     },
     "output_type": "display_data"
    },
    {
     "data": {
      "image/png": "[encoded data removed]",
      "text/plain": [
       "<Figure size 432x288 with 1 Axes>"
      ]
     },
     "metadata": {
      "needs_background": "light"
     },
     "output_type": "display_data"
    },
    {
     "data": {
      "image/png": "[encoded data removed]",
      "text/plain": [
       "<Figure size 432x288 with 1 Axes>"
      ]
     },
     "metadata": {
      "needs_background": "light"
     },
     "output_type": "display_data"
    }
   ],
   "source": [
    "#Brooklyn Histogram\n",
    "plt.hist(brooklyn_price, range=(0,10000) ,edgecolor='black')\n",
    "plt.title(\"1-bedroom apartment prices in Brooklyn\".title())\n",
    "plt.xlabel(\"Price\")\n",
    "plt.ylabel(\"Count\")\n",
    "plt.axvline(brooklyn_mean, color='r', linestyle='solid', linewidth=2, label=\"Mean\")\n",
    "plt.axvline(brooklyn_median, color='y', linestyle='solid', linewidth=2, label=\"Median\")\n",
    "plt.axvline(brooklyn_mode[0], color='orange', linestyle='dashed', linewidth=3, label=\"Mode\")\n",
    "plt.legend()\n",
    "\n",
    "plt.show()\n",
    "\n",
    "#Manhattan Histogram\n",
    "plt.hist(brooklyn_price, range=(0,10000) ,edgecolor='black')\n",
    "plt.title(\"1-bedroom apartment prices in Manhattan\".title())\n",
    "plt.xlabel(\"Price\")\n",
    "plt.ylabel(\"Count\")\n",
    "plt.axvline(manhattan_mean, color='r', linestyle='solid', linewidth=2, label=\"Mean\")\n",
    "plt.axvline(manhattan_median, color='y', linestyle='solid', linewidth=2, label=\"Median\")\n",
    "plt.axvline(manhattan_mode[0], color='orange', linestyle='dashed', linewidth=3, label=\"Mode\")\n",
    "plt.legend()\n",
    "plt.show()\n",
    "\n",
    "#Manhattan Histogram\n",
    "plt.hist(brooklyn_price, range=(0,10000) ,edgecolor='black')\n",
    "plt.title(\"1-bedroom apartment prices in queens\".title())\n",
    "plt.xlabel(\"Price\")\n",
    "plt.ylabel(\"Count\")\n",
    "plt.axvline(queens_mean, color='r', linestyle='solid', linewidth=2, label=\"Mean\")\n",
    "plt.axvline(queens_median, color='y', linestyle='solid', linewidth=2, label=\"Median\")\n",
    "plt.axvline(queens_mode[0], color='orange', linestyle='dashed', linewidth=3, label=\"Mode\")\n",
    "plt.legend()\n",
    "plt.show()"
   ]
  }
 ],
 "metadata": {
  "kernelspec": {
   "display_name": "Python 3",
   "language": "python",
   "name": "python3"
  },
  "language_info": {
   "codemirror_mode": {
    "name": "ipython",
    "version": 3
   },
   "file_extension": ".py",
   "mimetype": "text/x-python",
   "name": "python",
   "nbconvert_exporter": "python",
   "pygments_lexer": "ipython3",
   "version": "3.8.6"
  }
 },
 "nbformat": 4,
 "nbformat_minor": 4
}
