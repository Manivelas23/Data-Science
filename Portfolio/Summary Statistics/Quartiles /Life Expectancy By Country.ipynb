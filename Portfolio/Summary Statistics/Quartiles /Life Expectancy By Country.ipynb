{
 "cells": [
  {
   "cell_type": "markdown",
   "id": "directed-feedback",
   "metadata": {},
   "source": [
    "#### SUMMARY STATISTICS\n",
    "# Life Expectancy By Country"
   ]
  },
  {
   "cell_type": "markdown",
   "id": "celtic-corporation",
   "metadata": {},
   "source": [
    "Over the course of the past few centuries, technological and medical advancements have helped increase the life expectancy of humans. However, as of now, the average life expectancy of humans varies depending on what country you live in.\n",
    "\n",
    "In this project, we will investigate a dataset containing information about the average life expectancy in 158 different countries. We will specifically look at how a country’s economic success might impact the life expectancy in that area.\n",
    "***"
   ]
  },
  {
   "cell_type": "code",
   "execution_count": 96,
   "id": "earlier-marijuana",
   "metadata": {},
   "outputs": [],
   "source": [
    "import numpy as np\n",
    "import pandas as pd\n",
    "import matplotlib.pyplot as plt"
   ]
  },
  {
   "cell_type": "markdown",
   "id": "informed-anger",
   "metadata": {},
   "source": [
    "### Looking at the data"
   ]
  },
  {
   "cell_type": "code",
   "execution_count": 97,
   "id": "obvious-adrian",
   "metadata": {
    "scrolled": false
   },
   "outputs": [
    {
     "data": {
      "text/html": [
       "<div>\n",
       "<style scoped>\n",
       "    .dataframe tbody tr th:only-of-type {\n",
       "        vertical-align: middle;\n",
       "    }\n",
       "\n",
       "    .dataframe tbody tr th {\n",
       "        vertical-align: top;\n",
       "    }\n",
       "\n",
       "    .dataframe thead th {\n",
       "        text-align: right;\n",
       "    }\n",
       "</style>\n",
       "<table border=\"1\" class=\"dataframe\">\n",
       "  <thead>\n",
       "    <tr style=\"text-align: right;\">\n",
       "      <th></th>\n",
       "      <th>Country</th>\n",
       "      <th>Life Expectancy</th>\n",
       "      <th>GDP</th>\n",
       "    </tr>\n",
       "  </thead>\n",
       "  <tbody>\n",
       "    <tr>\n",
       "      <th>0</th>\n",
       "      <td>Afghanistan</td>\n",
       "      <td>58.19375</td>\n",
       "      <td>340.015425</td>\n",
       "    </tr>\n",
       "    <tr>\n",
       "      <th>1</th>\n",
       "      <td>Albania</td>\n",
       "      <td>75.15625</td>\n",
       "      <td>2119.726679</td>\n",
       "    </tr>\n",
       "    <tr>\n",
       "      <th>2</th>\n",
       "      <td>Algeria</td>\n",
       "      <td>73.61875</td>\n",
       "      <td>2847.853392</td>\n",
       "    </tr>\n",
       "    <tr>\n",
       "      <th>3</th>\n",
       "      <td>Angola</td>\n",
       "      <td>49.01875</td>\n",
       "      <td>1975.143045</td>\n",
       "    </tr>\n",
       "    <tr>\n",
       "      <th>4</th>\n",
       "      <td>Antigua and Barbuda</td>\n",
       "      <td>75.05625</td>\n",
       "      <td>9759.305728</td>\n",
       "    </tr>\n",
       "  </tbody>\n",
       "</table>\n",
       "</div>"
      ],
      "text/plain": [
       "               Country  Life Expectancy          GDP\n",
       "0          Afghanistan         58.19375   340.015425\n",
       "1              Albania         75.15625  2119.726679\n",
       "2              Algeria         73.61875  2847.853392\n",
       "3               Angola         49.01875  1975.143045\n",
       "4  Antigua and Barbuda         75.05625  9759.305728"
      ]
     },
     "metadata": {},
     "output_type": "display_data"
    }
   ],
   "source": [
    "data = pd.read_csv('data.csv')\n",
    "quartiles = [0.25,0.55,0.75]\n",
    "display(data.head())"
   ]
  },
  {
   "cell_type": "markdown",
   "id": "environmental-moderator",
   "metadata": {},
   "source": [
    "Let’s isolate the column that contains the life expectancy and store it in a variable named `life_expectancy`"
   ]
  },
  {
   "cell_type": "code",
   "execution_count": 98,
   "id": "weekly-excellence",
   "metadata": {},
   "outputs": [],
   "source": [
    "life_expectancy = data[\"Life Expectancy\"]"
   ]
  },
  {
   "cell_type": "markdown",
   "id": "italic-effectiveness",
   "metadata": {},
   "source": [
    "***\n",
    "## Find the Quantiles"
   ]
  },
  {
   "cell_type": "markdown",
   "id": "desirable-venezuela",
   "metadata": {},
   "source": [
    "Let’s use the `np.quantile()` function to find the quartiles of `life_expectancy`. "
   ]
  },
  {
   "cell_type": "code",
   "execution_count": 99,
   "id": "chinese-strategy",
   "metadata": {},
   "outputs": [
    {
     "data": {
      "text/plain": [
       "array([62.325    , 73.13     , 75.4421875])"
      ]
     },
     "metadata": {},
     "output_type": "display_data"
    }
   ],
   "source": [
    "life_expectancy_quartiles = np.quantile(life_expectancy, quartiles)\n",
    "display(life_expectancy_quartiles)"
   ]
  },
  {
   "cell_type": "markdown",
   "id": "spread-supplement",
   "metadata": {},
   "source": [
    "***\n",
    "## Splitting the Data by GDP\n",
    "*GDP is a mesaure of a country’s wealth*\n",
    "\n",
    "**Let’s now use the GDP data to see if life expectancy is affected by this value.**"
   ]
  },
  {
   "cell_type": "markdown",
   "id": "plastic-belize",
   "metadata": {},
   "source": [
    "Let’s split the data into two groups based on GDP. If we find the median GDP, we can create two datasets for “low GDP countries” and “high GDP countries."
   ]
  },
  {
   "cell_type": "markdown",
   "id": "automotive-muslim",
   "metadata": {},
   "source": [
    "1. **To start, let’s isolate the GDP column and store it in a variable named gdp**"
   ]
  },
  {
   "cell_type": "code",
   "execution_count": 101,
   "id": "expanded-dance",
   "metadata": {},
   "outputs": [],
   "source": [
    "gdp = data[\"GDP\"]"
   ]
  },
  {
   "cell_type": "markdown",
   "id": "scheduled-egypt",
   "metadata": {},
   "source": [
    "2. **We now want to find the median GDP.**"
   ]
  },
  {
   "cell_type": "code",
   "execution_count": 102,
   "id": "contemporary-softball",
   "metadata": {},
   "outputs": [],
   "source": [
    "median_gdp = np.quantile(gdp,0.5)"
   ]
  },
  {
   "cell_type": "markdown",
   "id": "abandoned-topic",
   "metadata": {},
   "source": [
    "3. **Let’s now grab all of the rows from our original dataset that have a GDP less than or equal to the median**"
   ]
  },
  {
   "cell_type": "code",
   "execution_count": 103,
   "id": "bored-india",
   "metadata": {},
   "outputs": [
    {
     "data": {
      "text/html": [
       "<div>\n",
       "<style scoped>\n",
       "    .dataframe tbody tr th:only-of-type {\n",
       "        vertical-align: middle;\n",
       "    }\n",
       "\n",
       "    .dataframe tbody tr th {\n",
       "        vertical-align: top;\n",
       "    }\n",
       "\n",
       "    .dataframe thead th {\n",
       "        text-align: right;\n",
       "    }\n",
       "</style>\n",
       "<table border=\"1\" class=\"dataframe\">\n",
       "  <thead>\n",
       "    <tr style=\"text-align: right;\">\n",
       "      <th></th>\n",
       "      <th>Country</th>\n",
       "      <th>Life Expectancy</th>\n",
       "      <th>GDP</th>\n",
       "    </tr>\n",
       "  </thead>\n",
       "  <tbody>\n",
       "    <tr>\n",
       "      <th>0</th>\n",
       "      <td>Afghanistan</td>\n",
       "      <td>58.19375</td>\n",
       "      <td>340.015425</td>\n",
       "    </tr>\n",
       "    <tr>\n",
       "      <th>1</th>\n",
       "      <td>Albania</td>\n",
       "      <td>75.15625</td>\n",
       "      <td>2119.726679</td>\n",
       "    </tr>\n",
       "    <tr>\n",
       "      <th>2</th>\n",
       "      <td>Algeria</td>\n",
       "      <td>73.61875</td>\n",
       "      <td>2847.853392</td>\n",
       "    </tr>\n",
       "    <tr>\n",
       "      <th>3</th>\n",
       "      <td>Angola</td>\n",
       "      <td>49.01875</td>\n",
       "      <td>1975.143045</td>\n",
       "    </tr>\n",
       "    <tr>\n",
       "      <th>6</th>\n",
       "      <td>Armenia</td>\n",
       "      <td>73.40000</td>\n",
       "      <td>1999.986318</td>\n",
       "    </tr>\n",
       "  </tbody>\n",
       "</table>\n",
       "</div>"
      ],
      "text/plain": [
       "       Country  Life Expectancy          GDP\n",
       "0  Afghanistan         58.19375   340.015425\n",
       "1      Albania         75.15625  2119.726679\n",
       "2      Algeria         73.61875  2847.853392\n",
       "3       Angola         49.01875  1975.143045\n",
       "6      Armenia         73.40000  1999.986318"
      ]
     },
     "metadata": {},
     "output_type": "display_data"
    },
    {
     "data": {
      "text/html": [
       "<div>\n",
       "<style scoped>\n",
       "    .dataframe tbody tr th:only-of-type {\n",
       "        vertical-align: middle;\n",
       "    }\n",
       "\n",
       "    .dataframe tbody tr th {\n",
       "        vertical-align: top;\n",
       "    }\n",
       "\n",
       "    .dataframe thead th {\n",
       "        text-align: right;\n",
       "    }\n",
       "</style>\n",
       "<table border=\"1\" class=\"dataframe\">\n",
       "  <thead>\n",
       "    <tr style=\"text-align: right;\">\n",
       "      <th></th>\n",
       "      <th>Country</th>\n",
       "      <th>Life Expectancy</th>\n",
       "      <th>GDP</th>\n",
       "    </tr>\n",
       "  </thead>\n",
       "  <tbody>\n",
       "    <tr>\n",
       "      <th>4</th>\n",
       "      <td>Antigua and Barbuda</td>\n",
       "      <td>75.05625</td>\n",
       "      <td>9759.305728</td>\n",
       "    </tr>\n",
       "    <tr>\n",
       "      <th>5</th>\n",
       "      <td>Argentina</td>\n",
       "      <td>75.15625</td>\n",
       "      <td>6998.575103</td>\n",
       "    </tr>\n",
       "    <tr>\n",
       "      <th>7</th>\n",
       "      <td>Australia</td>\n",
       "      <td>81.81250</td>\n",
       "      <td>34637.565047</td>\n",
       "    </tr>\n",
       "    <tr>\n",
       "      <th>8</th>\n",
       "      <td>Austria</td>\n",
       "      <td>81.48125</td>\n",
       "      <td>33827.476309</td>\n",
       "    </tr>\n",
       "    <tr>\n",
       "      <th>9</th>\n",
       "      <td>Azerbaijan</td>\n",
       "      <td>70.73125</td>\n",
       "      <td>3302.947807</td>\n",
       "    </tr>\n",
       "  </tbody>\n",
       "</table>\n",
       "</div>"
      ],
      "text/plain": [
       "               Country  Life Expectancy           GDP\n",
       "4  Antigua and Barbuda         75.05625   9759.305728\n",
       "5            Argentina         75.15625   6998.575103\n",
       "7            Australia         81.81250  34637.565047\n",
       "8              Austria         81.48125  33827.476309\n",
       "9           Azerbaijan         70.73125   3302.947807"
      ]
     },
     "metadata": {},
     "output_type": "display_data"
    }
   ],
   "source": [
    "low_gdp = data[data['GDP'] <= median_gdp]\n",
    "high_gdp = data[data['GDP'] > median_gdp]\n",
    "\n",
    "display(low_gdp.head(5),high_gdp.head(5))"
   ]
  },
  {
   "cell_type": "markdown",
   "id": "center-integer",
   "metadata": {},
   "source": [
    "4. **Find the quartiles of the \"Life Expectancy\" column of `low_gdp` and `high_gdp`**"
   ]
  },
  {
   "cell_type": "code",
   "execution_count": 104,
   "id": "worse-genius",
   "metadata": {},
   "outputs": [
    {
     "name": "stdout",
     "output_type": "stream",
     "text": [
      "Quarters of Low Life Expectancy by GPD: [56.3375   65.110625 71.7375  ] \n",
      "Quarters of High Life Expectancy by GPD : [72.965625 75.716875 80.521875]\n"
     ]
    }
   ],
   "source": [
    "low_gdp_quartiles = np.quantile(low_gdp[\"Life Expectancy\"], quartiles)\n",
    "high_gdp_quartiles = np.quantile(high_gdp[\"Life Expectancy\"], quartiles)\n",
    "print(f\"Quarters of Low Life Expectancy by GPD: {low_gdp_quartiles} \\nQuarters of High Life Expectancy by GPD : {high_gdp_quartiles}\")"
   ]
  },
  {
   "cell_type": "markdown",
   "id": "integrated-paintball",
   "metadata": {},
   "source": [
    "***\n",
    "## Histogram and Conclusions"
   ]
  },
  {
   "cell_type": "markdown",
   "id": "physical-reunion",
   "metadata": {},
   "source": [
    "By looking at the quantiles, you should get a sense of the spread and central tendency of these two datasets. But let’s plot a histogram of each dataset to really compare them."
   ]
  },
  {
   "cell_type": "code",
   "execution_count": 105,
   "id": "shared-desktop",
   "metadata": {},
   "outputs": [
    {
     "data": {
      "image/png": "[encoded data removed]",
      "text/plain": [
       "<Figure size 432x288 with 1 Axes>"
      ]
     },
     "metadata": {
      "needs_background": "light"
     },
     "output_type": "display_data"
    }
   ],
   "source": [
    "plt.hist(high_gdp[\"Life Expectancy\"], alpha = 0.5, label = \"High GDP\")\n",
    "plt.hist(low_gdp[\"Life Expectancy\"], alpha = 0.5, label = \"Low GDP\")\n",
    "plt.legend()\n",
    "plt.show()"
   ]
  },
  {
   "cell_type": "markdown",
   "id": "conservative-supply",
   "metadata": {},
   "source": [
    "*We can now truly see the impact GDP has on life expectancy.*"
   ]
  },
  {
   "cell_type": "markdown",
   "id": "unlikely-prayer",
   "metadata": {},
   "source": [
    "**Once again, consider a country that has a life expectancy of 70 years. If that country is in the top half of GDP countries, is it in the first, second, third, or fourth quarter of the data with respect to life expectancy? What if the country is in the bottom half of GDP countries?**\n",
    "\n",
    "**Answer:**  \n",
    "`70` is below the first quartile of the high GDP dataset, so it falls in the first quarter of that dataset.<br>\n",
    "`70` is between the second and third quartile of the low GDP dataset, so it falls in the third quarter."
   ]
  }
 ],
 "metadata": {
  "kernelspec": {
   "display_name": "Python 3",
   "language": "python",
   "name": "python3"
  },
  "language_info": {
   "codemirror_mode": {
    "name": "ipython",
    "version": 3
   },
   "file_extension": ".py",
   "mimetype": "text/x-python",
   "name": "python",
   "nbconvert_exporter": "python",
   "pygments_lexer": "ipython3",
   "version": "3.8.5"
  }
 },
 "nbformat": 4,
 "nbformat_minor": 5
}
