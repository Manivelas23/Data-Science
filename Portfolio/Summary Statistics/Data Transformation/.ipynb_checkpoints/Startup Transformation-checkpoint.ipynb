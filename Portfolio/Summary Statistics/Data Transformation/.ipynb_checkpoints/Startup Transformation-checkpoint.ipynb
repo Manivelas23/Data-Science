{
 "cells": [
  {
   "cell_type": "markdown",
   "id": "7dc027f5",
   "metadata": {},
   "source": [
    "# Startup Transformation\n",
    "In this project, you’ll work as a data analyst for a tech startup that is looking to improve its operations after a global pandemic has taken the world by storm.\n",
    "\n",
    "You will apply data transformation techniques to make better sense of the company’s data and help answer important questions such as:\n",
    "\n",
    "* Is the company in good financial health?\n",
    "* Does the company need to let go of any employees?\n",
    "* Should the company allow employees to work from home permanently?"
   ]
  },
  {
   "cell_type": "markdown",
   "id": "0caa8768",
   "metadata": {},
   "source": [
    "### Analyzing Revenue and Expenses\n",
    "\n",
    "1. The management team of the company you work for is concerned about the status of the company after a global pandemic.\n",
    "\n",
    "The CFO (Chief Financial Officer) asks you to perform some data analysis on the past six months of the company’s financial data, which has been loaded in the variable `financial_data`.\n",
    "\n",
    "First, examine the first few rows of the data using `print()` and `.head()`."
   ]
  },
  {
   "cell_type": "code",
   "execution_count": 42,
   "id": "694cfdca",
   "metadata": {},
   "outputs": [
    {
     "data": {
      "text/html": [
       "<div>\n",
       "<style scoped>\n",
       "    .dataframe tbody tr th:only-of-type {\n",
       "        vertical-align: middle;\n",
       "    }\n",
       "\n",
       "    .dataframe tbody tr th {\n",
       "        vertical-align: top;\n",
       "    }\n",
       "\n",
       "    .dataframe thead th {\n",
       "        text-align: right;\n",
       "    }\n",
       "</style>\n",
       "<table border=\"1\" class=\"dataframe\">\n",
       "  <thead>\n",
       "    <tr style=\"text-align: right;\">\n",
       "      <th></th>\n",
       "      <th>Month</th>\n",
       "      <th>Revenue</th>\n",
       "      <th>Expenses</th>\n",
       "    </tr>\n",
       "  </thead>\n",
       "  <tbody>\n",
       "    <tr>\n",
       "      <th>0</th>\n",
       "      <td>1</td>\n",
       "      <td>1420000</td>\n",
       "      <td>510000</td>\n",
       "    </tr>\n",
       "    <tr>\n",
       "      <th>1</th>\n",
       "      <td>2</td>\n",
       "      <td>1200000</td>\n",
       "      <td>532000</td>\n",
       "    </tr>\n",
       "    <tr>\n",
       "      <th>2</th>\n",
       "      <td>3</td>\n",
       "      <td>1050000</td>\n",
       "      <td>551000</td>\n",
       "    </tr>\n",
       "    <tr>\n",
       "      <th>3</th>\n",
       "      <td>4</td>\n",
       "      <td>920000</td>\n",
       "      <td>612000</td>\n",
       "    </tr>\n",
       "    <tr>\n",
       "      <th>4</th>\n",
       "      <td>5</td>\n",
       "      <td>807000</td>\n",
       "      <td>628000</td>\n",
       "    </tr>\n",
       "  </tbody>\n",
       "</table>\n",
       "</div>"
      ],
      "text/plain": [
       "   Month  Revenue  Expenses\n",
       "0      1  1420000    510000\n",
       "1      2  1200000    532000\n",
       "2      3  1050000    551000\n",
       "3      4   920000    612000\n",
       "4      5   807000    628000"
      ]
     },
     "metadata": {},
     "output_type": "display_data"
    }
   ],
   "source": [
    "from sklearn import preprocessing\n",
    "import matplotlib.pyplot as plt\n",
    "import pandas as pd\n",
    "import seaborn as sns\n",
    "import numpy as np\n",
    "\n",
    "# load in financial data\n",
    "financial_data = pd.read_csv('financial_data.csv')\n",
    "\n",
    "# code goes here\n",
    "\n",
    "#exercise 1\n",
    "display(financial_data.head())\n",
    "\n"
   ]
  },
  {
   "cell_type": "markdown",
   "id": "f21d9d9f",
   "metadata": {},
   "source": [
    "2. Notice that `financial_data` has three columns – `Month, Revenue, and Expenses`.\n",
    "\n",
    "Store each column in three separate variables called `month`, `revenue`, and `expenses`."
   ]
  },
  {
   "cell_type": "code",
   "execution_count": 43,
   "id": "c50b33cd",
   "metadata": {},
   "outputs": [],
   "source": [
    "#exercise 2\n",
    "month = financial_data.Month\n",
    "revenue = financial_data.Revenue\n",
    "expenses = financial_data.Expenses"
   ]
  },
  {
   "cell_type": "markdown",
   "id": "2b7645a0",
   "metadata": {},
   "source": [
    "3. Next, use the following code to create a plot of revenue over the past six months:\n",
    "```python\n",
    "plt.plot(month,revenue)\n",
    "plt.show()\n",
    "```"
   ]
  },
  {
   "cell_type": "code",
   "execution_count": 44,
   "id": "d0616618",
   "metadata": {},
   "outputs": [
    {
     "data": {
      "image/png": "[encoded data removed]",
      "text/plain": [
       "<Figure size 432x288 with 1 Axes>"
      ]
     },
     "metadata": {
      "needs_background": "light"
     },
     "output_type": "display_data"
    }
   ],
   "source": [
    "#exercise 3\n",
    "plt.plot(month,revenue)\n",
    "plt.xlabel('Month')\n",
    "plt.ylabel('Amount ($)')\n",
    "plt.title('Revenue')\n",
    "plt.show()"
   ]
  },
  {
   "cell_type": "markdown",
   "id": "690a35af",
   "metadata": {},
   "source": [
    "4. On the right, you should now see a plot of revenue over time. You can label and format the figure using the following functions:\n",
    "\n",
    "```python\n",
    "plt.xlabel('Month')\n",
    "plt.ylabel('Amount ($)')\n",
    "plt.title('Revenue')\n",
    "```\n",
    "\n",
    "These should be added before `plt.show()`. Add the labels to your plot."
   ]
  },
  {
   "cell_type": "markdown",
   "id": "4d16f15e",
   "metadata": {},
   "source": [
    "5. Repeat steps 3 and 4 for monthly expenses. In other words, create a second plot of monthly expenses over the past 6 months. Note that you’ll need to use the function `plot.clf()` prior to creating this new plot. Otherwise, it will be plotted on-top of the revenue plot. The code should look something like this:\n",
    "```python\n",
    "plt.clf()\n",
    "#insert code to create plot here\n",
    "#add labels to the plot here\n",
    "plt.show()\n",
    "```\n",
    "\n",
    "How are monthly expenses changing over time?"
   ]
  },
  {
   "cell_type": "code",
   "execution_count": 45,
   "id": "a0cc0eab",
   "metadata": {},
   "outputs": [
    {
     "data": {
      "image/png": "[encoded data removed]",
      "text/plain": [
       "<Figure size 432x288 with 1 Axes>"
      ]
     },
     "metadata": {
      "needs_background": "light"
     },
     "output_type": "display_data"
    }
   ],
   "source": [
    "#exercise 5\n",
    "plt.clf()\n",
    "plt.plot(month,expenses)\n",
    "plt.xlabel('Month')\n",
    "plt.ylabel('Amount ($)')\n",
    "plt.title('Expenses')\n",
    "plt.show()"
   ]
  },
  {
   "cell_type": "markdown",
   "id": "f36c01dc",
   "metadata": {},
   "source": [
    "6.  As shown, revenue seems to be quickly decreasing while expenses are increasing. If the current trend continues, expenses will soon surpass revenues, putting the company at risk.\n",
    "\n",
    "After you show this chart to the management team, they are alarmed. They conclude that expenses must be cut immediately and give you a new file to analyze called `expenses.csv`.\n",
    "\n",
    "Use pandas to read in expenses.csv and store it in a variable called `expense_overview`.\n",
    "\n",
    "Print the first seven rows of the data."
   ]
  },
  {
   "cell_type": "code",
   "execution_count": 46,
   "id": "5715199e",
   "metadata": {
    "scrolled": true
   },
   "outputs": [
    {
     "data": {
      "text/html": [
       "<div>\n",
       "<style scoped>\n",
       "    .dataframe tbody tr th:only-of-type {\n",
       "        vertical-align: middle;\n",
       "    }\n",
       "\n",
       "    .dataframe tbody tr th {\n",
       "        vertical-align: top;\n",
       "    }\n",
       "\n",
       "    .dataframe thead th {\n",
       "        text-align: right;\n",
       "    }\n",
       "</style>\n",
       "<table border=\"1\" class=\"dataframe\">\n",
       "  <thead>\n",
       "    <tr style=\"text-align: right;\">\n",
       "      <th></th>\n",
       "      <th>Expense</th>\n",
       "      <th>Proportion</th>\n",
       "    </tr>\n",
       "  </thead>\n",
       "  <tbody>\n",
       "    <tr>\n",
       "      <th>0</th>\n",
       "      <td>Salaries</td>\n",
       "      <td>0.62</td>\n",
       "    </tr>\n",
       "    <tr>\n",
       "      <th>1</th>\n",
       "      <td>Advertising</td>\n",
       "      <td>0.15</td>\n",
       "    </tr>\n",
       "    <tr>\n",
       "      <th>2</th>\n",
       "      <td>Office Rent</td>\n",
       "      <td>0.15</td>\n",
       "    </tr>\n",
       "    <tr>\n",
       "      <th>3</th>\n",
       "      <td>Equipment</td>\n",
       "      <td>0.03</td>\n",
       "    </tr>\n",
       "    <tr>\n",
       "      <th>4</th>\n",
       "      <td>Utilities</td>\n",
       "      <td>0.03</td>\n",
       "    </tr>\n",
       "  </tbody>\n",
       "</table>\n",
       "</div>"
      ],
      "text/plain": [
       "       Expense  Proportion\n",
       "0     Salaries        0.62\n",
       "1  Advertising        0.15\n",
       "2  Office Rent        0.15\n",
       "3    Equipment        0.03\n",
       "4    Utilities        0.03"
      ]
     },
     "metadata": {},
     "output_type": "display_data"
    }
   ],
   "source": [
    "#exercise 6\n",
    "expense_overview = pd.read_csv('expenses.csv')\n",
    "display(expense_overview.head())"
   ]
  },
  {
   "cell_type": "markdown",
   "id": "f4e49d1a",
   "metadata": {},
   "source": [
    "***\n",
    "### Analyzing Revenue and Expenses\n",
    "7. Notice that there are two columns:\n",
    "\n",
    "* Expense: indicates the expense category\n",
    "* Proportion: indicates how much of the overall expenses a specific category takes up\n",
    "\n",
    "Store the Expense column in a variable called `expense_categories` and the `Proportion` column in a variable called `proportions`."
   ]
  },
  {
   "cell_type": "code",
   "execution_count": 47,
   "id": "cfa760f6",
   "metadata": {},
   "outputs": [],
   "source": [
    "#exercise 7 \n",
    "expense_categories = expense_overview.Expense\n",
    "proportions = expense_overview.Proportion"
   ]
  },
  {
   "cell_type": "markdown",
   "id": "a2a1ce3f",
   "metadata": {},
   "source": [
    "8. Next, we want to create a pie chart of the different expense categories. Use `plt.clf()` again to clear the previous plot, then create a pie chart using the `plt.pie()` method, passing in two arguments:\n",
    "\n",
    "* `proportions`\n",
    "* `labels = expense_categories`\n",
    "\n",
    "Give your pie chart a title using `plt.title()`, then use `plt.show()` at the end to show the plot.\n",
    "\n",
    "9. Notice that the pie chart currently looks deformed.\n",
    "\n",
    "Above plt.show(), add in the following two lines of code to set the axis and adjust the spacing:\n",
    "\n",
    "```python\n",
    "plt.axis('Equal')\n",
    "plt.tight_layout()\n",
    "```\n",
    "\n",
    "Take a moment to look at the pie chart. Which expense categories make up most of the data, and which ones aren’t so significant?"
   ]
  },
  {
   "cell_type": "code",
   "execution_count": 48,
   "id": "64f0f1c6",
   "metadata": {
    "scrolled": false
   },
   "outputs": [
    {
     "name": "stderr",
     "output_type": "stream",
     "text": [
      "<ipython-input-48-67baee0b9ffc>:3: MatplotlibDeprecationWarning: normalize=None does not normalize if the sum is less than 1 but this behavior is deprecated since 3.3 until two minor releases later. After the deprecation period the default value will be normalize=True. To prevent normalization pass normalize=False \n",
      "  plt.pie(proportions, labels = expense_categories)\n"
     ]
    },
    {
     "data": {
      "image/png": "[encoded data removed]",
      "text/plain": [
       "<Figure size 432x288 with 1 Axes>"
      ]
     },
     "metadata": {},
     "output_type": "display_data"
    }
   ],
   "source": [
    "#exercise 8 and 9\n",
    "plt.clf()\n",
    "plt.pie(proportions, labels = expense_categories)\n",
    "plt.title('Expenses Proportions')\n",
    "plt.axis('Equal')\n",
    "plt.tight_layout()\n",
    "plt.show()"
   ]
  },
  {
   "cell_type": "markdown",
   "id": "ac6e9aa7",
   "metadata": {},
   "source": [
    "10. It seems that `Salaries`, `Advertising`, and `Office Rent` make up most of the expenses, while the rest of the categories make up a small percentage.\n",
    "\n",
    "Before you hand this pie chart back to management, you would like to update the pie chart so that all categories making up less than 5% of the overall expenses (Equipment, Utilities, Supplies, and Food) are collapsed into an “Other” category.\n",
    "\n",
    "Update the pie chart accordingly."
   ]
  },
  {
   "cell_type": "code",
   "execution_count": 49,
   "id": "95eeff2b",
   "metadata": {},
   "outputs": [
    {
     "name": "stderr",
     "output_type": "stream",
     "text": [
      "<ipython-input-49-adab5ac33173>:5: MatplotlibDeprecationWarning: normalize=None does not normalize if the sum is less than 1 but this behavior is deprecated since 3.3 until two minor releases later. After the deprecation period the default value will be normalize=True. To prevent normalization pass normalize=False \n",
      "  plt.pie(proportions, labels = expense_categories)\n"
     ]
    },
    {
     "data": {
      "image/png": "[encoded data removed]",
      "text/plain": [
       "<Figure size 432x288 with 1 Axes>"
      ]
     },
     "metadata": {},
     "output_type": "display_data"
    }
   ],
   "source": [
    "#exercise 10 \n",
    "expense_categories = ['Salaries', 'Advertising', 'Office Rent', 'Other']\n",
    "proportions = [0.62, 0.15, 0.15, 0.08]\n",
    "plt.clf()\n",
    "plt.pie(proportions, labels = expense_categories)\n",
    "plt.title('Expense Categories')\n",
    "plt.axis('Equal')\n",
    "plt.tight_layout()\n",
    "plt.show()"
   ]
  },
  {
   "cell_type": "markdown",
   "id": "726e75cb",
   "metadata": {},
   "source": [
    "11. You should now see four categories in your updated pie chart:\n",
    "\n",
    "* Salaries\n",
    "* Advertising\n",
    "* Office Rent\n",
    "* Other\n",
    "\n",
    "This simplified pie chart helps the management team see a big picture view of the company’s expenses without getting distracted by noisy data."
   ]
  },
  {
   "cell_type": "markdown",
   "id": "6b3bf646",
   "metadata": {},
   "source": [
    "***\n",
    "### Employee Productivity\n",
    "12. Salaries make up 62% of expenses. The management team determines that to cut costs in a meaningful way, they must let go of some employees.\n",
    "\n",
    "Each employee at the company is assigned a productivity score based on their work. The management would like to keep the most highly productive employees and let go of the least productive employees.\n",
    "\n",
    "First, use pandas to load in `employees.csv` and store it in a variable called `employees`.\n",
    "\n",
    "Print the first few rows of the data."
   ]
  },
  {
   "cell_type": "code",
   "execution_count": 50,
   "id": "a90fe401",
   "metadata": {
    "scrolled": true
   },
   "outputs": [
    {
     "data": {
      "text/html": [
       "<div>\n",
       "<style scoped>\n",
       "    .dataframe tbody tr th:only-of-type {\n",
       "        vertical-align: middle;\n",
       "    }\n",
       "\n",
       "    .dataframe tbody tr th {\n",
       "        vertical-align: top;\n",
       "    }\n",
       "\n",
       "    .dataframe thead th {\n",
       "        text-align: right;\n",
       "    }\n",
       "</style>\n",
       "<table border=\"1\" class=\"dataframe\">\n",
       "  <thead>\n",
       "    <tr style=\"text-align: right;\">\n",
       "      <th></th>\n",
       "      <th>Name</th>\n",
       "      <th>Salary</th>\n",
       "      <th>Productivity</th>\n",
       "      <th>Commute Time</th>\n",
       "    </tr>\n",
       "  </thead>\n",
       "  <tbody>\n",
       "    <tr>\n",
       "      <th>0</th>\n",
       "      <td>Mason Pender</td>\n",
       "      <td>87902</td>\n",
       "      <td>29.91</td>\n",
       "      <td>16.79</td>\n",
       "    </tr>\n",
       "    <tr>\n",
       "      <th>1</th>\n",
       "      <td>Mia Rew</td>\n",
       "      <td>95672</td>\n",
       "      <td>49.91</td>\n",
       "      <td>44.48</td>\n",
       "    </tr>\n",
       "    <tr>\n",
       "      <th>2</th>\n",
       "      <td>Jalisa Kroenke</td>\n",
       "      <td>177864</td>\n",
       "      <td>78.00</td>\n",
       "      <td>19.40</td>\n",
       "    </tr>\n",
       "    <tr>\n",
       "      <th>3</th>\n",
       "      <td>Krystal Homeyer</td>\n",
       "      <td>186643</td>\n",
       "      <td>24.36</td>\n",
       "      <td>42.06</td>\n",
       "    </tr>\n",
       "    <tr>\n",
       "      <th>4</th>\n",
       "      <td>Kiana Wishart</td>\n",
       "      <td>167148</td>\n",
       "      <td>4.08</td>\n",
       "      <td>25.58</td>\n",
       "    </tr>\n",
       "  </tbody>\n",
       "</table>\n",
       "</div>"
      ],
      "text/plain": [
       "                Name  Salary  Productivity  Commute Time\n",
       "0     Mason Pender     87902         29.91         16.79\n",
       "1          Mia Rew     95672         49.91         44.48\n",
       "2   Jalisa Kroenke    177864         78.00         19.40\n",
       "3  Krystal Homeyer    186643         24.36         42.06\n",
       "4    Kiana Wishart    167148          4.08         25.58"
      ]
     },
     "metadata": {},
     "output_type": "display_data"
    }
   ],
   "source": [
    "#exercise 12 \n",
    "employees = pd.read_csv('employees.csv')\n",
    "display(employees.head())"
   ]
  },
  {
   "cell_type": "markdown",
   "id": "0819a726",
   "metadata": {},
   "source": [
    "13. Notice that there is a Productivity column, which indicates the productivity score assigned to that employee.\n",
    "\n",
    "Sort the employees data frame (in ascending order) by the Productivity column and store the result in a variable called `sorted_productivity`.\n",
    "\n",
    "To sort a data frame, you can do the following:\n",
    "\n",
    "```python\n",
    "sorted_data = dataframe_name.sort_values(by=['Column Name'])\n",
    "```\n",
    "\n",
    "Print `sorted_productivity`."
   ]
  },
  {
   "cell_type": "code",
   "execution_count": 51,
   "id": "314cab76",
   "metadata": {
    "scrolled": true
   },
   "outputs": [
    {
     "data": {
      "text/html": [
       "<div>\n",
       "<style scoped>\n",
       "    .dataframe tbody tr th:only-of-type {\n",
       "        vertical-align: middle;\n",
       "    }\n",
       "\n",
       "    .dataframe tbody tr th {\n",
       "        vertical-align: top;\n",
       "    }\n",
       "\n",
       "    .dataframe thead th {\n",
       "        text-align: right;\n",
       "    }\n",
       "</style>\n",
       "<table border=\"1\" class=\"dataframe\">\n",
       "  <thead>\n",
       "    <tr style=\"text-align: right;\">\n",
       "      <th></th>\n",
       "      <th>Name</th>\n",
       "      <th>Salary</th>\n",
       "      <th>Productivity</th>\n",
       "      <th>Commute Time</th>\n",
       "    </tr>\n",
       "  </thead>\n",
       "  <tbody>\n",
       "    <tr>\n",
       "      <th>259</th>\n",
       "      <td>Wilber Rye</td>\n",
       "      <td>111647</td>\n",
       "      <td>0.06</td>\n",
       "      <td>49.42</td>\n",
       "    </tr>\n",
       "    <tr>\n",
       "      <th>92</th>\n",
       "      <td>Fredric Gandee</td>\n",
       "      <td>154469</td>\n",
       "      <td>0.24</td>\n",
       "      <td>22.48</td>\n",
       "    </tr>\n",
       "    <tr>\n",
       "      <th>252</th>\n",
       "      <td>Johnson Fordham</td>\n",
       "      <td>168684</td>\n",
       "      <td>1.46</td>\n",
       "      <td>22.39</td>\n",
       "    </tr>\n",
       "    <tr>\n",
       "      <th>178</th>\n",
       "      <td>Lilia Lemoine</td>\n",
       "      <td>167579</td>\n",
       "      <td>1.67</td>\n",
       "      <td>27.36</td>\n",
       "    </tr>\n",
       "    <tr>\n",
       "      <th>162</th>\n",
       "      <td>Hilma Laughton</td>\n",
       "      <td>85506</td>\n",
       "      <td>1.79</td>\n",
       "      <td>36.41</td>\n",
       "    </tr>\n",
       "    <tr>\n",
       "      <th>...</th>\n",
       "      <td>...</td>\n",
       "      <td>...</td>\n",
       "      <td>...</td>\n",
       "      <td>...</td>\n",
       "    </tr>\n",
       "    <tr>\n",
       "      <th>164</th>\n",
       "      <td>Miki Hartle</td>\n",
       "      <td>50856</td>\n",
       "      <td>99.54</td>\n",
       "      <td>31.39</td>\n",
       "    </tr>\n",
       "    <tr>\n",
       "      <th>88</th>\n",
       "      <td>Darell Nau</td>\n",
       "      <td>30530</td>\n",
       "      <td>99.63</td>\n",
       "      <td>44.25</td>\n",
       "    </tr>\n",
       "    <tr>\n",
       "      <th>23</th>\n",
       "      <td>Joaquina Neece</td>\n",
       "      <td>95562</td>\n",
       "      <td>99.66</td>\n",
       "      <td>48.65</td>\n",
       "    </tr>\n",
       "    <tr>\n",
       "      <th>202</th>\n",
       "      <td>Janae Officer</td>\n",
       "      <td>110139</td>\n",
       "      <td>99.69</td>\n",
       "      <td>15.45</td>\n",
       "    </tr>\n",
       "    <tr>\n",
       "      <th>6</th>\n",
       "      <td>Jacinta Dunford</td>\n",
       "      <td>130968</td>\n",
       "      <td>99.98</td>\n",
       "      <td>44.53</td>\n",
       "    </tr>\n",
       "  </tbody>\n",
       "</table>\n",
       "<p>300 rows × 4 columns</p>\n",
       "</div>"
      ],
      "text/plain": [
       "                  Name  Salary  Productivity  Commute Time\n",
       "259       Wilber Rye    111647          0.06         49.42\n",
       "92    Fredric Gandee    154469          0.24         22.48\n",
       "252  Johnson Fordham    168684          1.46         22.39\n",
       "178    Lilia Lemoine    167579          1.67         27.36\n",
       "162   Hilma Laughton     85506          1.79         36.41\n",
       "..                 ...     ...           ...           ...\n",
       "164      Miki Hartle     50856         99.54         31.39\n",
       "88        Darell Nau     30530         99.63         44.25\n",
       "23    Joaquina Neece     95562         99.66         48.65\n",
       "202    Janae Officer    110139         99.69         15.45\n",
       "6    Jacinta Dunford    130968         99.98         44.53\n",
       "\n",
       "[300 rows x 4 columns]"
      ]
     },
     "metadata": {},
     "output_type": "display_data"
    }
   ],
   "source": [
    "#exercise 13\n",
    "sorted_productivity = employees.sort_values(by=['Productivity'])\n",
    "display(sorted_productivity)"
   ]
  },
  {
   "cell_type": "markdown",
   "id": "87418db5",
   "metadata": {},
   "source": [
    "14. You should now see the employees with the lowest productivity scores at the top of the data frame.\n",
    "\n",
    "The company decides to let go of the 100 least productive employees.\n",
    "\n",
    "Store the first 100 rows of `sorted_productivity` in a new variable called `employees_cut` and print out the result.\n",
    "\n",
    "Unfortunately, this batch of employees won’t be so lucky."
   ]
  },
  {
   "cell_type": "code",
   "execution_count": 52,
   "id": "8bba0fcb",
   "metadata": {},
   "outputs": [],
   "source": [
    "#exercise 14\n",
    "employees_cut = sorted_productivity.head(100)"
   ]
  },
  {
   "cell_type": "markdown",
   "id": "a7d96ce8",
   "metadata": {},
   "source": [
    "15. Your colleague Sarah, a data scientist at the company, would like to explore the relationship between `Income` and `Productivity` more in depth, but she points out that these two features are on vastly different scales.\n",
    "\n",
    "For example, productivity is a feature that ranges from 0-100, but income is measured in the thousands of dollars.\n",
    "\n",
    "Moreover, there are outliers in the data that add an additional layer of complexity.\n",
    "\n",
    "She asks you for advice on how she should transform the data. Should she perform normalization, standardization, log transformation, or something else?\n",
    "\n",
    "Put your answer in a string in a variable called `transformation`."
   ]
  },
  {
   "cell_type": "code",
   "execution_count": 53,
   "id": "7b2cf837",
   "metadata": {},
   "outputs": [],
   "source": [
    "#exercise 15\n",
    "transformation = 'standardization'"
   ]
  },
  {
   "cell_type": "markdown",
   "id": "37237162",
   "metadata": {},
   "source": [
    "### Commute Times and Log Transformation\n",
    "\n",
    "\n",
    "16. The COO (Chief Operating Officer) is debating whether to allow employees to continue to work from home post-pandemic.\n",
    "\n",
    "He first wants to take a look at roughly how long the average commute time is for employees at the company. He asks for your help to analyze this data.\n",
    "\n",
    "The `employees` data frame has a column called `Commute` Time that stores the commute time (in minutes) for each employee.\n",
    "\n",
    "Create a variable called `commute_times` that stores the `Commute Time` column."
   ]
  },
  {
   "cell_type": "code",
   "execution_count": 54,
   "id": "26ed58f7",
   "metadata": {},
   "outputs": [],
   "source": [
    "#exercise 16 and 19\n",
    "commute_times = employees['Commute Time']\n",
    "commute_times_log = np.log(commute_times)"
   ]
  },
  {
   "cell_type": "markdown",
   "id": "3be7ae6a",
   "metadata": {},
   "source": [
    "17. Let’s do some quick analysis on the commute times of employees.\n",
    "\n",
    "Use `print()` and `.describe()` to print out descriptive statistics for `commute_times`.\n",
    "\n",
    "What are the average and median commute times? Might it be worth it for the company to explore allowing remote work indefinitely so employees can save time during the day?"
   ]
  },
  {
   "cell_type": "code",
   "execution_count": 55,
   "id": "24b92997",
   "metadata": {},
   "outputs": [
    {
     "name": "stdout",
     "output_type": "stream",
     "text": [
      "count    300.000000\n",
      "mean      33.441700\n",
      "std       16.128369\n",
      "min        3.220000\n",
      "25%       21.667500\n",
      "50%       31.060000\n",
      "75%       42.190000\n",
      "max      101.780000\n",
      "Name: Commute Time, dtype: float64\n"
     ]
    }
   ],
   "source": [
    "#exercise 17\n",
    "print(commute_times.describe())"
   ]
  },
  {
   "cell_type": "markdown",
   "id": "022d1343",
   "metadata": {},
   "source": [
    "18. Let’s explore the shape of the commute time data using a histogram.\n",
    "\n",
    "First, use `plt.clf()` to clear the previous plots. Then use `plt.hist()` to plot the histogram of `commute_times`. Finally, use `plt.show()` to show the plot. Feel free to add labels above `plt.show()` if you would like to practice!\n",
    "\n",
    "What do you notice about the shape of the data? Is it symmetric, left skewed, or right skewed?"
   ]
  },
  {
   "cell_type": "code",
   "execution_count": 56,
   "id": "066e4c88",
   "metadata": {},
   "outputs": [
    {
     "data": {
      "image/png": "[encoded data removed]",
      "text/plain": [
       "<Figure size 432x288 with 1 Axes>"
      ]
     },
     "metadata": {
      "needs_background": "light"
     },
     "output_type": "display_data"
    }
   ],
   "source": [
    "#exercise 18\n",
    "plt.clf()\n",
    "plt.hist(commute_times)\n",
    "plt.show() "
   ]
  },
  {
   "cell_type": "markdown",
   "id": "2c58fcd4",
   "metadata": {},
   "source": [
    "19. The data seems to be skewed to the right. To make it more symmetrical, we might try applying a log transformation.\n",
    "\n",
    "Right under the `commute_times` variable, create a variable called `commute_times_log` that stores a log-transformed version of `commute_times`.\n",
    "\n",
    "To apply log-transform, you can use numpy’s `log()` function."
   ]
  },
  {
   "cell_type": "markdown",
   "id": "56072e0f",
   "metadata": {},
   "source": [
    "20. Replace the histogram for `commute_times` with one for `commute_times_log`.\n",
    "\n",
    "Notice how the shape of the data changes from being right skewed to a more symmetrical (and even slightly left-skewed) in shape. After applying log transformation, the transformed data is more “normal” than before."
   ]
  },
  {
   "cell_type": "code",
   "execution_count": 57,
   "id": "9fbd7bf4",
   "metadata": {},
   "outputs": [
    {
     "data": {
      "image/png": "[encoded data removed]",
      "text/plain": [
       "<Figure size 432x288 with 1 Axes>"
      ]
     },
     "metadata": {
      "needs_background": "light"
     },
     "output_type": "display_data"
    }
   ],
   "source": [
    "\n",
    "#exercise 20\n",
    "plt.clf()\n",
    "plt.hist(commute_times_log)\n",
    "plt.show() \n"
   ]
  }
 ],
 "metadata": {
  "kernelspec": {
   "display_name": "Python 3",
   "language": "python",
   "name": "python3"
  },
  "language_info": {
   "codemirror_mode": {
    "name": "ipython",
    "version": 3
   },
   "file_extension": ".py",
   "mimetype": "text/x-python",
   "name": "python",
   "nbconvert_exporter": "python",
   "pygments_lexer": "ipython3",
   "version": "3.9.5"
  }
 },
 "nbformat": 4,
 "nbformat_minor": 5
}
