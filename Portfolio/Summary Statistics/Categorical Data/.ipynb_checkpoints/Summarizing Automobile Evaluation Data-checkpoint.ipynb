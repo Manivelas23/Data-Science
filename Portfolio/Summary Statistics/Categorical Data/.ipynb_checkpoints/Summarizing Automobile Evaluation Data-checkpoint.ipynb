{
 "cells": [
  {
   "cell_type": "markdown",
   "id": "greenhouse-championship",
   "metadata": {},
   "source": [
    "# Summarizing Automobile Evaluation Data"
   ]
  },
  {
   "cell_type": "markdown",
   "id": "increased-aside",
   "metadata": {},
   "source": [
    "This dataset contains information on the cost and physical attributes of several thousand cars. Originally, this dataset was used for to train a classification model that assigned an acceptability score/category to cars based on these attributes.\n",
    "\n",
    "The car evaluation dataset has been sourced from the UCI Machine Learning Repository and has been slightly modified for this project. Specifically, one additional field manufacturer_country has been simulated for illustrative purposes. You can read more about the details, features, and original uses of this dataset in research on the [ UCI data description page.](https://archive.ics.uci.edu/ml/datasets/car+evaluation).\n",
    "***"
   ]
  },
  {
   "cell_type": "markdown",
   "id": "mediterranean-drain",
   "metadata": {},
   "source": [
    "## Importing the modules"
   ]
  },
  {
   "cell_type": "code",
   "execution_count": 77,
   "id": "million-alloy",
   "metadata": {},
   "outputs": [],
   "source": [
    "import pandas as pd \n",
    "import numpy as np"
   ]
  },
  {
   "cell_type": "markdown",
   "id": "funky-spyware",
   "metadata": {},
   "source": [
    "## Quick look at the data"
   ]
  },
  {
   "cell_type": "code",
   "execution_count": 78,
   "id": "extraordinary-longitude",
   "metadata": {},
   "outputs": [
    {
     "data": {
      "text/html": [
       "<div>\n",
       "<style scoped>\n",
       "    .dataframe tbody tr th:only-of-type {\n",
       "        vertical-align: middle;\n",
       "    }\n",
       "\n",
       "    .dataframe tbody tr th {\n",
       "        vertical-align: top;\n",
       "    }\n",
       "\n",
       "    .dataframe thead th {\n",
       "        text-align: right;\n",
       "    }\n",
       "</style>\n",
       "<table border=\"1\" class=\"dataframe\">\n",
       "  <thead>\n",
       "    <tr style=\"text-align: right;\">\n",
       "      <th></th>\n",
       "      <th>buying_cost</th>\n",
       "      <th>maintenance_cost</th>\n",
       "      <th>doors</th>\n",
       "      <th>capacity</th>\n",
       "      <th>luggage</th>\n",
       "      <th>safety</th>\n",
       "      <th>acceptability</th>\n",
       "      <th>manufacturer_country</th>\n",
       "    </tr>\n",
       "  </thead>\n",
       "  <tbody>\n",
       "    <tr>\n",
       "      <th>0</th>\n",
       "      <td>vhigh</td>\n",
       "      <td>low</td>\n",
       "      <td>4</td>\n",
       "      <td>4</td>\n",
       "      <td>small</td>\n",
       "      <td>med</td>\n",
       "      <td>unacc</td>\n",
       "      <td>China</td>\n",
       "    </tr>\n",
       "    <tr>\n",
       "      <th>1</th>\n",
       "      <td>vhigh</td>\n",
       "      <td>med</td>\n",
       "      <td>3</td>\n",
       "      <td>4</td>\n",
       "      <td>small</td>\n",
       "      <td>high</td>\n",
       "      <td>acc</td>\n",
       "      <td>France</td>\n",
       "    </tr>\n",
       "    <tr>\n",
       "      <th>2</th>\n",
       "      <td>med</td>\n",
       "      <td>high</td>\n",
       "      <td>3</td>\n",
       "      <td>2</td>\n",
       "      <td>med</td>\n",
       "      <td>high</td>\n",
       "      <td>unacc</td>\n",
       "      <td>United States</td>\n",
       "    </tr>\n",
       "    <tr>\n",
       "      <th>3</th>\n",
       "      <td>low</td>\n",
       "      <td>med</td>\n",
       "      <td>4</td>\n",
       "      <td>more</td>\n",
       "      <td>big</td>\n",
       "      <td>low</td>\n",
       "      <td>unacc</td>\n",
       "      <td>United States</td>\n",
       "    </tr>\n",
       "    <tr>\n",
       "      <th>4</th>\n",
       "      <td>low</td>\n",
       "      <td>high</td>\n",
       "      <td>2</td>\n",
       "      <td>more</td>\n",
       "      <td>med</td>\n",
       "      <td>high</td>\n",
       "      <td>acc</td>\n",
       "      <td>South Korea</td>\n",
       "    </tr>\n",
       "  </tbody>\n",
       "</table>\n",
       "</div>"
      ],
      "text/plain": [
       "  buying_cost maintenance_cost doors capacity luggage safety acceptability  \\\n",
       "0       vhigh              low     4        4   small    med         unacc   \n",
       "1       vhigh              med     3        4   small   high           acc   \n",
       "2         med             high     3        2     med   high         unacc   \n",
       "3         low              med     4     more     big    low         unacc   \n",
       "4         low             high     2     more     med   high           acc   \n",
       "\n",
       "  manufacturer_country  \n",
       "0                China  \n",
       "1               France  \n",
       "2        United States  \n",
       "3        United States  \n",
       "4          South Korea  "
      ]
     },
     "metadata": {},
     "output_type": "display_data"
    }
   ],
   "source": [
    "car_eval = pd.read_csv('car_eval_dataset.csv')\n",
    "display(car_eval.head())"
   ]
  },
  {
   "cell_type": "markdown",
   "id": "empirical-spectrum",
   "metadata": {},
   "source": [
    "## Summarizing Manufacturing Country"
   ]
  },
  {
   "cell_type": "markdown",
   "id": "express-poultry",
   "metadata": {},
   "source": [
    "1. **Create a table of frequencies of all the cars reviewed by manufacturer_country. What is the modal category? Which country appears 4th most frequently? Print out your results.**"
   ]
  },
  {
   "cell_type": "code",
   "execution_count": 79,
   "id": "neutral-hunger",
   "metadata": {
    "scrolled": true
   },
   "outputs": [
    {
     "data": {
      "text/plain": [
       "Japan            0.228\n",
       "Germany          0.218\n",
       "South Korea      0.159\n",
       "United States    0.138\n",
       "Italy            0.097\n",
       "France           0.087\n",
       "China            0.073\n",
       "Name: manufacturer_country, dtype: float64"
      ]
     },
     "metadata": {},
     "output_type": "display_data"
    },
    {
     "name": "stdout",
     "output_type": "stream",
     "text": [
      "The biggest manufacturer is: Japan\n"
     ]
    }
   ],
   "source": [
    "#frequency table\n",
    "manufacturer_country_table = car_eval.manufacturer_country.value_counts(normalize=True)\n",
    "display(manufacturer_country_table)\n",
    "\n",
    "#most frequent observations\n",
    "manufacturer_country_ind = car_eval.manufacturer_country.value_counts()\n",
    "\n",
    "#getting the biggest manufacter country\n",
    "biggest_manufacter_country = manufacturer_country_ind.index[0]\n",
    "print(\"The biggest manufacturer is: \" + str(biggest_manufacter_country))"
   ]
  },
  {
   "cell_type": "markdown",
   "id": "distributed-villa",
   "metadata": {},
   "source": [
    "2. **Calculate a table of proportions for countries that appear in manufacturer_country in the dataset. What percentage of cars were manufactured in Japan?**"
   ]
  },
  {
   "cell_type": "code",
   "execution_count": 80,
   "id": "angry-lottery",
   "metadata": {},
   "outputs": [
    {
     "name": "stdout",
     "output_type": "stream",
     "text": [
      "The percentage of cars manufactered in Japan is: 22.8%\n"
     ]
    }
   ],
   "source": [
    "#percentage of cars that were manufactured in Japan\n",
    "perc_manufactured_in_jp = manufacturer_country_table[0]*100\n",
    "print(\"The percentage of cars manufactered in Japan is: \" + str(perc_manufactured_in_jp) + \"%\")"
   ]
  },
  {
   "cell_type": "markdown",
   "id": "dynamic-direction",
   "metadata": {},
   "source": [
    "## Summarizing Buying Costs"
   ]
  },
  {
   "cell_type": "markdown",
   "id": "effective-withdrawal",
   "metadata": {},
   "source": [
    "3. **`buying_cost` is a categorical variable which describes the cost of buying any car in the dataset. Print out a list of the possible values for this variable.**"
   ]
  },
  {
   "cell_type": "code",
   "execution_count": 81,
   "id": "brief-alfred",
   "metadata": {
    "scrolled": true
   },
   "outputs": [
    {
     "name": "stdout",
     "output_type": "stream",
     "text": [
      "Random Possible Value: 763    high\n",
      "Name: buying_cost, dtype: object\n"
     ]
    }
   ],
   "source": [
    "possible_value = car_eval.buying_cost.sample()\n",
    "print(\"Random Possible Value: \" + str(possible_value))"
   ]
  },
  {
   "cell_type": "markdown",
   "id": "complex-violence",
   "metadata": {},
   "source": [
    "4. **`buying_cost` is an ordinal categorical variable, which means we can create an order associated with the values in the data and perform additional numeric operations on the variable. Create a new list, `buying_cost_categories`, that contains the unique values in `buying_cost`, ordered from lowest to highes**"
   ]
  },
  {
   "cell_type": "code",
   "execution_count": 82,
   "id": "fifty-treasury",
   "metadata": {
    "scrolled": true
   },
   "outputs": [
    {
     "name": "stdout",
     "output_type": "stream",
     "text": [
      "['vhigh' 'med' 'low' 'high']\n",
      "['low', 'med', 'high', 'vhigh']\n"
     ]
    }
   ],
   "source": [
    "buying_cost_categories = car_eval.buying_cost.unique()\n",
    "print(buying_cost_categories)\n",
    "\n",
    "#lists of buying costs ordered from lowest to highest \n",
    "buying_cost_categories = ['low','med','high', 'vhigh']\n",
    "print(buying_cost_categories)"
   ]
  },
  {
   "cell_type": "markdown",
   "id": "imperial-aging",
   "metadata": {},
   "source": [
    "5. **Convert `buying_cost` to type 'category' using the list you created in the previous exercise.**"
   ]
  },
  {
   "cell_type": "code",
   "execution_count": 83,
   "id": "palestinian-demographic",
   "metadata": {},
   "outputs": [
    {
     "name": "stdout",
     "output_type": "stream",
     "text": [
      "0      3\n",
      "1      3\n",
      "2      1\n",
      "3      0\n",
      "4      0\n",
      "      ..\n",
      "995    0\n",
      "996    0\n",
      "997    3\n",
      "998    0\n",
      "999    0\n",
      "Length: 1000, dtype: int8\n"
     ]
    }
   ],
   "source": [
    "car_eval['buying_cost'] = pd.Categorical(car_eval['buying_cost'],buying_cost_categories,ordered=True)\n",
    "print(car_eval['buying_cost'].cat.codes)"
   ]
  },
  {
   "cell_type": "markdown",
   "id": "considerable-capability",
   "metadata": {},
   "source": [
    "6. **Calculate the median category of the `buying_cost` variable and print the result.**"
   ]
  },
  {
   "cell_type": "code",
   "execution_count": 84,
   "id": "turned-impression",
   "metadata": {
    "scrolled": true
   },
   "outputs": [
    {
     "name": "stdout",
     "output_type": "stream",
     "text": [
      "1.0\n",
      "The median category for buying cost is: med\n"
     ]
    }
   ],
   "source": [
    "buying_cost_median_number = np.median(car_eval['buying_cost'].cat.codes)\n",
    "print(buying_cost_median_number)\n",
    "\n",
    "buying_cost_median = buying_cost_categories[int(buying_cost_median_number)]\n",
    "print('The median category for buying cost is: ' + str(buying_cost_median))"
   ]
  },
  {
   "cell_type": "markdown",
   "id": "buried-wealth",
   "metadata": {},
   "source": [
    "## Summarizing Luggage Capacity"
   ]
  },
  {
   "cell_type": "markdown",
   "id": "about-palace",
   "metadata": {},
   "source": [
    "7. **`luggage` is a categorical variable in the car evaluations dataset that records the luggage capacity for each reviewed car. Calculate a table of proportions for this variable and print the result.**"
   ]
  },
  {
   "cell_type": "code",
   "execution_count": 85,
   "id": "aware-hazard",
   "metadata": {},
   "outputs": [
    {
     "name": "stdout",
     "output_type": "stream",
     "text": [
      "small    0.339\n",
      "med      0.333\n",
      "big      0.328\n",
      "Name: luggage, dtype: float64\n"
     ]
    }
   ],
   "source": [
    "luggage_frequency = car_eval['luggage'].value_counts(normalize=True)\n",
    "print(luggage_frequency)"
   ]
  },
  {
   "cell_type": "markdown",
   "id": "lined-shanghai",
   "metadata": {},
   "source": [
    "8. **Are there any missing values in this column? Replicate the table of proportions from the previous exercise, but do not drop any missing values from the count. Print your result.**"
   ]
  },
  {
   "cell_type": "code",
   "execution_count": 86,
   "id": "necessary-pipeline",
   "metadata": {},
   "outputs": [
    {
     "name": "stdout",
     "output_type": "stream",
     "text": [
      "small    0.339\n",
      "med      0.333\n",
      "big      0.328\n",
      "Name: luggage, dtype: float64\n"
     ]
    }
   ],
   "source": [
    "luggage_frequency_missing_values = car_eval['luggage'].value_counts(normalize=True,dropna=False)\n",
    "print(luggage_frequency_missing_values)\n",
    "#no missing values because the result above is the same as this one"
   ]
  },
  {
   "cell_type": "markdown",
   "id": "supreme-opening",
   "metadata": {},
   "source": [
    "9. **Without passing `normalize = True` to `.value_counts()`, can you replicate the result you got in the previous exercises?**"
   ]
  },
  {
   "cell_type": "code",
   "execution_count": 87,
   "id": "popular-throw",
   "metadata": {
    "scrolled": true
   },
   "outputs": [
    {
     "name": "stdout",
     "output_type": "stream",
     "text": [
      "small    0.339\n",
      "med      0.333\n",
      "big      0.328\n",
      "Name: luggage, dtype: float64\n"
     ]
    }
   ],
   "source": [
    "luggage_frequency_manual = car_eval['luggage'].value_counts() / len(car_eval['luggage'])\n",
    "print(luggage_frequency_manual)"
   ]
  },
  {
   "cell_type": "markdown",
   "id": "tutorial-cooling",
   "metadata": {},
   "source": [
    "## Summarizing Passenger Capacity"
   ]
  },
  {
   "cell_type": "markdown",
   "id": "palestinian-cleveland",
   "metadata": {},
   "source": [
    "10. **`doors` is a categorical variable in the car evaluations dataset that records the count of doors for each reviewed car. Find the count of cars that have 5 or more doors. You can identify cars with 5+ doors by looking for cars that have a value of `'5more'` in the doors column. Print your result.**"
   ]
  },
  {
   "cell_type": "code",
   "execution_count": 88,
   "id": "available-amber",
   "metadata": {},
   "outputs": [
    {
     "name": "stdout",
     "output_type": "stream",
     "text": [
      "246\n"
     ]
    }
   ],
   "source": [
    "doors = (car_eval['doors'] == '5more').sum()\n",
    "print(doors)"
   ]
  },
  {
   "cell_type": "markdown",
   "id": "blank-artwork",
   "metadata": {},
   "source": [
    "11. **Find the proportion of cars that have 5+ doors and print the result.**"
   ]
  },
  {
   "cell_type": "code",
   "execution_count": 89,
   "id": "computational-rendering",
   "metadata": {},
   "outputs": [
    {
     "name": "stdout",
     "output_type": "stream",
     "text": [
      "0.246\n"
     ]
    }
   ],
   "source": [
    "more5_doors_car_proportion =  (car_eval['doors'] == '5more').mean()\n",
    "print(more5_doors_car_proportion)"
   ]
  }
 ],
 "metadata": {
  "kernelspec": {
   "display_name": "Python 3",
   "language": "python",
   "name": "python3"
  },
  "language_info": {
   "codemirror_mode": {
    "name": "ipython",
    "version": 3
   },
   "file_extension": ".py",
   "mimetype": "text/x-python",
   "name": "python",
   "nbconvert_exporter": "python",
   "pygments_lexer": "ipython3",
   "version": "3.8.5"
  }
 },
 "nbformat": 4,
 "nbformat_minor": 5
}
