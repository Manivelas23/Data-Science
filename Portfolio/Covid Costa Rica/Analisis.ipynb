{
 "cells": [
  {
   "cell_type": "markdown",
   "id": "strong-strand",
   "metadata": {},
   "source": [
    "# Análisis sobre la vacunación en Costa Rica\n",
    "*Autor: Franco Aguilar Jara*\n",
    "***"
   ]
  },
  {
   "cell_type": "markdown",
   "id": "baking-tennis",
   "metadata": {},
   "source": [
    "## Importando los Módulos y los Datos"
   ]
  },
  {
   "cell_type": "code",
   "execution_count": 1,
   "id": "chubby-mistake",
   "metadata": {},
   "outputs": [],
   "source": [
    "import pandas as pd\n",
    "import numpy as np \n",
    "import matplotlib.pyplot as plt\n",
    "import seaborn as sns"
   ]
  },
  {
   "cell_type": "code",
   "execution_count": 2,
   "id": "sized-longer",
   "metadata": {
    "scrolled": true
   },
   "outputs": [
    {
     "data": {
      "text/html": [
       "<div>\n",
       "<style scoped>\n",
       "    .dataframe tbody tr th:only-of-type {\n",
       "        vertical-align: middle;\n",
       "    }\n",
       "\n",
       "    .dataframe tbody tr th {\n",
       "        vertical-align: top;\n",
       "    }\n",
       "\n",
       "    .dataframe thead th {\n",
       "        text-align: right;\n",
       "    }\n",
       "</style>\n",
       "<table border=\"1\" class=\"dataframe\">\n",
       "  <thead>\n",
       "    <tr style=\"text-align: right;\">\n",
       "      <th></th>\n",
       "      <th>Etiquetas de fila</th>\n",
       "      <th>DV1 - Alajuela</th>\n",
       "      <th>DV2 - Alajuela</th>\n",
       "      <th>DV1 - Cartago</th>\n",
       "      <th>DV2 - Cartago</th>\n",
       "      <th>DV1 - Guanacaste</th>\n",
       "      <th>DV2 - Guanacaste</th>\n",
       "      <th>DV1 - Heredia</th>\n",
       "      <th>DV2 - Heredia</th>\n",
       "      <th>DV1 - Limon</th>\n",
       "      <th>DV2 - Limon</th>\n",
       "      <th>DV1 - PRIMER DOSIS VIDA</th>\n",
       "      <th>DV2 - SEGUNDA DOSIS VIDA</th>\n",
       "      <th>Unnamed: 13</th>\n",
       "      <th>DV1 - Puntarenas</th>\n",
       "      <th>DV2 - Puntarenas</th>\n",
       "      <th>DV1 - San Jose</th>\n",
       "      <th>DV2 - San Jose</th>\n",
       "      <th>Unnamed: 18</th>\n",
       "    </tr>\n",
       "  </thead>\n",
       "  <tbody>\n",
       "    <tr>\n",
       "      <th>0</th>\n",
       "      <td>ene</td>\n",
       "      <td>8159</td>\n",
       "      <td>1553</td>\n",
       "      <td>5048</td>\n",
       "      <td>1457</td>\n",
       "      <td>2632</td>\n",
       "      <td>96</td>\n",
       "      <td>5118</td>\n",
       "      <td>1378</td>\n",
       "      <td>794</td>\n",
       "      <td>106</td>\n",
       "      <td>519</td>\n",
       "      <td>227</td>\n",
       "      <td>746</td>\n",
       "      <td>3154</td>\n",
       "      <td>542</td>\n",
       "      <td>17312</td>\n",
       "      <td>7347</td>\n",
       "      <td>55442</td>\n",
       "    </tr>\n",
       "    <tr>\n",
       "      <th>1</th>\n",
       "      <td>feb</td>\n",
       "      <td>12068</td>\n",
       "      <td>6756</td>\n",
       "      <td>8517</td>\n",
       "      <td>3787</td>\n",
       "      <td>6653</td>\n",
       "      <td>2553</td>\n",
       "      <td>7207</td>\n",
       "      <td>3990</td>\n",
       "      <td>3364</td>\n",
       "      <td>1448</td>\n",
       "      <td>240</td>\n",
       "      <td>337</td>\n",
       "      <td>577</td>\n",
       "      <td>8396</td>\n",
       "      <td>3256</td>\n",
       "      <td>25203</td>\n",
       "      <td>11797</td>\n",
       "      <td>105572</td>\n",
       "    </tr>\n",
       "    <tr>\n",
       "      <th>2</th>\n",
       "      <td>mar</td>\n",
       "      <td>27721</td>\n",
       "      <td>29174</td>\n",
       "      <td>16685</td>\n",
       "      <td>20982</td>\n",
       "      <td>12266</td>\n",
       "      <td>13797</td>\n",
       "      <td>12670</td>\n",
       "      <td>15861</td>\n",
       "      <td>9937</td>\n",
       "      <td>7684</td>\n",
       "      <td>613</td>\n",
       "      <td>563</td>\n",
       "      <td>1176</td>\n",
       "      <td>18365</td>\n",
       "      <td>17303</td>\n",
       "      <td>54642</td>\n",
       "      <td>62549</td>\n",
       "      <td>320813</td>\n",
       "    </tr>\n",
       "    <tr>\n",
       "      <th>3</th>\n",
       "      <td>abr</td>\n",
       "      <td>18685</td>\n",
       "      <td>1827</td>\n",
       "      <td>9855</td>\n",
       "      <td>2212</td>\n",
       "      <td>5851</td>\n",
       "      <td>1426</td>\n",
       "      <td>8061</td>\n",
       "      <td>876</td>\n",
       "      <td>4833</td>\n",
       "      <td>1907</td>\n",
       "      <td>297</td>\n",
       "      <td>60</td>\n",
       "      <td>357</td>\n",
       "      <td>9701</td>\n",
       "      <td>1664</td>\n",
       "      <td>27231</td>\n",
       "      <td>7993</td>\n",
       "      <td>102479</td>\n",
       "    </tr>\n",
       "    <tr>\n",
       "      <th>4</th>\n",
       "      <td>total general</td>\n",
       "      <td>66633</td>\n",
       "      <td>39310</td>\n",
       "      <td>40105</td>\n",
       "      <td>28438</td>\n",
       "      <td>27402</td>\n",
       "      <td>17872</td>\n",
       "      <td>33056</td>\n",
       "      <td>22105</td>\n",
       "      <td>18928</td>\n",
       "      <td>11145</td>\n",
       "      <td>1669</td>\n",
       "      <td>1187</td>\n",
       "      <td>2856</td>\n",
       "      <td>39616</td>\n",
       "      <td>22765</td>\n",
       "      <td>124388</td>\n",
       "      <td>89686</td>\n",
       "      <td>584306</td>\n",
       "    </tr>\n",
       "  </tbody>\n",
       "</table>\n",
       "</div>"
      ],
      "text/plain": [
       "  Etiquetas de fila  DV1 - Alajuela  DV2 - Alajuela  DV1 - Cartago  \\\n",
       "0               ene            8159            1553           5048   \n",
       "1               feb           12068            6756           8517   \n",
       "2               mar           27721           29174          16685   \n",
       "3               abr           18685            1827           9855   \n",
       "4     total general           66633           39310          40105   \n",
       "\n",
       "   DV2 - Cartago  DV1 - Guanacaste  DV2 - Guanacaste  DV1 - Heredia  \\\n",
       "0           1457              2632                96           5118   \n",
       "1           3787              6653              2553           7207   \n",
       "2          20982             12266             13797          12670   \n",
       "3           2212              5851              1426           8061   \n",
       "4          28438             27402             17872          33056   \n",
       "\n",
       "   DV2 - Heredia  DV1 - Limon  DV2 - Limon  DV1 - PRIMER DOSIS VIDA  \\\n",
       "0           1378          794          106                      519   \n",
       "1           3990         3364         1448                      240   \n",
       "2          15861         9937         7684                      613   \n",
       "3            876         4833         1907                      297   \n",
       "4          22105        18928        11145                     1669   \n",
       "\n",
       "   DV2 - SEGUNDA DOSIS VIDA  Unnamed: 13  DV1 - Puntarenas  DV2 - Puntarenas  \\\n",
       "0                       227          746              3154               542   \n",
       "1                       337          577              8396              3256   \n",
       "2                       563         1176             18365             17303   \n",
       "3                        60          357              9701              1664   \n",
       "4                      1187         2856             39616             22765   \n",
       "\n",
       "   DV1 - San Jose  DV2 - San Jose  Unnamed: 18  \n",
       "0           17312            7347        55442  \n",
       "1           25203           11797       105572  \n",
       "2           54642           62549       320813  \n",
       "3           27231            7993       102479  \n",
       "4          124388           89686       584306  "
      ]
     },
     "execution_count": 2,
     "metadata": {},
     "output_type": "execute_result"
    }
   ],
   "source": [
    "df = pd.read_excel('primera2.xlsx')\n",
    "df.head()"
   ]
  },
  {
   "cell_type": "markdown",
   "id": "loaded-former",
   "metadata": {},
   "source": [
    "## Limpiando el DataFrame"
   ]
  },
  {
   "cell_type": "code",
   "execution_count": 3,
   "id": "smoking-teaching",
   "metadata": {
    "scrolled": true
   },
   "outputs": [
    {
     "data": {
      "text/html": [
       "<div>\n",
       "<style scoped>\n",
       "    .dataframe tbody tr th:only-of-type {\n",
       "        vertical-align: middle;\n",
       "    }\n",
       "\n",
       "    .dataframe tbody tr th {\n",
       "        vertical-align: top;\n",
       "    }\n",
       "\n",
       "    .dataframe thead th {\n",
       "        text-align: right;\n",
       "    }\n",
       "</style>\n",
       "<table border=\"1\" class=\"dataframe\">\n",
       "  <thead>\n",
       "    <tr style=\"text-align: right;\">\n",
       "      <th></th>\n",
       "      <th>Mes</th>\n",
       "      <th>DV1 - Alajuela</th>\n",
       "      <th>DV2 - Alajuela</th>\n",
       "      <th>DV1 - Cartago</th>\n",
       "      <th>DV2 - Cartago</th>\n",
       "      <th>DV1 - Guanacaste</th>\n",
       "      <th>DV2 - Guanacaste</th>\n",
       "      <th>DV1 - Heredia</th>\n",
       "      <th>DV2 - Heredia</th>\n",
       "      <th>DV1 - Limon</th>\n",
       "      <th>DV2 - Limon</th>\n",
       "      <th>DV1 - Puntarenas</th>\n",
       "      <th>DV2 - Puntarenas</th>\n",
       "      <th>DV1 - San Jose</th>\n",
       "      <th>DV2 - San Jose</th>\n",
       "    </tr>\n",
       "  </thead>\n",
       "  <tbody>\n",
       "    <tr>\n",
       "      <th>0</th>\n",
       "      <td>ene</td>\n",
       "      <td>8159</td>\n",
       "      <td>1553</td>\n",
       "      <td>5048</td>\n",
       "      <td>1457</td>\n",
       "      <td>2632</td>\n",
       "      <td>96</td>\n",
       "      <td>5118</td>\n",
       "      <td>1378</td>\n",
       "      <td>794</td>\n",
       "      <td>106</td>\n",
       "      <td>3154</td>\n",
       "      <td>542</td>\n",
       "      <td>17312</td>\n",
       "      <td>7347</td>\n",
       "    </tr>\n",
       "    <tr>\n",
       "      <th>1</th>\n",
       "      <td>feb</td>\n",
       "      <td>12068</td>\n",
       "      <td>6756</td>\n",
       "      <td>8517</td>\n",
       "      <td>3787</td>\n",
       "      <td>6653</td>\n",
       "      <td>2553</td>\n",
       "      <td>7207</td>\n",
       "      <td>3990</td>\n",
       "      <td>3364</td>\n",
       "      <td>1448</td>\n",
       "      <td>8396</td>\n",
       "      <td>3256</td>\n",
       "      <td>25203</td>\n",
       "      <td>11797</td>\n",
       "    </tr>\n",
       "    <tr>\n",
       "      <th>2</th>\n",
       "      <td>mar</td>\n",
       "      <td>27721</td>\n",
       "      <td>29174</td>\n",
       "      <td>16685</td>\n",
       "      <td>20982</td>\n",
       "      <td>12266</td>\n",
       "      <td>13797</td>\n",
       "      <td>12670</td>\n",
       "      <td>15861</td>\n",
       "      <td>9937</td>\n",
       "      <td>7684</td>\n",
       "      <td>18365</td>\n",
       "      <td>17303</td>\n",
       "      <td>54642</td>\n",
       "      <td>62549</td>\n",
       "    </tr>\n",
       "    <tr>\n",
       "      <th>3</th>\n",
       "      <td>abr</td>\n",
       "      <td>18685</td>\n",
       "      <td>1827</td>\n",
       "      <td>9855</td>\n",
       "      <td>2212</td>\n",
       "      <td>5851</td>\n",
       "      <td>1426</td>\n",
       "      <td>8061</td>\n",
       "      <td>876</td>\n",
       "      <td>4833</td>\n",
       "      <td>1907</td>\n",
       "      <td>9701</td>\n",
       "      <td>1664</td>\n",
       "      <td>27231</td>\n",
       "      <td>7993</td>\n",
       "    </tr>\n",
       "  </tbody>\n",
       "</table>\n",
       "</div>"
      ],
      "text/plain": [
       "   Mes  DV1 - Alajuela  DV2 - Alajuela  DV1 - Cartago  DV2 - Cartago  \\\n",
       "0  ene            8159            1553           5048           1457   \n",
       "1  feb           12068            6756           8517           3787   \n",
       "2  mar           27721           29174          16685          20982   \n",
       "3  abr           18685            1827           9855           2212   \n",
       "\n",
       "   DV1 - Guanacaste  DV2 - Guanacaste  DV1 - Heredia  DV2 - Heredia  \\\n",
       "0              2632                96           5118           1378   \n",
       "1              6653              2553           7207           3990   \n",
       "2             12266             13797          12670          15861   \n",
       "3              5851              1426           8061            876   \n",
       "\n",
       "   DV1 - Limon  DV2 - Limon  DV1 - Puntarenas  DV2 - Puntarenas  \\\n",
       "0          794          106              3154               542   \n",
       "1         3364         1448              8396              3256   \n",
       "2         9937         7684             18365             17303   \n",
       "3         4833         1907              9701              1664   \n",
       "\n",
       "   DV1 - San Jose  DV2 - San Jose  \n",
       "0           17312            7347  \n",
       "1           25203           11797  \n",
       "2           54642           62549  \n",
       "3           27231            7993  "
      ]
     },
     "metadata": {},
     "output_type": "display_data"
    }
   ],
   "source": [
    "df2 = df\n",
    "\n",
    "try:\n",
    "    #Eliminando Columnas basura\n",
    "    del df2['Unnamed: 13']\n",
    "    del df2['Unnamed: 18']\n",
    "    del df2['DV1 - PRIMER DOSIS VIDA']\n",
    "    del df2['DV2 - SEGUNDA DOSIS VIDA']\n",
    "    df2 = df2.drop(labels=4, axis=0)\n",
    "\n",
    "    #Renombrando Columnas\n",
    "    df2 = df2.rename(columns = {'Etiquetas de fila':'Mes'})\n",
    "    display(df2.head(20))\n",
    "except:\n",
    "    print(\"Corra nuevamente la celda :314\")"
   ]
  },
  {
   "cell_type": "markdown",
   "id": "atmospheric-enough",
   "metadata": {},
   "source": [
    "***\n",
    "## Datos de Vacunación Costa Rica \n",
    "***"
   ]
  },
  {
   "cell_type": "markdown",
   "id": "geographic-string",
   "metadata": {},
   "source": [
    "### Obteniendo los nombres de las provincias en las columnas"
   ]
  },
  {
   "cell_type": "code",
   "execution_count": 4,
   "id": "mounted-budapest",
   "metadata": {},
   "outputs": [],
   "source": [
    "columna_provincias = df2.columns[1:]\n",
    "provincias = [i.replace('DV1 - ', '').replace('DV2 - ', '') for i in columna_provincias]\n",
    "provincias = list(set(provincias))"
   ]
  },
  {
   "cell_type": "markdown",
   "id": "brilliant-belle",
   "metadata": {},
   "source": [
    "### Obteniendo los datos de la primera dosis por provincia para generar los gráficos y los totales"
   ]
  },
  {
   "cell_type": "code",
   "execution_count": 5,
   "id": "geological-glenn",
   "metadata": {
    "scrolled": false
   },
   "outputs": [],
   "source": [
    "try:\n",
    "    def datos_primera_dosis(provincias):\n",
    "        print(\"Total de primer(a) dosis aplicadas por provincia: \\n\")\n",
    "        for i in provincias:\n",
    "            provincia = df2[['Mes',f'DV1 - {i}']]\n",
    "            total_dosis_dv1 = df2[f'DV1 - {i}'].sum()\n",
    "\n",
    "            plt.plot(df2.Mes,df2[[f'DV1 - {i}']], alpha = 0.75, label = \"DV1\",markersize=5,linewidth=1)\n",
    "            plt.xlabel(\"Mes\")\n",
    "            plt.ylabel(\"Cantidad\")\n",
    "            print(f\"{i}: {df2[[f'DV1 - {i}']].values.sum()}\")\n",
    "\n",
    "        plt.legend(provincias[::1])\n",
    "        plt.tight_layout()\n",
    "        plt.show()\n",
    "except:\n",
    "    print(\"Ha ocurrido un error\")"
   ]
  },
  {
   "cell_type": "markdown",
   "id": "active-concert",
   "metadata": {},
   "source": [
    "### Obteniendo los datos de la segunda dosis por provincia para generar los gráficos y los totales"
   ]
  },
  {
   "cell_type": "code",
   "execution_count": 6,
   "id": "stone-tension",
   "metadata": {
    "scrolled": false
   },
   "outputs": [],
   "source": [
    "try:\n",
    "    def datos_segunda_dosis(provincias):\n",
    "        print(\"Total de segunda dosis aplicadas por provincia: \\n\")\n",
    "        for i in provincias:\n",
    "            provincia = df2[['Mes',f'DV2 - {i}']]\n",
    "            total_dosis_dv1 = df2[f'DV2 - {i}'].sum()\n",
    "\n",
    "            plt.plot(df2.Mes,df2[[f'DV2 - {i}']], alpha = 0.75, label = \"DV2\",markersize=5,linewidth=1)\n",
    "            plt.xlabel(\"Mes\")\n",
    "            plt.ylabel(\"Cantidad\")\n",
    "            print(f\"{i}: {df2[[f'DV2 - {i}']].values.sum()}\")\n",
    "\n",
    "        plt.legend(provincias[::1])\n",
    "        plt.tight_layout()\n",
    "        plt.show()\n",
    "except:\n",
    "    print(\"Ha ocurrido un error\")"
   ]
  },
  {
   "cell_type": "markdown",
   "id": "british-venice",
   "metadata": {},
   "source": [
    "***\n",
    "## Visualización de Datos\n",
    "***"
   ]
  },
  {
   "cell_type": "code",
   "execution_count": 7,
   "id": "paperback-vault",
   "metadata": {},
   "outputs": [
    {
     "name": "stdout",
     "output_type": "stream",
     "text": [
      "Total de primer(a) dosis aplicadas por provincia: \n",
      "\n",
      "Limon: 18928\n",
      "Puntarenas: 39616\n",
      "Alajuela: 66633\n",
      "Cartago: 40105\n",
      "Heredia: 33056\n",
      "Guanacaste: 27402\n",
      "San Jose: 124388\n"
     ]
    },
    {
     "data": {
      "image/png": "[encoded data removed]",
      "text/plain": [
       "<Figure size 432x288 with 1 Axes>"
      ]
     },
     "metadata": {
      "needs_background": "light"
     },
     "output_type": "display_data"
    },
    {
     "name": "stdout",
     "output_type": "stream",
     "text": [
      "Total de segunda dosis aplicadas por provincia: \n",
      "\n",
      "Limon: 11145\n",
      "Puntarenas: 22765\n",
      "Alajuela: 39310\n",
      "Cartago: 28438\n",
      "Heredia: 22105\n",
      "Guanacaste: 17872\n",
      "San Jose: 89686\n"
     ]
    },
    {
     "data": {
      "image/png": "[encoded data removed]",
      "text/plain": [
       "<Figure size 432x288 with 1 Axes>"
      ]
     },
     "metadata": {
      "needs_background": "light"
     },
     "output_type": "display_data"
    }
   ],
   "source": [
    "datos_primera_dosis(provincias)\n",
    "datos_segunda_dosis(provincias)"
   ]
  }
 ],
 "metadata": {
  "kernelspec": {
   "display_name": "Python 3",
   "language": "python",
   "name": "python3"
  },
  "language_info": {
   "codemirror_mode": {
    "name": "ipython",
    "version": 3
   },
   "file_extension": ".py",
   "mimetype": "text/x-python",
   "name": "python",
   "nbconvert_exporter": "python",
   "pygments_lexer": "ipython3",
   "version": "3.8.5"
  }
 },
 "nbformat": 4,
 "nbformat_minor": 5
}
