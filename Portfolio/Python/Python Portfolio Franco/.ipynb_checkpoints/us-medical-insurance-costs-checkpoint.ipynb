{
 "cells": [
  {
   "cell_type": "markdown",
   "metadata": {},
   "source": [
    "# U.S. Medical Insurance Costs\n",
    "\n",
    "In this project we will organize the information from insurance.csv by storing the data into variables that can be used for analysis. In this project, a **CSV** file with medical insurance costs will be investigated using Python fundamentals. The goal with this project will be to analyze various attributes within **insurance.csv** to learn more about the patient information in the file and gain insight into potential use cases for the dataset."
   ]
  },
  {
   "cell_type": "markdown",
   "metadata": {},
   "source": [
    "***\n",
    "## Modules\n",
    "\n",
    "To start, all necessary libraries must be imported"
   ]
  },
  {
   "cell_type": "code",
   "execution_count": 1,
   "metadata": {},
   "outputs": [],
   "source": [
    "import csv\n",
    "import matplotlib.pyplot as plt\n",
    "from IPython.display import Markdown as md"
   ]
  },
  {
   "cell_type": "markdown",
   "metadata": {},
   "source": [
    "***\n",
    "## Getting all the Data"
   ]
  },
  {
   "cell_type": "code",
   "execution_count": 2,
   "metadata": {},
   "outputs": [],
   "source": [
    "insurance_data = []\n",
    "with open('insurance.csv') as insurance_file:\n",
    "    data_dict = csv.DictReader(insurance_file)\n",
    "    for i in data_dict:\n",
    "        insurance_data.append(i)"
   ]
  },
  {
   "cell_type": "markdown",
   "metadata": {},
   "source": [
    "`insurance.csv` contains the following columns:\n",
    "* Patient Age\n",
    "* Patient Sex\n",
    "* Patient BMI\n",
    "* Patient Number of Children\n",
    "* Patient Smoking Status\n",
    "* Patient U.S Geopraphical Region\n",
    "* Patient Yearly Medical Insurance Cost\n",
    "\n",
    "**So we will be adding those columns into the different lists**"
   ]
  },
  {
   "cell_type": "code",
   "execution_count": 3,
   "metadata": {},
   "outputs": [],
   "source": [
    "ages = [int(i['age']) for i in insurance_data]\n",
    "sex = [i['sex'] for i in insurance_data]\n",
    "bmis = [float(i['bmi']) for i in insurance_data]\n",
    "children = [int(i['children']) for i in insurance_data]\n",
    "regions = [i['region'] for i in insurance_data]\n",
    "charges = [float(i['charges']) for i in insurance_data]\n",
    "smokers = [i['smoker']for i in insurance_data]"
   ]
  },
  {
   "cell_type": "markdown",
   "metadata": {},
   "source": [
    "Now that all the data from insurance.csv neatly organized into labeled lists, the analysis can be started. This is where one must plan out what to investigate and how to perform the analysis. There are many aspects of the data that could be looked into. The following operations will be implemented:\n",
    "\n",
    "* Find the amount of smokers and the percentage that they represent on the dataset\n",
    "* Find geographical location of the patients and their distribution\n",
    "* Return the number of males vs. females counted in the dataset\n",
    "* Return the max, min and average yearly medical charges of the patients\n",
    "* Return information about patient children\n",
    "* Return the amount of people with obesity by gender\n",
    "* Find the consecuences that having IBM values implies on the medical insurance cost.\n",
    "* Find average age of the patients\n"
   ]
  },
  {
   "cell_type": "markdown",
   "metadata": {},
   "source": [
    "***\n",
    "## Smokers Info"
   ]
  },
  {
   "cell_type": "markdown",
   "metadata": {},
   "source": [
    "### Amount of Smokers and Non-Smokers"
   ]
  },
  {
   "cell_type": "code",
   "execution_count": 4,
   "metadata": {
    "scrolled": true
   },
   "outputs": [
    {
     "data": {
      "text/markdown": [
       "\n",
       "The **total number** of smokers: **274**\n",
       "\n",
       "The **total number** of **non**-smokers: **1064**\n",
       "\n"
      ],
      "text/plain": [
       "<IPython.core.display.Markdown object>"
      ]
     },
     "execution_count": 4,
     "metadata": {},
     "output_type": "execute_result"
    }
   ],
   "source": [
    "smokers_list = []\n",
    "non_smokers_list = []\n",
    "\n",
    "for i in smokers:\n",
    "    if i == 'yes':\n",
    "        smokers_list.append(i)\n",
    "    else:\n",
    "        non_smokers_list.append(i)\n",
    "        \n",
    "total_smokers = len(smokers_list)\n",
    "total_non_smokers = len(non_smokers_list)\n",
    "\n",
    "md(f\"\"\"\n",
    "The **total number** of smokers: **{total_smokers}**\\n\n",
    "The **total number** of **non**-smokers: **{total_non_smokers}**\\n\n",
    "\"\"\") "
   ]
  },
  {
   "cell_type": "markdown",
   "metadata": {},
   "source": [
    "### Percentage of Smokers and Non-Smokers\n"
   ]
  },
  {
   "cell_type": "code",
   "execution_count": 5,
   "metadata": {
    "scrolled": false
   },
   "outputs": [
    {
     "data": {
      "image/png": "[encoded data removed]",
      "text/plain": [
       "<Figure size 432x288 with 1 Axes>"
      ]
     },
     "metadata": {},
     "output_type": "display_data"
    },
    {
     "data": {
      "text/markdown": [
       "\n",
       "**Smokers** percentage: **20.48%**\n",
       "\n",
       "**Non-Smokers** percentage: **79.52%**\n",
       "\n"
      ],
      "text/plain": [
       "<IPython.core.display.Markdown object>"
      ]
     },
     "execution_count": 5,
     "metadata": {},
     "output_type": "execute_result"
    }
   ],
   "source": [
    "smokers_percentage = round(((total_smokers/len(insurance_data))*100),2)\n",
    "non_smokers_percentage = round(((total_non_smokers/len(insurance_data))*100),2)\n",
    "\n",
    "labels = 'Smokers', 'Non-Smokers'\n",
    "sizes = [smokers_percentage, non_smokers_percentage]\n",
    "explode = (0, 0.1)  \n",
    "\n",
    "fig1, ax1 = plt.subplots()\n",
    "ax1.pie(sizes, explode=explode, labels=labels, autopct='%1.1f%%', shadow=True, startangle=90)\n",
    "ax1.axis('equal')  \n",
    "\n",
    "plt.show()\n",
    "\n",
    "md(f\"\"\"\n",
    "**Smokers** percentage: **{smokers_percentage}%**\\n\n",
    "**Non-Smokers** percentage: **{non_smokers_percentage}%**\\n\n",
    "\"\"\") "
   ]
  },
  {
   "cell_type": "markdown",
   "metadata": {},
   "source": [
    "***\n",
    "## Region Info"
   ]
  },
  {
   "cell_type": "markdown",
   "metadata": {},
   "source": [
    "### Population Percentage by Region"
   ]
  },
  {
   "cell_type": "code",
   "execution_count": 6,
   "metadata": {
    "scrolled": true
   },
   "outputs": [
    {
     "data": {
      "image/png": "[encoded data removed]",
      "text/plain": [
       "<Figure size 432x288 with 1 Axes>"
      ]
     },
     "metadata": {},
     "output_type": "display_data"
    },
    {
     "data": {
      "text/markdown": [
       "\n",
       "Total of residents in SouthWest: **325**\n",
       "\n",
       "Total of residents in SouthEast: **364**\n",
       "\n",
       "Total of residents in NorthWest: **325**\n",
       "\n",
       "Total of residents in NorthEast: **324**\n",
       "\n"
      ],
      "text/plain": [
       "<IPython.core.display.Markdown object>"
      ]
     },
     "execution_count": 6,
     "metadata": {},
     "output_type": "execute_result"
    }
   ],
   "source": [
    "def count_population(region_list):\n",
    "    setted_values = list(set(region_list))\n",
    "    my_dict = {}\n",
    "    for i in region_list:\n",
    "        if i not in my_dict and i in setted_values:\n",
    "            my_dict[i] = 1\n",
    "        else:\n",
    "             my_dict[i] += 1\n",
    "    return my_dict\n",
    "            \n",
    "population_by_region = count_population(regions)\n",
    "\n",
    "labels = 'SouthWest', 'SouthEast', 'NorthWest', 'NorthEast'\n",
    "sizes = [round(((population_by_region['southwest']/len(regions))*100),2), round(((population_by_region['southeast']/len(regions))*100),2),round(((population_by_region['northwest']/len(regions))*100),2),round(((population_by_region['northeast']/len(regions))*100),2)]\n",
    "explode = (0, 0, 0, 0)  \n",
    "\n",
    "fig1, ax1 = plt.subplots()\n",
    "ax1.pie(sizes, explode=explode, labels=labels, autopct='%1.1f%%', shadow=True, startangle=90)\n",
    "ax1.axis('equal')  \n",
    "\n",
    "plt.show()\n",
    "\n",
    "md(f\"\"\"\n",
    "Total of residents in SouthWest: **{population_by_region['southwest']}**\\n\n",
    "Total of residents in SouthEast: **{population_by_region['southeast']}**\\n\n",
    "Total of residents in NorthWest: **{population_by_region['northwest']}**\\n\n",
    "Total of residents in NorthEast: **{population_by_region['northeast']}**\\n\n",
    "\"\"\") "
   ]
  },
  {
   "cell_type": "markdown",
   "metadata": {},
   "source": [
    "***\n",
    "## Gender Info"
   ]
  },
  {
   "cell_type": "markdown",
   "metadata": {},
   "source": [
    "### Gender Distribution"
   ]
  },
  {
   "cell_type": "code",
   "execution_count": 7,
   "metadata": {},
   "outputs": [
    {
     "data": {
      "image/png": "[encoded data removed]",
      "text/plain": [
       "<Figure size 432x288 with 1 Axes>"
      ]
     },
     "metadata": {},
     "output_type": "display_data"
    },
    {
     "data": {
      "text/markdown": [
       "\n",
       "Total of **Females**: 662\n",
       "\n",
       "Total of **Males**: 676\n",
       "\n"
      ],
      "text/plain": [
       "<IPython.core.display.Markdown object>"
      ]
     },
     "execution_count": 7,
     "metadata": {},
     "output_type": "execute_result"
    }
   ],
   "source": [
    "males = 0\n",
    "females = 0 \n",
    "for i in sex:\n",
    "    if i == 'female':\n",
    "        females+=1\n",
    "    else:\n",
    "        males +=1 \n",
    "        \n",
    "md(f\"\"\"\n",
    "Total of **Females**: {females}\\n\n",
    "Total of **Males**: {males}\\n\n",
    "\"\"\") \n",
    "\n",
    "labels = 'Females', 'Males'\n",
    "sizes = [round(females/len(sex)*100,2),round(males/len(sex)*100,2)]\n",
    "explode = (0, 0)\n",
    "\n",
    "fig1, ax1 = plt.subplots()\n",
    "ax1.pie(sizes, explode=explode, labels=labels, autopct='%1.1f%%', shadow=True, startangle=90)\n",
    "ax1.axis('equal')  \n",
    "plt.show()\n",
    "\n",
    "md(f\"\"\"\n",
    "Total of **Females**: {females}\\n\n",
    "Total of **Males**: {males}\\n\n",
    "\"\"\") "
   ]
  },
  {
   "cell_type": "markdown",
   "metadata": {},
   "source": [
    "***\n",
    "## Charges Info"
   ]
  },
  {
   "cell_type": "markdown",
   "metadata": {},
   "source": [
    "### Ranges and Mean"
   ]
  },
  {
   "cell_type": "code",
   "execution_count": 8,
   "metadata": {},
   "outputs": [
    {
     "data": {
      "text/markdown": [
       "\n",
       "The **greatest amount of money** charged: **$63770.43**\n",
       "\n",
       "The **least amount of money** charged: **$1121.87**\n",
       "\n",
       "The **average charge** for and individual: **$13270.42**\n"
      ],
      "text/plain": [
       "<IPython.core.display.Markdown object>"
      ]
     },
     "execution_count": 8,
     "metadata": {},
     "output_type": "execute_result"
    }
   ],
   "source": [
    "max_charge = round(max(charges),2)\n",
    "min_charge = round(min(charges),2)\n",
    "total_charge = round(sum(charges),2)\n",
    "average_charge = round(total_charge/len(charges),2)\n",
    "\n",
    "md(f\"\"\"\n",
    "The **greatest amount of money** charged: **${max_charge}**\\n\n",
    "The **least amount of money** charged: **${min_charge}**\\n\n",
    "The **average charge** for and individual: **${average_charge}**\n",
    "\"\"\")"
   ]
  },
  {
   "cell_type": "markdown",
   "metadata": {},
   "source": [
    "***\n",
    "## Children Info"
   ]
  },
  {
   "cell_type": "markdown",
   "metadata": {},
   "source": [
    "### Ranges and Mean"
   ]
  },
  {
   "cell_type": "code",
   "execution_count": 9,
   "metadata": {},
   "outputs": [
    {
     "data": {
      "text/markdown": [
       "\n",
       "The **max** number of children that a person has: **5**\n",
       "\n",
       "The **min** number of children that a person has: **0**\n",
       "\n",
       "The **total amount** of children: **1465**\n",
       "\n",
       "The **average number** of children per person: **1** \n"
      ],
      "text/plain": [
       "<IPython.core.display.Markdown object>"
      ]
     },
     "execution_count": 9,
     "metadata": {},
     "output_type": "execute_result"
    }
   ],
   "source": [
    "max_children = round(max(children),2)\n",
    "min_child = round(min(children),2)\n",
    "total_children = round(sum(children),2)\n",
    "average_children = round(total_children/len(children))\n",
    "\n",
    "\n",
    "md(f\"\"\"\n",
    "The **max** number of children that a person has: **{max_children}**\\n\n",
    "The **min** number of children that a person has: **{min_child}**\\n\n",
    "The **total amount** of children: **{total_children}**\\n\n",
    "The **average number** of children per person: **{average_children}** \n",
    "\"\"\") \n"
   ]
  },
  {
   "cell_type": "markdown",
   "metadata": {},
   "source": [
    "***\n",
    "## BMI Info\n",
    "\n",
    "[What is BMI?](#What-is-BMI?)"
   ]
  },
  {
   "cell_type": "markdown",
   "metadata": {},
   "source": [
    "### Range and Mean"
   ]
  },
  {
   "cell_type": "code",
   "execution_count": 10,
   "metadata": {},
   "outputs": [
    {
     "data": {
      "text/markdown": [
       "\n",
       "The **max** BMI recorded by a person: **53.13 kg/m2** , **22.47 kg/m2** over the average BMI \n",
       "\n",
       "The **min** BMI recorded by a person: **15.96 kg/m2** , **14.7 kg/m2** under the average BMI \n",
       "\n",
       "\n",
       "The **average** BMI per person: **30.66 kg/m2** \n",
       " \n"
      ],
      "text/plain": [
       "<IPython.core.display.Markdown object>"
      ]
     },
     "execution_count": 10,
     "metadata": {},
     "output_type": "execute_result"
    }
   ],
   "source": [
    "max_bmi = round(max(bmis),2)\n",
    "min_bmi = round(min(bmis),2)\n",
    "total_bmi = round(sum(bmis),2)\n",
    "average_bmi = round(total_bmi/len(bmis),2)\n",
    "\n",
    "md(f\"\"\"\n",
    "The **max** BMI recorded by a person: **{max_bmi} kg/m2** , **{round(max_bmi-average_bmi,2)} kg/m2** over the average BMI \\n\n",
    "The **min** BMI recorded by a person: **{min_bmi} kg/m2** , **{round(average_bmi-min_bmi,2)} kg/m2** under the average BMI \\n\\n\n",
    "The **average** BMI per person: **{average_bmi} kg/m2** \\n \n",
    "\"\"\") "
   ]
  },
  {
   "cell_type": "markdown",
   "metadata": {},
   "source": [
    "### Charges by BMI"
   ]
  },
  {
   "cell_type": "code",
   "execution_count": 11,
   "metadata": {},
   "outputs": [
    {
     "ename": "NameError",
     "evalue": "name 'obese_people' is not defined",
     "output_type": "error",
     "traceback": [
      "\u001b[0;31m---------------------------------------------------------------------------\u001b[0m",
      "\u001b[0;31mNameError\u001b[0m                                 Traceback (most recent call last)",
      "\u001b[0;32m<ipython-input-11-90d79d9277c4>\u001b[0m in \u001b[0;36m<module>\u001b[0;34m\u001b[0m\n\u001b[1;32m      4\u001b[0m     \u001b[0;32mreturn\u001b[0m \u001b[0mround\u001b[0m\u001b[0;34m(\u001b[0m\u001b[0msum\u001b[0m\u001b[0;34m(\u001b[0m\u001b[0mobese_costs\u001b[0m\u001b[0;34m)\u001b[0m \u001b[0;34m/\u001b[0m \u001b[0mlen\u001b[0m\u001b[0;34m(\u001b[0m\u001b[0mobese_people\u001b[0m\u001b[0;34m)\u001b[0m\u001b[0;34m,\u001b[0m\u001b[0;36m2\u001b[0m\u001b[0;34m)\u001b[0m\u001b[0;34m,\u001b[0m \u001b[0mround\u001b[0m\u001b[0;34m(\u001b[0m\u001b[0msum\u001b[0m\u001b[0;34m(\u001b[0m\u001b[0mnon_obese_costs\u001b[0m\u001b[0;34m)\u001b[0m \u001b[0;34m/\u001b[0m \u001b[0mlen\u001b[0m\u001b[0;34m(\u001b[0m\u001b[0mnon_obese_people\u001b[0m\u001b[0;34m)\u001b[0m\u001b[0;34m,\u001b[0m\u001b[0;36m2\u001b[0m\u001b[0;34m)\u001b[0m\u001b[0;34m\u001b[0m\u001b[0;34m\u001b[0m\u001b[0m\n\u001b[1;32m      5\u001b[0m \u001b[0;34m\u001b[0m\u001b[0m\n\u001b[0;32m----> 6\u001b[0;31m \u001b[0mobese_average_cost\u001b[0m\u001b[0;34m,\u001b[0m\u001b[0mnon_obese_average_cost\u001b[0m \u001b[0;34m=\u001b[0m \u001b[0mobese_cost_comparison\u001b[0m\u001b[0;34m(\u001b[0m\u001b[0mobese_people\u001b[0m\u001b[0;34m,\u001b[0m\u001b[0mnon_obese_people\u001b[0m\u001b[0;34m)\u001b[0m\u001b[0;34m\u001b[0m\u001b[0;34m\u001b[0m\u001b[0m\n\u001b[0m\u001b[1;32m      7\u001b[0m \u001b[0;34m\u001b[0m\u001b[0m\n\u001b[1;32m      8\u001b[0m \u001b[0mobese_diff\u001b[0m \u001b[0;34m=\u001b[0m \u001b[0mobese_average_cost\u001b[0m \u001b[0;34m-\u001b[0m \u001b[0mnon_obese_average_cost\u001b[0m\u001b[0;34m\u001b[0m\u001b[0;34m\u001b[0m\u001b[0m\n",
      "\u001b[0;31mNameError\u001b[0m: name 'obese_people' is not defined"
     ]
    }
   ],
   "source": [
    "def obese_cost_comparison(obese_people,non_obese_people):   \n",
    "    obese_costs = [float(i['charges']) for i in obese_people]\n",
    "    non_obese_costs = [float(i['charges']) for i in non_obese_people]   \n",
    "    return round(sum(obese_costs) / len(obese_people),2), round(sum(non_obese_costs) / len(non_obese_people),2)\n",
    "\n",
    "obese_average_cost,non_obese_average_cost = obese_cost_comparison(obese_people,non_obese_people)\n",
    "\n",
    "obese_diff = obese_average_cost - non_obese_average_cost\n",
    "\n",
    "\n",
    "md(f\"\"\"\n",
    "The **average cost** for an obese person: **${obese_average_cost}**\\n\n",
    "The **average cost** for a non obese person: **${non_obese_average_cost}**\\n\n",
    "An obese person pays **${obese_diff}** more than a non obese person\n",
    "\"\"\") "
   ]
  },
  {
   "cell_type": "markdown",
   "metadata": {},
   "source": [
    "### Amount of people with obesity"
   ]
  },
  {
   "cell_type": "code",
   "execution_count": null,
   "metadata": {},
   "outputs": [],
   "source": [
    "obese_people = [i for i in insurance_data if float(i['bmi']) >= 30]\n",
    "non_obese_people = [i for i in insurance_data if float(i['bmi']) < 30]\n",
    "obese_men = [i for i in obese_people if i['sex'] == 'male']\n",
    "obese_women = [i for i in obese_people if i['sex'] == 'female']\n",
    "\n",
    "md(f\"\"\"\n",
    "Men with obesity: **{len(obese_men)}**\\n\n",
    "Women with obesity: **{len(obese_women)}**\\n\n",
    "\"\"\") \n",
    "\n"
   ]
  },
  {
   "cell_type": "markdown",
   "metadata": {},
   "source": [
    "### Obesity Percentage by Gender¶"
   ]
  },
  {
   "cell_type": "code",
   "execution_count": null,
   "metadata": {},
   "outputs": [],
   "source": [
    "labels = 'Obese Men', 'Obese Women'\n",
    "sizes = [round((len(obese_men)/len(insurance_data)*100),2),round((len(obese_women)/len(insurance_data)*100),2)]\n",
    "explode = (0, 0)\n",
    "\n",
    "fig1, ax1 = plt.subplots()\n",
    "ax1.pie(sizes, explode=explode, labels=labels, autopct='%1.1f%%', shadow=True, startangle=90)\n",
    "ax1.axis('equal')  \n",
    "\n",
    "plt.show()"
   ]
  },
  {
   "cell_type": "markdown",
   "metadata": {},
   "source": [
    "### Obese Smokers Percentage "
   ]
  },
  {
   "cell_type": "code",
   "execution_count": null,
   "metadata": {},
   "outputs": [],
   "source": [
    "obese_smokers = [i for i in obese_people if i['smoker'] == 'yes']\n",
    "non_obese_smokers = [i for i in obese_people if i['smoker'] == 'no']\n",
    "\n",
    "labels = 'Obese Smokers', 'Non Obese Smokers'\n",
    "sizes = [round((len(obese_smokers)/len(obese_people)*100),2),round((len(non_obese_smokers)/len(obese_people)*100),2)]\n",
    "explode = (0, 0)\n",
    "\n",
    "fig1, ax1 = plt.subplots()\n",
    "ax1.pie(sizes, explode=explode, labels=labels, autopct='%1.1f%%', shadow=True, startangle=90)\n",
    "ax1.axis('equal')\n",
    "\n",
    "plt.show()\n"
   ]
  },
  {
   "cell_type": "markdown",
   "metadata": {},
   "source": [
    "***\n",
    "## Ages Info"
   ]
  },
  {
   "cell_type": "markdown",
   "metadata": {},
   "source": [
    "### Ranges and Mean"
   ]
  },
  {
   "cell_type": "code",
   "execution_count": null,
   "metadata": {
    "scrolled": true
   },
   "outputs": [],
   "source": [
    "max_age = round(max(ages),2)\n",
    "min_age = round(min(ages),2)\n",
    "total_ages = round(sum(ages),2)\n",
    "average_age = round(total_ages/len(ages))\n",
    "\n",
    "md(f\"\"\"\n",
    "The **oldest** person is : **{max_age} years old**\\n\n",
    "The **youngest** person is: **{min_age} years old**\\n\n",
    "The **average age** person is: **{average_age} years old**\\n \n",
    "\"\"\") "
   ]
  },
  {
   "cell_type": "markdown",
   "metadata": {},
   "source": [
    "***\n",
    "## Annexes"
   ]
  },
  {
   "cell_type": "markdown",
   "metadata": {},
   "source": [
    "### What is BMI?\n",
    "\n",
    "Body mass index (BMI) is a value derived from the mass (weight) and height of a person. The BMI is defined as the body mass divided by the square of the body height, and is universally expressed in units of kg/m2, resulting from mass in kilograms and height in metres.\n"
   ]
  },
  {
   "cell_type": "markdown",
   "metadata": {},
   "source": [
    "<table class=\"wikitable\"><tbody><tr><th rowspan=\"2\">Category</th><th colspan=\"2\">BMI (kg/m<sup>2</sup>)</th><th colspan=\"2\">BMI Prime</th></tr><tr><th>from</th><th>to</th><th>from</th><th>to</th></tr><tr><td>Very severely underweight</td><td></td><td>15</td><td></td><td>0.60</td></tr><tr><td>Severely underweight</td><td>15</td><td>16</td><td>0.60</td><td>0.64</td></tr><tr><td>Underweight</td><td>16</td><td>18.5</td><td>0.64</td><td>0.74</td></tr><tr><td>Normal (healthy weight)</td><td>18.5</td><td>25</td><td>0.74</td><td>1.0</td></tr><tr><td>Overweight</td><td>25</td><td>30</td><td>1.0</td><td>1.2</td></tr><tr><td>Obese Class I (Moderately obese)</td><td>30</td><td>35</td><td>1.2</td><td>1.4</td></tr><tr><td>Obese Class II (Severely obese)</td><td>35</td><td>40</td><td>1.4</td><td>1.6</td></tr><tr><td>Obese Class III (Very severely obese)</td><td>40</td><td></td><td>1.6</td><td></td></tr></tbody></table>"
   ]
  }
 ],
 "metadata": {
  "kernelspec": {
   "display_name": "Python 3",
   "language": "python",
   "name": "python3"
  },
  "language_info": {
   "codemirror_mode": {
    "name": "ipython",
    "version": 3
   },
   "file_extension": ".py",
   "mimetype": "text/x-python",
   "name": "python",
   "nbconvert_exporter": "python",
   "pygments_lexer": "ipython3",
   "version": "3.8.5"
  },
  "toc": {
   "base_numbering": 1,
   "nav_menu": {},
   "number_sections": true,
   "sideBar": true,
   "skip_h1_title": false,
   "title_cell": "Table of Contents",
   "title_sidebar": "Contents",
   "toc_cell": false,
   "toc_position": {
    "height": "calc(100% - 180px)",
    "left": "10px",
    "top": "150px",
    "width": "165px"
   },
   "toc_section_display": true,
   "toc_window_display": true
  }
 },
 "nbformat": 4,
 "nbformat_minor": 4
}
