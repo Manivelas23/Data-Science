{
 "cells": [
  {
   "cell_type": "markdown",
   "id": "surgical-companion",
   "metadata": {},
   "source": [
    "<img src= http://www.mom.gov.sg/html/mom/images/branding/mom-logo-share-hd.png\n",
    "     width=\"500\">"
   ]
  },
  {
   "cell_type": "markdown",
   "id": "understood-seven",
   "metadata": {},
   "source": [
    "# List of acceptable institution"
   ]
  },
  {
   "cell_type": "markdown",
   "id": "legitimate-validity",
   "metadata": {},
   "source": [
    "In this notebook, we're going to use Selenium to scrap the website of the [Ministery of Manpower](https://www.mom.gov.sg) to get information about the List of acceptable institutions"
   ]
  },
  {
   "cell_type": "markdown",
   "id": "authorized-collectible",
   "metadata": {},
   "source": [
    "***\n",
    "## Setting the Chrome Driver for Colab and Importing the Modules "
   ]
  },
  {
   "cell_type": "code",
   "execution_count": null,
   "id": "behind-jurisdiction",
   "metadata": {},
   "outputs": [],
   "source": [
    "!pip install selenium\n",
    "!apt-get update \n",
    "!apt install chromium-chromedriver\n",
    "\n",
    "from selenium import webdriver\n",
    "chrome_options = webdriver.ChromeOptions()\n",
    "chrome_options.add_argument('--headless')\n",
    "chrome_options.add_argument('--no-sandbox')\n",
    "chrome_options.add_argument('--disable-dev-shm-usage')\n",
    "wd = webdriver.Chrome('chromedriver',chrome_options=chrome_options)\n",
    "driver =webdriver.Chrome('chromedriver',chrome_options=chrome_options)"
   ]
  },
  {
   "cell_type": "code",
   "execution_count": null,
   "id": "statutory-official",
   "metadata": {},
   "outputs": [],
   "source": [
    "from selenium import webdriver \n",
    "from selenium.webdriver.common.by import By\n",
    "from selenium.webdriver.support.ui import WebDriverWait\n",
    "from selenium.webdriver.support import expected_conditions as EC\n",
    "import pandas as pd \n",
    "import time"
   ]
  },
  {
   "cell_type": "markdown",
   "id": "polyphonic-polls",
   "metadata": {},
   "source": [
    "***\n",
    "## Scraping Code"
   ]
  },
  {
   "cell_type": "code",
   "execution_count": null,
   "id": "public-track",
   "metadata": {},
   "outputs": [],
   "source": [
    "programs = []\n",
    "url = 'https://www.mom.gov.sg/passes-and-permits/training-employment-pass/list-of-acceptable-institutions#/?page='"
   ]
  },
  {
   "cell_type": "code",
   "execution_count": null,
   "id": "assisted-current",
   "metadata": {},
   "outputs": [],
   "source": [
    "#driver.get(url)\n",
    "#skip_btn = driver.find_element_by_xpath('/html/body/div[1]/div[3]/a[1]')\n",
    "#skip_btn.click()\n",
    "\n",
    "link = driver.find_elements_by_xpath('.//*[@id=\"contentguide_0_documentcontent_0_DivCode\"]/div/div/div/table/tbody/tr/td/span/a')\n",
    "\n",
    "for i in range(1,17): \n",
    "    driver.get(url+ str(i)+ '&q=')\n",
    "    print(i)\n",
    "    try:\n",
    "        for ele in range(1,len(link)+1):  \n",
    "            print(ele)\n",
    "            \n",
    "            element = WebDriverWait(driver,10).until(\n",
    "            EC.presence_of_element_located((By.XPATH,'.//*[@id=\"contentguide_0_documentcontent_0_DivCode\"]/div/div/div/table/tbody/tr['+str(ele)+']/td[1]/span[2]/a'))\n",
    "            )\n",
    "            element.click()\n",
    "            \n",
    "            time.sleep(2)\n",
    "            driver.switch_to.default_content()\n",
    "            data = [item.text for item in driver.find_elements_by_class_name('db-app-item-content')\n",
    "                   ]\n",
    "            time.sleep(2)\n",
    "            program = {\n",
    "                'institutition':data[0],\n",
    "                'country': data[1]\n",
    "            }\n",
    "            \n",
    "            \n",
    "            print(program)\n",
    "            programs.append(program)\n",
    "            driver.back()\n",
    "    finally:\n",
    "        print(\"Error\")"
   ]
  },
  {
   "cell_type": "markdown",
   "id": "earlier-filling",
   "metadata": {},
   "source": [
    "***\n",
    "## Mounting the Google Drive to Export the data as a csv file"
   ]
  },
  {
   "cell_type": "code",
   "execution_count": null,
   "id": "palestinian-rover",
   "metadata": {},
   "outputs": [],
   "source": [
    "from google.colab import drive\n",
    "drive.mount('drive')"
   ]
  },
  {
   "cell_type": "code",
   "execution_count": null,
   "id": "institutional-billion",
   "metadata": {},
   "outputs": [],
   "source": [
    "df = pd.DataFrame(programs)"
   ]
  },
  {
   "cell_type": "code",
   "execution_count": null,
   "id": "favorite-montreal",
   "metadata": {},
   "outputs": [],
   "source": [
    "df.to_csv('data.csv')\n",
    "!cp data.csv \"drive/My Drive/\""
   ]
  }
 ],
 "metadata": {
  "kernelspec": {
   "display_name": "Python 3",
   "language": "python",
   "name": "python3"
  },
  "language_info": {
   "codemirror_mode": {
    "name": "ipython",
    "version": 3
   },
   "file_extension": ".py",
   "mimetype": "text/x-python",
   "name": "python",
   "nbconvert_exporter": "python",
   "pygments_lexer": "ipython3",
   "version": "3.8.5"
  }
 },
 "nbformat": 4,
 "nbformat_minor": 5
}
