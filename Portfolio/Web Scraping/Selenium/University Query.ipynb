{
 "cells": [
  {
   "cell_type": "markdown",
   "id": "potential-sampling",
   "metadata": {},
   "source": [
    "<img src= http://www.mom.gov.sg/html/mom/images/branding/mom-logo-share-hd.png\n",
    "     width=\"500\">"
   ]
  },
  {
   "cell_type": "markdown",
   "id": "flying-complexity",
   "metadata": {},
   "source": [
    "# List of acceptable institutions"
   ]
  },
  {
   "cell_type": "markdown",
   "id": "unknown-fiber",
   "metadata": {},
   "source": [
    "In this notebook you will be able to query the University/Institution by their location **(country)**"
   ]
  },
  {
   "cell_type": "markdown",
   "id": "focused-cable",
   "metadata": {},
   "source": [
    "***\n",
    "## Data Manipulation Section"
   ]
  },
  {
   "cell_type": "markdown",
   "id": "optical-hopkins",
   "metadata": {},
   "source": [
    "### Importing the modules "
   ]
  },
  {
   "cell_type": "code",
   "execution_count": 1,
   "id": "extensive-structure",
   "metadata": {},
   "outputs": [],
   "source": [
    "import pandas as pd\n",
    "import numpy as np\n",
    "from IPython.display import Markdown as md"
   ]
  },
  {
   "cell_type": "markdown",
   "id": "dried-recommendation",
   "metadata": {},
   "source": [
    "### Reading the csv"
   ]
  },
  {
   "cell_type": "code",
   "execution_count": 2,
   "id": "indoor-imperial",
   "metadata": {},
   "outputs": [],
   "source": [
    "df = pd.read_csv(\"data.csv\")"
   ]
  },
  {
   "cell_type": "markdown",
   "id": "solar-samuel",
   "metadata": {},
   "source": [
    "### Renaming the Columns and Cleaning the Data"
   ]
  },
  {
   "cell_type": "code",
   "execution_count": 3,
   "id": "artificial-accessory",
   "metadata": {
    "scrolled": true
   },
   "outputs": [],
   "source": [
    "df = df.rename(columns={\"Unnamed: 0\":\"id\",\"institutition\": \"Institution\", \"country\": \"Country\"})\n",
    "df = df.drop(\"id\",axis=1)"
   ]
  },
  {
   "cell_type": "markdown",
   "id": "virgin-ontario",
   "metadata": {},
   "source": [
    "### Grouping the Data by Country"
   ]
  },
  {
   "cell_type": "code",
   "execution_count": 4,
   "id": "educated-parameter",
   "metadata": {
    "scrolled": false
   },
   "outputs": [],
   "source": [
    "df_grouped_by_country = df.groupby(['Country','Institution']).count()"
   ]
  },
  {
   "cell_type": "markdown",
   "id": "identified-spyware",
   "metadata": {},
   "source": [
    "### Getting the Countries Availables in the Data"
   ]
  },
  {
   "cell_type": "code",
   "execution_count": 5,
   "id": "independent-hartford",
   "metadata": {},
   "outputs": [],
   "source": [
    "available_countries = df.Country.unique()"
   ]
  },
  {
   "cell_type": "markdown",
   "id": "endless-sentence",
   "metadata": {},
   "source": [
    "***\n",
    "## Query Section"
   ]
  },
  {
   "cell_type": "markdown",
   "id": "valued-texas",
   "metadata": {},
   "source": [
    "Below a list of the available countries is shown, either copy and paste the country name in the input box or write down the **EXACT** name of the country."
   ]
  },
  {
   "cell_type": "code",
   "execution_count": 6,
   "id": "informal-praise",
   "metadata": {},
   "outputs": [
    {
     "data": {
      "text/markdown": [
       "Countries: ['Denmark' 'Germany' 'Japan' 'Philippines' 'United Kingdom' 'China'\n",
       " 'Israel' 'United States of America' 'Canada' 'Australia' 'Singapore'\n",
       " 'Hong Kong' 'Korea' 'Thailand' 'Indonesia' 'France' 'Switzerland'\n",
       " 'Netherlands' 'Spain' 'India' 'Austria' 'Russia' 'Taiwan' 'Ireland'\n",
       " 'Italy' 'Brazil' 'Belgium' 'Sweden' 'Norway' 'Malaysia' 'New Zealand'\n",
       " 'Finland']"
      ],
      "text/plain": [
       "<IPython.core.display.Markdown object>"
      ]
     },
     "execution_count": 6,
     "metadata": {},
     "output_type": "execute_result"
    }
   ],
   "source": [
    "md(f\"Countries: {available_countries}\")"
   ]
  },
  {
   "cell_type": "markdown",
   "id": "creative-skating",
   "metadata": {},
   "source": [
    "**Query Input**"
   ]
  },
  {
   "cell_type": "code",
   "execution_count": 7,
   "id": "dietary-blair",
   "metadata": {},
   "outputs": [
    {
     "name": "stdout",
     "output_type": "stream",
     "text": [
      "Enter a country: Japan\n",
      "                                        Institution Country\n",
      "2                          Aoyama Gakuin University   Japan\n",
      "21                                 Chiba University   Japan\n",
      "36                              Doshisha University   Japan\n",
      "58                             Gakushuin University   Japan\n",
      "65                             Hiroshima University   Japan\n",
      "66                          Hitotsubashi University   Japan\n",
      "67                              Hokkaido University   Japan\n",
      "74               International Christian University   Japan\n",
      "79                             Kagoshima University   Japan\n",
      "80                              Kanazawa University   Japan\n",
      "82                                  Keio University   Japan\n",
      "86                              Kumamoto University   Japan\n",
      "87                                 Kyoto University   Japan\n",
      "89                                Kyushu University   Japan\n",
      "103                                Meiji University   Japan\n",
      "110                             Nagasaki University   Japan\n",
      "111                               Nagoya University   Japan\n",
      "120                                Nihon University   Japan\n",
      "121                              Niigata University   Japan\n",
      "126                              Okayama University   Japan\n",
      "127                           Osaka City University   Japan\n",
      "128                     Osaka Prefecture University   Japan\n",
      "129                                Osaka University   Japan\n",
      "144                          Ritsumeikan University   Japan\n",
      "153                               Sophia University   Japan\n",
      "175                               Tohoku University   Japan\n",
      "176                                Tokai University   Japan\n",
      "177                   Tokyo Institute of Technology   Japan\n",
      "178                   Tokyo Metropolitan University   Japan\n",
      "179  Tokyo University of Agriculture and Technology   Japan\n",
      "180             Tokyo University of Foreign Studies   Japan\n",
      "288                             University of Tokyo   Japan\n",
      "309                               Waseda University   Japan\n"
     ]
    }
   ],
   "source": [
    "try:\n",
    "    df2 = df.groupby('Country')\n",
    "    input_country = str(input(\"Enter a country: \"))\n",
    "    mask = df2.get_group(input_country)\n",
    "    print(mask)\n",
    "except:\n",
    "    print(\"An exception occurred\")"
   ]
  }
 ],
 "metadata": {
  "kernelspec": {
   "display_name": "Python 3",
   "language": "python",
   "name": "python3"
  },
  "language_info": {
   "codemirror_mode": {
    "name": "ipython",
    "version": 3
   },
   "file_extension": ".py",
   "mimetype": "text/x-python",
   "name": "python",
   "nbconvert_exporter": "python",
   "pygments_lexer": "ipython3",
   "version": "3.8.5"
  }
 },
 "nbformat": 4,
 "nbformat_minor": 5
}
