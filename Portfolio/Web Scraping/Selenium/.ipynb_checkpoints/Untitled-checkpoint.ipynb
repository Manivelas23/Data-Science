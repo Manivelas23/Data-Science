{
 "cells": [
  {
   "cell_type": "code",
   "execution_count": 4,
   "id": "interpreted-maple",
   "metadata": {},
   "outputs": [],
   "source": [
    "from selenium import webdriver\n",
    "import pandas as pd\n",
    "import time"
   ]
  },
  {
   "cell_type": "code",
   "execution_count": 5,
   "id": "considerable-validation",
   "metadata": {},
   "outputs": [],
   "source": [
    "PATH = '/Users/francoaguilar/Documents/GitHub/Data-Science/Portfolio/Web Scraping/Selenium/chromedriver'\n",
    "programs = []\n",
    "driver = webdriver.Chrome(PATH)\n",
    "url2 = 'https://www.mom.gov.sg/passes-and-permits/training-employment-pass/list-of-acceptable-institutions#/?page=16&q='"
   ]
  },
  {
   "cell_type": "code",
   "execution_count": 6,
   "id": "resistant-dividend",
   "metadata": {},
   "outputs": [
    {
     "name": "stdout",
     "output_type": "stream",
     "text": [
      "[{'Institution': 'University of Winnipeg', 'Country/Region': 'Canada'}, {'Institution': 'University of Wisconsin/Milwaukee, WI', 'Country/Region': 'United States of America'}, {'Institution': 'University of Wollongong', 'Country/Region': 'Australia'}, {'Institution': 'University of York', 'Country/Region': 'United Kingdom'}, {'Institution': 'Univesite de la Sorbonne Nouvelle (Paris III)', 'Country/Region': 'France'}, {'Institution': \"Unversitie de Nantes, Institut des Science del'Ingenieur en Thermique, Energetque et Materiaux (formerly Institut Universitaire des Sciences de'Ingenieur)\", 'Country/Region': 'France'}, {'Institution': 'Utrecht University', 'Country/Region': 'Netherlands'}, {'Institution': 'Victoria University of Wellington', 'Country/Region': 'New Zealand'}, {'Institution': 'Vrije Universiteit, Amsterdam/Free University, Amsterdam', 'Country/Region': 'Netherlands'}, {'Institution': 'Waseda University', 'Country/Region': 'Japan'}, {'Institution': 'Washington University, MO', 'Country/Region': 'United States of America'}, {'Institution': 'Wilfrid Laurier University', 'Country/Region': 'Canada'}, {'Institution': 'Yale University, CT', 'Country/Region': 'United States of America'}, {'Institution': 'Yonsei University, Seoul', 'Country/Region': 'Korea'}, {'Institution': 'York University', 'Country/Region': 'Canada'}]\n"
     ]
    }
   ],
   "source": [
    "driver.get(url2)\n",
    "\n",
    "for i in driver.find_elements_by_xpath('.//*[@id=\"contentguide_0_documentcontent_0_DivCode\"]/div/div/div/table/tbody/tr'):\n",
    "        data = [item.text for item in i.find_elements_by_xpath(\".//*[self::td or self::th or self::tr]\")]\n",
    "        program_info = {\n",
    "            'Institution': data[0],\n",
    "            'Country/Region':data[1]\n",
    "        }\n",
    "        programs.append(program_info)\n",
    "\n",
    "print(programs)"
   ]
  }
 ],
 "metadata": {
  "kernelspec": {
   "display_name": "Python 3",
   "language": "python",
   "name": "python3"
  },
  "language_info": {
   "codemirror_mode": {
    "name": "ipython",
    "version": 3
   },
   "file_extension": ".py",
   "mimetype": "text/x-python",
   "name": "python",
   "nbconvert_exporter": "python",
   "pygments_lexer": "ipython3",
   "version": "3.8.5"
  }
 },
 "nbformat": 4,
 "nbformat_minor": 5
}
