{
 "cells": [
  {
   "cell_type": "code",
   "execution_count": 2,
   "id": "expected-newfoundland",
   "metadata": {},
   "outputs": [],
   "source": [
    "import pandas as pd \n",
    "import numpy as np"
   ]
  },
  {
   "cell_type": "code",
   "execution_count": 34,
   "id": "essential-triangle",
   "metadata": {},
   "outputs": [
    {
     "data": {
      "text/html": [
       "<div>\n",
       "<style scoped>\n",
       "    .dataframe tbody tr th:only-of-type {\n",
       "        vertical-align: middle;\n",
       "    }\n",
       "\n",
       "    .dataframe tbody tr th {\n",
       "        vertical-align: top;\n",
       "    }\n",
       "\n",
       "    .dataframe thead th {\n",
       "        text-align: right;\n",
       "    }\n",
       "</style>\n",
       "<table border=\"1\" class=\"dataframe\">\n",
       "  <thead>\n",
       "    <tr style=\"text-align: right;\">\n",
       "      <th></th>\n",
       "      <th></th>\n",
       "    </tr>\n",
       "    <tr>\n",
       "      <th>country</th>\n",
       "      <th>institutition</th>\n",
       "    </tr>\n",
       "  </thead>\n",
       "  <tbody>\n",
       "    <tr>\n",
       "      <th rowspan=\"5\" valign=\"top\">United States of America</th>\n",
       "      <th>University of Texas at Austin, TX</th>\n",
       "    </tr>\n",
       "    <tr>\n",
       "      <th>University of Washington, WA</th>\n",
       "    </tr>\n",
       "    <tr>\n",
       "      <th>University of Wisconsin/Milwaukee, WI</th>\n",
       "    </tr>\n",
       "    <tr>\n",
       "      <th>Washington University, MO</th>\n",
       "    </tr>\n",
       "    <tr>\n",
       "      <th>Yale University, CT</th>\n",
       "    </tr>\n",
       "  </tbody>\n",
       "</table>\n",
       "</div>"
      ],
      "text/plain": [
       "Empty DataFrame\n",
       "Columns: []\n",
       "Index: [(United States of America, University of Texas at Austin, TX), (United States of America, University of Washington, WA), (United States of America, University of Wisconsin/Milwaukee, WI), (United States of America, Washington University, MO), (United States of America, Yale University, CT)]"
      ]
     },
     "execution_count": 34,
     "metadata": {},
     "output_type": "execute_result"
    }
   ],
   "source": [
    "data = pd.read_csv('data.csv')\n",
    "\n",
    "\n",
    "grouped_data = data.groupby(['country','institutition'],).count()\n",
    "del grouped_data['Unnamed: 0']\n",
    "grouped_data.tail()\n",
    "\n",
    "grouped_data.to_csv(\"grouped_institutions.csv\")"
   ]
  }
 ],
 "metadata": {
  "kernelspec": {
   "display_name": "Python 3",
   "language": "python",
   "name": "python3"
  },
  "language_info": {
   "codemirror_mode": {
    "name": "ipython",
    "version": 3
   },
   "file_extension": ".py",
   "mimetype": "text/x-python",
   "name": "python",
   "nbconvert_exporter": "python",
   "pygments_lexer": "ipython3",
   "version": "3.8.5"
  }
 },
 "nbformat": 4,
 "nbformat_minor": 5
}
