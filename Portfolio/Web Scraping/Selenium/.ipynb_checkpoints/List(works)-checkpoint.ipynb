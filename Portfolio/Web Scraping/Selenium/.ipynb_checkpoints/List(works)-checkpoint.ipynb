{
 "cells": [
  {
   "cell_type": "code",
   "execution_count": 116,
   "id": "written-possession",
   "metadata": {},
   "outputs": [],
   "source": [
    "from selenium import webdriver \n",
    "from selenium.webdriver.common.by import By\n",
    "from selenium.webdriver.support.ui import WebDriverWait\n",
    "from selenium.webdriver.support import expected_conditions as EC\n",
    "import pandas as pd \n",
    "import time"
   ]
  },
  {
   "cell_type": "code",
   "execution_count": 117,
   "id": "responsible-acoustic",
   "metadata": {},
   "outputs": [],
   "source": [
    "PATH = '/Users/francoaguilar/Documents/GitHub/Data-Science/Portfolio/Web Scraping/Selenium/chromedriver'\n",
    "programs = []\n",
    "driver = webdriver.Chrome(PATH)\n",
    "url = 'https://www.mom.gov.sg/passes-and-permits/training-employment-pass/list-of-acceptable-institutions#/?page=1&q='"
   ]
  },
  {
   "cell_type": "code",
   "execution_count": 118,
   "id": "upset-recruitment",
   "metadata": {},
   "outputs": [
    {
     "name": "stdout",
     "output_type": "stream",
     "text": [
      "20\n",
      "1\n",
      "{'institutition': 'Aarhus Universitet (Aarhus University)', 'country': 'Denmark'}\n",
      "2\n",
      "{'institutition': 'Albert-Ludwigs-Universitat Freiburg im Breisgau', 'country': 'Germany'}\n",
      "3\n",
      "{'institutition': 'Aoyama Gakuin University', 'country': 'Japan'}\n",
      "4\n",
      "{'institutition': 'Asian Institute of Management', 'country': 'Philippines'}\n",
      "5\n",
      "{'institutition': 'Aston University (The University of Aston in Birmingham)', 'country': 'United Kingdom'}\n",
      "6\n",
      "{'institutition': 'Ateneo de Manila University', 'country': 'Philippines'}\n",
      "7\n",
      "{'institutition': 'Bangor University (Prifysgol Bangor)[formerly University of Wales, Bangor - 2007]', 'country': 'United Kingdom'}\n",
      "8\n",
      "{'institutition': 'Bangor University (Prifysgol Bangor)[formerly University of Wales, Bang]', 'country': 'United Kingdom'}\n",
      "9\n",
      "{'institutition': 'Bayerische Julius-Maximilians Universitat Wurezburg', 'country': 'Germany'}\n",
      "10\n",
      "{'institutition': 'Beijing Foreign Studies University', 'country': 'China'}\n",
      "11\n",
      "{'institutition': 'Ben Gurion University of the Negev', 'country': 'Israel'}\n",
      "12\n",
      "{'institutition': 'Boston College, MA', 'country': 'United States of America'}\n",
      "13\n",
      "{'institutition': 'Boston University, MA', 'country': 'United States of America'}\n",
      "14\n",
      "{'institutition': 'Bournemouth University', 'country': 'United Kingdom'}\n",
      "15\n",
      "{'institutition': 'Brown University, RI', 'country': 'United States of America'}\n",
      "16\n",
      "{'institutition': 'Brunel University', 'country': 'United Kingdom'}\n",
      "17\n",
      "{'institutition': 'California Institute of Technology, CA', 'country': 'United States of America'}\n",
      "18\n",
      "{'institutition': 'Cardiff University (formerly University of Wales, Cardiff, 2004)', 'country': 'United Kingdom'}\n",
      "19\n",
      "{'institutition': 'Carleton University', 'country': 'Canada'}\n",
      "20\n",
      "{'institutition': 'Carnegie Mellon University, PA', 'country': 'United States of America'}\n",
      "Error\n",
      "[{'institutition': 'Aarhus Universitet (Aarhus University)', 'country': 'Denmark'}, {'institutition': 'Albert-Ludwigs-Universitat Freiburg im Breisgau', 'country': 'Germany'}, {'institutition': 'Aoyama Gakuin University', 'country': 'Japan'}, {'institutition': 'Asian Institute of Management', 'country': 'Philippines'}, {'institutition': 'Aston University (The University of Aston in Birmingham)', 'country': 'United Kingdom'}, {'institutition': 'Ateneo de Manila University', 'country': 'Philippines'}, {'institutition': 'Bangor University (Prifysgol Bangor)[formerly University of Wales, Bangor - 2007]', 'country': 'United Kingdom'}, {'institutition': 'Bangor University (Prifysgol Bangor)[formerly University of Wales, Bang]', 'country': 'United Kingdom'}, {'institutition': 'Bayerische Julius-Maximilians Universitat Wurezburg', 'country': 'Germany'}, {'institutition': 'Beijing Foreign Studies University', 'country': 'China'}, {'institutition': 'Ben Gurion University of the Negev', 'country': 'Israel'}, {'institutition': 'Boston College, MA', 'country': 'United States of America'}, {'institutition': 'Boston University, MA', 'country': 'United States of America'}, {'institutition': 'Bournemouth University', 'country': 'United Kingdom'}, {'institutition': 'Brown University, RI', 'country': 'United States of America'}, {'institutition': 'Brunel University', 'country': 'United Kingdom'}, {'institutition': 'California Institute of Technology, CA', 'country': 'United States of America'}, {'institutition': 'Cardiff University (formerly University of Wales, Cardiff, 2004)', 'country': 'United Kingdom'}, {'institutition': 'Carleton University', 'country': 'Canada'}, {'institutition': 'Carnegie Mellon University, PA', 'country': 'United States of America'}]\n"
     ]
    }
   ],
   "source": [
    "driver.get(url)\n",
    "#class=\"trip-close\"\n",
    "skip_btn = driver.find_element_by_xpath('/html/body/div[1]/div[3]/a[1]')\n",
    "skip_btn.click()\n",
    "\n",
    "link = driver.find_elements_by_xpath('.//*[@id=\"contentguide_0_documentcontent_0_DivCode\"]/div/div/div/table/tbody/tr/td/span/a')\n",
    "print(len(link))\n",
    "\n",
    "try:\n",
    "    for ele in range(1,len(link)+1):  \n",
    "        print(ele)\n",
    "        element = WebDriverWait(driver, 10).until(\n",
    "        EC.presence_of_element_located((By.XPATH, '//*[@id=\"contentguide_0_documentcontent_0_DivCode\"]/div/div/div/table/tbody/tr['+str(ele)+']/td[1]/span[2]/a'))\n",
    "        )\n",
    "        element.click()\n",
    "        time.sleep(10)\n",
    "        data = [item.text for item in driver.find_elements_by_class_name('db-app-item-content')]\n",
    "        time.sleep(10)\n",
    "        program = {\n",
    "            'institutition':data[0],\n",
    "            'country': data[1]\n",
    "        }\n",
    "        print(program)\n",
    "        programs.append(program)\n",
    "        driver.back()\n",
    "    \n",
    "   \n",
    "    \n",
    "finally:\n",
    "    print(\"Error\")\n",
    "    \n",
    "    \n",
    "    \n",
    "\n",
    "\n",
    "print(programs)"
   ]
  },
  {
   "cell_type": "code",
   "execution_count": null,
   "id": "first-movement",
   "metadata": {},
   "outputs": [],
   "source": []
  }
 ],
 "metadata": {
  "kernelspec": {
   "display_name": "Python 3",
   "language": "python",
   "name": "python3"
  },
  "language_info": {
   "codemirror_mode": {
    "name": "ipython",
    "version": 3
   },
   "file_extension": ".py",
   "mimetype": "text/x-python",
   "name": "python",
   "nbconvert_exporter": "python",
   "pygments_lexer": "ipython3",
   "version": "3.8.5"
  }
 },
 "nbformat": 4,
 "nbformat_minor": 5
}
