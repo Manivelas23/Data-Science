{
 "cells": [
  {
   "cell_type": "code",
   "execution_count": 52,
   "id": "wireless-yugoslavia",
   "metadata": {},
   "outputs": [],
   "source": [
    "from selenium import webdriver\n",
    "import pandas as pd"
   ]
  },
  {
   "cell_type": "code",
   "execution_count": 46,
   "id": "delayed-forward",
   "metadata": {},
   "outputs": [],
   "source": [
    "url = 'https://www.youtube.com/user/vegetta777'\n",
    "PATH = PATH = '/Users/francoaguilar/Documents/GitHub/Data-Science/Portfolio/Web Scraping/Selenium/chromedriver'\n",
    "driver = webdriver.Chrome(PATH)\n",
    "driver.get(url)"
   ]
  },
  {
   "cell_type": "code",
   "execution_count": 54,
   "id": "animal-movement",
   "metadata": {},
   "outputs": [
    {
     "data": {
      "text/html": [
       "<div>\n",
       "<style scoped>\n",
       "    .dataframe tbody tr th:only-of-type {\n",
       "        vertical-align: middle;\n",
       "    }\n",
       "\n",
       "    .dataframe tbody tr th {\n",
       "        vertical-align: top;\n",
       "    }\n",
       "\n",
       "    .dataframe thead th {\n",
       "        text-align: right;\n",
       "    }\n",
       "</style>\n",
       "<table border=\"1\" class=\"dataframe\">\n",
       "  <thead>\n",
       "    <tr style=\"text-align: right;\">\n",
       "      <th></th>\n",
       "      <th>title</th>\n",
       "      <th>views</th>\n",
       "    </tr>\n",
       "  </thead>\n",
       "  <tbody>\n",
       "    <tr>\n",
       "      <th>0</th>\n",
       "      <td>ARKADIA - ¿ESTOY EMBARAZADO?</td>\n",
       "      <td>537K views</td>\n",
       "    </tr>\n",
       "    <tr>\n",
       "      <th>1</th>\n",
       "      <td>ARKADIA - CRIANDO DRAGONES *A POR LECHE*</td>\n",
       "      <td>583K views</td>\n",
       "    </tr>\n",
       "    <tr>\n",
       "      <th>2</th>\n",
       "      <td>Asi fue mi primera vez... FIRST CLASS TROUBLE</td>\n",
       "      <td>174K views</td>\n",
       "    </tr>\n",
       "    <tr>\n",
       "      <th>3</th>\n",
       "      <td>ARKADIA - NACEN NUESTROS *DRAGONES DE HIELO*</td>\n",
       "      <td>583K views</td>\n",
       "    </tr>\n",
       "    <tr>\n",
       "      <th>4</th>\n",
       "      <td>ARKADIA - CAZANDO DRAGONES!</td>\n",
       "      <td>751K views</td>\n",
       "    </tr>\n",
       "  </tbody>\n",
       "</table>\n",
       "</div>"
      ],
      "text/plain": [
       "                                           title       views\n",
       "0                   ARKADIA - ¿ESTOY EMBARAZADO?  537K views\n",
       "1       ARKADIA - CRIANDO DRAGONES *A POR LECHE*  583K views\n",
       "2  Asi fue mi primera vez... FIRST CLASS TROUBLE  174K views\n",
       "3   ARKADIA - NACEN NUESTROS *DRAGONES DE HIELO*  583K views\n",
       "4                    ARKADIA - CAZANDO DRAGONES!  751K views"
      ]
     },
     "metadata": {},
     "output_type": "display_data"
    }
   ],
   "source": [
    "videos = driver.find_elements_by_class_name('style-scope ytd-grid-video-renderer')\n",
    "\n",
    "all_videos = []\n",
    "\n",
    "for video in videos:\n",
    "    title = video.find_element_by_xpath('.//*[@id=\"video-title\"]').text\n",
    "    views = video.find_element_by_xpath('.//*[@id=\"metadata-line\"]/span[1]').text\n",
    "    video_item = {\n",
    "    'title':title,\n",
    "    'views':views\n",
    "    }\n",
    "    all_videos.append(video_item)\n",
    "\n",
    "\n",
    "df = pd.DataFrame(all_videos)\n",
    "display(df.head())"
   ]
  },
  {
   "cell_type": "code",
   "execution_count": null,
   "id": "contained-alaska",
   "metadata": {},
   "outputs": [],
   "source": []
  }
 ],
 "metadata": {
  "kernelspec": {
   "display_name": "Python 3",
   "language": "python",
   "name": "python3"
  },
  "language_info": {
   "codemirror_mode": {
    "name": "ipython",
    "version": 3
   },
   "file_extension": ".py",
   "mimetype": "text/x-python",
   "name": "python",
   "nbconvert_exporter": "python",
   "pygments_lexer": "ipython3",
   "version": "3.8.5"
  }
 },
 "nbformat": 4,
 "nbformat_minor": 5
}
