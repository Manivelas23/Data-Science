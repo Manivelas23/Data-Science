{
 "cells": [
  {
   "cell_type": "code",
   "execution_count": 20,
   "id": "armed-humor",
   "metadata": {},
   "outputs": [],
   "source": [
    "from selenium import webdriver \n",
    "from selenium.webdriver.common.by import By\n",
    "from selenium.webdriver.support.ui import WebDriverWait\n",
    "from selenium.webdriver.support import expected_conditions as EC\n",
    "import pandas as pd \n",
    "import time"
   ]
  },
  {
   "cell_type": "code",
   "execution_count": 21,
   "id": "located-flash",
   "metadata": {},
   "outputs": [],
   "source": [
    "PATH = '/Users/francoaguilar/Documents/GitHub/Data-Science/Portfolio/Web Scraping/Selenium/chromedriver'\n",
    "programs = []\n",
    "driver = webdriver.Chrome(PATH)\n",
    "url = 'https://www.mom.gov.sg/passes-and-permits/training-employment-pass/list-of-acceptable-institutions#/?page='"
   ]
  },
  {
   "cell_type": "code",
   "execution_count": 22,
   "id": "boring-glory",
   "metadata": {
    "scrolled": true
   },
   "outputs": [
    {
     "name": "stdout",
     "output_type": "stream",
     "text": [
      "1\n",
      "{'institutition': 'Aarhus Universitet (Aarhus University)', 'country': 'Denmark'}\n",
      "2\n",
      "{'institutition': 'Albert-Ludwigs-Universitat Freiburg im Breisgau', 'country': 'Germany'}\n",
      "3\n",
      "{'institutition': 'Aoyama Gakuin University', 'country': 'Japan'}\n",
      "4\n",
      "Error\n"
     ]
    },
    {
     "ename": "TimeoutException",
     "evalue": "Message: \n",
     "output_type": "error",
     "traceback": [
      "\u001b[0;31m---------------------------------------------------------------------------\u001b[0m",
      "\u001b[0;31mTimeoutException\u001b[0m                          Traceback (most recent call last)",
      "\u001b[0;32m<ipython-input-22-8c85fe5c8ab7>\u001b[0m in \u001b[0;36m<module>\u001b[0;34m\u001b[0m\n\u001b[1;32m     11\u001b[0m             \u001b[0mprint\u001b[0m\u001b[0;34m(\u001b[0m\u001b[0mele\u001b[0m\u001b[0;34m)\u001b[0m\u001b[0;34m\u001b[0m\u001b[0;34m\u001b[0m\u001b[0m\n\u001b[1;32m     12\u001b[0m \u001b[0;34m\u001b[0m\u001b[0m\n\u001b[0;32m---> 13\u001b[0;31m             element = WebDriverWait(driver,10).until(\n\u001b[0m\u001b[1;32m     14\u001b[0m             \u001b[0mEC\u001b[0m\u001b[0;34m.\u001b[0m\u001b[0mpresence_of_element_located\u001b[0m\u001b[0;34m(\u001b[0m\u001b[0;34m(\u001b[0m\u001b[0mBy\u001b[0m\u001b[0;34m.\u001b[0m\u001b[0mXPATH\u001b[0m\u001b[0;34m,\u001b[0m \u001b[0;34m'.//*[@id=\"contentguide_0_documentcontent_0_DivCode\"]/div/div/div/table/tbody/tr['\u001b[0m\u001b[0;34m+\u001b[0m\u001b[0mstr\u001b[0m\u001b[0;34m(\u001b[0m\u001b[0mele\u001b[0m\u001b[0;34m)\u001b[0m\u001b[0;34m+\u001b[0m\u001b[0;34m']/td[1]/span[2]/a'\u001b[0m\u001b[0;34m)\u001b[0m\u001b[0;34m)\u001b[0m\u001b[0;34m\u001b[0m\u001b[0;34m\u001b[0m\u001b[0m\n\u001b[1;32m     15\u001b[0m             )\n",
      "\u001b[0;32m~/opt/miniconda3/lib/python3.8/site-packages/selenium/webdriver/support/wait.py\u001b[0m in \u001b[0;36muntil\u001b[0;34m(self, method, message)\u001b[0m\n\u001b[1;32m     78\u001b[0m             \u001b[0;32mif\u001b[0m \u001b[0mtime\u001b[0m\u001b[0;34m.\u001b[0m\u001b[0mtime\u001b[0m\u001b[0;34m(\u001b[0m\u001b[0;34m)\u001b[0m \u001b[0;34m>\u001b[0m \u001b[0mend_time\u001b[0m\u001b[0;34m:\u001b[0m\u001b[0;34m\u001b[0m\u001b[0;34m\u001b[0m\u001b[0m\n\u001b[1;32m     79\u001b[0m                 \u001b[0;32mbreak\u001b[0m\u001b[0;34m\u001b[0m\u001b[0;34m\u001b[0m\u001b[0m\n\u001b[0;32m---> 80\u001b[0;31m         \u001b[0;32mraise\u001b[0m \u001b[0mTimeoutException\u001b[0m\u001b[0;34m(\u001b[0m\u001b[0mmessage\u001b[0m\u001b[0;34m,\u001b[0m \u001b[0mscreen\u001b[0m\u001b[0;34m,\u001b[0m \u001b[0mstacktrace\u001b[0m\u001b[0;34m)\u001b[0m\u001b[0;34m\u001b[0m\u001b[0;34m\u001b[0m\u001b[0m\n\u001b[0m\u001b[1;32m     81\u001b[0m \u001b[0;34m\u001b[0m\u001b[0m\n\u001b[1;32m     82\u001b[0m     \u001b[0;32mdef\u001b[0m \u001b[0muntil_not\u001b[0m\u001b[0;34m(\u001b[0m\u001b[0mself\u001b[0m\u001b[0;34m,\u001b[0m \u001b[0mmethod\u001b[0m\u001b[0;34m,\u001b[0m \u001b[0mmessage\u001b[0m\u001b[0;34m=\u001b[0m\u001b[0;34m''\u001b[0m\u001b[0;34m)\u001b[0m\u001b[0;34m:\u001b[0m\u001b[0;34m\u001b[0m\u001b[0;34m\u001b[0m\u001b[0m\n",
      "\u001b[0;31mTimeoutException\u001b[0m: Message: \n"
     ]
    }
   ],
   "source": [
    "driver.get(url)\n",
    "skip_btn = driver.find_element_by_xpath('/html/body/div[1]/div[3]/a[1]')\n",
    "skip_btn.click()\n",
    "\n",
    "link = driver.find_elements_by_xpath('.//*[@id=\"contentguide_0_documentcontent_0_DivCode\"]/div/div/div/table/tbody/tr/td/span/a')\n",
    "\n",
    "for i in range(1,17): \n",
    "    driver.get(url+ str(i)+ '&q=')\n",
    "    try:\n",
    "        for ele in range(1,len(link)+1):  \n",
    "            print(ele)\n",
    "            \n",
    "            element = WebDriverWait(driver,10).until(\n",
    "            EC.presence_of_element_located((By.XPATH, './/*[@id=\"contentguide_0_documentcontent_0_DivCode\"]/div/div/div/table/tbody/tr['+str(ele)+']/td[1]/span[2]/a'))\n",
    "            )\n",
    "            element.click()\n",
    "            \n",
    "            time.sleep(3)\n",
    "            driver.switch_to.default_content()\n",
    "            data = [item.text for item in driver.find_elements_by_class_name('db-app-item-content')\n",
    "                   ]\n",
    "            time.sleep(3)\n",
    "            program = {\n",
    "                'institutition':data[0],\n",
    "                'country': data[1]\n",
    "            }\n",
    "            \n",
    "            \n",
    "            print(program)\n",
    "            programs.append(program)\n",
    "            driver.back()\n",
    "    finally:\n",
    "        print(\"Error\")\n",
    "    \n",
    "\n",
    "\n",
    "df = pd.DataFrame(programs)\n",
    "\n",
    "\n"
   ]
  },
  {
   "cell_type": "code",
   "execution_count": null,
   "id": "sound-broadway",
   "metadata": {},
   "outputs": [],
   "source": [
    "df"
   ]
  }
 ],
 "metadata": {
  "kernelspec": {
   "display_name": "Python 3",
   "language": "python",
   "name": "python3"
  },
  "language_info": {
   "codemirror_mode": {
    "name": "ipython",
    "version": 3
   },
   "file_extension": ".py",
   "mimetype": "text/x-python",
   "name": "python",
   "nbconvert_exporter": "python",
   "pygments_lexer": "ipython3",
   "version": "3.8.5"
  }
 },
 "nbformat": 4,
 "nbformat_minor": 5
}
