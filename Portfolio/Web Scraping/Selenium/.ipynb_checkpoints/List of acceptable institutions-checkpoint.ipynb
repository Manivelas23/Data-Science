{
 "cells": [
  {
   "cell_type": "code",
   "execution_count": null,
   "id": "wireless-yugoslavia",
   "metadata": {},
   "outputs": [],
   "source": [
    "from selenium import webdriver\n",
    "import pandas as pd"
   ]
  },
  {
   "cell_type": "code",
   "execution_count": null,
   "id": "stopped-civilian",
   "metadata": {},
   "outputs": [],
   "source": [
    "PATH = '/Users/francoaguilar/Documents/GitHub/Data-Science/Portfolio/Web Scraping/Selenium/chromedriver'\n",
    "programs = []\n",
    "driver = webdriver.Chrome(PATH)\n",
    "url = 'https://www.mom.gov.sg/passes-and-permits/training-employment-pass/list-of-acceptable-institutions#/?page='"
   ]
  },
  {
   "cell_type": "code",
   "execution_count": 128,
   "id": "delayed-forward",
   "metadata": {},
   "outputs": [],
   "source": [
    "for i in range(1,17): \n",
    "    driver.get(url+ str(i)+ '&q=')\n",
    "\n",
    "    for table in driver.find_elements_by_xpath('.//*[@id=\"contentguide_0_documentcontent_0_DivCode\"]/div/div/div/table/tbody/tr'):\n",
    "        data = [item.text for item in table.find_elements_by_xpath(\".//*[self::td or self::th or self::tr]\")]\n",
    "        program_info = {\n",
    "            'Institution': data[0],\n",
    "            'Country/Region':data[1]\n",
    "        }\n",
    "        programs.append(program_info)"
   ]
  },
  {
   "cell_type": "code",
   "execution_count": 146,
   "id": "french-declaration",
   "metadata": {},
   "outputs": [
    {
     "data": {
      "text/html": [
       "<div>\n",
       "<style scoped>\n",
       "    .dataframe tbody tr th:only-of-type {\n",
       "        vertical-align: middle;\n",
       "    }\n",
       "\n",
       "    .dataframe tbody tr th {\n",
       "        vertical-align: top;\n",
       "    }\n",
       "\n",
       "    .dataframe thead th {\n",
       "        text-align: right;\n",
       "    }\n",
       "</style>\n",
       "<table border=\"1\" class=\"dataframe\">\n",
       "  <thead>\n",
       "    <tr style=\"text-align: right;\">\n",
       "      <th></th>\n",
       "      <th>Institution</th>\n",
       "      <th>Country/Region</th>\n",
       "    </tr>\n",
       "  </thead>\n",
       "  <tbody>\n",
       "    <tr>\n",
       "      <th>310</th>\n",
       "      <td>Washington University, MO</td>\n",
       "      <td>United States of AmericaIsrael</td>\n",
       "    </tr>\n",
       "    <tr>\n",
       "      <th>311</th>\n",
       "      <td>Wilfrid Laurier University</td>\n",
       "      <td>CanadaUnited States of America</td>\n",
       "    </tr>\n",
       "    <tr>\n",
       "      <th>312</th>\n",
       "      <td>Yale University, CT</td>\n",
       "      <td>United States of AmericaUnited States of America</td>\n",
       "    </tr>\n",
       "    <tr>\n",
       "      <th>313</th>\n",
       "      <td>Yonsei University, Seoul</td>\n",
       "      <td>KoreaUnited Kingdom</td>\n",
       "    </tr>\n",
       "    <tr>\n",
       "      <th>314</th>\n",
       "      <td>York University</td>\n",
       "      <td>CanadaUnited States of America</td>\n",
       "    </tr>\n",
       "  </tbody>\n",
       "</table>\n",
       "</div>"
      ],
      "text/plain": [
       "                    Institution  \\\n",
       "310   Washington University, MO   \n",
       "311  Wilfrid Laurier University   \n",
       "312         Yale University, CT   \n",
       "313    Yonsei University, Seoul   \n",
       "314             York University   \n",
       "\n",
       "                                       Country/Region  \n",
       "310                    United States of AmericaIsrael  \n",
       "311                    CanadaUnited States of America  \n",
       "312  United States of AmericaUnited States of America  \n",
       "313                               KoreaUnited Kingdom  \n",
       "314                    CanadaUnited States of America  "
      ]
     },
     "execution_count": 146,
     "metadata": {},
     "output_type": "execute_result"
    }
   ],
   "source": [
    "df2 = df.drop_duplicates(keep='first')\n",
    "df2.tail()"
   ]
  }
 ],
 "metadata": {
  "kernelspec": {
   "display_name": "Python 3",
   "language": "python",
   "name": "python3"
  },
  "language_info": {
   "codemirror_mode": {
    "name": "ipython",
    "version": 3
   },
   "file_extension": ".py",
   "mimetype": "text/x-python",
   "name": "python",
   "nbconvert_exporter": "python",
   "pygments_lexer": "ipython3",
   "version": "3.8.5"
  }
 },
 "nbformat": 4,
 "nbformat_minor": 5
}
