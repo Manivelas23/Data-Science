{
 "cells": [
  {
   "cell_type": "code",
   "execution_count": null,
   "id": "wireless-yugoslavia",
   "metadata": {},
   "outputs": [],
   "source": [
    "from selenium import webdriver\n",
    "import pandas as pd"
   ]
  },
  {
   "cell_type": "code",
   "execution_count": null,
   "id": "lonely-relevance",
   "metadata": {},
   "outputs": [],
   "source": [
    "PATH = '/Users/francoaguilar/Documents/GitHub/Data-Science/Portfolio/Web Scraping/Selenium/chromedriver'\n",
    "programs = []\n",
    "driver = webdriver.Chrome(PATH)\n",
    "url = 'https://www.mom.gov.sg/passes-and-permits/training-employment-pass/list-of-acceptable-institutions#/?page='"
   ]
  },
  {
   "cell_type": "code",
   "execution_count": null,
   "id": "delayed-forward",
   "metadata": {},
   "outputs": [],
   "source": [
    "for i in range(1,17): \n",
    "    driver.get(url+ str(i)+ '&q=')\n",
    "\n",
    "    for table in driver.find_elements_by_xpath('.//*[@id=\"contentguide_0_documentcontent_0_DivCode\"]/div/div/div/table/tbody/tr'):\n",
    "        data = [item.text for item in table.find_elements_by_xpath(\".//*[self::td or self::th or self::tr]\")]\n",
    "        program_info = {\n",
    "            'Institution': data[0],\n",
    "            'Country/Region':data[1]\n",
    "        }\n",
    "        programs.append(program_info)"
   ]
  }
 ],
 "metadata": {
  "kernelspec": {
   "display_name": "Python 3",
   "language": "python",
   "name": "python3"
  },
  "language_info": {
   "codemirror_mode": {
    "name": "ipython",
    "version": 3
   },
   "file_extension": ".py",
   "mimetype": "text/x-python",
   "name": "python",
   "nbconvert_exporter": "python",
   "pygments_lexer": "ipython3",
   "version": "3.8.5"
  }
 },
 "nbformat": 4,
 "nbformat_minor": 5
}
