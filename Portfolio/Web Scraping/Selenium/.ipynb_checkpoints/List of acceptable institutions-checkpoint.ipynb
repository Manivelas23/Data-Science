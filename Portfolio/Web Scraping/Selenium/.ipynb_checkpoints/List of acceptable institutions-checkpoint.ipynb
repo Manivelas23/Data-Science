{
 "cells": [
  {
   "cell_type": "code",
   "execution_count": 31,
   "id": "wireless-yugoslavia",
   "metadata": {},
   "outputs": [],
   "source": [
    "from selenium import webdriver\n",
    "import pandas as pd\n",
    "import time"
   ]
  },
  {
   "cell_type": "code",
   "execution_count": 32,
   "id": "stopped-civilian",
   "metadata": {},
   "outputs": [],
   "source": [
    "PATH = '/Users/francoaguilar/Documents/GitHub/Data-Science/Portfolio/Web Scraping/Selenium/chromedriver'\n",
    "programs = []\n",
    "driver = webdriver.Chrome(PATH)\n",
    "url = 'https://www.mom.gov.sg/passes-and-permits/training-employment-pass/list-of-acceptable-institutions#/?page='"
   ]
  },
  {
   "cell_type": "code",
   "execution_count": 33,
   "id": "electoral-search",
   "metadata": {
    "scrolled": false
   },
   "outputs": [
    {
     "name": "stdout",
     "output_type": "stream",
     "text": [
      "<selenium.webdriver.remote.webelement.WebElement (session=\"ba03f276ac780ab6fa9d750e2d22c166\", element=\"0fa34f6d-88c9-4001-b178-be4d3e536a02\")>\n",
      "<selenium.webdriver.remote.webelement.WebElement (session=\"ba03f276ac780ab6fa9d750e2d22c166\", element=\"18c4cd55-7abf-4c34-9d92-a43fe4787153\")>\n",
      "<selenium.webdriver.remote.webelement.WebElement (session=\"ba03f276ac780ab6fa9d750e2d22c166\", element=\"b43a3128-b175-4906-9798-6e63cc5fdc56\")>\n",
      "<selenium.webdriver.remote.webelement.WebElement (session=\"ba03f276ac780ab6fa9d750e2d22c166\", element=\"1d0d676e-2c89-4f5c-bb7b-27609b435e40\")>\n",
      "<selenium.webdriver.remote.webelement.WebElement (session=\"ba03f276ac780ab6fa9d750e2d22c166\", element=\"a6604c3c-74d8-4a3e-aa95-305f697de612\")>\n",
      "<selenium.webdriver.remote.webelement.WebElement (session=\"ba03f276ac780ab6fa9d750e2d22c166\", element=\"51940d84-ad94-4a6c-8464-7378ed5fb1df\")>\n",
      "<selenium.webdriver.remote.webelement.WebElement (session=\"ba03f276ac780ab6fa9d750e2d22c166\", element=\"b8ebddc7-2a80-4317-bab4-de6d9040466c\")>\n",
      "<selenium.webdriver.remote.webelement.WebElement (session=\"ba03f276ac780ab6fa9d750e2d22c166\", element=\"0e6d51a8-5e79-41d9-8b0d-dd93195c5aa6\")>\n",
      "<selenium.webdriver.remote.webelement.WebElement (session=\"ba03f276ac780ab6fa9d750e2d22c166\", element=\"6fb230a8-9755-4a45-9d3f-f7e74fc1ad9d\")>\n",
      "<selenium.webdriver.remote.webelement.WebElement (session=\"ba03f276ac780ab6fa9d750e2d22c166\", element=\"b88b3f6d-e1cc-4170-a658-d28fee0c0fa8\")>\n",
      "<selenium.webdriver.remote.webelement.WebElement (session=\"ba03f276ac780ab6fa9d750e2d22c166\", element=\"676e4038-21d6-4d18-af69-ecc5f52d6945\")>\n",
      "<selenium.webdriver.remote.webelement.WebElement (session=\"ba03f276ac780ab6fa9d750e2d22c166\", element=\"1639b650-64bf-40bf-ad54-108d865961fe\")>\n",
      "<selenium.webdriver.remote.webelement.WebElement (session=\"ba03f276ac780ab6fa9d750e2d22c166\", element=\"0512f9e4-fc7c-4932-8cdb-b55ee75a7dd9\")>\n",
      "<selenium.webdriver.remote.webelement.WebElement (session=\"ba03f276ac780ab6fa9d750e2d22c166\", element=\"09f1927e-771c-4dd8-808c-f3fe04ef4933\")>\n",
      "<selenium.webdriver.remote.webelement.WebElement (session=\"ba03f276ac780ab6fa9d750e2d22c166\", element=\"84d66505-6c43-4b81-b230-400c272f801f\")>\n",
      "<selenium.webdriver.remote.webelement.WebElement (session=\"ba03f276ac780ab6fa9d750e2d22c166\", element=\"3c394691-3a9a-4724-afef-14eb2c4cf9cb\")>\n",
      "<selenium.webdriver.remote.webelement.WebElement (session=\"ba03f276ac780ab6fa9d750e2d22c166\", element=\"1f5e97fb-8a33-4507-8f5a-7c9fa3ec95f9\")>\n",
      "<selenium.webdriver.remote.webelement.WebElement (session=\"ba03f276ac780ab6fa9d750e2d22c166\", element=\"a40b6848-1232-4098-afc0-298258ac2c7d\")>\n",
      "<selenium.webdriver.remote.webelement.WebElement (session=\"ba03f276ac780ab6fa9d750e2d22c166\", element=\"f3e74094-14e6-4a22-8c32-0c12ee97ea19\")>\n",
      "<selenium.webdriver.remote.webelement.WebElement (session=\"ba03f276ac780ab6fa9d750e2d22c166\", element=\"8e4bd619-5c44-4219-9f92-ca884c5c235b\")>\n"
     ]
    },
    {
     "ename": "ElementNotInteractableException",
     "evalue": "Message: element not interactable\n  (Session info: chrome=90.0.4430.72)\n",
     "output_type": "error",
     "traceback": [
      "\u001b[0;31m---------------------------------------------------------------------------\u001b[0m",
      "\u001b[0;31mElementNotInteractableException\u001b[0m           Traceback (most recent call last)",
      "\u001b[0;32m<ipython-input-33-1e73eb5aff97>\u001b[0m in \u001b[0;36m<module>\u001b[0;34m\u001b[0m\n\u001b[1;32m      3\u001b[0m     \u001b[0mdriver\u001b[0m\u001b[0;34m.\u001b[0m\u001b[0mget\u001b[0m\u001b[0;34m(\u001b[0m\u001b[0murl\u001b[0m\u001b[0;34m+\u001b[0m \u001b[0mstr\u001b[0m\u001b[0;34m(\u001b[0m\u001b[0mi\u001b[0m\u001b[0;34m)\u001b[0m\u001b[0;34m+\u001b[0m \u001b[0;34m'&q='\u001b[0m\u001b[0;34m)\u001b[0m\u001b[0;34m\u001b[0m\u001b[0;34m\u001b[0m\u001b[0m\n\u001b[1;32m      4\u001b[0m     \u001b[0mskip_btn\u001b[0m \u001b[0;34m=\u001b[0m \u001b[0mdriver\u001b[0m\u001b[0;34m.\u001b[0m\u001b[0mfind_element_by_xpath\u001b[0m\u001b[0;34m(\u001b[0m\u001b[0;34m'/html/body/div[1]/div[3]/a[1]'\u001b[0m\u001b[0;34m)\u001b[0m\u001b[0;34m\u001b[0m\u001b[0;34m\u001b[0m\u001b[0m\n\u001b[0;32m----> 5\u001b[0;31m     \u001b[0mskip_btn\u001b[0m\u001b[0;34m.\u001b[0m\u001b[0mclick\u001b[0m\u001b[0;34m(\u001b[0m\u001b[0;34m)\u001b[0m\u001b[0;34m\u001b[0m\u001b[0;34m\u001b[0m\u001b[0m\n\u001b[0m\u001b[1;32m      6\u001b[0m     \u001b[0;32mfor\u001b[0m \u001b[0mtable\u001b[0m \u001b[0;32min\u001b[0m \u001b[0mdriver\u001b[0m\u001b[0;34m.\u001b[0m\u001b[0mfind_elements_by_xpath\u001b[0m\u001b[0;34m(\u001b[0m\u001b[0;34m'.//*[@id=\"contentguide_0_documentcontent_0_DivCode\"]/div/div/div/table/tbody/tr'\u001b[0m\u001b[0;34m)\u001b[0m\u001b[0;34m:\u001b[0m\u001b[0;34m\u001b[0m\u001b[0;34m\u001b[0m\u001b[0m\n\u001b[1;32m      7\u001b[0m         \u001b[0mprint\u001b[0m\u001b[0;34m(\u001b[0m\u001b[0mtable\u001b[0m\u001b[0;34m)\u001b[0m\u001b[0;34m\u001b[0m\u001b[0;34m\u001b[0m\u001b[0m\n",
      "\u001b[0;32m~/opt/miniconda3/lib/python3.8/site-packages/selenium/webdriver/remote/webelement.py\u001b[0m in \u001b[0;36mclick\u001b[0;34m(self)\u001b[0m\n\u001b[1;32m     78\u001b[0m     \u001b[0;32mdef\u001b[0m \u001b[0mclick\u001b[0m\u001b[0;34m(\u001b[0m\u001b[0mself\u001b[0m\u001b[0;34m)\u001b[0m\u001b[0;34m:\u001b[0m\u001b[0;34m\u001b[0m\u001b[0;34m\u001b[0m\u001b[0m\n\u001b[1;32m     79\u001b[0m         \u001b[0;34m\"\"\"Clicks the element.\"\"\"\u001b[0m\u001b[0;34m\u001b[0m\u001b[0;34m\u001b[0m\u001b[0m\n\u001b[0;32m---> 80\u001b[0;31m         \u001b[0mself\u001b[0m\u001b[0;34m.\u001b[0m\u001b[0m_execute\u001b[0m\u001b[0;34m(\u001b[0m\u001b[0mCommand\u001b[0m\u001b[0;34m.\u001b[0m\u001b[0mCLICK_ELEMENT\u001b[0m\u001b[0;34m)\u001b[0m\u001b[0;34m\u001b[0m\u001b[0;34m\u001b[0m\u001b[0m\n\u001b[0m\u001b[1;32m     81\u001b[0m \u001b[0;34m\u001b[0m\u001b[0m\n\u001b[1;32m     82\u001b[0m     \u001b[0;32mdef\u001b[0m \u001b[0msubmit\u001b[0m\u001b[0;34m(\u001b[0m\u001b[0mself\u001b[0m\u001b[0;34m)\u001b[0m\u001b[0;34m:\u001b[0m\u001b[0;34m\u001b[0m\u001b[0;34m\u001b[0m\u001b[0m\n",
      "\u001b[0;32m~/opt/miniconda3/lib/python3.8/site-packages/selenium/webdriver/remote/webelement.py\u001b[0m in \u001b[0;36m_execute\u001b[0;34m(self, command, params)\u001b[0m\n\u001b[1;32m    631\u001b[0m             \u001b[0mparams\u001b[0m \u001b[0;34m=\u001b[0m \u001b[0;34m{\u001b[0m\u001b[0;34m}\u001b[0m\u001b[0;34m\u001b[0m\u001b[0;34m\u001b[0m\u001b[0m\n\u001b[1;32m    632\u001b[0m         \u001b[0mparams\u001b[0m\u001b[0;34m[\u001b[0m\u001b[0;34m'id'\u001b[0m\u001b[0;34m]\u001b[0m \u001b[0;34m=\u001b[0m \u001b[0mself\u001b[0m\u001b[0;34m.\u001b[0m\u001b[0m_id\u001b[0m\u001b[0;34m\u001b[0m\u001b[0;34m\u001b[0m\u001b[0m\n\u001b[0;32m--> 633\u001b[0;31m         \u001b[0;32mreturn\u001b[0m \u001b[0mself\u001b[0m\u001b[0;34m.\u001b[0m\u001b[0m_parent\u001b[0m\u001b[0;34m.\u001b[0m\u001b[0mexecute\u001b[0m\u001b[0;34m(\u001b[0m\u001b[0mcommand\u001b[0m\u001b[0;34m,\u001b[0m \u001b[0mparams\u001b[0m\u001b[0;34m)\u001b[0m\u001b[0;34m\u001b[0m\u001b[0;34m\u001b[0m\u001b[0m\n\u001b[0m\u001b[1;32m    634\u001b[0m \u001b[0;34m\u001b[0m\u001b[0m\n\u001b[1;32m    635\u001b[0m     \u001b[0;32mdef\u001b[0m \u001b[0mfind_element\u001b[0m\u001b[0;34m(\u001b[0m\u001b[0mself\u001b[0m\u001b[0;34m,\u001b[0m \u001b[0mby\u001b[0m\u001b[0;34m=\u001b[0m\u001b[0mBy\u001b[0m\u001b[0;34m.\u001b[0m\u001b[0mID\u001b[0m\u001b[0;34m,\u001b[0m \u001b[0mvalue\u001b[0m\u001b[0;34m=\u001b[0m\u001b[0;32mNone\u001b[0m\u001b[0;34m)\u001b[0m\u001b[0;34m:\u001b[0m\u001b[0;34m\u001b[0m\u001b[0;34m\u001b[0m\u001b[0m\n",
      "\u001b[0;32m~/opt/miniconda3/lib/python3.8/site-packages/selenium/webdriver/remote/webdriver.py\u001b[0m in \u001b[0;36mexecute\u001b[0;34m(self, driver_command, params)\u001b[0m\n\u001b[1;32m    319\u001b[0m         \u001b[0mresponse\u001b[0m \u001b[0;34m=\u001b[0m \u001b[0mself\u001b[0m\u001b[0;34m.\u001b[0m\u001b[0mcommand_executor\u001b[0m\u001b[0;34m.\u001b[0m\u001b[0mexecute\u001b[0m\u001b[0;34m(\u001b[0m\u001b[0mdriver_command\u001b[0m\u001b[0;34m,\u001b[0m \u001b[0mparams\u001b[0m\u001b[0;34m)\u001b[0m\u001b[0;34m\u001b[0m\u001b[0;34m\u001b[0m\u001b[0m\n\u001b[1;32m    320\u001b[0m         \u001b[0;32mif\u001b[0m \u001b[0mresponse\u001b[0m\u001b[0;34m:\u001b[0m\u001b[0;34m\u001b[0m\u001b[0;34m\u001b[0m\u001b[0m\n\u001b[0;32m--> 321\u001b[0;31m             \u001b[0mself\u001b[0m\u001b[0;34m.\u001b[0m\u001b[0merror_handler\u001b[0m\u001b[0;34m.\u001b[0m\u001b[0mcheck_response\u001b[0m\u001b[0;34m(\u001b[0m\u001b[0mresponse\u001b[0m\u001b[0;34m)\u001b[0m\u001b[0;34m\u001b[0m\u001b[0;34m\u001b[0m\u001b[0m\n\u001b[0m\u001b[1;32m    322\u001b[0m             response['value'] = self._unwrap_value(\n\u001b[1;32m    323\u001b[0m                 response.get('value', None))\n",
      "\u001b[0;32m~/opt/miniconda3/lib/python3.8/site-packages/selenium/webdriver/remote/errorhandler.py\u001b[0m in \u001b[0;36mcheck_response\u001b[0;34m(self, response)\u001b[0m\n\u001b[1;32m    240\u001b[0m                 \u001b[0malert_text\u001b[0m \u001b[0;34m=\u001b[0m \u001b[0mvalue\u001b[0m\u001b[0;34m[\u001b[0m\u001b[0;34m'alert'\u001b[0m\u001b[0;34m]\u001b[0m\u001b[0;34m.\u001b[0m\u001b[0mget\u001b[0m\u001b[0;34m(\u001b[0m\u001b[0;34m'text'\u001b[0m\u001b[0;34m)\u001b[0m\u001b[0;34m\u001b[0m\u001b[0;34m\u001b[0m\u001b[0m\n\u001b[1;32m    241\u001b[0m             \u001b[0;32mraise\u001b[0m \u001b[0mexception_class\u001b[0m\u001b[0;34m(\u001b[0m\u001b[0mmessage\u001b[0m\u001b[0;34m,\u001b[0m \u001b[0mscreen\u001b[0m\u001b[0;34m,\u001b[0m \u001b[0mstacktrace\u001b[0m\u001b[0;34m,\u001b[0m \u001b[0malert_text\u001b[0m\u001b[0;34m)\u001b[0m\u001b[0;34m\u001b[0m\u001b[0;34m\u001b[0m\u001b[0m\n\u001b[0;32m--> 242\u001b[0;31m         \u001b[0;32mraise\u001b[0m \u001b[0mexception_class\u001b[0m\u001b[0;34m(\u001b[0m\u001b[0mmessage\u001b[0m\u001b[0;34m,\u001b[0m \u001b[0mscreen\u001b[0m\u001b[0;34m,\u001b[0m \u001b[0mstacktrace\u001b[0m\u001b[0;34m)\u001b[0m\u001b[0;34m\u001b[0m\u001b[0;34m\u001b[0m\u001b[0m\n\u001b[0m\u001b[1;32m    243\u001b[0m \u001b[0;34m\u001b[0m\u001b[0m\n\u001b[1;32m    244\u001b[0m     \u001b[0;32mdef\u001b[0m \u001b[0m_value_or_default\u001b[0m\u001b[0;34m(\u001b[0m\u001b[0mself\u001b[0m\u001b[0;34m,\u001b[0m \u001b[0mobj\u001b[0m\u001b[0;34m,\u001b[0m \u001b[0mkey\u001b[0m\u001b[0;34m,\u001b[0m \u001b[0mdefault\u001b[0m\u001b[0;34m)\u001b[0m\u001b[0;34m:\u001b[0m\u001b[0;34m\u001b[0m\u001b[0;34m\u001b[0m\u001b[0m\n",
      "\u001b[0;31mElementNotInteractableException\u001b[0m: Message: element not interactable\n  (Session info: chrome=90.0.4430.72)\n"
     ]
    }
   ],
   "source": [
    "for i in range(1,17): \n",
    "    time.sleep(3)\n",
    "    driver.get(url+ str(i)+ '&q=')\n",
    "    skip_btn = driver.find_element_by_xpath('/html/body/div[1]/div[3]/a[1]')\n",
    "    skip_btn.click()\n",
    "    for table in driver.find_elements_by_xpath('.//*[@id=\"contentguide_0_documentcontent_0_DivCode\"]/div/div/div/table/tbody/tr'):\n",
    "        print(table)\n",
    "        data = [item.text for item in table.find_elements_by_xpath(\".//*[self::td or self::th or self::tr]\")]\n",
    "        program_info = {\n",
    "            'Institution': data[0],\n",
    "            'Country/Region':data[1]\n",
    "        }\n",
    "        programs.append(program_info)\n",
    "\n",
    "print(programs)"
   ]
  },
  {
   "cell_type": "code",
   "execution_count": null,
   "id": "contrary-windows",
   "metadata": {},
   "outputs": [],
   "source": [
    "url2 = 'https://www.mom.gov.sg/passes-and-permits/training-employment-pass/list-of-acceptable-institutions#/?page=16&q='"
   ]
  },
  {
   "cell_type": "code",
   "execution_count": null,
   "id": "protective-cambridge",
   "metadata": {},
   "outputs": [],
   "source": [
    "df = pd.DataFrame(programs)\n",
    "df = df.drop_duplicates(keep='first')\n",
    "print(df.duplicated().sum())\n",
    "df.tail()"
   ]
  }
 ],
 "metadata": {
  "kernelspec": {
   "display_name": "Python 3",
   "language": "python",
   "name": "python3"
  },
  "language_info": {
   "codemirror_mode": {
    "name": "ipython",
    "version": 3
   },
   "file_extension": ".py",
   "mimetype": "text/x-python",
   "name": "python",
   "nbconvert_exporter": "python",
   "pygments_lexer": "ipython3",
   "version": "3.8.5"
  }
 },
 "nbformat": 4,
 "nbformat_minor": 5
}
