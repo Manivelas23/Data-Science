{
 "cells": [
  {
   "cell_type": "markdown",
   "id": "democratic-sentence",
   "metadata": {},
   "source": [
    "<img src= http://www.mom.gov.sg/html/mom/images/branding/mom-logo-share-hd.png\n",
    "     width=\"500\">"
   ]
  },
  {
   "cell_type": "markdown",
   "id": "individual-legislature",
   "metadata": {},
   "source": [
    "# List of acceptable institutions"
   ]
  },
  {
   "cell_type": "markdown",
   "id": "introductory-jungle",
   "metadata": {},
   "source": [
    "In this notebook you will be able to query the University/Institution by their location **(country)**"
   ]
  },
  {
   "cell_type": "markdown",
   "id": "widespread-liverpool",
   "metadata": {},
   "source": [
    "***\n",
    "## Data Manipulation Section"
   ]
  },
  {
   "cell_type": "markdown",
   "id": "second-diploma",
   "metadata": {},
   "source": [
    "### Importing the modules "
   ]
  },
  {
   "cell_type": "code",
   "execution_count": 1,
   "id": "extensive-structure",
   "metadata": {},
   "outputs": [],
   "source": [
    "import pandas as pd\n",
    "import numpy as np\n",
    "from IPython.display import Markdown as md"
   ]
  },
  {
   "cell_type": "markdown",
   "id": "respected-insulin",
   "metadata": {},
   "source": [
    "### Reading the csv"
   ]
  },
  {
   "cell_type": "code",
   "execution_count": 2,
   "id": "indoor-imperial",
   "metadata": {},
   "outputs": [],
   "source": [
    "df = pd.read_csv(\"data.csv\")"
   ]
  },
  {
   "cell_type": "markdown",
   "id": "turned-terminal",
   "metadata": {},
   "source": [
    "### Renaming the Columns and Cleaning the Data"
   ]
  },
  {
   "cell_type": "code",
   "execution_count": 3,
   "id": "artificial-accessory",
   "metadata": {
    "scrolled": true
   },
   "outputs": [],
   "source": [
    "df = df.rename(columns={\"Unnamed: 0\":\"id\",\"institutition\": \"Institution\", \"country\": \"Country\"})\n",
    "df = df.drop(\"id\",axis=1)"
   ]
  },
  {
   "cell_type": "markdown",
   "id": "handed-desert",
   "metadata": {},
   "source": [
    "### Grouping the Data by Country"
   ]
  },
  {
   "cell_type": "code",
   "execution_count": 4,
   "id": "educated-parameter",
   "metadata": {
    "scrolled": false
   },
   "outputs": [],
   "source": [
    "df_grouped_by_country = df.groupby(['Country','Institution']).count()"
   ]
  },
  {
   "cell_type": "markdown",
   "id": "likely-behalf",
   "metadata": {},
   "source": [
    "### Getting the Countries Availables in the Data"
   ]
  },
  {
   "cell_type": "code",
   "execution_count": 5,
   "id": "independent-hartford",
   "metadata": {},
   "outputs": [],
   "source": [
    "available_countries = df.Country.unique()"
   ]
  },
  {
   "cell_type": "markdown",
   "id": "hungry-screening",
   "metadata": {},
   "source": [
    "***\n",
    "## Query Section"
   ]
  },
  {
   "cell_type": "markdown",
   "id": "pediatric-wildlife",
   "metadata": {},
   "source": [
    "Below a list of the available countries is shown, either copy and paste the country name in the input box or write down the **EXACT** name of the country."
   ]
  },
  {
   "cell_type": "code",
   "execution_count": 6,
   "id": "conditional-topic",
   "metadata": {},
   "outputs": [
    {
     "data": {
      "text/markdown": [
       "Countries: ['Denmark' 'Germany' 'Japan' 'Philippines' 'United Kingdom' 'China'\n",
       " 'Israel' 'United States of America' 'Canada' 'Australia' 'Singapore'\n",
       " 'Hong Kong' 'Korea' 'Thailand' 'Indonesia' 'France' 'Switzerland'\n",
       " 'Netherlands' 'Spain' 'India' 'Austria' 'Russia' 'Taiwan' 'Ireland'\n",
       " 'Italy' 'Brazil' 'Belgium' 'Sweden' 'Norway' 'Malaysia' 'New Zealand'\n",
       " 'Finland']"
      ],
      "text/plain": [
       "<IPython.core.display.Markdown object>"
      ]
     },
     "execution_count": 6,
     "metadata": {},
     "output_type": "execute_result"
    }
   ],
   "source": [
    "md(f\"Countries: {available_countries}\")"
   ]
  },
  {
   "cell_type": "markdown",
   "id": "polyphonic-illustration",
   "metadata": {},
   "source": [
    "**Query Input**"
   ]
  },
  {
   "cell_type": "code",
   "execution_count": null,
   "id": "dietary-blair",
   "metadata": {},
   "outputs": [],
   "source": [
    "try:\n",
    "    df2 = df.groupby('Country')\n",
    "    input_country = str(input(\"Enter a country: \"))\n",
    "    mask = df2.get_group(input_country)\n",
    "    mask\n",
    "except:\n",
    "    print(\"An exception occurred\")"
   ]
  }
 ],
 "metadata": {
  "kernelspec": {
   "display_name": "Python 3",
   "language": "python",
   "name": "python3"
  },
  "language_info": {
   "codemirror_mode": {
    "name": "ipython",
    "version": 3
   },
   "file_extension": ".py",
   "mimetype": "text/x-python",
   "name": "python",
   "nbconvert_exporter": "python",
   "pygments_lexer": "ipython3",
   "version": "3.8.5"
  }
 },
 "nbformat": 4,
 "nbformat_minor": 5
}
