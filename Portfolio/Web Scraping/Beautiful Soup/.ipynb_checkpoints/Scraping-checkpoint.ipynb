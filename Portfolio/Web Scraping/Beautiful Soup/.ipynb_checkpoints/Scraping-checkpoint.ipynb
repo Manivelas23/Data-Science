{
 "cells": [
  {
   "cell_type": "code",
   "execution_count": 2,
   "metadata": {},
   "outputs": [],
   "source": [
    "import pandas as pd\n",
    "import requests\n",
    "import sqlite3\n",
    "from bs4 import BeautifulSoup\n",
    "\n",
    "webpage = requests.get(\n",
    "    \"https://content.codecademy.com/courses/beautifulsoup/shellter.html\")\n",
    "soup = BeautifulSoup(webpage.content, \"html.parser\")\n",
    "\n",
    "turtle_names = [\n",
    "    i.p.string.replace(\" \", \"\")\n",
    "    for i in soup.find_all(attrs=({\n",
    "        'class': 'box adopt'\n",
    "    }))\n",
    "]\n",
    "image_names = [i['src'] for i in soup.find_all(attrs=({'class': 'headshot'}))]\n",
    "\n",
    "turtle_info = list(\n",
    "    zip(range(0, len(turtle_names)), turtle_names, [\n",
    "        \"https://content.codecademy.com/courses/beautifulsoup/\" + i\n",
    "        for i in image_names\n",
    "    ]))"
   ]
  },
  {
   "cell_type": "code",
   "execution_count": 3,
   "metadata": {},
   "outputs": [
    {
     "name": "stdout",
     "output_type": "stream",
     "text": [
      "Esa tabla ya existe\n"
     ]
    }
   ],
   "source": [
    "db_connection = sqlite3.connect(\"turtles\")\n",
    "cursor = db_connection.cursor()\n",
    "try:\n",
    "    cursor.execute(\"\"\"\n",
    "    CREATE TABLE turtles_info(\n",
    "        id INTEGER PRIMARY KEY AUTOINCREMENT,\n",
    "        name TEXT,\n",
    "        image_url varchar(255)\n",
    "        )\n",
    "    \"\"\")\n",
    "except:\n",
    "    print('Esa tabla ya existe')"
   ]
  },
  {
   "cell_type": "code",
   "execution_count": 4,
   "metadata": {
    "scrolled": true
   },
   "outputs": [],
   "source": [
    "bool = False\n",
    "try:\n",
    "    if bool:\n",
    "        print('Esos valores ya fueron introducidos')\n",
    "    else:\n",
    "        cursor.executemany(\"\"\"INSERT INTO turtles_info VALUES (?,?,?)\"\"\", turtle_info)\n",
    "        bool = True\n",
    "except:\n",
    "    print('Esos valores ya fueron introducidos')"
   ]
  },
  {
   "cell_type": "code",
   "execution_count": 8,
   "metadata": {},
   "outputs": [
    {
     "data": {
      "text/html": [
       "<div>\n",
       "<style scoped>\n",
       "    .dataframe tbody tr th:only-of-type {\n",
       "        vertical-align: middle;\n",
       "    }\n",
       "\n",
       "    .dataframe tbody tr th {\n",
       "        vertical-align: top;\n",
       "    }\n",
       "\n",
       "    .dataframe thead th {\n",
       "        text-align: right;\n",
       "    }\n",
       "</style>\n",
       "<table border=\"1\" class=\"dataframe\">\n",
       "  <thead>\n",
       "    <tr style=\"text-align: right;\">\n",
       "      <th></th>\n",
       "      <th>id</th>\n",
       "      <th>name</th>\n",
       "      <th>image_url</th>\n",
       "    </tr>\n",
       "  </thead>\n",
       "  <tbody>\n",
       "    <tr>\n",
       "      <th>0</th>\n",
       "      <td>0</td>\n",
       "      <td>Aesop</td>\n",
       "      <td>https://content.codecademy.com/courses/beautifulsoup/aesop.png</td>\n",
       "    </tr>\n",
       "    <tr>\n",
       "      <th>1</th>\n",
       "      <td>1</td>\n",
       "      <td>Caesar</td>\n",
       "      <td>https://content.codecademy.com/courses/beautifulsoup/caesar.png</td>\n",
       "    </tr>\n",
       "    <tr>\n",
       "      <th>2</th>\n",
       "      <td>2</td>\n",
       "      <td>Sulla</td>\n",
       "      <td>https://content.codecademy.com/courses/beautifulsoup/sulla.png</td>\n",
       "    </tr>\n",
       "    <tr>\n",
       "      <th>3</th>\n",
       "      <td>3</td>\n",
       "      <td>Spyro</td>\n",
       "      <td>https://content.codecademy.com/courses/beautifulsoup/spyro.png</td>\n",
       "    </tr>\n",
       "    <tr>\n",
       "      <th>4</th>\n",
       "      <td>4</td>\n",
       "      <td>Zelda</td>\n",
       "      <td>https://content.codecademy.com/courses/beautifulsoup/zelda.png</td>\n",
       "    </tr>\n",
       "    <tr>\n",
       "      <th>5</th>\n",
       "      <td>5</td>\n",
       "      <td>Bandicoot</td>\n",
       "      <td>https://content.codecademy.com/courses/beautifulsoup/bandicoot.png</td>\n",
       "    </tr>\n",
       "    <tr>\n",
       "      <th>6</th>\n",
       "      <td>6</td>\n",
       "      <td>Hal</td>\n",
       "      <td>https://content.codecademy.com/courses/beautifulsoup/hal.png</td>\n",
       "    </tr>\n",
       "    <tr>\n",
       "      <th>7</th>\n",
       "      <td>7</td>\n",
       "      <td>Mock</td>\n",
       "      <td>https://content.codecademy.com/courses/beautifulsoup/mock.png</td>\n",
       "    </tr>\n",
       "    <tr>\n",
       "      <th>8</th>\n",
       "      <td>8</td>\n",
       "      <td>CaptainSparrow</td>\n",
       "      <td>https://content.codecademy.com/courses/beautifulsoup/sparrow.png</td>\n",
       "    </tr>\n",
       "  </tbody>\n",
       "</table>\n",
       "</div>"
      ],
      "text/plain": [
       "   id            name  \\\n",
       "0  0   Aesop            \n",
       "1  1   Caesar           \n",
       "2  2   Sulla            \n",
       "3  3   Spyro            \n",
       "4  4   Zelda            \n",
       "5  5   Bandicoot        \n",
       "6  6   Hal              \n",
       "7  7   Mock             \n",
       "8  8   CaptainSparrow   \n",
       "\n",
       "                                                            image_url  \n",
       "0  https://content.codecademy.com/courses/beautifulsoup/aesop.png      \n",
       "1  https://content.codecademy.com/courses/beautifulsoup/caesar.png     \n",
       "2  https://content.codecademy.com/courses/beautifulsoup/sulla.png      \n",
       "3  https://content.codecademy.com/courses/beautifulsoup/spyro.png      \n",
       "4  https://content.codecademy.com/courses/beautifulsoup/zelda.png      \n",
       "5  https://content.codecademy.com/courses/beautifulsoup/bandicoot.png  \n",
       "6  https://content.codecademy.com/courses/beautifulsoup/hal.png        \n",
       "7  https://content.codecademy.com/courses/beautifulsoup/mock.png       \n",
       "8  https://content.codecademy.com/courses/beautifulsoup/sparrow.png    "
      ]
     },
     "metadata": {},
     "output_type": "display_data"
    }
   ],
   "source": [
    "sql_query = pd.read_sql_query(\"\"\"SELECT * FROM turtles_info\"\"\", db_connection)\n",
    "df = pd.DataFrame(sql_query)\n",
    "display(df)\n",
    "pd.set_option('display.max_colwidth', 10)"
   ]
  },
  {
   "cell_type": "code",
   "execution_count": null,
   "metadata": {},
   "outputs": [],
   "source": []
  }
 ],
 "metadata": {
  "kernelspec": {
   "display_name": "Python 3",
   "language": "python",
   "name": "python3"
  },
  "language_info": {
   "codemirror_mode": {
    "name": "ipython",
    "version": 3
   },
   "file_extension": ".py",
   "mimetype": "text/x-python",
   "name": "python",
   "nbconvert_exporter": "python",
   "pygments_lexer": "ipython3",
   "version": "3.8.6"
  },
  "toc": {
   "base_numbering": 1,
   "nav_menu": {},
   "number_sections": true,
   "sideBar": true,
   "skip_h1_title": false,
   "title_cell": "Table of Contents",
   "title_sidebar": "Contents",
   "toc_cell": false,
   "toc_position": {},
   "toc_section_display": true,
   "toc_window_display": false
  }
 },
 "nbformat": 4,
 "nbformat_minor": 4
}
