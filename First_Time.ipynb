{
 "cells": [
  {
   "cell_type": "code",
   "execution_count": 1,
   "metadata": {},
   "outputs": [
    {
     "name": "stdout",
     "output_type": "stream",
     "text": [
      "6\n"
     ]
    }
   ],
   "source": [
    "print(2+4)\n"
   ]
  },
  {
   "cell_type": "markdown",
   "metadata": {},
   "source": [
    "**This a markdown cell!**\n",
    "\n",
    "Hello this is my *first* time trying __Jupyter Notebook__\n",
    "Here you have some python code: `print('hello world!!')`\n",
    "This is a line break: \n",
    "***\n",
    "Line break above \n",
    "***\n",
    "__Unordered List:__\n",
    "* Item 1\n",
    "* Item 2\n",
    "* Item 3\n",
    "* Item 4\n",
    "    * Sub Bulled Item 1\n",
    "    * Sub Bulled Item 2\n",
    "    * Sub Bulled Item 3\n",
    "***\n",
    "__Ordered List:__\n",
    "1. Item 1\n",
    "2. Item 2\n",
    "3. Item 3\n",
    "4. Item 4\n",
    "    1. Sub Bulled Item 1\n",
    "    2. Sub Bulled Item 2\n",
    "    3. Sub Bulled Item 3\n",
    "***\n",
    "![SonicVergas](https://stayhipp.com/wp-content/uploads/2019/05/memes2.jpg)\n",
    "***\n",
    "**Link to Sonic Image:**.[Sonic](https://stayhipp.com/wp-content/uploads/2019/05/memes2.jpg)\n",
    "***\n",
    "**Internal link:** [Section Link for Intro](#Intro)"
   ]
  },
  {
   "cell_type": "code",
   "execution_count": 1,
   "metadata": {},
   "outputs": [
    {
     "name": "stdout",
     "output_type": "stream",
     "text": [
      "[91, 94, 97, 100]\n"
     ]
    }
   ],
   "source": [
    "def every_three_nums(start):\n",
    "  if start > 100:\n",
    "     return []\n",
    "  else:   \n",
    "    return list(range(start,101,3))\n",
    "\n",
    "print(every_three_nums(91))"
   ]
  }
 ],
 "metadata": {
  "kernelspec": {
   "display_name": "Python 3",
   "language": "python",
   "name": "python3"
  },
  "language_info": {
   "codemirror_mode": {
    "name": "ipython",
    "version": 3
   },
   "file_extension": ".py",
   "mimetype": "text/x-python",
   "name": "python",
   "nbconvert_exporter": "python",
   "pygments_lexer": "ipython3",
   "version": "3.8.3"
  }
 },
 "nbformat": 4,
 "nbformat_minor": 4
}
