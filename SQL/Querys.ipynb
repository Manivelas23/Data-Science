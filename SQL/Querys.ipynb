{
 "cells": [
  {
   "cell_type": "markdown",
   "metadata": {},
   "source": [
    "## Set Up"
   ]
  },
  {
   "cell_type": "code",
   "execution_count": 4,
   "metadata": {},
   "outputs": [],
   "source": [
    "import sqlalchemy\n",
    "import sqlite3"
   ]
  },
  {
   "cell_type": "code",
   "execution_count": 16,
   "metadata": {},
   "outputs": [
    {
     "ename": "NameError",
     "evalue": "name 'sqlalchemy' is not defined",
     "output_type": "error",
     "traceback": [
      "\u001b[0;31m---------------------------------------------------------------------------\u001b[0m",
      "\u001b[0;31mNameError\u001b[0m                                 Traceback (most recent call last)",
      "\u001b[0;32m<ipython-input-16-a321d1d60d23>\u001b[0m in \u001b[0;36m<module>\u001b[0;34m\u001b[0m\n\u001b[0;32m----> 1\u001b[0;31m \u001b[0msqlalchemy\u001b[0m\u001b[0;34m.\u001b[0m\u001b[0mcreate_engine\u001b[0m\u001b[0;34m(\u001b[0m\u001b[0;34m'sqlite:///movies.db'\u001b[0m\u001b[0;34m)\u001b[0m\u001b[0;34m\u001b[0m\u001b[0;34m\u001b[0m\u001b[0m\n\u001b[0m\u001b[1;32m      2\u001b[0m \u001b[0mconn\u001b[0m \u001b[0;34m=\u001b[0m \u001b[0msqlite3\u001b[0m\u001b[0;34m.\u001b[0m\u001b[0mconnect\u001b[0m\u001b[0;34m(\u001b[0m\u001b[0;34m\"movies.db\"\u001b[0m\u001b[0;34m)\u001b[0m\u001b[0;34m\u001b[0m\u001b[0;34m\u001b[0m\u001b[0m\n\u001b[1;32m      3\u001b[0m \u001b[0mcursor\u001b[0m \u001b[0;34m=\u001b[0m \u001b[0mconn\u001b[0m\u001b[0;34m.\u001b[0m\u001b[0mcursor\u001b[0m\u001b[0;34m(\u001b[0m\u001b[0;34m)\u001b[0m\u001b[0;34m\u001b[0m\u001b[0;34m\u001b[0m\u001b[0m\n\u001b[1;32m      4\u001b[0m \u001b[0mget_ipython\u001b[0m\u001b[0;34m(\u001b[0m\u001b[0;34m)\u001b[0m\u001b[0;34m.\u001b[0m\u001b[0mrun_line_magic\u001b[0m\u001b[0;34m(\u001b[0m\u001b[0;34m'reload_ext'\u001b[0m\u001b[0;34m,\u001b[0m \u001b[0;34m'sql'\u001b[0m\u001b[0;34m)\u001b[0m\u001b[0;34m\u001b[0m\u001b[0;34m\u001b[0m\u001b[0m\n",
      "\u001b[0;31mNameError\u001b[0m: name 'sqlalchemy' is not defined"
     ]
    }
   ],
   "source": [
    "sqlalchemy.create_engine('sqlite:///movies.db')\n",
    "conn = sqlite3.connect(\"movies.db\")\n",
    "cursor = conn.cursor()\n",
    "%reload_ext sql"
   ]
  },
  {
   "cell_type": "code",
   "execution_count": 15,
   "metadata": {},
   "outputs": [
    {
     "ename": "SyntaxError",
     "evalue": "invalid syntax (<ipython-input-15-8c1598bc1437>, line 1)",
     "output_type": "error",
     "traceback": [
      "\u001b[0;36m  File \u001b[0;32m\"<ipython-input-15-8c1598bc1437>\"\u001b[0;36m, line \u001b[0;32m1\u001b[0m\n\u001b[0;31m    sql sqlite:///movies.db\u001b[0m\n\u001b[0m        ^\u001b[0m\n\u001b[0;31mSyntaxError\u001b[0m\u001b[0;31m:\u001b[0m invalid syntax\n"
     ]
    }
   ],
   "source": [
    "sql sqlite:///movies.db"
   ]
  },
  {
   "cell_type": "code",
   "execution_count": 14,
   "metadata": {},
   "outputs": [
    {
     "name": "stderr",
     "output_type": "stream",
     "text": [
      "UsageError: Cell magic `%%sql` not found.\n"
     ]
    }
   ],
   "source": [
    "%%sql \n",
    "CREATE TABLE movies_table(\n",
    "    id INTEGER PRIMARY KEY,\n",
    "    name TEXT,\n",
    "    genre TEXT,\n",
    "    year INT,\n",
    "    imdb_rating FLOAT);"
   ]
  },
  {
   "cell_type": "code",
   "execution_count": 8,
   "metadata": {},
   "outputs": [],
   "source": [
    "movies = [(1,'Avatar','action',2009,7.9),(2,'Jurassic World','action',2015,7.3),\n",
    "          (3,'The Avengers','action',2012,8.1),(4,'The Dark Knight','action',2009,9.0),\n",
    "          (5,'Ghostbusters','comedy',1984,7.8),(6,'Rush Hour 2','comedy',2001,6.6),\n",
    "          (7,'Big Hero 6','comedy',2014,7.9),(8,'Anaconda','horror',1997,4.6),\n",
    "         (9,'Wolf','horror',1994,6.2),(10,'Friday the 13th','horror',2009,5.6),\n",
    "         (11,'Titanic','romance',1997,7.7),(12,'Forrest Gump','romance',1994,8.8),\n",
    "         (13,'The Twilight Saga: Eclipse','romance',2010,4.9),(14,'A Beautiful Mind','drama',2001,8.2),\n",
    "         (15,'The Help','drama',2011,8.1),(16,'3 Men and a Baby','drama',1987,5.9)]\n"
   ]
  },
  {
   "cell_type": "code",
   "execution_count": 2,
   "metadata": {},
   "outputs": [
    {
     "name": "stdout",
     "output_type": "stream",
     "text": [
      "name 'cursor' is not defined\n"
     ]
    }
   ],
   "source": [
    "try:\n",
    "    cursor.executemany(\"\"\"INSERT INTO movies_table VALUES (?,?,?,?,?)\"\"\", movies)\n",
    "except Exception as e:\n",
    "    print(str(e))"
   ]
  },
  {
   "cell_type": "code",
   "execution_count": 11,
   "metadata": {},
   "outputs": [],
   "source": [
    "conn.commit()"
   ]
  },
  {
   "cell_type": "markdown",
   "metadata": {},
   "source": [
    "***\n",
    "## Querys "
   ]
  },
  {
   "cell_type": "markdown",
   "metadata": {},
   "source": [
    "One of the core purposes of the SQL language is to retrieve information stored in a database. This is commonly referred to as querying. Queries allow us to communicate with the database by asking questions and returning a result set with data relevant to the question."
   ]
  },
  {
   "cell_type": "markdown",
   "metadata": {},
   "source": [
    "### Select"
   ]
  },
  {
   "cell_type": "markdown",
   "metadata": {},
   "source": [
    "* We want the name and the year of each movie"
   ]
  },
  {
   "cell_type": "code",
   "execution_count": null,
   "metadata": {},
   "outputs": [],
   "source": [
    "%%sql \n",
    "SELECT name,year FROM movies_table"
   ]
  },
  {
   "cell_type": "markdown",
   "metadata": {},
   "source": [
    "### Select As"
   ]
  },
  {
   "cell_type": "markdown",
   "metadata": {},
   "source": [
    "* `AS` is a keyword in SQL that allows you to rename a column or table using an alias. The new name can be anything you want as long as you put it inside of single quotes."
   ]
  },
  {
   "cell_type": "code",
   "execution_count": null,
   "metadata": {
    "scrolled": true
   },
   "outputs": [],
   "source": [
    "%%sql\n",
    "SELECT name as 'Title' FROM movies_table"
   ]
  },
  {
   "cell_type": "markdown",
   "metadata": {},
   "source": [
    "### Distinct"
   ]
  },
  {
   "cell_type": "markdown",
   "metadata": {},
   "source": [
    "`DISTINCT` is used to return unique values in the output. It filters out all duplicate values in the specified column(s)."
   ]
  },
  {
   "cell_type": "code",
   "execution_count": null,
   "metadata": {
    "scrolled": true
   },
   "outputs": [],
   "source": [
    "%%sql \n",
    " \n",
    "SELECT DISTINCT genre FROM movies_table"
   ]
  },
  {
   "cell_type": "markdown",
   "metadata": {},
   "source": [
    "### Where"
   ]
  },
  {
   "cell_type": "code",
   "execution_count": null,
   "metadata": {},
   "outputs": [],
   "source": [
    "%%sql\n",
    "\n",
    "SELECT * FROM movies_table\n",
    "WHERE imdb_rating > 8"
   ]
  },
  {
   "cell_type": "markdown",
   "metadata": {},
   "source": [
    "### Like"
   ]
  },
  {
   "cell_type": "markdown",
   "metadata": {},
   "source": [
    "`LIKE` can be a useful operator when you want to compare similar values.\n",
    "\n",
    "The movies table contains two films with similar titles, ‘Se7en’ and ‘Seven’.\n",
    "\n",
    "How could we select all movies that start with ‘Se’ and end with ‘en’ and have exactly one character in the middle?\n",
    "\n",
    "`SELECT * `\n",
    "\n",
    "`FROM movies`\n",
    "\n",
    "`WHERE name LIKE 'Se_en';`\n",
    "\n",
    "**LIKE is a special operator used with the WHERE clause to search for a specific pattern in a column.**\n",
    "\n",
    "`name LIKE 'Se_en'` is a condition evaluating the name column for a specific pattern.\n",
    "\n",
    "`Se_en` represents a pattern with a wildcard character.\n",
    "\n",
    "The `_` means you can substitute any individual character here without breaking the pattern. The names Seven and Se7en both match this pattern."
   ]
  },
  {
   "cell_type": "code",
   "execution_count": null,
   "metadata": {},
   "outputs": [],
   "source": [
    "%%sql \n",
    "\n",
    "SELECT * FROM movies_table\n",
    "WHERE name like 'A_atar'"
   ]
  },
  {
   "cell_type": "markdown",
   "metadata": {},
   "source": [
    "### Like II"
   ]
  },
  {
   "cell_type": "markdown",
   "metadata": {},
   "source": [
    "The percentage sign `%` is another wildcard character that can be used with LIKE.\n",
    "% is a wildcard character that matches zero or more missing letters in the pattern. For example:\n",
    "\n",
    "* `A%` matches all movies with names that **begin** with letter ‘A’\n",
    "* `%a` matches all movies that **end** with ‘a’\n",
    "\n",
    "We can also use `%` both before and after a pattern:\n",
    "\n",
    "`SELECT * ` <br>\n",
    "`FROM movies` <br>\n",
    "`WHERE name LIKE '%man%';`<br>\n",
    "\n",
    "*Here, any movie that contains the word **‘man’**  in its name will be returned in the result.*"
   ]
  },
  {
   "cell_type": "code",
   "execution_count": null,
   "metadata": {},
   "outputs": [],
   "source": [
    "%%sql \n",
    "\n",
    "SELECT * FROM movies_table \n",
    "WHERE name LIKE '%nic'"
   ]
  },
  {
   "cell_type": "markdown",
   "metadata": {},
   "source": [
    "### Is Null"
   ]
  },
  {
   "cell_type": "markdown",
   "metadata": {},
   "source": [
    "Unknown values are indicated by `NULL`.\n",
    "\n",
    "It is not possible to test for` NULL` values with comparison operators, such as `=` and `!=`.\n",
    "\n",
    "Instead, we will have to use these operators:\n",
    "\n",
    "* IS NULL\n",
    "* IS NOT NULL"
   ]
  },
  {
   "cell_type": "code",
   "execution_count": 17,
   "metadata": {
    "scrolled": true
   },
   "outputs": [
    {
     "name": "stdout",
     "output_type": "stream",
     "text": [
      " * sqlite:///movies.db\n",
      "Done.\n"
     ]
    },
    {
     "data": {
      "text/html": [
       "<table>\n",
       "    <tr>\n",
       "        <th>id</th>\n",
       "        <th>name</th>\n",
       "        <th>genre</th>\n",
       "        <th>year</th>\n",
       "        <th>imdb_rating</th>\n",
       "    </tr>\n",
       "    <tr>\n",
       "        <td>1</td>\n",
       "        <td>Avatar</td>\n",
       "        <td>action</td>\n",
       "        <td>2009</td>\n",
       "        <td>7.9</td>\n",
       "    </tr>\n",
       "    <tr>\n",
       "        <td>2</td>\n",
       "        <td>Jurassic World</td>\n",
       "        <td>action</td>\n",
       "        <td>2015</td>\n",
       "        <td>7.3</td>\n",
       "    </tr>\n",
       "    <tr>\n",
       "        <td>3</td>\n",
       "        <td>The Avengers</td>\n",
       "        <td>action</td>\n",
       "        <td>2012</td>\n",
       "        <td>8.1</td>\n",
       "    </tr>\n",
       "    <tr>\n",
       "        <td>4</td>\n",
       "        <td>The Dark Knight</td>\n",
       "        <td>action</td>\n",
       "        <td>2009</td>\n",
       "        <td>9.0</td>\n",
       "    </tr>\n",
       "    <tr>\n",
       "        <td>5</td>\n",
       "        <td>Ghostbusters</td>\n",
       "        <td>comedy</td>\n",
       "        <td>1984</td>\n",
       "        <td>7.8</td>\n",
       "    </tr>\n",
       "    <tr>\n",
       "        <td>6</td>\n",
       "        <td>Rush Hour 2</td>\n",
       "        <td>comedy</td>\n",
       "        <td>2001</td>\n",
       "        <td>6.6</td>\n",
       "    </tr>\n",
       "    <tr>\n",
       "        <td>7</td>\n",
       "        <td>Big Hero 6</td>\n",
       "        <td>comedy</td>\n",
       "        <td>2014</td>\n",
       "        <td>7.9</td>\n",
       "    </tr>\n",
       "    <tr>\n",
       "        <td>8</td>\n",
       "        <td>Anaconda</td>\n",
       "        <td>horror</td>\n",
       "        <td>1997</td>\n",
       "        <td>4.6</td>\n",
       "    </tr>\n",
       "    <tr>\n",
       "        <td>9</td>\n",
       "        <td>Wolf</td>\n",
       "        <td>horror</td>\n",
       "        <td>1994</td>\n",
       "        <td>6.2</td>\n",
       "    </tr>\n",
       "    <tr>\n",
       "        <td>10</td>\n",
       "        <td>Friday the 13th</td>\n",
       "        <td>horror</td>\n",
       "        <td>2009</td>\n",
       "        <td>5.6</td>\n",
       "    </tr>\n",
       "    <tr>\n",
       "        <td>11</td>\n",
       "        <td>Titanic</td>\n",
       "        <td>romance</td>\n",
       "        <td>1997</td>\n",
       "        <td>7.7</td>\n",
       "    </tr>\n",
       "    <tr>\n",
       "        <td>12</td>\n",
       "        <td>Forrest Gump</td>\n",
       "        <td>romance</td>\n",
       "        <td>1994</td>\n",
       "        <td>8.8</td>\n",
       "    </tr>\n",
       "    <tr>\n",
       "        <td>13</td>\n",
       "        <td>The Twilight Saga: Eclipse</td>\n",
       "        <td>romance</td>\n",
       "        <td>2010</td>\n",
       "        <td>4.9</td>\n",
       "    </tr>\n",
       "    <tr>\n",
       "        <td>14</td>\n",
       "        <td>A Beautiful Mind</td>\n",
       "        <td>drama</td>\n",
       "        <td>2001</td>\n",
       "        <td>8.2</td>\n",
       "    </tr>\n",
       "    <tr>\n",
       "        <td>15</td>\n",
       "        <td>The Help</td>\n",
       "        <td>drama</td>\n",
       "        <td>2011</td>\n",
       "        <td>8.1</td>\n",
       "    </tr>\n",
       "    <tr>\n",
       "        <td>16</td>\n",
       "        <td>3 Men and a Baby</td>\n",
       "        <td>drama</td>\n",
       "        <td>1987</td>\n",
       "        <td>5.9</td>\n",
       "    </tr>\n",
       "</table>"
      ],
      "text/plain": [
       "[(1, 'Avatar', 'action', 2009, 7.9),\n",
       " (2, 'Jurassic World', 'action', 2015, 7.3),\n",
       " (3, 'The Avengers', 'action', 2012, 8.1),\n",
       " (4, 'The Dark Knight', 'action', 2009, 9.0),\n",
       " (5, 'Ghostbusters', 'comedy', 1984, 7.8),\n",
       " (6, 'Rush Hour 2', 'comedy', 2001, 6.6),\n",
       " (7, 'Big Hero 6', 'comedy', 2014, 7.9),\n",
       " (8, 'Anaconda', 'horror', 1997, 4.6),\n",
       " (9, 'Wolf', 'horror', 1994, 6.2),\n",
       " (10, 'Friday the 13th', 'horror', 2009, 5.6),\n",
       " (11, 'Titanic', 'romance', 1997, 7.7),\n",
       " (12, 'Forrest Gump', 'romance', 1994, 8.8),\n",
       " (13, 'The Twilight Saga: Eclipse', 'romance', 2010, 4.9),\n",
       " (14, 'A Beautiful Mind', 'drama', 2001, 8.2),\n",
       " (15, 'The Help', 'drama', 2011, 8.1),\n",
       " (16, '3 Men and a Baby', 'drama', 1987, 5.9)]"
      ]
     },
     "execution_count": 17,
     "metadata": {},
     "output_type": "execute_result"
    }
   ],
   "source": [
    "%%sql \n",
    "\n",
    "SELECT * FROM movies_table\n",
    "WHERE year IS NOT NULL"
   ]
  },
  {
   "cell_type": "markdown",
   "metadata": {},
   "source": [
    "### Between"
   ]
  },
  {
   "cell_type": "markdown",
   "metadata": {},
   "source": [
    "The `BETWEEN` operator is **used in a `WHERE` clause** to filter the result set within a certain range. It accepts two values that are either **numbers, text or dates**."
   ]
  },
  {
   "cell_type": "code",
   "execution_count": null,
   "metadata": {
    "scrolled": true
   },
   "outputs": [],
   "source": [
    "%%sql \n",
    "\n",
    "SELECT * FROM movies_table\n",
    "WHERE year BETWEEN 1997 AND 2009"
   ]
  },
  {
   "cell_type": "markdown",
   "metadata": {},
   "source": [
    "### AND"
   ]
  },
  {
   "cell_type": "markdown",
   "metadata": {},
   "source": [
    "Sometimes we want to combine multiple conditions in a `WHERE` clause to make the result set more specific and useful."
   ]
  },
  {
   "cell_type": "code",
   "execution_count": null,
   "metadata": {},
   "outputs": [],
   "source": [
    "%%sql \n",
    "\n",
    "SELECT * FROM movies_table\n",
    "WHERE year BETWEEN 1997 AND 2009 AND\n",
    "imdb_rating > 8"
   ]
  },
  {
   "cell_type": "markdown",
   "metadata": {},
   "source": [
    "*With `AND`, both conditions must be true for the row to be included in the result.*"
   ]
  },
  {
   "cell_type": "markdown",
   "metadata": {},
   "source": [
    "### Or"
   ]
  },
  {
   "cell_type": "markdown",
   "metadata": {},
   "source": [
    "Similar to `AND`, the `OR` operator can also be used to combine multiple conditions in WHERE, but there is a fundamental difference:\n",
    "\n",
    "* AND operator displays a row **if all the conditions are true**.\n",
    "* OR operator displays a row **if any condition is true**.\n"
   ]
  },
  {
   "cell_type": "code",
   "execution_count": null,
   "metadata": {
    "scrolled": true
   },
   "outputs": [],
   "source": [
    "%%sql \n",
    "\n",
    "SELECT * FROM movies_table\n",
    "WHERE year BETWEEN 1997 AND 2009 OR\n",
    "imdb_rating >= 8"
   ]
  },
  {
   "cell_type": "markdown",
   "metadata": {},
   "source": [
    "### Order By"
   ]
  },
  {
   "cell_type": "markdown",
   "metadata": {},
   "source": [
    "We can sort the results using `ORDER BY`, either alphabetically or numerically. Sorting the results often makes the data more useful and easier to analyze.\n",
    "\n",
    "* `ORDER BY` is a clause that indicates you want to sort the result set by a particular column.\n",
    "* `name` is the specified column."
   ]
  },
  {
   "cell_type": "code",
   "execution_count": null,
   "metadata": {},
   "outputs": [],
   "source": [
    "%%sql\n",
    "SELECT name FROM movies_table\n",
    "ORDER BY name "
   ]
  },
  {
   "cell_type": "markdown",
   "metadata": {},
   "source": [
    "* `DESC` is a keyword used in `ORDER BY` to sort the results in descending order (high to low or Z-A).\n",
    "* `ASC` is a keyword used in `ORDER BY` to sort the results in ascending order (low to high or A-Z)."
   ]
  },
  {
   "cell_type": "code",
   "execution_count": null,
   "metadata": {},
   "outputs": [],
   "source": [
    "%%sql \n",
    "SELECT * FROM movies_table\n",
    "WHERE year BETWEEN 1997 AND 2001 AND name like '%a%'\n",
    "ORDER BY name DESC\n"
   ]
  },
  {
   "cell_type": "markdown",
   "metadata": {},
   "source": [
    "**Note**: *`ORDER BY` always goes after `WHERE` (if WHERE is present).*"
   ]
  },
  {
   "cell_type": "markdown",
   "metadata": {},
   "source": [
    "\n",
    "### Limit"
   ]
  },
  {
   "cell_type": "markdown",
   "metadata": {},
   "source": [
    "`LIMIT` is a clause that lets you specify the maximum number of rows the result set will have. This saves space on our screen and makes our queries run faster.\n",
    "\n",
    "Here, we specify that the result set can’t have more than 6 rows.\n"
   ]
  },
  {
   "cell_type": "code",
   "execution_count": null,
   "metadata": {},
   "outputs": [],
   "source": [
    "%%sql\n",
    "SELECT * FROM movies_table\n",
    "LIMIT 6"
   ]
  },
  {
   "cell_type": "markdown",
   "metadata": {},
   "source": [
    "`LIMIT` always goes at the very end of the query. Also, it is not supported in all SQL databases."
   ]
  },
  {
   "cell_type": "markdown",
   "metadata": {},
   "source": [
    "### Case"
   ]
  },
  {
   "cell_type": "markdown",
   "metadata": {},
   "source": [
    "A `CASE` statement allows us to create different outputs (usually in the SELECT statement). It is SQL’s way of handling if-then logic.\n",
    "\n",
    "Suppose we want to condense the ratings in movies to three levels:\n",
    "\n",
    "* If the rating is above 8, then it is Fantastic.\n",
    "\n",
    "* If the rating is above 6, then it is Poorly Received.\n",
    "\n",
    "* Else, Avoid at All Costs."
   ]
  },
  {
   "cell_type": "code",
   "execution_count": 23,
   "metadata": {},
   "outputs": [
    {
     "name": "stdout",
     "output_type": "stream",
     "text": [
      " * sqlite:///movies.db\n",
      "Done.\n"
     ]
    },
    {
     "data": {
      "text/html": [
       "<table>\n",
       "    <tr>\n",
       "        <th>name</th>\n",
       "        <th>Review</th>\n",
       "    </tr>\n",
       "    <tr>\n",
       "        <td>Avatar</td>\n",
       "        <td>Poorly Received</td>\n",
       "    </tr>\n",
       "    <tr>\n",
       "        <td>Jurassic World</td>\n",
       "        <td>Poorly Received</td>\n",
       "    </tr>\n",
       "    <tr>\n",
       "        <td>The Avengers</td>\n",
       "        <td>Fantastic</td>\n",
       "    </tr>\n",
       "    <tr>\n",
       "        <td>The Dark Knight</td>\n",
       "        <td>Fantastic</td>\n",
       "    </tr>\n",
       "    <tr>\n",
       "        <td>Ghostbusters</td>\n",
       "        <td>Poorly Received</td>\n",
       "    </tr>\n",
       "    <tr>\n",
       "        <td>Rush Hour 2</td>\n",
       "        <td>Poorly Received</td>\n",
       "    </tr>\n",
       "    <tr>\n",
       "        <td>Big Hero 6</td>\n",
       "        <td>Poorly Received</td>\n",
       "    </tr>\n",
       "    <tr>\n",
       "        <td>Anaconda</td>\n",
       "        <td>Avoid at All Costs.</td>\n",
       "    </tr>\n",
       "    <tr>\n",
       "        <td>Wolf</td>\n",
       "        <td>Poorly Received</td>\n",
       "    </tr>\n",
       "    <tr>\n",
       "        <td>Friday the 13th</td>\n",
       "        <td>Avoid at All Costs.</td>\n",
       "    </tr>\n",
       "    <tr>\n",
       "        <td>Titanic</td>\n",
       "        <td>Poorly Received</td>\n",
       "    </tr>\n",
       "    <tr>\n",
       "        <td>Forrest Gump</td>\n",
       "        <td>Fantastic</td>\n",
       "    </tr>\n",
       "    <tr>\n",
       "        <td>The Twilight Saga: Eclipse</td>\n",
       "        <td>Avoid at All Costs.</td>\n",
       "    </tr>\n",
       "    <tr>\n",
       "        <td>A Beautiful Mind</td>\n",
       "        <td>Fantastic</td>\n",
       "    </tr>\n",
       "    <tr>\n",
       "        <td>The Help</td>\n",
       "        <td>Fantastic</td>\n",
       "    </tr>\n",
       "    <tr>\n",
       "        <td>3 Men and a Baby</td>\n",
       "        <td>Avoid at All Costs.</td>\n",
       "    </tr>\n",
       "</table>"
      ],
      "text/plain": [
       "[('Avatar', 'Poorly Received'),\n",
       " ('Jurassic World', 'Poorly Received'),\n",
       " ('The Avengers', 'Fantastic'),\n",
       " ('The Dark Knight', 'Fantastic'),\n",
       " ('Ghostbusters', 'Poorly Received'),\n",
       " ('Rush Hour 2', 'Poorly Received'),\n",
       " ('Big Hero 6', 'Poorly Received'),\n",
       " ('Anaconda', 'Avoid at All Costs.'),\n",
       " ('Wolf', 'Poorly Received'),\n",
       " ('Friday the 13th', 'Avoid at All Costs.'),\n",
       " ('Titanic', 'Poorly Received'),\n",
       " ('Forrest Gump', 'Fantastic'),\n",
       " ('The Twilight Saga: Eclipse', 'Avoid at All Costs.'),\n",
       " ('A Beautiful Mind', 'Fantastic'),\n",
       " ('The Help', 'Fantastic'),\n",
       " ('3 Men and a Baby', 'Avoid at All Costs.')]"
      ]
     },
     "execution_count": 23,
     "metadata": {},
     "output_type": "execute_result"
    }
   ],
   "source": [
    "%%sql\n",
    "SELECT name,\n",
    "    CASE\n",
    "        WHEN imdb_rating > 8 THEN 'Fantastic'\n",
    "        WHEN imdb_rating > 6 THEN 'Poorly Received'\n",
    "        ELSE 'Avoid at All Costs.'\n",
    "    END AS 'Review'\n",
    "FROM movies_table"
   ]
  }
 ],
 "metadata": {
  "kernelspec": {
   "display_name": "Python 3",
   "language": "python",
   "name": "python3"
  },
  "language_info": {
   "codemirror_mode": {
    "name": "ipython",
    "version": 3
   },
   "file_extension": ".py",
   "mimetype": "text/x-python",
   "name": "python",
   "nbconvert_exporter": "python",
   "pygments_lexer": "ipython3",
   "version": "3.8.6"
  }
 },
 "nbformat": 4,
 "nbformat_minor": 4
}
