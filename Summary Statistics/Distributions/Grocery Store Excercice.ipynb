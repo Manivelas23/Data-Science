{
 "cells": [
  {
   "cell_type": "markdown",
   "id": "static-shooting",
   "metadata": {},
   "source": [
    "# Average grocery store time\n",
    "\n",
    "Throughout this lesson, you will analyze grocery store data to understand how a histogram may be a better tool for communicating trends in your data. You will use this data to determine the best times for a manager to staff their store.\n",
    "\n",
    "Let’s start by looking at our data and calculating the average time that a person will enter the grocery store."
   ]
  },
  {
   "cell_type": "code",
   "execution_count": null,
   "id": "ongoing-surrey",
   "metadata": {},
   "outputs": [],
   "source": [
    "import pandas as pd\n",
    "import numpy as np"
   ]
  }
 ],
 "metadata": {
  "kernelspec": {
   "display_name": "Python 3",
   "language": "python",
   "name": "python3"
  },
  "language_info": {
   "codemirror_mode": {
    "name": "ipython",
    "version": 3
   },
   "file_extension": ".py",
   "mimetype": "text/x-python",
   "name": "python",
   "nbconvert_exporter": "python",
   "pygments_lexer": "ipython3",
   "version": "3.8.5"
  }
 },
 "nbformat": 4,
 "nbformat_minor": 5
}
