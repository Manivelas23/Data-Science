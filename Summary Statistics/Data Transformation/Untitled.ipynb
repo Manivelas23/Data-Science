{
 "cells": [
  {
   "cell_type": "markdown",
   "id": "invalid-nutrition",
   "metadata": {},
   "source": [
    "# Data Centering and Scaling\n",
    "## An introduction to data centering, min-max normalization, and standardization"
   ]
  },
  {
   "cell_type": "markdown",
   "id": "changed-commons",
   "metadata": {},
   "source": [
    "In this article, you will learn how to center and scale your data using common techniques. You will learn:\n",
    "\n",
    "* How to center data and interpret centered data\n",
    "* Why scaling your data is important\n",
    "* How to scale data using two common methods:\n",
    "    * Min-max Normalization\n",
    "    * Standardization  \n",
    "* When to choose normalization vs. standardization\n",
    "Let’s get started!\n",
    "\n",
    "### Data Centering\n",
    "\n",
    "Data centering involves subtracting the mean of a data set from each data point so that the new mean is 0. Mathematically, this looks like:\n",
    "\n",
    "k_{n+1}\n",
    "\n",
    "where X_i is a datapoint and the Greek letter μ is the mean of all the X values.\n",
    "\n",
    "For example, let’s take a look at a data set of ages for five individuals:\n",
    "\n",
    "ages = [24, 40, 28, 22, 56]\n",
    "The mean age in this data set is 34 years old.\n",
    "\n",
    "To center our data, we subtract the mean from each data point in ages:\n",
    "\n",
    "centered_ages = [-10, 6, -6, -12, 22]\n",
    "This centered data is useful because it tells us how far above or below the mean each data point is, giving us additional insight that we can’t get just by looking at the initial data set. For example, the age of the first individual is ten years below the average.\n",
    "\n",
    "Note that, because the sum of the centered values is 0 (-10 + 6 - 6 - 12 + 22 = 0), the mean of the centered data is 0.\n",
    "\n",
    "Data Scaling\n",
    "\n",
    "A common task for data analysts and scientists is to find trends in data by comparing features of data points. However, this task is made difficult when the features are on drastically different scales.\n",
    "\n",
    "For instance, let’s consider a data set containing two features, age and income.\n",
    "\n",
    "In general, a person’s age usually ranges from 0 to about 100 years. A person’s income, on the other hand, usually ranges from 0 to large amounts measured in the thousands of dollars. Clearly, age and income are two features that have vastly different ranges."
   ]
  }
 ],
 "metadata": {
  "kernelspec": {
   "display_name": "Python 3",
   "language": "python",
   "name": "python3"
  },
  "language_info": {
   "codemirror_mode": {
    "name": "ipython",
    "version": 3
   },
   "file_extension": ".py",
   "mimetype": "text/x-python",
   "name": "python",
   "nbconvert_exporter": "python",
   "pygments_lexer": "ipython3",
   "version": "3.8.5"
  }
 },
 "nbformat": 4,
 "nbformat_minor": 5
}
