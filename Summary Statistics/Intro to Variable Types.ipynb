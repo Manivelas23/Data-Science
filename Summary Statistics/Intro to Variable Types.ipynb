{
 "cells": [
  {
   "cell_type": "markdown",
   "metadata": {},
   "source": [
    "# Introduction\n",
    "Most datasets that a data scientist or analyst might work with contain variables that describe a set of observations. For example, we might have variables such as age, gender, and political party for a group of people (observations). In tabular data (eg., a spreadsheet), variables are represented by the columns of the spreadsheet. The types of variables within our dataset will have a great impact on the insights we can gain from our data. This is why it is important to understand variable types, and how different variables can offer different perspectives and functionalities within our data.\n",
    "\n",
    "Generally, variables will come in two varieties; categorical and quantitative. Categorical variables group observations into separate categories that can be ordered or unordered. Quantitative variables on the other hand are variables expressed numerically, whether as a count or measurement."
   ]
  },
  {
   "cell_type": "markdown",
   "metadata": {},
   "source": [
    "![](https://static-assets.codecademy.com/Courses/Hypothesis-Testing/vartypes_article.png)"
   ]
  },
  {
   "cell_type": "markdown",
   "metadata": {},
   "source": [
    "Let’s dive a bit deeper into the different variable types to understand how to identify them in a dataset.\n",
    "\n",
    "## Quantitative Variables\n",
    "We can think of quantitative variables as any information about an observation that can only be described with numbers. Quantitative variables are generally counts or measurements of something (eg., number of points earned in a game or height). They are well suited for mathematical operations and quantitative analysis, and are helpful for answering questions like “How many/much?”, “What is the average?”, or “How often?”. There are two types of quantitative variables; discrete and continuous, and they both help to serve different functions in a dataset.\n",
    "\n",
    "## Discrete Variables\n",
    "Discrete quantitative variables are numeric values that represent counts and can only take on integer values. They represent whole units that can not be broken down into smaller pieces, and as such cannot be meaningfully expressed with decimals or fractions. Examples of discrete variables are the number of children in a person’s family or the number of coin flips a person makes. Unless we are working with quantum mechanics, we can not meaningfully have flipped a coin 3.5 times, or have 4.75 sisters.\n",
    "\n",
    "When working with discrete variables in a dataset, you may see something similar to these values:"
   ]
  },
  {
   "cell_type": "markdown",
   "metadata": {},
   "source": [
    "|  |team_wins  | num_goals_season | num_fouls_season |num_of_players|\n",
    "|-----------|----------------|------------------|------------------|---|\n",
    "| Flaskers  | 4              | 21               | 8                | 2 |\n",
    "| Pythons   | 5              | 15               | 13               | 4 |\n",
    "| Coders    | 10             | 17               | 9                | 5 |\n",
    "| Julias    | 3              | 18               | 7                | 3 |\n"
   ]
  },
  {
   "cell_type": "markdown",
   "metadata": {},
   "source": [
    "When inspecting a dataset for discrete variables, ask yourself if the variable would make sense if you added .5 to any of the values. In the table above, we can see that half of a win, player, goal, or foul would not be feasible in any soccer match!\n",
    "\n",
    "## Continuous Variables\n",
    "Continuous quantitative variables are numeric measurements that can be expressed with decimal precision. Theoretically, continuous variables can take on infinitely many values within a given range. Examples of continuous variables are length, weight, and age which can all be described with decimal values."
   ]
  },
  {
   "cell_type": "markdown",
   "metadata": {},
   "source": [
    "|          | weight | age    | height | temperature |\n",
    "|----------|--------|--------|--------|-------------|\n",
    "| Michael  | 61.28  | 21.5   | 76.03  | 36.21       |\n",
    "| McKensey | 83.1   | 27.13  | 85.201 | 37.3        |\n",
    "| Joel     | 69.7   | 34.901 | 77.34  | 36.918      |\n",
    "| Barry    | 56.310 | 31.5   | 72.13  | 37.594      |\n"
   ]
  },
  {
   "cell_type": "markdown",
   "metadata": {},
   "source": [
    "Let’s take a look at the height variable which describes the height of a person. This variable as well as the others in the table can contain an infinite number of values. A person’s height could be 1.8 meters, or more precisely 1.800232 meters, or even more precisely 1.8002322344124 meters."
   ]
  },
  {
   "cell_type": "markdown",
   "metadata": {},
   "source": [
    "![](https://static-assets.codecademy.com/Courses/Hypothesis-Testing/height_gif.gif)"
   ]
  },
  {
   "cell_type": "markdown",
   "metadata": {},
   "source": [
    "Sometimes the line between discrete and continuous variables can be a bit blurry. For example, age with decimal values is a continuous variable, but age IN CLOSEST WHOLE YEARS by definition is discrete. The precision with which something is recorded can also determine how we classify the variable.\n",
    "\n",
    "## Categorical Variables\n",
    "Categorical variables differ from quantitative variables in that they focus on the different ways data can be grouped rather than counted or measured. With categorical variables, we want to understand how the observations in our dataset can be grouped and separated from one another based on their attributes. When the groupings have a specific order or ranking, the variable is an ordinal categorical variable. If there is no apparent order or ranking to the categories, we refer to the variable as a nominal categorical variable.\n",
    "\n",
    "## Ordinal Variables\n",
    "Do you remember working with a column in a dataset where the values of the column were groups that were greater or lesser than each other in some intrinsic way? Suppose there was a variable containing responses to the question “Rate your agreement with the statement: The minimum age to drive should be lowered.” The response options are “strongly disagree”, “disagree”, “neutral”, “agree”, and “strongly agree”. Because we can see an order where “strongly disagree” < “disagree “ < “neutral” < “agree” < “strongly agree” in relation to agreement, we consider the variable to be ordinal.\n",
    "\n",
    "Other examples of ordinal variables could be the standings in a sporting competition, age ranges, and customer ratings of a product or service."
   ]
  },
  {
   "cell_type": "markdown",
   "metadata": {},
   "source": [
    "|           | place | company_seniority | age_group | customer_rating |\n",
    "|-----------|-------|-------------------|-----------|-----------------|\n",
    "| A. Jacobs | 1     | junior            | 20-25     | very_satisfied  |\n",
    "| McKensey  | 3     | senior            | 35-40     | satisfied       |\n",
    "| Joel      | 7     | executive         | 30-35     | satisfied       |\n",
    "| Barry     | 4     | mid               | 50-55     | very_satisfied  |\n"
   ]
  },
  {
   "cell_type": "markdown",
   "metadata": {},
   "source": [
    "It is important to keep in mind when working with ordinal variables that the differences between categories can vary. We can see in the table above that each age group in the `age_group` column has a range of five years, and so groups are evenly spaced apart. However, the same logic can not be applied to the `customer_rating` variable. Here it is not accurate to assume that the difference between ”satisfied” and ”very satisfied” is the same as the difference between ”dissatisfied” and ”very dissatisfied”. This is a key difference between ordinal variables and discrete quantitative variables.\n",
    "\n",
    "## Nominal Variables\n",
    "Nominal categorical variables are those variables with two or more categories that do not have any relational order. Examples of nominal categories could be states in the U.S., brands of computers, or ethnicities. Notice how for each of these variables, there is no intrinsic ordering that distinguishes a category as greater than or less than another category."
   ]
  },
  {
   "cell_type": "markdown",
   "metadata": {},
   "source": [
    "|        | pet_type | color  | favorite_food  | adoption_city |\n",
    "|--------|----------|--------|----------------|---------------|\n",
    "| Fluffy | cat      | orange | fish_pate      | Sacramento    |\n",
    "| Bruno  | dog      | white  | peanut_butter  | Mt. Shasta    |\n",
    "| Alfie  | bird     | blue   | sunflower_seed | San Francisco |\n",
    "| Bitsy  | turtle   | green  | apple          | Los Angeles   |\n"
   ]
  },
  {
   "cell_type": "markdown",
   "metadata": {},
   "source": [
    "The number of possible values for a nominal variable can be quite large. It’s even possible that a nominal categorical variable will take on a unique value for every observation in a dataset, like in the case of unique identifiers such as `name` or `email_address`.\n",
    "\n",
    "Sometimes, identifying a nominal variable can be tricky if that variable has attributes that are ordinal or quantitative. For example, the `adoption_city` variable above is nominal; however, we could assign an ordering to adoption_city based on a city-specific attribute like yearly average temperature. We might do this if we want to build a model to predict whether a particular animal will be adopted — and believe that temperature is relevant in making this prediction. If temperature is the ONLY thing we care about with respect to adoption city, we could assign an order to `adoption_city` based on temperature (and rename the variable to something like `adoption_city_temp`). Alternatively, we could create a new ordinal variable in our dataset named city_rel_temp, which is completely dependent on `adoption_city` as shown below:"
   ]
  },
  {
   "cell_type": "markdown",
   "metadata": {},
   "source": [
    "| adoption_city | city_rel_temp |\n",
    "|---------------|---------------|\n",
    "| Sacramento    | cool          |\n",
    "| Mt. Shasta    | coldest       |\n",
    "| San Francisco | warm          |\n",
    "| Los Angeles   | warmest       |\n"
   ]
  },
  {
   "cell_type": "markdown",
   "metadata": {},
   "source": [
    "Now we can see that the `city_rel_temp` is an ordinal variable as it contains an order that is based fundamentally on the temperatures of the cities.\n",
    "\n",
    "## Binary Variables\n",
    "Binary or dichotomous variables are a special kind of nominal variable that have only two categories. Because there are only two possible values for binary variables, they are mutually exclusive to one another. We can imagine a variable that describes if a picture contains a cat or a dog as a binary variable. In this case, if the picture is not a dog, it must be a cat, and vice versa. Binary variables can also be described with numbers similar to bits with 0 or 1 values. Likewise you may find binary variables containing boolean values of True or False.\n"
   ]
  },
  {
   "cell_type": "markdown",
   "metadata": {},
   "source": [
    "|             | status | is_awake  | is_stable |\n",
    "|-------------|--------|-----------|-----------|\n",
    "| patient_101 | 1      | VERDADERO | No        |\n",
    "| patient_304 | 0      | VERDADERO | Yes       |\n",
    "| patient_107 | 1      | FALSO     | No        |\n",
    "| patient_514 | 1      | FALSO     | Yes       |\n"
   ]
  }
 ],
 "metadata": {
  "kernelspec": {
   "display_name": "Python 3",
   "language": "python",
   "name": "python3"
  },
  "language_info": {
   "codemirror_mode": {
    "name": "ipython",
    "version": 3
   },
   "file_extension": ".py",
   "mimetype": "text/x-python",
   "name": "python",
   "nbconvert_exporter": "python",
   "pygments_lexer": "ipython3",
   "version": "3.8.5"
  }
 },
 "nbformat": 4,
 "nbformat_minor": 4
}
