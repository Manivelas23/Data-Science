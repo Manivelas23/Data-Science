{
 "cells": [
  {
   "cell_type": "markdown",
   "id": "higher-projection",
   "metadata": {},
   "source": [
    "# Variance"
   ]
  },
  {
   "cell_type": "markdown",
   "id": "ultimate-click",
   "metadata": {},
   "source": [
    "Finding the mean, median, and mode of a dataset is a good way to start getting an understanding of the general shape of your data\n",
    "\n",
    "However, those three descriptive statistics only tell part of the story. Consider the two datasets below:\n",
    "\n",
    "```python\n",
    "dataset_one = [-4, -2, 0, 2, 4]\n",
    "dataset_two = [-400, -200, 0, 200, 400]\n",
    "```\n",
    "\n",
    "These two datasets have the same mean and median — both of those values happen to be 0. If we only reported these two statistics, we would not be communicating any meaninful difference between these two datasets.\n",
    "\n",
    "This is where variance comes into play. <br>\n",
    "**Variance is a descriptive statistic that describes how spread out the points in a data set are.**"
   ]
  },
  {
   "cell_type": "markdown",
   "id": "martial-immigration",
   "metadata": {},
   "source": [
    "## Distance From Mean\n",
    "Now that you have learned the importance of describing the spread of a dataset, let’s figure out how to mathematically compute this number.\n",
    "\n",
    "How would you attempt to capture the spread of the data in a single number?\n",
    "\n",
    "Let’s start with our intuition — we want the variance of a dataset to be a large number if the data is spread out, and a small number if the data is close together."
   ]
  },
  {
   "cell_type": "markdown",
   "id": "assured-testing",
   "metadata": {},
   "source": [
    "![](https://content.codecademy.com/courses/statistics/variance/two_histograms.svg)"
   ]
  },
  {
   "cell_type": "markdown",
   "id": "acting-appraisal",
   "metadata": {},
   "source": [
    "A lot of people may initially consider using the range of the data. But that only considers two points in your entire dataset. Instead, we can include every point in our calculation by finding the difference between every data point and the mean."
   ]
  },
  {
   "cell_type": "markdown",
   "id": "coupled-level",
   "metadata": {},
   "source": [
    "![](https://content.codecademy.com/courses/statistics/variance/difference.svg)"
   ]
  },
  {
   "cell_type": "markdown",
   "id": "global-python",
   "metadata": {},
   "source": [
    "f the data is close together, then each data point will tend to be close to the mean, and the difference will be small. If the data is spread out, the difference between every data point and the mean will be larger.\n",
    "\n",
    "Mathematically, we can write this comparison as\n",
    "\n",
    "`difference = X −μ`\n",
    "\n",
    "Where `X` is a single data point and the Greek letter `mu` is the mean."
   ]
  },
  {
   "cell_type": "markdown",
   "id": "difficult-notification",
   "metadata": {},
   "source": [
    "#### Python Example"
   ]
  },
  {
   "cell_type": "code",
   "execution_count": null,
   "id": "congressional-cooking",
   "metadata": {},
   "outputs": [],
   "source": [
    "import numpy as np\n",
    "\n",
    "grades = [88, 82, 85, 84, 90]\n",
    "mean = np.mean(grades)\n",
    "\n",
    "difference_one = grades[0] - mean\n",
    "difference_two = grades[1] - mean\n",
    "difference_three = grades[2] - mean\n",
    "difference_four = grades[3] - mean\n",
    "difference_five = grades[4] - mean\n",
    "\n",
    "\n",
    "# IGNORE CODE BELOW HERE\n",
    "print(\"The mean of the data set is \" + str(mean) + \"\\n\")\n",
    "print(\"The first student is \" +str(round(difference_one, 2)) + \" percentage points away from the mean.\")\n",
    "print(\"The second student is \" +str(round(difference_two, 2)) + \" percentage points away from the mean.\")\n",
    "print(\"The third student is \" +str(round(difference_three, 2)) + \" percentage points away from the mean.\")\n",
    "print(\"The fourth student is \" +str(round(difference_four, 2)) + \" percentage points away from the mean.\")\n",
    "print(\"The fifth student is \" +str(round(difference_five, 2)) + \" percentage points away from the mean.\")"
   ]
  },
  {
   "cell_type": "markdown",
   "id": "electrical-inquiry",
   "metadata": {},
   "source": [
    "## Average Distances\n",
    "We now have five different values that describe how far away each point is from the mean. That seems to be a good start in describing the spread of the data. But the whole point of calculating variance was to get one number that describes the dataset. We don’t want to report five values — we want to combine those into one descriptive statistic.\n",
    "\n",
    "To do this, we’ll take the average of those five numbers. By adding those numbers together and dividing by 5, we’ll end up with a single number that describes the average distance between our data points and the mean.\n",
    "\n",
    "Note that we’re not quite done yet — our final answer is going to look a bit strange here. There’s a small problem that we’ll fix in the next exercise."
   ]
  },
  {
   "cell_type": "markdown",
   "id": "greenhouse-decline",
   "metadata": {},
   "source": [
    "#### Python Example"
   ]
  },
  {
   "cell_type": "code",
   "execution_count": null,
   "id": "temporal-trust",
   "metadata": {},
   "outputs": [],
   "source": [
    "import numpy as np\n",
    "\n",
    "grades = [88, 82, 85, 84, 90]\n",
    "mean = np.average(grades)\n",
    "\n",
    "difference_one = 88 - mean\n",
    "difference_two = 82 - mean\n",
    "difference_three = 85 - mean\n",
    "difference_four = 84 - mean\n",
    "difference_five = 90 - mean\n",
    "\n",
    "#Part 1: Sum the differences\n",
    "difference_sum = difference_one+difference_two+difference_three+difference_four+difference_five\n",
    "  \n",
    "\n",
    "#Part 2: Average the differences\n",
    "average_difference = difference_sum/5 \n",
    "\n",
    "#IGNORE CODE BELOW HERE\n",
    "print(\"The sum of the differences is \" + str(format(difference_sum, \"e\")))\n",
    "print(\"The average difference is \" + str(format(average_difference, \"e\")))"
   ]
  },
  {
   "cell_type": "markdown",
   "id": "virgin-stress",
   "metadata": {},
   "source": [
    "## Square The Differences\n",
    "We’re almost there! We have one small problem with our equation. Consider this very small dataset:\n",
    "\n",
    "`[-5, 5]`\n",
    "\n",
    "The mean of this dataset is `0`, so when we find the difference between each point and the mean we get` -5 - 0 = -5 ` and` 5 - 0 = 5`.\n",
    "\n",
    "When we take the average of `-5` and `5` to get the variance, we get `0`!\n",
    "\n",
    "Now think about what would happen if the dataset were `[-200, 200]`. We’d get the same result! That can’t possibly be right — the dataset with `200` is much more spread out than the dataset with `5`, so the variance should be much larger!\n",
    "\n",
    "The problem here is with negative numbers. Because one of our data points was `5` units below the mean and the other was `5` units above the mean, they canceled each other out!\n",
    "\n",
    "When calculating variance, we don’t care if a data point was above or below the mean — all we care about is how far away it was. To get rid of those pesky negative numbers, we’ll square the difference between each data point and the mean.\n",
    "\n",
    "Our equation for finding the difference between a data point and the mean now looks like this:\n",
    "\n",
    "\n",
    "`difference=(X−μ)^2`\n",
    " "
   ]
  },
  {
   "cell_type": "markdown",
   "id": "choice-plumbing",
   "metadata": {},
   "source": [
    "#### Python Example"
   ]
  },
  {
   "cell_type": "code",
   "execution_count": null,
   "id": "following-qualification",
   "metadata": {
    "scrolled": true
   },
   "outputs": [],
   "source": [
    "import numpy as np\n",
    "\n",
    "grades = [88, 82, 85, 84, 90]\n",
    "mean = np.mean(grades)\n",
    "\n",
    "#When calculating these variables, square the difference.\n",
    "difference_one = (88 - mean) **2\n",
    "difference_two = (82 - mean)**2\n",
    "difference_three = (85 - mean)**2\n",
    "difference_four = (84 - mean)**2\n",
    "difference_five = (90 - mean)**2\n",
    "\n",
    "difference_sum = difference_one + difference_two + difference_three + difference_four + difference_five\n",
    "\n",
    "variance = difference_sum / 5\n",
    "\n",
    "print(\"The sum of the squared differences is \" + str(difference_sum))\n",
    "print(\"The variance is \" + str(variance))"
   ]
  },
  {
   "cell_type": "markdown",
   "id": "victorian-africa",
   "metadata": {},
   "source": [
    "## Variance In NumPy\n",
    "\n",
    "Well done! You’ve calculated the variance of a data set. <br>\n",
    "\n",
    "\n",
    "The full equation for the variance is as follows:\n",
    "\n",
    "$$\\sigma^2 =  \\sum_{i=1}^{N}  \\frac{(x_i + \\mu)^2}{N}$$\n",
    "\n",
    "Let’s dissect this equation a bit.\n",
    "\n",
    "Variance is usually represented by the symbol sigma squared.\n",
    "\n",
    "\n",
    "We start by taking every point in the dataset — from point number 1 to point number N — and finding the difference between that point and the mean.\n",
    "\n",
    "\n",
    "Next, we square each difference to make all differences positive.\n",
    "Finally, we average those squared differences by adding them together and dividing by N, the total number of points in the dataset.\n",
    "\n",
    "\n",
    "All of this work can be done quickly using Python’s NumPy library. The var() function takes a list of numbers as a parameter and returns the variance of that dataset.\n",
    "\n",
    "```python\n",
    "import numpy as np\n",
    "dataset = [3, 5, -2, 49, 10]\n",
    "variance = np.var(dataset)\n",
    "```"
   ]
  },
  {
   "cell_type": "markdown",
   "id": "impaired-contamination",
   "metadata": {},
   "source": [
    "#### Python Example"
   ]
  },
  {
   "cell_type": "markdown",
   "id": "unlimited-participant",
   "metadata": {},
   "source": [
    "We’ve imported the same two datasets from the beginning of the lesson. Run the code to see a histogram of the two datasets. This time, the histograms are plotted on the same graph to help visualize the difference in spread.\n",
    "\n",
    "Which dataset do you expect to have a larger variance?"
   ]
  },
  {
   "cell_type": "code",
   "execution_count": 1,
   "id": "median-antibody",
   "metadata": {},
   "outputs": [
    {
     "data": {
      "image/png": "[encoded data removed]",
      "text/plain": [
       "<Figure size 432x288 with 1 Axes>"
      ]
     },
     "metadata": {
      "needs_background": "light"
     },
     "output_type": "display_data"
    },
    {
     "name": "stdout",
     "output_type": "stream",
     "text": [
      "The mean of the test scores in teacher one's class is 84.46766666666666\n",
      "The mean of the test scores in teacher two's class is 84.29799999999999\n",
      "The variance of the test scores in teacher one's class is 4.266517888888889\n",
      "The variance of the test scores in teacher two's class is 78.13198933333337\n"
     ]
    }
   ],
   "source": [
    "import numpy as np\n",
    "import matplotlib.pyplot as plt\n",
    "\n",
    "\n",
    "teacher_one_grades = [80.24, 81.15, 81.29, 82.12, 82.52, 82.54, 82.76, 83.37, 83.42, 83.45, 83.47, 83.79, 83.91, 83.98, 84.03, 84.69, 84.74, 84.89, 84.95, 84.95, 85.02, 85.18, 85.53, 86.29, 86.83, 87.29, 87.47, 87.62, 88.04, 88.5]\n",
    "teacher_two_grades = [65.82, 70.77, 71.46, 73.63, 74.62, 76.53, 76.86, 77.06, 78.46, 79.81, 80.64, 81.61, 81.84, 83.67, 84.44, 84.73, 84.74, 85.15, 86.55, 88.06, 88.53, 90.12, 91.27, 91.62, 92.86, 94.37, 95.64, 95.99, 97.69, 104.4]\n",
    "\n",
    "#Set these two variables equal to the variance of each dataset using NumPy\n",
    "teacher_one_variance = np.var(teacher_one_grades)\n",
    "teacher_two_variance = np.var(teacher_two_grades)\n",
    "\n",
    "\n",
    "#IGNORE THE CODE BELOW HERE\n",
    "plt.hist(teacher_one_grades, alpha = 0.75, label = \"Teacher 1 Scores\", bins = 7)\n",
    "plt.hist(teacher_two_grades, alpha = 0.5, label = \"Teacher 2 Scores\", bins = 30)\n",
    "plt.title(\"Student test grades in two different classes\")\n",
    "plt.xlabel(\"Grades\")\n",
    "plt.legend()\n",
    "plt.show()\n",
    "\n",
    "print(\"The mean of the test scores in teacher one's class is \" + str(np.mean(teacher_one_grades)))\n",
    "print(\"The mean of the test scores in teacher two's class is \" + str(np.mean(teacher_two_grades)))\n",
    "\n",
    "print(\"The variance of the test scores in teacher one's class is \" +str(teacher_one_variance))\n",
    "print(\"The variance of the test scores in teacher two's class is \" +str(teacher_two_variance))"
   ]
  },
  {
   "cell_type": "markdown",
   "id": "damaged-member",
   "metadata": {},
   "source": [
    "## Conclusion"
   ]
  },
  {
   "cell_type": "markdown",
   "id": "active-hours",
   "metadata": {},
   "source": [
    "Great work! In this lesson you’ve learned about variance and how to calculate it.\n",
    "\n",
    "In the example used in this lesson, the importance of variance was highlighted by showing data from test scores in classes taught by two different teachers. What story does variance tell? What conclusions can we draw from this statistic?\n",
    "\n",
    "![](https://content.codecademy.com/courses/statistics/variance/teachers.png)\n",
    "\n",
    "In the class with low variance, it seems like the teacher strives to make sure all students have a firm understanding of the subject, but nobody is exemplary.\n",
    "\n",
    "In the class with high variance, the teacher might focus more of their attention on certain students. This might enable some students to ace their tests, but other students get left behind.\n",
    "\n",
    "If we only looked at statistics like mean, median, and mode, these nuances in the data wouldn’t be represented."
   ]
  },
  {
   "cell_type": "markdown",
   "id": "dedicated-circulation",
   "metadata": {},
   "source": [
    "You might be wondering why we need to compute the variance. After all, by comparing histograms, it was fairly easy to tell which dataset had a larger spread.\n",
    "\n",
    "Variance is useful because it is a measure of spread. While we might get a general understanding of the spread by looking at a histogram, computing the variance gives us a numerical value that helps us describe the level of confidence of our comparison.\n",
    "\n",
    "It is also interesting to consider datasets that don’t have the same general curve."
   ]
  }
 ],
 "metadata": {
  "kernelspec": {
   "display_name": "Python 3",
   "language": "python",
   "name": "python3"
  },
  "language_info": {
   "codemirror_mode": {
    "name": "ipython",
    "version": 3
   },
   "file_extension": ".py",
   "mimetype": "text/x-python",
   "name": "python",
   "nbconvert_exporter": "python",
   "pygments_lexer": "ipython3",
   "version": "3.8.5"
  }
 },
 "nbformat": 4,
 "nbformat_minor": 5
}
