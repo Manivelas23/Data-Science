{
 "cells": [
  {
   "cell_type": "markdown",
   "id": "developed-reason",
   "metadata": {},
   "source": [
    "## Variance Recap\n",
    "When beginning to work with a dataset, one of the first pieces of information you might want to investigate is the spread — is the data close together or far apart? One of the tools in our statistics toolbelt to do this is the descriptive statistic variance:\n",
    "\n",
    "Variance Recap\n",
    "When beginning to work with a dataset, one of the first pieces of information you might want to investigate is the spread — is the data close together or far apart? One of the tools in our statistics toolbelt to do this is the descriptive statistic variance:\n",
    "\n",
    "\n",
    "$$\\sigma^2 =  \\sum_{i=1}^{N}  \\frac{(x_i + \\mu)^2}{N}$$\n",
    "  \n",
    "By finding the variance of a dataset, we can get a numeric representation of the spread of the data. If you want to take a deeper dive into how to calculate variance, check out our variance course.\n",
    "\n",
    "But what does that number really mean? How can we use this number to interpret the spread?\n",
    "\n",
    "It turns out, using variance isn’t necessarily the best statistic to use to describe spread. Luckily, there is another statistic — standard deviation — that can be used instead."
   ]
  },
  {
   "cell_type": "markdown",
   "id": "meaningful-flash",
   "metadata": {},
   "source": [
    "***\n",
    "In this lesson, we’ll be working with two datasets. The first dataset contains the heights (in inches) of a random selection of players from the NBA. The second dataset contains the heights (in inches) of a random selection of users on the dating platform OkCupid — let’s hope these users were telling the truth about their height!"
   ]
  },
  {
   "cell_type": "code",
   "execution_count": null,
   "id": "conscious-correlation",
   "metadata": {},
   "outputs": [],
   "source": [
    "import numpy as np\n",
    "from data import nba_data, okcupid_data\n",
    "\n",
    "nba_mean = np.mean(nba_data)\n",
    "okcupid_mean = np.mean(okcupid_data)\n",
    "\n",
    "nba_standard_deviation = np.std(nba_data)\n",
    "okcupid_standard_deviation = np.std(okcupid_data)\n",
    "\n",
    "#Step 1: Calculate the difference between the player's height and the means\n",
    "nba_difference = 80 - nba_mean\n",
    "okcupid_difference = 80 - okcupid_mean\n",
    "\n",
    "#Step 2: Use the difference between the point and the mean to find how many standard deviations the player is away from the mean.\n",
    "\n",
    "num_nba_deviations = nba_difference / nba_standard_deviation\n",
    "num_okcupid_deviations = okcupid_difference / okcupid_standard_deviation \n",
    "\n",
    "\n",
    "#IGNORE CODE BELOW HERE\n",
    "print(\"Your basketball player is \" + str(num_nba_deviations) + \" standard deviations away from the mean of NBA player heights\\n\")\n",
    "print(\"Your basketball player is \" + str(num_okcupid_deviations) + \" standard deviations away from the mean of OkCupid profile heights\")"
   ]
  },
  {
   "cell_type": "markdown",
   "id": "novel-syracuse",
   "metadata": {},
   "source": [
    "*** \n",
    "**Try to answer the following questions**:\n",
    "\n",
    "\n",
    "1) What does it mean for the OkCupid dataset to have a larger variance than the NBA dataset?\n",
    "\n",
    "2) What are the units of the mean? Is someone who is 80 inches tall taller than the average of either group? Which group(s)?\n",
    "\n",
    "3) In this example, the units of variance are inches squared. Can you interpret what it means for the variance of the NBA dataset to be 13.32 inches squared?"
   ]
  },
  {
   "cell_type": "markdown",
   "id": "featured-fellow",
   "metadata": {},
   "source": [
    "**R/**\n",
    "\n",
    "Because the OkCupid dataset has a larger variance than the NBA dataset, that means that NBA players are more similar in height to each other. The height of OkCupid users vary more.\n",
    "\n",
    "Somebody who is 80 inches tall is above the average height of both datasets. We can directly compare 80 inches to the mean because they are in the same units (inches).\n",
    "\n",
    "It’s a bit hard to wrap your head around how variance and mean are related since they are in different units."
   ]
  },
  {
   "cell_type": "markdown",
   "id": "activated-wilson",
   "metadata": {},
   "source": [
    "*** \n",
    "# Standard Deviation \n",
    "\n",
    "Variance is a tricky statistic to use because its units are different from both the mean and the data itself. For example, the mean of our NBA dataset is 77.98 inches. Because of this, we can say someone who is 80 inches tall is about two inches taller than the average NBA player.\n",
    "\n",
    "However, because the formula for variance includes squaring the difference between the data and the mean, the variance is measured in units squared. This means that the variance for our NBA dataset is 13.32 inches squared.\n",
    "\n",
    "This result is hard to interpret in context with the mean or the data because their units are different. This is where the statistic standard deviation is useful.\n",
    "\n",
    "Standard deviation is computed by taking the square root of the variance. sigma is the symbol commonly used for standard deviation. Conveniently, sigma squared is the symbol commonly used for variance:\n",
    "\n",
    "$$\\sigma = \\sqrt{\\sigma^2} =  \\sqrt{\\sum_{i=1}^{N}  \\frac{(x_i + \\mu)^2}{N}}$$\n",
    "\n",
    "In Python, you can take the square root of a number using `** 0.5`:\n",
    "\n",
    "```Python\n",
    "num = 25\n",
    "num_square_root = num ** 0.5\n",
    "```"
   ]
  },
  {
   "cell_type": "markdown",
   "id": "written-teacher",
   "metadata": {},
   "source": [
    "***\n",
    "**Python Exercise**"
   ]
  },
  {
   "cell_type": "markdown",
   "id": "sized-province",
   "metadata": {},
   "source": [
    "We’ve written some code that calculates the variance of the NBA dataset and the OkCupid dataset.\n",
    "\n",
    "The variances are stored in variables named `nba_variance` and `okcupid_variance`.\n",
    "\n",
    "* Calculate the standard deviation by taking the square root of `nba_variance` and store it in the variable `nba_standard_deviation` (on line 5). Do the same for the variable `okcupid_standard_deviation` (on line 6)."
   ]
  },
  {
   "cell_type": "code",
   "execution_count": null,
   "id": "primary-warner",
   "metadata": {},
   "outputs": [],
   "source": [
    "nba_variance = np.var(nba_data)\n",
    "okcupid_variance = np.var(okcupid_data)\n",
    "\n",
    "#Change these variables to be the standard deviation of each dataset.\n",
    "nba_standard_deviation = nba_variance ** 0.5\n",
    "okcupid_standard_deviation = okcupid_variance ** 0.5\n",
    "\n",
    "#IGNORE CODE BELOW HERE\n",
    "print(\"The standard deviation of the NBA dataset is \" +str(nba_standard_deviation))\n",
    "print(\"The standard deviation of the OkCupid dataset is \" + str(okcupid_standard_deviation))"
   ]
  },
  {
   "cell_type": "markdown",
   "id": "pediatric-attention",
   "metadata": {},
   "source": [
    "***\n",
    "# Standard Deviation in NumPy\n",
    "There is a NumPy function dedicated to finding the standard deviation of a dataset — we can cut out the step of first finding the variance. The NumPy function `std()` takes a dataset as a parameter and returns the standard deviation of that dataset:\n",
    "```python \n",
    "dataset = [4, 8, 15, 16, 23, 42]\n",
    "standard_deviation = np.std()\n",
    "```"
   ]
  },
  {
   "cell_type": "markdown",
   "id": "applicable-while",
   "metadata": {},
   "source": [
    "***\n",
    "**Python Exercise**"
   ]
  },
  {
   "cell_type": "markdown",
   "id": "whole-intensity",
   "metadata": {},
   "source": [
    "We’ve removed the code that calculated the variance of each dataset. By using `np.std()` we don’t need to take that middle step anymore.\n",
    "\n",
    "Call `np.std()` using `nba_data` as a parameter, and store the result in `nba_standard_deviation`.\n",
    "\n",
    "Make a similar function call using `okcupid_data` and store the result in `okcupid_standard_deviation`."
   ]
  },
  {
   "cell_type": "code",
   "execution_count": null,
   "id": "polar-catering",
   "metadata": {},
   "outputs": [],
   "source": [
    "import numpy as np\n",
    "from data import nba_data, okcupid_data\n",
    "\n",
    "#Change these variables to be the standard deviation of each dataset. Use NumPy's function!\n",
    "nba_standard_deviation = np.std(nba_data)\n",
    "okcupid_standard_deviation = np.std(okcupid_data)\n",
    "\n",
    "#IGNORE CODE BELOW HERE\n",
    "print(\"The standard deviation of the NBA dataset is \" +str(nba_standard_deviation))\n",
    "print(\"The standard deviation of the OkCupid dataset is \" + str(okcupid_standard_deviation))"
   ]
  },
  {
   "cell_type": "markdown",
   "id": "adopted-certificate",
   "metadata": {},
   "source": [
    "***\n",
    "## Using Standard Deviation\n",
    "Now that we’re able to compute the standard deviation of a dataset, what can we do with it?\n",
    "\n",
    "Now that our units match, our measure of spread is easier to interpret. By finding the number of standard deviations a data point is away from the mean, we can begin to investigate how unusual that datapoint truly is. In fact, you can usually expect around 68% of your data to fall within one standard deviation of the mean, 95% of your data to fall within two standard deviations of the mean, and 99.7% of your data to fall within three standard deviations of the mean.\n",
    "\n",
    "![](https://content.codecademy.com/courses/statistics/variance/normal_curve.svg)\n",
    "\n",
    "A histogram showing where the standard deviations fall If you have a data point that is over three standard deviations away from the mean, that's an incredibly unusual piece of data!"
   ]
  },
  {
   "cell_type": "markdown",
   "id": "traditional-asian",
   "metadata": {},
   "source": [
    "***\n",
    "**Python Exercise**"
   ]
  },
  {
   "cell_type": "markdown",
   "id": "unable-interstate",
   "metadata": {},
   "source": [
    "1. Let’s find out how many standard deviations away from the mean NBA great Lebron James is. To begin, let’s find the difference between Lebron’s height (80 inches) and the mean of each dataset.\n",
    "\n",
    "Set `nba_difference` equal to `80` minus `nba_mean`.\n",
    "\n",
    "Find the difference between Lebron’s height and the OkCupid mean and store it in `okcupid_difference`. The OkCupid dataset’s mean is stored in `okcupid_mean`.\n",
    "\n",
    "\n",
    "2. We now want to find out how many times the standard deviation goes into those differences.\n",
    "\n",
    "Set `num_nba_deviations` equal to `nba_difference` divided by `nba_standard_deviation`.\n",
    "\n",
    "Do a similar calculation for `num_okcupid_deviations`.\n",
    "\n",
    "What does that first number tell you about how unusual Lebron James is in the NBA? What does the second number tell you about how unusual Lebron James is in the dating pool?\n"
   ]
  },
  {
   "cell_type": "code",
   "execution_count": null,
   "id": "valid-musician",
   "metadata": {},
   "outputs": [],
   "source": [
    "import numpy as np\n",
    "from data import nba_data, okcupid_data\n",
    "\n",
    "nba_mean = np.mean(nba_data)\n",
    "okcupid_mean = np.mean(okcupid_data)\n",
    "\n",
    "nba_standard_deviation = np.std(nba_data)\n",
    "okcupid_standard_deviation = np.std(okcupid_data)\n",
    "\n",
    "#Step 1: Calcualte the difference between the player's height and the means\n",
    "nba_difference = 80 - nba_mean\n",
    "okcupid_difference = 80 - okcupid_mean\n",
    "\n",
    "#Step 2: Use the difference between the point and the mean to find how many standard deviations the player is away from the mean.\n",
    "\n",
    "num_nba_deviations = nba_difference / nba_standard_deviation\n",
    "num_okcupid_deviations = okcupid_difference / okcupid_standard_deviation \n",
    "\n",
    "\n",
    "#IGNORE CODE BELOW HERE\n",
    "print(\"Your basketball player is \" + str(num_nba_deviations) + \" standard deviations away from the mean of NBA player heights\\n\")\n",
    "print(\"Your basketball player is \" + str(num_okcupid_deviations) + \" standard deviations away from the mean of OkCupid profile heights\")"
   ]
  },
  {
   "cell_type": "markdown",
   "id": "informational-taste",
   "metadata": {},
   "source": [
    "***\n",
    "## Conclusion\n",
    "\n",
    "In the last exercise you saw that Lebron James was `0.55` standard deviations above the mean of NBA player heights. He’s taller than average, but compared to the other NBA players, he’s not absurdly tall.\n",
    "\n",
    "However, compared to the OkCupid dating pool, he is extremely rare! He’s almost three full standard deviations above the mean. You’d expect only about 0.15% of people on OkCupid to be more than 3 standard deviations away from the mean.\n",
    "\n",
    "This is the power of standard deviation. By taking the square root of the variance, the standard deviation gives you a statistic about spread that can be easily interpreted and compared to the mean."
   ]
  }
 ],
 "metadata": {
  "kernelspec": {
   "display_name": "Python 3",
   "language": "python",
   "name": "python3"
  },
  "language_info": {
   "codemirror_mode": {
    "name": "ipython",
    "version": 3
   },
   "file_extension": ".py",
   "mimetype": "text/x-python",
   "name": "python",
   "nbconvert_exporter": "python",
   "pygments_lexer": "ipython3",
   "version": "3.8.5"
  }
 },
 "nbformat": 4,
 "nbformat_minor": 5
}
