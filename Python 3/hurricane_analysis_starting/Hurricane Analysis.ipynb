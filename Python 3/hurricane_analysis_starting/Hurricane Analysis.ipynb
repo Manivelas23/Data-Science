{
 "cells": [
  {
   "cell_type": "markdown",
   "metadata": {},
   "source": [
    "# Introduction\n",
    "We will work to write several functions that organize and manipulate data about Category 5 Hurricanes, the strongest hurricanes as rated by their wind speed. Each one of these functions will use a number of parameters, conditionals, lists, dictionaries, string manipulation, and return statements.\n",
    "\n",
    "#### What is a Hurricane?\n",
    "Hurricanes, also known as cyclones or typhoons, are one of the most powerful forces of nature on Earth. Due to climate change caused by human activity, the number and intensity of hurricanes has risen, calling for better preparation by the many communities that are devastated by them. As a concerned environmentalist, you want to look at data about the most powerful hurricanes that have occurred."
   ]
  },
  {
   "cell_type": "markdown",
   "metadata": {},
   "source": [
    "***\n",
    "## Hurricane Data\n",
    "\n",
    "Additional data collected on the 34 strongest Atlantic hurricanes are provided in a series of lists.\n",
    "\n",
    "The data includes:\n",
    "\n",
    "* **names:** names of the hurricanes\n",
    "* **months:** months in which the hurricanes occurred\n",
    "* **years:** years in which the hurricanes occurred\n",
    "* **max_sustained_winds:** maximum sustained winds (miles per hour) of the hurricanes\n",
    "* **areas_affected:** list of different areas affected by each of the hurricanes\n",
    "* **deaths:** total number of deaths caused by each of the hurricanes"
   ]
  },
  {
   "cell_type": "markdown",
   "metadata": {},
   "source": [
    "**Data Given:**"
   ]
  },
  {
   "cell_type": "code",
   "execution_count": 3,
   "metadata": {},
   "outputs": [],
   "source": [
    "# names of hurricanes\n",
    "names = ['Cuba I', 'San Felipe II Okeechobee', 'Bahamas', 'Cuba II', 'CubaBrownsville', 'Tampico', 'Labor Day', 'New England', 'Carol', 'Janet', 'Carla', 'Hattie', 'Beulah', 'Camille', 'Edith', 'Anita', 'David', 'Allen', 'Gilbert', 'Hugo', 'Andrew', 'Mitch', 'Isabel', 'Ivan', 'Emily', 'Katrina', 'Rita', 'Wilma', 'Dean', 'Felix', 'Matthew', 'Irma', 'Maria', 'Michael']\n",
    "\n",
    "# months of hurricanes\n",
    "months = ['October', 'September', 'September', 'November', 'August', 'September', 'September', 'September', 'September', 'September', 'September', 'October', 'September', 'August', 'September', 'September', 'August', 'August', 'September', 'September', 'August', 'October', 'September', 'September', 'July', 'August', 'September', 'October', 'August', 'September', 'October', 'September', 'September', 'October']\n",
    "\n",
    "# years of hurricanes\n",
    "years = [1924, 1928, 1932, 1932, 1933, 1933, 1935, 1938, 1953, 1955, 1961, 1961, 1967, 1969, 1971, 1977, 1979, 1980, 1988, 1989, 1992, 1998, 2003, 2004, 2005, 2005, 2005, 2005, 2007, 2007, 2016, 2017, 2017, 2018]\n",
    "\n",
    "# maximum sustained winds (mph) of hurricanes\n",
    "max_sustained_winds = [165, 160, 160, 175, 160, 160, 185, 160, 160, 175, 175, 160, 160, 175, 160, 175, 175, 190, 185, 160, 175, 180, 165, 165, 160, 175, 180, 185, 175, 175, 165, 180, 175, 160]\n",
    "\n",
    "# areas affected by each hurricane\n",
    "areas_affected = [['Central America', 'Mexico', 'Cuba', 'Florida', 'The Bahamas'], ['Lesser Antilles', 'The Bahamas', 'United States East Coast', 'Atlantic Canada'], ['The Bahamas', 'Northeastern United States'], ['Lesser Antilles', 'Jamaica', 'Cayman Islands', 'Cuba', 'The Bahamas', 'Bermuda'], ['The Bahamas', 'Cuba', 'Florida', 'Texas', 'Tamaulipas'], ['Jamaica', 'Yucatn Peninsula'], ['The Bahamas', 'Florida', 'Georgia', 'The Carolinas', 'Virginia'], ['Southeastern United States', 'Northeastern United States', 'Southwestern Quebec'], ['Bermuda', 'New England', 'Atlantic Canada'], ['Lesser Antilles', 'Central America'], ['Texas', 'Louisiana', 'Midwestern United States'], ['Central America'], ['The Caribbean', 'Mexico', 'Texas'], ['Cuba', 'United States Gulf Coast'], ['The Caribbean', 'Central America', 'Mexico', 'United States Gulf Coast'], ['Mexico'], ['The Caribbean', 'United States East coast'], ['The Caribbean', 'Yucatn Peninsula', 'Mexico', 'South Texas'], ['Jamaica', 'Venezuela', 'Central America', 'Hispaniola', 'Mexico'], ['The Caribbean', 'United States East Coast'], ['The Bahamas', 'Florida', 'United States Gulf Coast'], ['Central America', 'Yucatn Peninsula', 'South Florida'], ['Greater Antilles', 'Bahamas', 'Eastern United States', 'Ontario'], ['The Caribbean', 'Venezuela', 'United States Gulf Coast'], ['Windward Islands', 'Jamaica', 'Mexico', 'Texas'], ['Bahamas', 'United States Gulf Coast'], ['Cuba', 'United States Gulf Coast'], ['Greater Antilles', 'Central America', 'Florida'], ['The Caribbean', 'Central America'], ['Nicaragua', 'Honduras'], ['Antilles', 'Venezuela', 'Colombia', 'United States East Coast', 'Atlantic Canada'], ['Cape Verde', 'The Caribbean', 'British Virgin Islands', 'U.S. Virgin Islands', 'Cuba', 'Florida'], ['Lesser Antilles', 'Virgin Islands', 'Puerto Rico', 'Dominican Republic', 'Turks and Caicos Islands'], ['Central America', 'United States Gulf Coast (especially Florida Panhandle)']]\n",
    "\n",
    "# damages (USD($)) of hurricanes\n",
    "damages = ['Damages not recorded', '100M', 'Damages not recorded', '40M', '27.9M', '5M', 'Damages not recorded', '306M', '2M', '65.8M', '326M', '60.3M', '208M', '1.42B', '25.4M', 'Damages not recorded', '1.54B', '1.24B', '7.1B', '10B', '26.5B', '6.2B', '5.37B', '23.3B', '1.01B', '125B', '12B', '29.4B', '1.76B', '720M', '15.1B', '64.8B', '91.6B', '25.1B']\n",
    "\n",
    "# deaths for each hurricane\n",
    "deaths = [90,4000,16,3103,179,184,408,682,5,1023,43,319,688,259,37,11,2068,269,318,107,65,19325,51,124,17,1836,125,87,45,133,603,138,3057,74]\n"
   ]
  },
  {
   "cell_type": "markdown",
   "metadata": {},
   "source": [
    "## Project Requirements"
   ]
  },
  {
   "cell_type": "markdown",
   "metadata": {},
   "source": [
    "Begin by looking at the `damages` list. The list contains strings representing the total cost in USD($) caused by `34` category 5 hurricanes (wind speeds ≥ 157 mph (252 km/h )) in the Atlantic region. For some of the hurricanes, damage data was not recorded (`\"Damages not recorded\"`), while the rest are written in the format `\"Prefix-B/M\"`, where `B` stands for billions (`1000000000`) and `M` stands for millions (`1000000`).\n",
    "\n",
    "**Write a function that returns a new list of updated `damages` where the recorded data is converted to float values and the missing data is retained as `\"Damages not recorded\"`.**\n",
    "\n",
    "Test your function with the data stored in damages."
   ]
  },
  {
   "cell_type": "code",
   "execution_count": 10,
   "metadata": {},
   "outputs": [],
   "source": [
    "def update_damages(damages):\n",
    "  update_damages_list = []\n",
    "  for i in damages:\n",
    "    if i == 'Damages not recorded':\n",
    "      update_damages_list.append('Damages not recorded')\n",
    "    elif i[-1] == 'M':\n",
    "      update_damages_list.append(float(i.strip('M'))*1000000)\n",
    "    elif i[-1] == 'B':\n",
    "      update_damages_list.append(float(i.strip('B'))*1000000000)\n",
    "  return update_damages_list\n",
    "      \n",
    "updated_damages = update_damages(damages)\n",
    "#print(updated_damages)"
   ]
  },
  {
   "cell_type": "markdown",
   "metadata": {},
   "source": [
    "*The data is organized such that the data at each index, from 0 to 33, corresponds to the same hurricane.*\n",
    "\n",
    "For example, `names[0]` yields the “Cuba I” hurricane, which ouccred in `months[0]` (October) `years[0]` (1924).\n",
    "\n",
    "**Write a function that constructs a dictionary made out of the lists, where the keys of the dictionary are the names of the hurricanes, and the values are dictionaries themselves containing a key for each piece of data (Name, Month, Year,Max Sustained Wind, Areas Affected, Damage, Death) about the hurricane.**\n",
    "\n",
    "Thus the **key \"Cuba I\" would have the value**: `{'Name': 'Cuba I', 'Month': 'October', 'Year': 1924, 'Max Sustained Wind': 165, 'Areas Affected': ['Central America', 'Mexico', 'Cuba', 'Florida', 'The Bahamas'], 'Damage': 'Damages not recorded', 'Deaths': 90}`"
   ]
  },
  {
   "cell_type": "code",
   "execution_count": 14,
   "metadata": {},
   "outputs": [],
   "source": [
    "def hurricane_dictionary_constructor(names,months,years,max_sustained_winds,areas_affected,updated_damages,deaths):\n",
    "  hurricane=  {}\n",
    "  \n",
    "  for i in range(len(years)):\n",
    "    hurricane[names[i]] = {'Name': names[i], 'Month': months[i], 'Year': years[i], 'Max Sustained Wind': max_sustained_winds[i], 'Areas Affected': areas_affected[i], 'Damage': updated_damages[i], 'Deaths': deaths[i]}\n",
    "    \n",
    "  return hurricane\n",
    "\n",
    "hurricane_dictionary = hurricane_dictionary_constructor(names,months,years,max_sustained_winds,areas_affected,updated_damages,deaths)\n",
    "#print(hurricane_dictionary)"
   ]
  },
  {
   "cell_type": "markdown",
   "metadata": {},
   "source": [
    "In addition to organizing the hurricanes in a dictionary with names as the key, you want to be able to organize the hurricanes by year.\n",
    "\n",
    "**Write a function that converts the current dictionary of hurricanes to a new dictionary, where the keys are years and the values are lists containing a dictionary for each hurricane that occurred in that year.**\n",
    "\n",
    "For example, the key 1932 would yield the value: `[{'Name': 'Bahamas', 'Month': 'September', 'Year': 1932, 'Max Sustained Wind': 160, 'Areas Affected': ['The Bahamas', 'Northeastern United States'], 'Damage': 'Damages not recorded', 'Deaths': 16}, {'Name': 'Cuba II', 'Month': 'November', 'Year': 1932, 'Max Sustained Wind': 175, 'Areas Affected': ['Lesser Antilles', 'Jamaica', 'Cayman Islands', 'Cuba', 'The Bahamas', 'Bermuda'], 'Damage': 40000000.0, 'Deaths': 3103}].`\n",
    "\n",
    "Test your function on your hurricane dictionary"
   ]
  },
  {
   "cell_type": "code",
   "execution_count": 16,
   "metadata": {},
   "outputs": [
    {
     "name": "stdout",
     "output_type": "stream",
     "text": [
      "[{1924: {'Name': 'Cuba I', 'Month': 'October', 'Year': 1924, 'Max_sustained_wind': 165, 'Area_affected': ['Central America', 'Mexico', 'Cuba', 'Florida', 'The Bahamas'], 'Damage': 'Damages not recorded', 'Deaths': 90}}, {1928: {'Name': 'San Felipe II Okeechobee', 'Month': 'September', 'Year': 1928, 'Max_sustained_wind': 160, 'Area_affected': ['Lesser Antilles', 'The Bahamas', 'United States East Coast', 'Atlantic Canada'], 'Damage': 100000000.0, 'Deaths': 4000}}, {1932: {'Name': 'Bahamas', 'Month': 'September', 'Year': 1932, 'Max_sustained_wind': 160, 'Area_affected': ['The Bahamas', 'Northeastern United States'], 'Damage': 'Damages not recorded', 'Deaths': 16}}, {1932: {'Name': 'Cuba II', 'Month': 'November', 'Year': 1932, 'Max_sustained_wind': 175, 'Area_affected': ['Lesser Antilles', 'Jamaica', 'Cayman Islands', 'Cuba', 'The Bahamas', 'Bermuda'], 'Damage': 40000000.0, 'Deaths': 3103}}, {1933: {'Name': 'CubaBrownsville', 'Month': 'August', 'Year': 1933, 'Max_sustained_wind': 160, 'Area_affected': ['The Bahamas', 'Cuba', 'Florida', 'Texas', 'Tamaulipas'], 'Damage': 27900000.0, 'Deaths': 179}}, {1933: {'Name': 'Tampico', 'Month': 'September', 'Year': 1933, 'Max_sustained_wind': 160, 'Area_affected': ['Jamaica', 'Yucatn Peninsula'], 'Damage': 5000000.0, 'Deaths': 184}}, {1935: {'Name': 'Labor Day', 'Month': 'September', 'Year': 1935, 'Max_sustained_wind': 185, 'Area_affected': ['The Bahamas', 'Florida', 'Georgia', 'The Carolinas', 'Virginia'], 'Damage': 'Damages not recorded', 'Deaths': 408}}, {1938: {'Name': 'New England', 'Month': 'September', 'Year': 1938, 'Max_sustained_wind': 160, 'Area_affected': ['Southeastern United States', 'Northeastern United States', 'Southwestern Quebec'], 'Damage': 306000000.0, 'Deaths': 682}}, {1953: {'Name': 'Carol', 'Month': 'September', 'Year': 1953, 'Max_sustained_wind': 160, 'Area_affected': ['Bermuda', 'New England', 'Atlantic Canada'], 'Damage': 2000000.0, 'Deaths': 5}}, {1955: {'Name': 'Janet', 'Month': 'September', 'Year': 1955, 'Max_sustained_wind': 175, 'Area_affected': ['Lesser Antilles', 'Central America'], 'Damage': 65800000.0, 'Deaths': 1023}}, {1961: {'Name': 'Carla', 'Month': 'September', 'Year': 1961, 'Max_sustained_wind': 175, 'Area_affected': ['Texas', 'Louisiana', 'Midwestern United States'], 'Damage': 326000000.0, 'Deaths': 43}}, {1961: {'Name': 'Hattie', 'Month': 'October', 'Year': 1961, 'Max_sustained_wind': 160, 'Area_affected': ['Central America'], 'Damage': 60300000.0, 'Deaths': 319}}, {1967: {'Name': 'Beulah', 'Month': 'September', 'Year': 1967, 'Max_sustained_wind': 160, 'Area_affected': ['The Caribbean', 'Mexico', 'Texas'], 'Damage': 208000000.0, 'Deaths': 688}}, {1969: {'Name': 'Camille', 'Month': 'August', 'Year': 1969, 'Max_sustained_wind': 175, 'Area_affected': ['Cuba', 'United States Gulf Coast'], 'Damage': 1420000000.0, 'Deaths': 259}}, {1971: {'Name': 'Edith', 'Month': 'September', 'Year': 1971, 'Max_sustained_wind': 160, 'Area_affected': ['The Caribbean', 'Central America', 'Mexico', 'United States Gulf Coast'], 'Damage': 25400000.0, 'Deaths': 37}}, {1977: {'Name': 'Anita', 'Month': 'September', 'Year': 1977, 'Max_sustained_wind': 175, 'Area_affected': ['Mexico'], 'Damage': 'Damages not recorded', 'Deaths': 11}}, {1979: {'Name': 'David', 'Month': 'August', 'Year': 1979, 'Max_sustained_wind': 175, 'Area_affected': ['The Caribbean', 'United States East coast'], 'Damage': 1540000000.0, 'Deaths': 2068}}, {1980: {'Name': 'Allen', 'Month': 'August', 'Year': 1980, 'Max_sustained_wind': 190, 'Area_affected': ['The Caribbean', 'Yucatn Peninsula', 'Mexico', 'South Texas'], 'Damage': 1240000000.0, 'Deaths': 269}}, {1988: {'Name': 'Gilbert', 'Month': 'September', 'Year': 1988, 'Max_sustained_wind': 185, 'Area_affected': ['Jamaica', 'Venezuela', 'Central America', 'Hispaniola', 'Mexico'], 'Damage': 7100000000.0, 'Deaths': 318}}, {1989: {'Name': 'Hugo', 'Month': 'September', 'Year': 1989, 'Max_sustained_wind': 160, 'Area_affected': ['The Caribbean', 'United States East Coast'], 'Damage': 10000000000.0, 'Deaths': 107}}, {1992: {'Name': 'Andrew', 'Month': 'August', 'Year': 1992, 'Max_sustained_wind': 175, 'Area_affected': ['The Bahamas', 'Florida', 'United States Gulf Coast'], 'Damage': 26500000000.0, 'Deaths': 65}}, {1998: {'Name': 'Mitch', 'Month': 'October', 'Year': 1998, 'Max_sustained_wind': 180, 'Area_affected': ['Central America', 'Yucatn Peninsula', 'South Florida'], 'Damage': 6200000000.0, 'Deaths': 19325}}, {2003: {'Name': 'Isabel', 'Month': 'September', 'Year': 2003, 'Max_sustained_wind': 165, 'Area_affected': ['Greater Antilles', 'Bahamas', 'Eastern United States', 'Ontario'], 'Damage': 5370000000.0, 'Deaths': 51}}, {2004: {'Name': 'Ivan', 'Month': 'September', 'Year': 2004, 'Max_sustained_wind': 165, 'Area_affected': ['The Caribbean', 'Venezuela', 'United States Gulf Coast'], 'Damage': 23300000000.0, 'Deaths': 124}}, {2005: {'Name': 'Emily', 'Month': 'July', 'Year': 2005, 'Max_sustained_wind': 160, 'Area_affected': ['Windward Islands', 'Jamaica', 'Mexico', 'Texas'], 'Damage': 1010000000.0, 'Deaths': 17}}, {2005: {'Name': 'Katrina', 'Month': 'August', 'Year': 2005, 'Max_sustained_wind': 175, 'Area_affected': ['Bahamas', 'United States Gulf Coast'], 'Damage': 125000000000.0, 'Deaths': 1836}}, {2005: {'Name': 'Rita', 'Month': 'September', 'Year': 2005, 'Max_sustained_wind': 180, 'Area_affected': ['Cuba', 'United States Gulf Coast'], 'Damage': 12000000000.0, 'Deaths': 125}}, {2005: {'Name': 'Wilma', 'Month': 'October', 'Year': 2005, 'Max_sustained_wind': 185, 'Area_affected': ['Greater Antilles', 'Central America', 'Florida'], 'Damage': 29400000000.0, 'Deaths': 87}}, {2007: {'Name': 'Dean', 'Month': 'August', 'Year': 2007, 'Max_sustained_wind': 175, 'Area_affected': ['The Caribbean', 'Central America'], 'Damage': 1760000000.0, 'Deaths': 45}}, {2007: {'Name': 'Felix', 'Month': 'September', 'Year': 2007, 'Max_sustained_wind': 175, 'Area_affected': ['Nicaragua', 'Honduras'], 'Damage': 720000000.0, 'Deaths': 133}}, {2016: {'Name': 'Matthew', 'Month': 'October', 'Year': 2016, 'Max_sustained_wind': 165, 'Area_affected': ['Antilles', 'Venezuela', 'Colombia', 'United States East Coast', 'Atlantic Canada'], 'Damage': 15100000000.0, 'Deaths': 603}}, {2017: {'Name': 'Irma', 'Month': 'September', 'Year': 2017, 'Max_sustained_wind': 180, 'Area_affected': ['Cape Verde', 'The Caribbean', 'British Virgin Islands', 'U.S. Virgin Islands', 'Cuba', 'Florida'], 'Damage': 64800000000.0, 'Deaths': 138}}, {2017: {'Name': 'Maria', 'Month': 'September', 'Year': 2017, 'Max_sustained_wind': 175, 'Area_affected': ['Lesser Antilles', 'Virgin Islands', 'Puerto Rico', 'Dominican Republic', 'Turks and Caicos Islands'], 'Damage': 91600000000.0, 'Deaths': 3057}}, {2018: {'Name': 'Michael', 'Month': 'October', 'Year': 2018, 'Max_sustained_wind': 160, 'Area_affected': ['Central America', 'United States Gulf Coast (especially Florida Panhandle)'], 'Damage': 25100000000.0, 'Deaths': 74}}]\n"
     ]
    }
   ],
   "source": [
    "def hurricane_by_year():\n",
    "    years_dict= []\n",
    "    for n, m, y, ma, a, da,  z in zip(names, months, years, max_sustained_winds, areas_affected, updated_damages, deaths):\n",
    "        years_dict.append({y: {'Name': n, 'Month':m, 'Year': y, 'Max_sustained_wind': ma, 'Area_affected': a, 'Damage': da, 'Deaths': z}})  \n",
    "    return years_dict\n",
    "\n",
    "year_dict = hurricane_by_year()\n",
    "print(year_dict)\n",
    "\n",
    "\n",
    "#hacerla con hurricane_dictionary"
   ]
  },
  {
   "cell_type": "markdown",
   "metadata": {},
   "source": [
    "**Write a function that counts how often each area is listed as an affected area of a hurricane. Store and return the results in a dictionary where the keys are the affected areas and the values are counts of how many times the areas were affected.**\n",
    "\n",
    "Test your function on your hurricane dictionary."
   ]
  },
  {
   "cell_type": "code",
   "execution_count": 7,
   "metadata": {
    "scrolled": true
   },
   "outputs": [
    {
     "name": "stdout",
     "output_type": "stream",
     "text": [
      "{'Central America': 9, 'Mexico': 7, 'Cuba': 6, 'Florida': 6, 'The Bahamas': 7, 'Lesser Antilles': 4, 'United States East Coast': 3, 'Atlantic Canada': 3, 'Northeastern United States': 2, 'Jamaica': 4, 'Cayman Islands': 1, 'Bermuda': 2, 'Texas': 4, 'Tamaulipas': 1, 'Yucatn Peninsula': 3, 'Georgia': 1, 'The Carolinas': 1, 'Virginia': 1, 'Southeastern United States': 1, 'Southwestern Quebec': 1, 'New England': 1, 'Louisiana': 1, 'Midwestern United States': 1, 'The Caribbean': 8, 'United States Gulf Coast': 6, 'United States East coast': 1, 'South Texas': 1, 'Venezuela': 3, 'Hispaniola': 1, 'South Florida': 1, 'Greater Antilles': 2, 'Bahamas': 2, 'Eastern United States': 1, 'Ontario': 1, 'Windward Islands': 1, 'Nicaragua': 1, 'Honduras': 1, 'Antilles': 1, 'Colombia': 1, 'Cape Verde': 1, 'British Virgin Islands': 1, 'U.S. Virgin Islands': 1, 'Virgin Islands': 1, 'Puerto Rico': 1, 'Dominican Republic': 1, 'Turks and Caicos Islands': 1, 'United States Gulf Coast (especially Florida Panhandle)': 1}\n"
     ]
    }
   ],
   "source": [
    "def times_affected():\n",
    "    areas_count={}\n",
    "    for areas in areas_affected:\n",
    "        for i in areas:\n",
    "            if i not in areas_count:\n",
    "                areas_count[i] = 1\n",
    "            else:\n",
    "                areas_count[i] += 1\n",
    "    return areas_count\n",
    "\n",
    "times_affected_dict = times_affected()\n",
    "print(times_affected_dict)"
   ]
  },
  {
   "cell_type": "markdown",
   "metadata": {},
   "source": [
    "**Write a function that finds the area affected by the most hurricanes, and how often it was hit.**\n",
    "\n",
    "Test your function on your affected area dictionary."
   ]
  },
  {
   "cell_type": "code",
   "execution_count": 8,
   "metadata": {},
   "outputs": [
    {
     "name": "stdout",
     "output_type": "stream",
     "text": [
      "(9, 'Central America')\n"
     ]
    }
   ],
   "source": [
    "def most_affected_area(times_affected_dict):\n",
    "    return max(list(zip(times_affected_dict.values(),times_affected_dict.keys())))\n",
    "\n",
    "print(most_affected_area(times_affected_dict))"
   ]
  },
  {
   "cell_type": "code",
   "execution_count": 9,
   "metadata": {},
   "outputs": [
    {
     "name": "stdout",
     "output_type": "stream",
     "text": [
      "(19325, 'Mitch')\n"
     ]
    }
   ],
   "source": [
    "def most_deadly_hurricane():\n",
    "    return max(list(zip(deaths,names)))\n",
    "\n",
    "print(most_deadly_hurricane())"
   ]
  },
  {
   "cell_type": "code",
   "execution_count": null,
   "metadata": {},
   "outputs": [],
   "source": []
  }
 ],
 "metadata": {
  "kernelspec": {
   "display_name": "Python 3",
   "language": "python",
   "name": "python3"
  },
  "language_info": {
   "codemirror_mode": {
    "name": "ipython",
    "version": 3
   },
   "file_extension": ".py",
   "mimetype": "text/x-python",
   "name": "python",
   "nbconvert_exporter": "python",
   "pygments_lexer": "ipython3",
   "version": "3.8.3"
  }
 },
 "nbformat": 4,
 "nbformat_minor": 4
}
