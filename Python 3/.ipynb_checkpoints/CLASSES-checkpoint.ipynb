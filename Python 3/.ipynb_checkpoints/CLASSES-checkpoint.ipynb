{
 "cells": [
  {
   "cell_type": "markdown",
   "metadata": {},
   "source": [
    "# Classes\n",
    "\n",
    "A class is a template for a data type. It describes the kinds of information that class will hold and how a programmer will interact with that data. Define a class using the class keyword. PEP 8 Style Guide for **Python Code recommends capitalizing the names of classes to make them easier to identify.**\n",
    "\n",
    "`class CoolClass:\n",
    "  pass`\n",
    "  \n",
    "In the above example we created a class and named it `CoolClass`. We used the pass keyword in Python to indicate that the body of the class was intentionally left blank so we don’t cause an `IndentationError`. We’ll learn about all the things we can put in the body of a class in the next few exercises."
   ]
  },
  {
   "cell_type": "markdown",
   "metadata": {},
   "source": [
    "***\n",
    "## Instantiation\n",
    "A class doesn’t accomplish anything simply by being defined. A class must be instantiated. In other words, we must create an instance of the class, in order to breathe life into the schematic.\n",
    "\n",
    "Instantiating a class looks a lot like calling a function. We would be able to create an instance of our defined CoolClass as follows:\n",
    "\n",
    "`cool_instance = CoolClass()`\n",
    "\n",
    "Above, we created an object by adding parentheses to the name of the class. We then assigned that new instance to the variable cool_instance for safe-keeping so we can access our instance of CoolClass at a later time."
   ]
  },
  {
   "cell_type": "markdown",
   "metadata": {},
   "source": [
    "***\n",
    "## Object-Oriented Programming\n",
    "**A class instance is also called an object**. The pattern of defining classes and creating objects to represent the responsibilities of a program is known as Object Oriented Programming or OOP.\n",
    "\n",
    "**Instantiation takes a class and turns it into an object, the `type()` function does the opposite of that. When called with an object, it returns the class that the object is an instance of.**\n",
    "\n",
    "`print(type(cool_instance))`\n",
    "\n",
    "`#prints \"<class '__main__.CoolClass'>\"`\n",
    "\n",
    "We then print out the `type()` of cool_instance and it shows us that this object is of type __main__.CoolClass.\n",
    "\n",
    "In Python **`__main__` means “this current file that we’re running” and so one could read the output from type() to mean “the class CoolClass that was defined here, in the script you’re currently running.”**"
   ]
  },
  {
   "cell_type": "markdown",
   "metadata": {},
   "source": [
    "***\n",
    "## Class Variables\n",
    "When we want the same data to be available to every instance of a class we use a class variable. A class variable is a variable that’s the same for every instance of the class.\n",
    "\n",
    "You can define a class variable by including it in the indented part of your class definition, and you can access all of an object’s class variables with object.variable syntax.\n",
    "\n",
    "`class Musician:`\n",
    "\n",
    "    `title = \"Rockstar\"`\n",
    "    \n",
    " \n",
    "`drummer = Musician()`\n",
    "\n",
    "`print(drummer.title)`\n",
    "\n",
    "`# prints \"Rockstar\"`\n",
    "\n",
    "Above we defined the class Musician, then instantiated drummer to be an object of type Musician. We then printed out the drummer’s .title attribute, which is a class variable that we defined as the string “Rockstar”.\n",
    "\n",
    "If we defined another musician, like guitarist = Musician() they would have the same .title attribute."
   ]
  },
  {
   "cell_type": "markdown",
   "metadata": {},
   "source": [
    "***\n",
    "## Methods\n",
    "Methods are functions that are defined as part of a class. The first argument in a method is always the object that is calling the method. Convention recommends that we name this first argument self. Methods always have at least this one argument.\n",
    "\n",
    "We define methods similarly to functions, except that they are indented to be part of the class:"
   ]
  },
  {
   "cell_type": "code",
   "execution_count": 61,
   "metadata": {},
   "outputs": [
    {
     "name": "stdout",
     "output_type": "stream",
     "text": [
      "Dogs experience 7 years for every 1 human year.\n"
     ]
    }
   ],
   "source": [
    "class Dog:\n",
    "  dog_time_dilation = 7\n",
    " \n",
    "  def time_explanation(self):\n",
    "    print(\"Dogs experience {} years for every 1 human year.\".format(self.dog_time_dilation))\n",
    " \n",
    "pipi_pitbull = Dog()\n",
    "pipi_pitbull.time_explanation()\n"
   ]
  },
  {
   "cell_type": "markdown",
   "metadata": {},
   "source": [
    "Above we created a `Dog` class with a `time_explanation` method that takes one argument, `self`, which refers to the object calling the function. We created a `Dog` named `pipi_pitbull` and called the `.time_explanation()` method on our new object for Pipi.\n",
    "\n",
    "Notice we didn’t pass any arguments when we called `.time_explanation()`, but were able to refer to self in the function body. When you call a method it automatically passes the object calling the method as the first argument.\n"
   ]
  },
  {
   "cell_type": "markdown",
   "metadata": {},
   "source": [
    "***\n",
    "## Methods with Arguments\n",
    "Methods can also take more arguments than just self:"
   ]
  },
  {
   "cell_type": "code",
   "execution_count": 62,
   "metadata": {},
   "outputs": [
    {
     "name": "stdout",
     "output_type": "stream",
     "text": [
      "8.045\n"
     ]
    }
   ],
   "source": [
    "class DistanceConverter:\n",
    "  kms_in_a_mile = 1.609\n",
    "  def how_many_kms(self, miles):\n",
    "    return miles * self.kms_in_a_mile\n",
    " \n",
    "converter = DistanceConverter()\n",
    "kms_in_5_miles = converter.how_many_kms(5)\n",
    "print(kms_in_5_miles)\n"
   ]
  },
  {
   "cell_type": "markdown",
   "metadata": {},
   "source": [
    "Above we defined a `DistanceConverter` class, instantiated it, and used it to convert 5 miles into kilometers. Notice again that even though `how_many_kms` takes two arguments in its definition, we only pass miles, because self is implicitly passed (and refers to the object converter)."
   ]
  },
  {
   "cell_type": "markdown",
   "metadata": {},
   "source": [
    "***\n",
    "## Constructors\n",
    "\n",
    "There are several methods that we can define in a Python class that have special behavior. These methods are sometimes called “magic,” because they behave differently from regular methods. Another popular term is dunder methods, so-named because they have two underscores (double-underscore abbreviated to “dunder”) on either side of them.\n",
    "\n",
    "The first dunder method we’re going to use is the `__init__()` method (note the two underscores before and after the word “init”). This method is used to initialize a newly created object. It is called every time the class is instantiated.\n",
    "\n",
    "Methods that are used to prepare an object being instantiated are called constructors. The word “constructor” is used to describe similar features in other object-oriented programming languages but programmers who refer to a constructor in Python are usually talking about the `__init__()` method.\n",
    "\n",
    "**The `__init()__` method must always have `self` as parameter**\n"
   ]
  },
  {
   "cell_type": "code",
   "execution_count": 63,
   "metadata": {},
   "outputs": [
    {
     "name": "stdout",
     "output_type": "stream",
     "text": [
      "HELLO?!\n",
      "HELLO?!\n"
     ]
    }
   ],
   "source": [
    "class Shouter:\n",
    "  def __init__(self):\n",
    "    print(\"HELLO?!\")\n",
    " \n",
    "shout1 = Shouter()\n",
    "shout2 = Shouter()"
   ]
  },
  {
   "cell_type": "markdown",
   "metadata": {},
   "source": [
    "Above we created a class called `Shouter` and every time we create an instance of Shouter the program prints out a shout. \n",
    "\n",
    "Pay careful attention to the instantiation syntax we use. `Shouter()` looks a lot like a function call, doesn’t it? If it’s a function, can we pass parameters to it? We absolutely can, and those parameters will be received by the `__init__()` method.\n"
   ]
  },
  {
   "cell_type": "code",
   "execution_count": 64,
   "metadata": {},
   "outputs": [
    {
     "name": "stdout",
     "output_type": "stream",
     "text": [
      "SHOUT\n",
      "SHOUT\n",
      "LET IT ALL OUT\n"
     ]
    }
   ],
   "source": [
    "class Shouter:\n",
    "  def __init__(self, phrase):\n",
    "    # make sure phrase is a string\n",
    "    if type(phrase) == str:\n",
    " \n",
    "      # then shout it out\n",
    "      print(phrase.upper())\n",
    " \n",
    "shout1 = Shouter(\"shout\")\n",
    "\n",
    " \n",
    "shout2 = Shouter(\"shout\")\n",
    "\n",
    " \n",
    "shout3 = Shouter(\"let it all out\")\n",
    "\n"
   ]
  },
  {
   "cell_type": "markdown",
   "metadata": {},
   "source": [
    "Above we’ve updated our `Shouter` class to take the additional parameter phrase. When we created each of our objects we passed an argument to the constructor. The constructor takes the argument phrase and, if it’s a string, prints out the all-caps version of phrase."
   ]
  },
  {
   "cell_type": "markdown",
   "metadata": {},
   "source": [
    "***\n",
    "## Self\n",
    "Since we can already use dictionaries to store key-value pairs, using objects for that purpose is not really useful. Instance variables are more powerful when you can guarantee a rigidity to the data the object is holding.\n",
    "\n",
    "This convenience is most apparent when the constructor creates the instance variables, using the arguments passed in to it. If we were creating a search engine, and we wanted to create classes for each separate entry we could return. We’d do that like this:\n"
   ]
  },
  {
   "cell_type": "code",
   "execution_count": 65,
   "metadata": {},
   "outputs": [
    {
     "name": "stdout",
     "output_type": "stream",
     "text": [
      "www.codecademy.com\n",
      "www.wikipedia.org\n"
     ]
    }
   ],
   "source": [
    "class SearchEngineEntry:\n",
    "  def __init__(self, url):\n",
    "    self.url = url\n",
    " \n",
    "codecademy = SearchEngineEntry(\"www.codecademy.com\")\n",
    "wikipedia = SearchEngineEntry(\"www.wikipedia.org\")\n",
    " \n",
    "print(codecademy.url)\n",
    "# prints \"www.codecademy.com\"\n",
    " \n",
    "print(wikipedia.url)\n",
    "# prints \"www.wikipedia.org"
   ]
  },
  {
   "cell_type": "markdown",
   "metadata": {},
   "source": [
    "Since the `self` keyword refers to the object and not the class being called, we can define a secure method on the `SearchEngineEntry` class that returns the secure link to an entry."
   ]
  },
  {
   "cell_type": "code",
   "execution_count": 66,
   "metadata": {},
   "outputs": [
    {
     "name": "stdout",
     "output_type": "stream",
     "text": [
      "https://www.codecademy.com\n",
      "https://www.wikipedia.org\n"
     ]
    }
   ],
   "source": [
    "class SearchEngineEntry:\n",
    "  secure_prefix = \"https://\"\n",
    "  def __init__(self, url):\n",
    "    self.url = url\n",
    " \n",
    "  def secure(self):\n",
    "    return \"{prefix}{site}\".format(prefix=self.secure_prefix, site=self.url)\n",
    " \n",
    "codecademy = SearchEngineEntry(\"www.codecademy.com\")\n",
    "wikipedia = SearchEngineEntry(\"www.wikipedia.org\")\n",
    " \n",
    "print(codecademy.secure())\n",
    "# prints \"https://www.codecademy.com\"\n",
    " \n",
    "print(wikipedia.secure())\n",
    "# prints \"https://www.wikipedia.org\""
   ]
  },
  {
   "cell_type": "markdown",
   "metadata": {},
   "source": [
    "Above we define our `secure()` method to take just the one required argument, `self`. We access both the class variable `self.secure_prefix` and the instance variable `self.url` to return a secure URL.\n",
    "\n",
    "This is the strength of writing object-oriented programs. We can write our classes to structure the data that we need and write methods that will interact with that data in a meaningful way.\n"
   ]
  },
  {
   "cell_type": "markdown",
   "metadata": {},
   "source": [
    "### Example\n"
   ]
  },
  {
   "cell_type": "markdown",
   "metadata": {},
   "source": [
    "* In `Circle‘s` constructor set the instance variable self.radius to equal half the diameter that gets passed in."
   ]
  },
  {
   "cell_type": "code",
   "execution_count": 67,
   "metadata": {},
   "outputs": [],
   "source": [
    "class Circle:\n",
    "  pi = 3.14\n",
    "\n",
    "  def __init__(self, diameter):\n",
    "    self.radius = diameter / 2\n",
    "    print(\"Creating circle with diameter {d}\".format(d=diameter))"
   ]
  },
  {
   "cell_type": "markdown",
   "metadata": {},
   "source": [
    "* Define three Circles with three different diameters.\n",
    "    * A medium pizza, medium_pizza, that is 12 inches across.\n",
    "    * Your teaching table, teaching_table, which is 36 inches across.\n",
    "    * The Round Room auditorium, round_room, which is 11,460 inches across."
   ]
  },
  {
   "cell_type": "code",
   "execution_count": 68,
   "metadata": {
    "scrolled": true
   },
   "outputs": [
    {
     "name": "stdout",
     "output_type": "stream",
     "text": [
      "Creating circle with diameter 12\n",
      "Creating circle with diameter 36\n",
      "Creating circle with diameter 11460\n"
     ]
    }
   ],
   "source": [
    "medium_pizza = Circle(12)\n",
    "teaching_table = Circle(36)\n",
    "round_room = Circle(11460)"
   ]
  },
  {
   "cell_type": "markdown",
   "metadata": {},
   "source": [
    "* Define a new method `circumference` for your circle object that takes only one argument, `self`, and returns the circumference of a circle with the given radius by this formula:\n",
    "\n",
    "**`circumference = 2 * pi * radius`**"
   ]
  },
  {
   "cell_type": "code",
   "execution_count": 69,
   "metadata": {},
   "outputs": [],
   "source": [
    "class Circle:\n",
    "  pi = 3.14\n",
    "\n",
    "  def __init__(self, diameter):\n",
    "    self.radius = diameter / 2\n",
    "    print(\"Creating circle with diameter {d}\".format(d=diameter)) \n",
    "    \n",
    "  def circumference(self):\n",
    "    return 2 * (self.pi * self.radius)"
   ]
  },
  {
   "cell_type": "markdown",
   "metadata": {},
   "source": [
    "* Print out the `circumferences` of `medium_pizza`, `teaching_table`, and `round_room`."
   ]
  },
  {
   "cell_type": "code",
   "execution_count": 70,
   "metadata": {
    "scrolled": true
   },
   "outputs": [
    {
     "name": "stdout",
     "output_type": "stream",
     "text": [
      "Creating circle with diameter 12\n",
      "Creating circle with diameter 36\n",
      "Creating circle with diameter 11460\n",
      "37.68\n",
      "113.04\n",
      "35984.4\n"
     ]
    }
   ],
   "source": [
    "class Circle:\n",
    "  pi = 3.14\n",
    "\n",
    "  def __init__(self, diameter):\n",
    "    self.radius = diameter / 2\n",
    "    print(\"Creating circle with diameter {d}\".format(d=diameter))\n",
    "\n",
    "  def circumference(self):\n",
    "    return 2 * (self.pi * self.radius)\n",
    "    \n",
    "\n",
    "medium_pizza = Circle(12)\n",
    "teaching_table = Circle(36)\n",
    "round_room = Circle(11460)\n",
    "\n",
    "print(medium_pizza.circumference())\n",
    "print(teaching_table.circumference())\n",
    "print(round_room.circumference())"
   ]
  },
  {
   "cell_type": "markdown",
   "metadata": {},
   "source": [
    "***\n",
    "## Everything is an Object\n",
    "\n",
    "Attributes can be added to user-defined objects after instantiation, so it’s possible for an object to have some attributes that are not explicitly defined in an object’s constructor. We can use the `dir()` function to investigate an object’s attributes at runtime. `dir()` is short for directory and offers an organized presentation of object attributes."
   ]
  },
  {
   "cell_type": "code",
   "execution_count": 71,
   "metadata": {},
   "outputs": [
    {
     "data": {
      "text/plain": [
       "['__class__',\n",
       " '__delattr__',\n",
       " '__dict__',\n",
       " '__dir__',\n",
       " '__doc__',\n",
       " '__eq__',\n",
       " '__format__',\n",
       " '__ge__',\n",
       " '__getattribute__',\n",
       " '__gt__',\n",
       " '__hash__',\n",
       " '__init__',\n",
       " '__init_subclass__',\n",
       " '__le__',\n",
       " '__lt__',\n",
       " '__module__',\n",
       " '__ne__',\n",
       " '__new__',\n",
       " '__reduce__',\n",
       " '__reduce_ex__',\n",
       " '__repr__',\n",
       " '__setattr__',\n",
       " '__sizeof__',\n",
       " '__str__',\n",
       " '__subclasshook__',\n",
       " '__weakref__',\n",
       " 'attribute']"
      ]
     },
     "execution_count": 71,
     "metadata": {},
     "output_type": "execute_result"
    }
   ],
   "source": [
    "class FakeDict:\n",
    "  pass\n",
    " \n",
    "fake_dict = FakeDict()\n",
    "fake_dict.attribute = \"Cool\"\n",
    " \n",
    "dir(fake_dict)"
   ]
  },
  {
   "cell_type": "markdown",
   "metadata": {},
   "source": [
    "That’s certainly a lot more attributes than we defined! **Python automatically adds a number of attributes to all objects that get created.** These internal attributes are usually indicated by double-underscores. But sure enough, attribute is in that list.\n",
    "\n",
    "**Native data types are also objects in Python. Their classes are int, float, str, list, and dict**. These Python classes have special syntax for their instantiation, 1, 1.0, \"hello\", [], and {} specifically. But these instances are still full-blown objects to Python."
   ]
  },
  {
   "cell_type": "code",
   "execution_count": 72,
   "metadata": {},
   "outputs": [
    {
     "name": "stdout",
     "output_type": "stream",
     "text": [
      "<class 'list'>\n"
     ]
    },
    {
     "data": {
      "text/plain": [
       "['__add__',\n",
       " '__class__',\n",
       " '__contains__',\n",
       " '__delattr__',\n",
       " '__delitem__',\n",
       " '__dir__',\n",
       " '__doc__',\n",
       " '__eq__',\n",
       " '__format__',\n",
       " '__ge__',\n",
       " '__getattribute__',\n",
       " '__getitem__',\n",
       " '__gt__',\n",
       " '__hash__',\n",
       " '__iadd__',\n",
       " '__imul__',\n",
       " '__init__',\n",
       " '__init_subclass__',\n",
       " '__iter__',\n",
       " '__le__',\n",
       " '__len__',\n",
       " '__lt__',\n",
       " '__mul__',\n",
       " '__ne__',\n",
       " '__new__',\n",
       " '__reduce__',\n",
       " '__reduce_ex__',\n",
       " '__repr__',\n",
       " '__reversed__',\n",
       " '__rmul__',\n",
       " '__setattr__',\n",
       " '__setitem__',\n",
       " '__sizeof__',\n",
       " '__str__',\n",
       " '__subclasshook__',\n",
       " 'append',\n",
       " 'clear',\n",
       " 'copy',\n",
       " 'count',\n",
       " 'extend',\n",
       " 'index',\n",
       " 'insert',\n",
       " 'pop',\n",
       " 'remove',\n",
       " 'reverse',\n",
       " 'sort']"
      ]
     },
     "execution_count": 72,
     "metadata": {},
     "output_type": "execute_result"
    }
   ],
   "source": [
    "fun_list = [10, \"string\", {'abc': True}]\n",
    " \n",
    "print(type(fun_list))\n",
    "\n",
    "dir(fun_list)"
   ]
  },
  {
   "cell_type": "markdown",
   "metadata": {},
   "source": [
    "Above we define a new list. We check it’s type and see that’s an instantiation of class list. We use `dir()` to **explore its attributes**, and it gives us a large number of internal Python dunder attributes, but, afterward, we get the usual list methods."
   ]
  },
  {
   "cell_type": "markdown",
   "metadata": {},
   "source": [
    "***\n",
    "## Attribute Functions\n",
    "Instance variables and class variables are both accessed similarly in Python. This is no mistake, they are both considered attributes of an object. If we attempt to access an attribute that is neither a class variable nor an instance variable of the object Python will throw an AttributeError."
   ]
  },
  {
   "cell_type": "code",
   "execution_count": 73,
   "metadata": {},
   "outputs": [
    {
     "name": "stdout",
     "output_type": "stream",
     "text": [
      "This text gets printed!\n"
     ]
    }
   ],
   "source": [
    "class NoCustomAttributes:\n",
    "  pass\n",
    " \n",
    "attributeless = NoCustomAttributes()\n",
    " \n",
    "try:\n",
    "  attributeless.fake_attribute\n",
    "except AttributeError:\n",
    "  print(\"This text gets printed!\")\n"
   ]
  },
  {
   "cell_type": "markdown",
   "metadata": {},
   "source": [
    "What if we aren’t sure if an object has an attribute or not? **`hasattr()` will return True if an object has a given attribute and False otherwise.** If we want to **get the actual value of the attribute, getattr() is a Python function that will return the value of a given object and attribute**. In this function, we can also supply a third argument that will be the default if the object does not have the given attribute.\n",
    "\n",
    "**The syntax and parameters for these functions look like this:**\n",
    "\n",
    "* `hasattr(object, “attribute”)` has **two parameters**:\n",
    "\n",
    "    * **object** : the object we are testing to see if it has a certain attribute\n",
    "    * **attribute** : name of attribute we want to see if it exists\n",
    "\n",
    "\n",
    "\n",
    "* `getattr(object, “attribute”, default)` has **three parameters (one of which is optional)**:\n",
    "\n",
    "    * **object** : the object whose attribute we want to evaluate\n",
    "    * **attribute** : name of attribute we want to evaluate\n",
    "    * **default** : the value that is returned if the attribute does not exist (note: this parameter is optional)\n",
    "\n",
    "Calling those functions looks like this:"
   ]
  },
  {
   "cell_type": "code",
   "execution_count": 74,
   "metadata": {},
   "outputs": [
    {
     "name": "stdout",
     "output_type": "stream",
     "text": [
      "False\n",
      "800\n"
     ]
    }
   ],
   "source": [
    "class NoCustomAttributes:\n",
    "  pass\n",
    " \n",
    "attributeless = NoCustomAttributes()\n",
    " \n",
    "\n",
    "print(hasattr(attributeless, \"fake_attribute\")) # returns False\n",
    "\n",
    " \n",
    "print(getattr(attributeless, \"other_fake_attribute\", 800))\n",
    "# returns 800, the default value"
   ]
  },
  {
   "cell_type": "markdown",
   "metadata": {},
   "source": [
    "Above we checked if the `attributeless` object has the attribute `fake_attribute`. Since it does not, `hasattr() `returned False. After that, we used `getattr` to attempt to retrieve `other_fake_attribute`. Since `other_fake_attribute` isn’t a real attribute on `attributeless`, our call to `getattr()` returned the supplied default value `800`, instead of throwing an `AttributeError`.\n"
   ]
  },
  {
   "cell_type": "markdown",
   "metadata": {},
   "source": [
    "### Example\n"
   ]
  },
  {
   "cell_type": "code",
   "execution_count": 75,
   "metadata": {},
   "outputs": [
    {
     "name": "stdout",
     "output_type": "stream",
     "text": [
      "<class 'dict'> does not have the count attribute :(\n",
      "<class 'str'>has the count attribute :(\n",
      "<class 'int'> does not have the count attribute :(\n",
      "<class 'list'>has the count attribute :(\n"
     ]
    }
   ],
   "source": [
    "can_we_count_it = [{'s': False}, \"sassafrass\", 18, [\"a\", \"c\", \"s\", \"d\", \"s\"]]\n",
    "\n",
    "for i in can_we_count_it:\n",
    "  if (hasattr(i,'count')):\n",
    "    print(str(type(i)) + \"has the count attribute :(\")\n",
    "  else:\n",
    "    print(str(type(i)) + \" does not have the count attribute :(\")\n",
    "  \n"
   ]
  },
  {
   "cell_type": "markdown",
   "metadata": {},
   "source": [
    "***\n",
    "## String Representation\n",
    "One of the first things we learn as programmers is how to print out information that we need for debugging. Unfortunately, when we print out an object we get a default representation that seems fairly useless."
   ]
  },
  {
   "cell_type": "code",
   "execution_count": 76,
   "metadata": {},
   "outputs": [
    {
     "name": "stdout",
     "output_type": "stream",
     "text": [
      "<__main__.Employee object at 0x7f50e96f08e0>\n"
     ]
    }
   ],
   "source": [
    "class Employee():\n",
    "  def __init__(self, name):\n",
    "    self.name = name\n",
    " \n",
    "argus = Employee(\"Argus Filch\")\n",
    "print(argus)"
   ]
  },
  {
   "cell_type": "markdown",
   "metadata": {},
   "source": [
    "This default string representation gives us some information, like where the class is defined and our computer’s memory address where this object is stored, but is usually not useful information to have when we are trying to debug our code.\n",
    "\n",
    "Now, we will learn another dunder method called `__repr__()`. This is a method we can use to tell Python what we want the string representation of the class to be. `__repr__()` can **only have one parameter, self, and must return a string.**\n",
    "\n",
    "In our Employee class above, we have an instance variable called name that should be unique enough to be useful when we’re printing out an instance of the Employee class."
   ]
  },
  {
   "cell_type": "code",
   "execution_count": 77,
   "metadata": {},
   "outputs": [
    {
     "name": "stdout",
     "output_type": "stream",
     "text": [
      "Argus Filch\n"
     ]
    }
   ],
   "source": [
    "class Employee():\n",
    "  def __init__(self, name):\n",
    "    self.name = name\n",
    " \n",
    "  def __repr__(self):\n",
    "    return self.name\n",
    " \n",
    "argus = Employee(\"Argus Filch\")\n",
    "print(argus)"
   ]
  },
  {
   "cell_type": "markdown",
   "metadata": {},
   "source": [
    "We implemented the `__repr__()` method and had it return the `.name` attribute of the object. When we printed the object out it simply printed the `.name` of the object!"
   ]
  },
  {
   "cell_type": "markdown",
   "metadata": {},
   "source": [
    "### Example\n"
   ]
  },
  {
   "cell_type": "markdown",
   "metadata": {},
   "source": [
    "* #### Before:"
   ]
  },
  {
   "cell_type": "code",
   "execution_count": 78,
   "metadata": {},
   "outputs": [
    {
     "name": "stdout",
     "output_type": "stream",
     "text": [
      "<__main__.Circle object at 0x7f50e96f3a60> <__main__.Circle object at 0x7f50e96f3ac0> <__main__.Circle object at 0x7f50e96f3a90>\n"
     ]
    }
   ],
   "source": [
    "class Circle:\n",
    "  pi = 3.14\n",
    "  \n",
    "  def __init__(self, diameter):\n",
    "    self.radius = diameter / 2\n",
    "  \n",
    "  def area(self):\n",
    "    return self.pi * self.radius ** 2\n",
    "  \n",
    "  def circumference(self):\n",
    "    return self.pi * 2 * self.radius\n",
    "  \n",
    "  \n",
    "medium_pizza = Circle(12)\n",
    "teaching_table = Circle(36)\n",
    "round_room = Circle(11460)\n",
    "\n",
    "print(medium_pizza,teaching_table,round_room)"
   ]
  },
  {
   "cell_type": "markdown",
   "metadata": {},
   "source": [
    "* #### After:"
   ]
  },
  {
   "cell_type": "markdown",
   "metadata": {},
   "source": [
    "1. Add a `__repr__()` method to the `Circle` class that returns\n",
    "\n",
    "* `Circle with radius {radius}`\n",
    "\n",
    "2. Print out `medium_pizza`, `teaching_table`, and `round_room`."
   ]
  },
  {
   "cell_type": "code",
   "execution_count": 79,
   "metadata": {
    "scrolled": true
   },
   "outputs": [
    {
     "name": "stdout",
     "output_type": "stream",
     "text": [
      "Circle with radius 6.0 Circle with radius 18.0 Circle with radius 5730.0\n"
     ]
    }
   ],
   "source": [
    "class Circle:\n",
    "  pi = 3.14\n",
    "  \n",
    "  def __init__(self, diameter):\n",
    "    self.radius = diameter / 2\n",
    "\n",
    "  def __repr__(self):\n",
    "    return 'Circle with radius {radius}'.format(radius=self.radius)\n",
    "  \n",
    "  def area(self):\n",
    "    return self.pi * self.radius ** 2\n",
    "  \n",
    "  def circumference(self):\n",
    "    return self.pi * 2 * self.radius\n",
    "  \n",
    "  \n",
    "medium_pizza = Circle(12)\n",
    "teaching_table = Circle(36)\n",
    "round_room = Circle(11460)\n",
    "\n",
    "print(medium_pizza,teaching_table,round_room)"
   ]
  },
  {
   "cell_type": "markdown",
   "metadata": {},
   "source": [
    "## Review Exercises:\n"
   ]
  },
  {
   "cell_type": "code",
   "execution_count": null,
   "metadata": {},
   "outputs": [],
   "source": [
    "class Student:\n",
    "  def __init__(self, name, year):\n",
    "    self.name = name\n",
    "    self.year = year\n",
    "    self.grades = []\n",
    "  \n",
    "  def add_grade(self, grade):\n",
    "    if type(grade) is Grade:\n",
    "      self.grades.append(grade)      \n",
    "\n",
    "class Grade:\n",
    "  minimum_passing = 65\n",
    "  def __init__(self, score):\n",
    "    self.score = score\n",
    "    \n",
    "roger = Student(\"Roger van der Weyden\", 10)\n",
    "sandro = Student(\"Sandro Botticelli\", 12)\n",
    "pieter = Student(\"Pieter Bruegel the Elder\", 8)\n",
    "pieter.add_grade(Grade(100))"
   ]
  }
 ],
 "metadata": {
  "kernelspec": {
   "display_name": "Python 3",
   "language": "python",
   "name": "python3"
  },
  "language_info": {
   "codemirror_mode": {
    "name": "ipython",
    "version": 3
   },
   "file_extension": ".py",
   "mimetype": "text/x-python",
   "name": "python",
   "nbconvert_exporter": "python",
   "pygments_lexer": "ipython3",
   "version": "3.8.3"
  }
 },
 "nbformat": 4,
 "nbformat_minor": 4
}
