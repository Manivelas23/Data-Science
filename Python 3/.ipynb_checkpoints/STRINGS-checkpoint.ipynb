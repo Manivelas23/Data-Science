{
 "cells": [
  {
   "cell_type": "code",
   "execution_count": 26,
   "metadata": {},
   "outputs": [
    {
     "name": "stdout",
     "output_type": "stream",
     "text": [
      "ikouki\n"
     ]
    }
   ],
   "source": [
    "first_name = \"Reiko\"\n",
    "last_name = \"Matsuki\"\n",
    "\n",
    "def password_generator(fn,ln):\n",
    "  passwordGenerated = fn[len(fn)-3:]+ln[len(ln)-3:]\n",
    "  return passwordGenerated\n",
    "\n",
    "temp_password = password_generator(first_name,last_name)\n",
    "print(temp_password)"
   ]
  },
  {
   "cell_type": "markdown",
   "metadata": {},
   "source": [
    "***\n",
    "## Negative Indices\n",
    "\n",
    "In the previous exercise, we used len() to get a slice of characters at the end of a string.\n",
    "\n",
    "There’s a much easier way to do this — we can use negative indices! __Negative indices count backward from the end of the string, so `string_name[-1]` is the last character of the string, string_name[-2] is the second last character of the string, etc.__\n",
    "\n",
    "Here are some examples:\n",
    "\n"
   ]
  },
  {
   "cell_type": "code",
   "execution_count": 27,
   "metadata": {},
   "outputs": [
    {
     "name": "stdout",
     "output_type": "stream",
     "text": [
      "y\n",
      "r\n",
      "rry\n"
     ]
    }
   ],
   "source": [
    "favorite_fruit = 'blueberry'\n",
    "print(favorite_fruit[-1])\n",
    "# => 'y'\n",
    " \n",
    "print(favorite_fruit[-2])\n",
    "# => 'r'\n",
    " \n",
    "print(favorite_fruit[-3:])\n",
    "# => 'rry'"
   ]
  },
  {
   "cell_type": "markdown",
   "metadata": {},
   "source": [
    "Then, concatenate the string \"R\" with a slice of first_name that includes everything but the first character, \"B\", and save it to a new string fixed_first_name"
   ]
  },
  {
   "cell_type": "code",
   "execution_count": 28,
   "metadata": {},
   "outputs": [
    {
     "name": "stdout",
     "output_type": "stream",
     "text": [
      "Rob\n"
     ]
    }
   ],
   "source": [
    "first_name = \"Bob\"\n",
    "last_name = \"Daily\"\n",
    "\n",
    "fixed_first_name = \"R\"+first_name[len(first_name)-2:] \n",
    "print(fixed_first_name)"
   ]
  },
  {
   "cell_type": "markdown",
   "metadata": {},
   "source": [
    "***\n",
    "## Escape Characters\n",
    "\n",
    "Occasionally when working with strings, you’ll find that you want to include characters that already have a special meaning in python. For example let’s say I create the string\n",
    "\n",
    "`favorite_fruit_conversation = \"He said, \"blueberries are my favorite!\"\"`\n",
    "\n",
    "We’ll have accidentally ended the string before we wanted to by including the \" character. The way we can do this is by introducing escape characters. __By adding a backslash in front of the special character we want to escape, \\\", we can include it in a string.__\n",
    "\n",
    "__`favorite_fruit_conversation = \"He said, \\\"blueberries are my favorite!\\\"\"`__"
   ]
  },
  {
   "cell_type": "code",
   "execution_count": 29,
   "metadata": {
    "scrolled": true
   },
   "outputs": [
    {
     "name": "stdout",
     "output_type": "stream",
     "text": [
      "He said, \"blueberries are my favorite!\"\n"
     ]
    }
   ],
   "source": [
    "favorite_fruit_conversation = \"He said, \\\"blueberries are my favorite!\\\"\"\n",
    "print(favorite_fruit_conversation)"
   ]
  },
  {
   "cell_type": "code",
   "execution_count": 30,
   "metadata": {},
   "outputs": [],
   "source": [
    "password = \"theycallme\\\"crazy\\\"91\""
   ]
  },
  {
   "cell_type": "markdown",
   "metadata": {},
   "source": [
    "## Strings and Conditionals (Part One)"
   ]
  },
  {
   "cell_type": "code",
   "execution_count": 31,
   "metadata": {},
   "outputs": [
    {
     "data": {
      "text/plain": [
       "True"
      ]
     },
     "execution_count": 31,
     "metadata": {},
     "output_type": "execute_result"
    }
   ],
   "source": [
    "def letter_check(word,letter):\n",
    "  for i in word:\n",
    "    if letter == i:\n",
    "      return True\n",
    "\n",
    "      \n",
    "letter_check(\"Pacha\", \"a\")"
   ]
  },
  {
   "cell_type": "markdown",
   "metadata": {},
   "source": [
    "## Strings and Conditionals (Part Two)"
   ]
  },
  {
   "cell_type": "markdown",
   "metadata": {},
   "source": [
    "There’s an even easier __way than iterating through the entire string to determine if a character is in a string. We can do this type of check more efficiently using in. in checks if one string is part of another string.__\n",
    "\n",
    "Here is what the syntax of in looks like:\n",
    "\n",
    "`letter in word`\n",
    "\n",
    "Here, letter in word is a __boolean expression__ that is True if the string letter is in the string word. Here are some examples:\n"
   ]
  },
  {
   "cell_type": "code",
   "execution_count": 32,
   "metadata": {
    "scrolled": true
   },
   "outputs": [
    {
     "name": "stdout",
     "output_type": "stream",
     "text": [
      "True\n",
      "False\n"
     ]
    }
   ],
   "source": [
    "print(\"e\" in \"blueberry\")\n",
    "# => True\n",
    "print(\"a\" in \"blueberry\")\n",
    "# => False"
   ]
  },
  {
   "cell_type": "markdown",
   "metadata": {},
   "source": [
    "In fact, this method is more powerful than the function you wrote in the last exercise because it not only works with letters, but with entire strings as well."
   ]
  },
  {
   "cell_type": "code",
   "execution_count": 33,
   "metadata": {},
   "outputs": [
    {
     "name": "stdout",
     "output_type": "stream",
     "text": [
      "True\n",
      "False\n"
     ]
    }
   ],
   "source": [
    "print(\"blue\" in \"blueberry\")\n",
    "# => True\n",
    "print(\"blue\" in \"strawberry\")\n",
    "# => False"
   ]
  },
  {
   "cell_type": "code",
   "execution_count": 34,
   "metadata": {},
   "outputs": [
    {
     "name": "stdout",
     "output_type": "stream",
     "text": [
      "True\n"
     ]
    }
   ],
   "source": [
    "def contains(big_string,little_string):\n",
    "  return little_string in big_string\n",
    "\n",
    "print(contains(\"Watermelon\",\"melon\"))"
   ]
  },
  {
   "cell_type": "markdown",
   "metadata": {},
   "source": [
    "Write a function called common_letters that takes two arguments, string_one and string_two and then returns a list with all of the letters they have in common.\n",
    "\n",
    "The letters in the returned list should be unique. For example,\n",
    "\n",
    "`common_letters(\"banana\", \"cream\")`\n",
    "\n",
    "should return`['a'].`"
   ]
  },
  {
   "cell_type": "code",
   "execution_count": 35,
   "metadata": {
    "scrolled": true
   },
   "outputs": [
    {
     "name": "stdout",
     "output_type": "stream",
     "text": [
      "['e', 'q', 'u', 'b', 'r', 'a', 'd', 'o']\n"
     ]
    }
   ],
   "source": [
    "def common_letters(string_one, string_two):\n",
    "  common = []\n",
    "  for letter in string_one:\n",
    "    if (letter in string_two) and not (letter in common):\n",
    "      common.append(letter)\n",
    "  return common\n",
    "\n",
    "print(common_letters(\"equilibrado\",\"quebrado\"))"
   ]
  },
  {
   "cell_type": "markdown",
   "metadata": {},
   "source": [
    "## Exercises"
   ]
  },
  {
   "cell_type": "markdown",
   "metadata": {},
   "source": [
    "Copeland’s Corporate Company has finalized what they want their username and temporary password creation to be and have enlisted your help, once again, to build the function to generate them. In this exercise, \n",
    "you will create two functions, `username_generator` and `password_generator.`\n",
    "\n",
    "Let’s start with `username_generator. `\n",
    "\n",
    "Create a function called `username_generator` take two inputs, __first_name__ and __last_name__ and returns a username. The username should be a slice of the __first three letters of their first name__ and __the first four letters of their last name__. If their first name is less than three letters or their last name is less than four letters it should use their entire names.\n",
    "\n",
    "For example, if the employee’s name is __Abe Simpson__ the function should generate the __username AbeSimp.__"
   ]
  },
  {
   "cell_type": "code",
   "execution_count": 36,
   "metadata": {},
   "outputs": [
    {
     "name": "stdout",
     "output_type": "stream",
     "text": [
      "AbeSimp\n"
     ]
    }
   ],
   "source": [
    "def username_generator(firstname,lastname):\n",
    "  return firstname[:3] + lastname[:4]\n",
    "\n",
    "print(username_generator(\"Abe\",\"Simpson\"))"
   ]
  },
  {
   "cell_type": "markdown",
   "metadata": {},
   "source": [
    "Now for the temporary password, they want the function to take the input user name and shift all of the letters by one to the right, so the last letter of the username ends up as the first letter and so forth. \n",
    "\n",
    "For example, if the __username is AbeSimp__, then the temporary __password generated should be pAbeSim.__"
   ]
  },
  {
   "cell_type": "code",
   "execution_count": 41,
   "metadata": {},
   "outputs": [
    {
     "name": "stdout",
     "output_type": "stream",
     "text": [
      "AbeSimp\n",
      "pAbeSimp\n"
     ]
    },
    {
     "data": {
      "text/plain": [
       "'pAbeSimp'"
      ]
     },
     "execution_count": 41,
     "metadata": {},
     "output_type": "execute_result"
    }
   ],
   "source": [
    "#Function previously created to generate an username\n",
    "def username_generator(firstname,lastname):\n",
    "  return firstname[:3] + lastname[:4]\n",
    "\n",
    "usernameGenerated = username_generator(\"Abe\",\"Simpson\")\n",
    "print(username_generator(\"Abe\",\"Simpson\"))\n",
    "\n",
    "#Function  created to generate a password\n",
    "def password_generator(username):\n",
    "  password = username[len(username)-1]+username[0:]\n",
    "  print(password)\n",
    "  return password\n",
    "\n",
    "password_generator(usernameGenerated)"
   ]
  }
 ],
 "metadata": {
  "kernelspec": {
   "display_name": "Python 3",
   "language": "python",
   "name": "python3"
  },
  "language_info": {
   "codemirror_mode": {
    "name": "ipython",
    "version": 3
   },
   "file_extension": ".py",
   "mimetype": "text/x-python",
   "name": "python",
   "nbconvert_exporter": "python",
   "pygments_lexer": "ipython3",
   "version": "3.8.3"
  }
 },
 "nbformat": 4,
 "nbformat_minor": 4
}
