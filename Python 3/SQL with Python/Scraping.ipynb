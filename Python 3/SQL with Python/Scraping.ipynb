{
 "cells": [
  {
   "cell_type": "code",
   "execution_count": 4,
   "metadata": {},
   "outputs": [],
   "source": [
    "import pandas as pd\n",
    "import requests\n",
    "import sqlite3 \n",
    "from bs4 import BeautifulSoup\n",
    "\n",
    "webpage = requests.get(\"https://content.codecademy.com/courses/beautifulsoup/shellter.html\")\n",
    "soup = BeautifulSoup(webpage.content, \"html.parser\")\n",
    "\n",
    "turtle_names = [i.p.string.replace(\" \",\"\") for i in soup.find_all(attrs= ({'class':'box adopt'}))]\n",
    "image_names = [i['src'] for i in soup.find_all(attrs= ({'class':'headshot'}))]\n",
    "\n",
    "turtle_info = list(zip(range(0,len(turtle_names)), turtle_names ,[\"https://content.codecademy.com/courses/beautifulsoup/\"+i for i in image_names]))"
   ]
  },
  {
   "cell_type": "code",
   "execution_count": 217,
   "metadata": {},
   "outputs": [
    {
     "data": {
      "text/plain": [
       "<sqlite3.Cursor at 0x7f0f02a0fce0>"
      ]
     },
     "execution_count": 217,
     "metadata": {},
     "output_type": "execute_result"
    }
   ],
   "source": [
    "db_connection = sqlite3.connect(\"turtles\")\n",
    "cursor = db_connection.cursor()\n",
    "\n",
    "cursor.execute(\"\"\"\n",
    "CREATE TABLE turtles_info(\n",
    "    id INTEGER PRIMARY KEY AUTOINCREMENT,\n",
    "    name TEXT,\n",
    "    image_url varchar(255)\n",
    "    )\n",
    "\"\"\")\n"
   ]
  },
  {
   "cell_type": "code",
   "execution_count": 227,
   "metadata": {
    "scrolled": true
   },
   "outputs": [
    {
     "ename": "IntegrityError",
     "evalue": "UNIQUE constraint failed: turtles_info.id",
     "output_type": "error",
     "traceback": [
      "\u001b[0;31m---------------------------------------------------------------------------\u001b[0m",
      "\u001b[0;31mIntegrityError\u001b[0m                            Traceback (most recent call last)",
      "\u001b[0;32m<ipython-input-227-6e8976410524>\u001b[0m in \u001b[0;36m<module>\u001b[0;34m\u001b[0m\n\u001b[0;32m----> 1\u001b[0;31m \u001b[0mcursor\u001b[0m\u001b[0;34m.\u001b[0m\u001b[0mexecutemany\u001b[0m\u001b[0;34m(\u001b[0m\u001b[0;34m\"\"\"INSERT INTO turtles_info VALUES (?,?,?)\"\"\"\u001b[0m\u001b[0;34m,\u001b[0m  \u001b[0mturtle_info\u001b[0m\u001b[0;34m)\u001b[0m\u001b[0;34m\u001b[0m\u001b[0;34m\u001b[0m\u001b[0m\n\u001b[0m",
      "\u001b[0;31mIntegrityError\u001b[0m: UNIQUE constraint failed: turtles_info.id"
     ]
    }
   ],
   "source": [
    "cursor.executemany(\"\"\"INSERT INTO turtles_info VALUES (?,?,?)\"\"\",  turtle_info)"
   ]
  },
  {
   "cell_type": "code",
   "execution_count": 238,
   "metadata": {},
   "outputs": [
    {
     "name": "stdout",
     "output_type": "stream",
     "text": [
      "   id            name                                          image_url\n",
      "0   0           Aesop  https://content.codecademy.com/courses/beautif...\n",
      "1   1          Caesar  https://content.codecademy.com/courses/beautif...\n",
      "2   2           Sulla  https://content.codecademy.com/courses/beautif...\n",
      "3   3           Spyro  https://content.codecademy.com/courses/beautif...\n",
      "4   4           Zelda  https://content.codecademy.com/courses/beautif...\n",
      "5   5       Bandicoot  https://content.codecademy.com/courses/beautif...\n",
      "6   6             Hal  https://content.codecademy.com/courses/beautif...\n",
      "7   7            Mock  https://content.codecademy.com/courses/beautif...\n",
      "8   8  CaptainSparrow  https://content.codecademy.com/courses/beautif...\n"
     ]
    }
   ],
   "source": [
    "sql_query = pd.read_sql_query(\"\"\"SELECT * FROM turtles_info\"\"\", db_connection)\n",
    "df = pd.DataFrame(sql_query)\n",
    "print(df)"
   ]
  },
  {
   "cell_type": "code",
   "execution_count": 1,
   "metadata": {},
   "outputs": [
    {
     "name": "stdout",
     "output_type": "stream",
     "text": [
      "[100, 4, 64, 49, 25, 16, 9, 121, 0, 1]\n"
     ]
    }
   ],
   "source": [
    "sequences = [10,2,8,7,5,4,3,11,0, 1]\n",
    "filtered_result = map (lambda x: x*x, sequences) \n",
    "print(list(filtered_result))\n"
   ]
  }
 ],
 "metadata": {
  "kernelspec": {
   "display_name": "Python 3",
   "language": "python",
   "name": "python3"
  },
  "language_info": {
   "codemirror_mode": {
    "name": "ipython",
    "version": 3
   },
   "file_extension": ".py",
   "mimetype": "text/x-python",
   "name": "python",
   "nbconvert_exporter": "python",
   "pygments_lexer": "ipython3",
   "version": "3.8.6"
  },
  "toc": {
   "base_numbering": 1,
   "nav_menu": {},
   "number_sections": true,
   "sideBar": true,
   "skip_h1_title": false,
   "title_cell": "Table of Contents",
   "title_sidebar": "Contents",
   "toc_cell": false,
   "toc_position": {},
   "toc_section_display": true,
   "toc_window_display": false
  }
 },
 "nbformat": 4,
 "nbformat_minor": 4
}
