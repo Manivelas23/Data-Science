{
 "cells": [
  {
   "cell_type": "code",
   "execution_count": 70,
   "metadata": {},
   "outputs": [],
   "source": [
    "import pandas as pd\n",
    "import requests\n",
    "import sqlite3\n",
    "from bs4 import BeautifulSoup\n",
    "\n",
    "webpage = requests.get(\n",
    "    \"https://content.codecademy.com/courses/beautifulsoup/shellter.html\")\n",
    "soup = BeautifulSoup(webpage.content, \"html.parser\")\n",
    "\n",
    "turtle_names = [\n",
    "    i.p.string.replace(\" \", \"\")\n",
    "    for i in soup.find_all(attrs=({\n",
    "        'class': 'box adopt'\n",
    "    }))\n",
    "]\n",
    "image_names = [i['src'] for i in soup.find_all(attrs=({'class': 'headshot'}))]\n",
    "\n",
    "turtle_info = list(\n",
    "    zip(range(0, len(turtle_names)), turtle_names, [\n",
    "        \"https://content.codecademy.com/courses/beautifulsoup/\" + i\n",
    "        for i in image_names\n",
    "    ]))"
   ]
  },
  {
   "cell_type": "code",
   "execution_count": 71,
   "metadata": {},
   "outputs": [
    {
     "name": "stdout",
     "output_type": "stream",
     "text": [
      "Esa tabla ya existe\n"
     ]
    }
   ],
   "source": [
    "db_connection = sqlite3.connect(\"turtles\")\n",
    "cursor = db_connection.cursor()\n",
    "try:\n",
    "    cursor.execute(\"\"\"\n",
    "    CREATE TABLE turtles_info(\n",
    "        id INTEGER PRIMARY KEY AUTOINCREMENT,\n",
    "        name TEXT,\n",
    "        image_url varchar(255)\n",
    "        )\n",
    "    \"\"\")\n",
    "except:\n",
    "    print('Esa tabla ya existe')"
   ]
  },
  {
   "cell_type": "code",
   "execution_count": 77,
   "metadata": {
    "scrolled": true
   },
   "outputs": [
    {
     "name": "stdout",
     "output_type": "stream",
     "text": [
      "Esos valores ya fueron introducidos\n"
     ]
    }
   ],
   "source": [
    "bool = False\n",
    "try:\n",
    "    if bool:\n",
    "        print('Esos valores ya fueron introducidos')\n",
    "    else:\n",
    "        cursor.executemany(\"\"\"INSERT INTO turtles_info VALUES (?,?,?)\"\"\", turtle_info)\n",
    "        bool = True\n",
    "except:\n",
    "    print('Esos valores ya fueron introducidos')"
   ]
  },
  {
   "cell_type": "code",
   "execution_count": 83,
   "metadata": {},
   "outputs": [
    {
     "name": "stdout",
     "output_type": "stream",
     "text": [
      "   id            name                                          image_url\n",
      "0   0           Aesop  https://content.codecademy.com/courses/beautif...\n",
      "1   1          Caesar  https://content.codecademy.com/courses/beautif...\n",
      "2   2           Sulla  https://content.codecademy.com/courses/beautif...\n",
      "3   3           Spyro  https://content.codecademy.com/courses/beautif...\n",
      "4   4           Zelda  https://content.codecademy.com/courses/beautif...\n",
      "5   5       Bandicoot  https://content.codecademy.com/courses/beautif...\n",
      "6   6             Hal  https://content.codecademy.com/courses/beautif...\n",
      "7   7            Mock  https://content.codecademy.com/courses/beautif...\n",
      "8   8  CaptainSparrow  https://content.codecademy.com/courses/beautif...\n"
     ]
    }
   ],
   "source": [
    "sql_query = pd.read_sql_query(\"\"\"SELECT * FROM turtles_info\"\"\", db_connection)\n",
    "df = pd.DataFrame(sql_query)\n",
    "print(df)"
   ]
  },
  {
   "cell_type": "code",
   "execution_count": 75,
   "metadata": {},
   "outputs": [
    {
     "data": {
      "text/plain": [
       "[('https://content.codecademy.com/courses/beautifulsoup/aesop.png',),\n",
       " ('https://content.codecademy.com/courses/beautifulsoup/caesar.png',),\n",
       " ('https://content.codecademy.com/courses/beautifulsoup/sulla.png',),\n",
       " ('https://content.codecademy.com/courses/beautifulsoup/spyro.png',),\n",
       " ('https://content.codecademy.com/courses/beautifulsoup/zelda.png',),\n",
       " ('https://content.codecademy.com/courses/beautifulsoup/bandicoot.png',),\n",
       " ('https://content.codecademy.com/courses/beautifulsoup/hal.png',),\n",
       " ('https://content.codecademy.com/courses/beautifulsoup/mock.png',),\n",
       " ('https://content.codecademy.com/courses/beautifulsoup/sparrow.png',)]"
      ]
     },
     "execution_count": 75,
     "metadata": {},
     "output_type": "execute_result"
    }
   ],
   "source": [
    "cursor.execute(\"\"\"SELECT image_url FROM turtles_info\"\"\").fetchall()"
   ]
  }
 ],
 "metadata": {
  "kernelspec": {
   "display_name": "Python 3",
   "language": "python",
   "name": "python3"
  },
  "language_info": {
   "codemirror_mode": {
    "name": "ipython",
    "version": 3
   },
   "file_extension": ".py",
   "mimetype": "text/x-python",
   "name": "python",
   "nbconvert_exporter": "python",
   "pygments_lexer": "ipython3",
   "version": "3.8.6"
  },
  "toc": {
   "base_numbering": 1,
   "nav_menu": {},
   "number_sections": true,
   "sideBar": true,
   "skip_h1_title": false,
   "title_cell": "Table of Contents",
   "title_sidebar": "Contents",
   "toc_cell": false,
   "toc_position": {},
   "toc_section_display": true,
   "toc_window_display": false
  }
 },
 "nbformat": 4,
 "nbformat_minor": 4
}
