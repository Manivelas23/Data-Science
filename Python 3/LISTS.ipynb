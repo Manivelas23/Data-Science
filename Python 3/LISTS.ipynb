{
 "cells": [
  {
   "cell_type": "markdown",
   "metadata": {},
   "source": [
    "## **What is a list?**\n",
    "A list is an __ordered__ set of objects in Python.\n",
    "\n",
    "Suppose we want to make a list of the heights of students in a class:\n",
    "\n",
    "Jenny is 61 inches tall\n",
    "Alexus is 70 inches tall\n",
    "Sam is 67 inches tall\n",
    "Grace is 64 inches tall\n",
    "\n",
    "In Python, we can create a variable called heights to store these numbers:\n",
    "\n",
    "`heights = [61, 70, 67, 64]`\n",
    "\n",
    "Notice that:\n",
    "\n",
    "A list begins and ends with square brackets ([ and ]).\n",
    "Each item (i.e., 67 or 70) is separated by a comma (,)\n",
    "It’s considered good practice to insert a space () after each comma, but your code will run just fine if you forget the space."
   ]
  },
  {
   "cell_type": "markdown",
   "metadata": {},
   "source": [
    "#### Exercises\n",
    "1. A new student just joined the class:\n",
    "   * Cole is 65 inches tall\n",
    "   * Add Cole’s height to the end of the list heights. "
   ]
  },
  {
   "cell_type": "code",
   "execution_count": 7,
   "metadata": {},
   "outputs": [],
   "source": [
    "heights = [61, 70, 67, 64, 65]"
   ]
  },
  {
   "cell_type": "markdown",
   "metadata": {},
   "source": [
    "***\n",
    "## **Lists II**\n",
    "Lists can contain more than just numbers.\n",
    "\n",
    "Let’s revisit our height example:\n",
    "\n",
    "* Jenny is 61 inches tall\n",
    "* Alexus is 70 inches tall\n",
    "* Sam is 67 inches tall\n",
    "* Grace is 64 inches tall\n",
    "We can make a list of strings that contain the students’ names:\n",
    "\n",
    "`names = ['Jenny', 'Alexus', 'Sam', 'Grace']`\n",
    "\n",
    "We can also __combine multiple data types in one list__. \n",
    "\n",
    "For example, this list contains both a string and an integer:\n",
    "\n",
    "`mixed_list = ['Jenny', 61]`"
   ]
  },
  {
   "cell_type": "markdown",
   "metadata": {},
   "source": [
    "#### Exercises\n",
    "1. Create a new list called sam_height that contains:\n",
    "* The string 'Sam'\n",
    "* The number 67. "
   ]
  },
  {
   "cell_type": "code",
   "execution_count": 8,
   "metadata": {},
   "outputs": [],
   "source": [
    "sam_height = ['Sam', 67]"
   ]
  },
  {
   "cell_type": "markdown",
   "metadata": {},
   "source": [
    "***\n",
    "## **List of Lists**\n",
    "We’ve seen that the items in a list can be numbers or strings. They can also be other lists!\n",
    "\n",
    "Once more, let’s return to our class height example:\n",
    "\n",
    "* Jenny is 61 inches tall\n",
    "* Alexus is 70 inches tall\n",
    "* Sam is 67 inches tall\n",
    "* Grace is 64 inches tall\n",
    "\n",
    "\n",
    "Previously, we saw that we could create a list representing both Jenny’s name and height:\n",
    "\n",
    "`jenny = ['Jenny', 61]`\n",
    "\n",
    "**_We can put several of these lists into one list, such that each entry in the list represents a student and their height:_**\n",
    "\n",
    "`heights = [['Jenny', 61], ['Alexus', 70], ['Sam', 67], ['Grace', 64]]`"
   ]
  },
  {
   "cell_type": "markdown",
   "metadata": {},
   "source": [
    "#### Exercises\n",
    "1. A new student named 'Vik' has joined our class. \n",
    "<br>\n",
    "Vik is 68 inches tall. \n",
    "<br>\n",
    "Add a sublist to heights that represents Vik and his height."
   ]
  },
  {
   "cell_type": "code",
   "execution_count": 9,
   "metadata": {},
   "outputs": [],
   "source": [
    "heights = [['Jenny', 61], ['Alexus', 70], ['Sam', 67], ['Grace', 64]]"
   ]
  },
  {
   "cell_type": "code",
   "execution_count": 10,
   "metadata": {},
   "outputs": [],
   "source": [
    "heights = [['Jenny', 61], ['Alexus', 70], ['Sam', 67], ['Grace', 64], ['Vik', 68]]"
   ]
  },
  {
   "cell_type": "markdown",
   "metadata": {},
   "source": [
    "2. Create a list of lists called ages where each sublist contains a student’s name and their age. Use the following data:\n",
    "\n",
    "* 'Aaron' is 15\n",
    "* 'Dhruti' is 16"
   ]
  },
  {
   "cell_type": "code",
   "execution_count": 11,
   "metadata": {},
   "outputs": [],
   "source": [
    "ages = [['Aaron', 15], ['Dhruti', 16]]"
   ]
  },
  {
   "cell_type": "markdown",
   "metadata": {},
   "source": [
    "***\n",
    "## **Zip**\n",
    "\n",
    "Again, let’s return to our class height example:\n",
    "\n",
    "* Jenny is 61 inches tall\n",
    "* Alexus is 70 inches tall\n",
    "* Sam is 67 inches tall\n",
    "* Grace is 64 inches tall\n",
    "\n",
    "\n",
    "Suppose that we already had a list of names and a list of heights:\n",
    "\n",
    "* `names = ['Jenny', 'Alexus', 'Sam', 'Grace']`\n",
    "\n",
    "* `heights = [61, 70, 67, 65]`\n",
    "\n",
    "If we wanted to create a list of lists that __paired each name with a height, we could use the command zip__. <br> Zip **_takes two (or more) lists as inputs and returns an object that contains a list of pairs_**. <br> Each pair contains one element from each of the inputs. You won’t be able to see much about this object from just printing it:\n",
    "\n",
    "* `names_and_heights = zip(names, heights)`\n",
    "* `print(names_and_heights)`\n",
    "\n",
    "because it will return the location of this object in memory. Output would look something like this:\n",
    "\n",
    "`<zip object at 0x7f1631e86b48>`\n",
    "\n",
    "To see the nested lists, you can convert the zip object to a list first:\n",
    "\n",
    "`print(list(names_and_heights))`\n",
    "<br> \n",
    "\n",
    "**returns:**\n",
    "\n",
    "`[('Jenny', 61), ('Alexus', 70), ('Sam', 67), ('Grace', 65)]`"
   ]
  },
  {
   "cell_type": "markdown",
   "metadata": {},
   "source": [
    "#### Exercises\n",
    "1. Use zip to create a new variable called names_and_dogs_names that combines names and dogs_names into a zip object.\n",
    "\n",
    "Make sure to run the code for this step before proceeding to the next instruction!"
   ]
  },
  {
   "cell_type": "code",
   "execution_count": 12,
   "metadata": {},
   "outputs": [],
   "source": [
    "names = ['Jenny', 'Alexus', 'Sam', 'Grace']\n",
    "dogs_names = ['Elphonse', 'Dr. Doggy DDS', 'Carter', 'Ralph']"
   ]
  },
  {
   "cell_type": "code",
   "execution_count": 13,
   "metadata": {},
   "outputs": [],
   "source": [
    "names_and_dogs_names = zip(names,dogs_names)"
   ]
  },
  {
   "cell_type": "markdown",
   "metadata": {},
   "source": [
    "2. Create a new variable named list_of_names_and_dogs_names by calling list() on names_and_dogs_names. Print this new variable ."
   ]
  },
  {
   "cell_type": "code",
   "execution_count": 14,
   "metadata": {},
   "outputs": [
    {
     "name": "stdout",
     "output_type": "stream",
     "text": [
      "[('Jenny', 'Elphonse'), ('Alexus', 'Dr. Doggy DDS'), ('Sam', 'Carter'), ('Grace', 'Ralph')]\n"
     ]
    }
   ],
   "source": [
    "list_of_names_and_dogs_names = list(names_and_dogs_names)\n",
    "\n",
    "print(list_of_names_and_dogs_names)"
   ]
  },
  {
   "cell_type": "markdown",
   "metadata": {},
   "source": [
    "***\n",
    "## **Growing a List: Append**\n",
    "We can add a __single element to a list using .append()__. For example, suppose we have an empty list called empty_list:\n",
    "\n",
    "`empty_list = []`\n",
    "\n",
    "We can add the element 1 using the following commands:\n",
    "\n",
    "`empty_list.append(1)`\n",
    "\n",
    "If we examine empty_list, we see that it now contains 1:\n",
    "\n",
    "`>>> print(empty_list)`\n",
    "\n",
    "`[1]`\n",
    "\n",
    "When we use .append() on a list that already has elements, our new element is added to the end of the list:\n",
    "\n",
    "##### Create a list\n",
    "my_list = [1, 2, 3]\n",
    "\n",
    "#####  Append a number\n",
    "`my_list.append(5)`\n",
    "\n",
    "`print(my_list)`\n",
    "\n",
    "The output looks like:\n",
    "\n",
    "`1, 2, 3, 5]`\n",
    "\n",
    "It’s important to remember that .append() comes after the list. This is different from functions like print, which come before."
   ]
  },
  {
   "cell_type": "markdown",
   "metadata": {},
   "source": [
    "#### Exercises\n",
    "1. Jiho works for a gardening store called Petal Power. He keeps a record of orders in a list called orders.\n",
    "\n",
    "    Use print to inspect the orders he has received today."
   ]
  },
  {
   "cell_type": "code",
   "execution_count": 15,
   "metadata": {},
   "outputs": [],
   "source": [
    "orders = ['daisies', 'periwinkle']"
   ]
  },
  {
   "cell_type": "code",
   "execution_count": 16,
   "metadata": {},
   "outputs": [
    {
     "name": "stdout",
     "output_type": "stream",
     "text": [
      "['daisies', 'periwinkle']\n"
     ]
    }
   ],
   "source": [
    "print(orders)"
   ]
  },
  {
   "cell_type": "markdown",
   "metadata": {},
   "source": [
    "2. Jiho just received a new order for 'tulips'. Use append to add this string to orders."
   ]
  },
  {
   "cell_type": "code",
   "execution_count": 17,
   "metadata": {},
   "outputs": [],
   "source": [
    "orders.append('tulips')"
   ]
  },
  {
   "cell_type": "markdown",
   "metadata": {},
   "source": [
    "3. Another order has come in! Use append to add 'roses' to orders."
   ]
  },
  {
   "cell_type": "code",
   "execution_count": 18,
   "metadata": {},
   "outputs": [],
   "source": [
    "orders.append('roses')"
   ]
  },
  {
   "cell_type": "markdown",
   "metadata": {},
   "source": [
    "4. Use print to inspect the orders Jiho has received today."
   ]
  },
  {
   "cell_type": "code",
   "execution_count": 19,
   "metadata": {},
   "outputs": [
    {
     "name": "stdout",
     "output_type": "stream",
     "text": [
      "['daisies', 'periwinkle', 'tulips', 'roses']\n"
     ]
    }
   ],
   "source": [
    "print(orders)"
   ]
  },
  {
   "cell_type": "markdown",
   "metadata": {},
   "source": [
    "***\n",
    "## **Growing a List: Plus (+)**\n",
    "When we want to add multiple items to a list, **we can use + to combine two lists**.\n",
    "\n",
    "Below, we have a list of items sold at a bakery called items_sold:\n",
    "\n",
    "`items_sold = ['cake', 'cookie', 'bread']`\n",
    "\n",
    "Suppose the bakery wants to start selling 'biscuit' and 'tart':\n",
    "\n",
    "`>>> items_sold_new = items_sold + ['biscuit', 'tart']`\n",
    "\n",
    "`>>> print(items_sold_new)`\n",
    "\n",
    "`['cake', 'cookie', 'bread', 'biscuit', 'tart']`\n",
    "\n",
    "In this example, we created a new variable, **items_sold_new**, _which contained both the original items sold, and the new ones_. We can inspect the original **items_sold** and see that it did not change:\n",
    "\n",
    "`>>> print(items_sold)`\n",
    "`['cake', 'cookie', 'bread']`\n",
    "\n",
    "_**We can only use + with other lists**_. If we type in this code:\n",
    "\n",
    "`my_list = [1, 2, 3]`\n",
    "\n",
    "`my_list + 4`\n",
    "\n",
    "we will get the following error:\n",
    "\n",
    "`TypeError: can only concatenate list (not \"int\") to list`\n",
    "\n",
    "If we want to add a single element using +, we have to put it into a list with brackets ([]):\n",
    "\n",
    "`my_list + [4]`"
   ]
  },
  {
   "cell_type": "markdown",
   "metadata": {},
   "source": [
    "#### Exercises\n",
    "1. Jiho is still updating his list of orders. He just received orders for 'lilac' and 'iris'. <br#### Exercises\n",
    "1. Jiho is still updating his list of orders. He just received orders for 'lilac' and 'iris'. <br>Use + to create a new list called new_orders that combines orders with the two new orders.>Use + to create a new list called new_orders that combines orders with the two new orders."
   ]
  },
  {
   "cell_type": "code",
   "execution_count": 20,
   "metadata": {},
   "outputs": [],
   "source": [
    "orders = ['daisy', 'buttercup', 'snapdragon', 'gardenia', 'lily']"
   ]
  },
  {
   "cell_type": "code",
   "execution_count": 21,
   "metadata": {},
   "outputs": [],
   "source": [
    "new_orders = orders + ['lilac', 'iris'] "
   ]
  },
  {
   "cell_type": "markdown",
   "metadata": {},
   "source": [
    "***\n",
    "## **Range I**\n",
    "Often, we want to create a list of consecutive numbers. For example, suppose we want a list containing the numbers 0 through 9:\n",
    "\n",
    "`my_list = [0, 1, 2, 3, 4, 5, 6, 7, 8, 9]`\n",
    "\n",
    "Typing out all of those numbers takes time and the more numbers we type, the more likely it is that we have a typo.\n",
    "\n",
    "__Python gives us an easy way of creating these lists using a function called range__. The function range takes a single input, and generates numbers starting at 0 and ending at the number before the input. So, if we want the numbers from 0 through 9, we use range(10) because 10 is 1 greater than 9:\n",
    "\n",
    "`my_range = range(10)`\n",
    "\n",
    "Just like with zip, the range function returns an object that we can convert into a list:\n",
    "\n",
    "`>>> print(my_range)`\n",
    "\n",
    "`range(0, 10)`\n",
    "\n",
    "`>>> print(list(my_range))`\n",
    "\n",
    "`[0, 1, 2, 3, 4, 5, 6, 7, 8, 9]`"
   ]
  },
  {
   "cell_type": "markdown",
   "metadata": {},
   "source": [
    "#### Exercises\n",
    "1. Modify __list1__ so that it is a range containing numbers starting at 0 and up to, but not including, 9."
   ]
  },
  {
   "cell_type": "code",
   "execution_count": 22,
   "metadata": {},
   "outputs": [],
   "source": [
    "list1 = range(5)"
   ]
  },
  {
   "cell_type": "code",
   "execution_count": 23,
   "metadata": {},
   "outputs": [],
   "source": [
    "list1 = range(9) #modified"
   ]
  },
  {
   "cell_type": "markdown",
   "metadata": {},
   "source": [
    "2. Create a range called __list2__ with the numbers 0 through 7."
   ]
  },
  {
   "cell_type": "code",
   "execution_count": 24,
   "metadata": {},
   "outputs": [],
   "source": [
    "list2 = range(8) "
   ]
  },
  {
   "cell_type": "markdown",
   "metadata": {},
   "source": [
    "## **Range II**\n",
    "\n",
    "We can use range to generate more interesting lists.\n",
    "\n",
    "By default, range creates a list starting at 0. However, __if we call range with two arguments, we can create a list that starts at a different number__. For example, __range(2, 9) would generate numbers starting at 2 and ending at 8 (just before 9)__:\n",
    "\n",
    "`>>> my_list = range(2, 9)`\n",
    "\n",
    "`>>> print(list(my_list))`\n",
    " \n",
    "`[2, 3, 4, 5, 6, 7, 8]`\n",
    "\n",
    "With one or two arguments, range will create a list of consecutive numbers (i.e., each number is one greater than the previous number). If we use a third argument, __we can create a list that “skips” numbers. For example, range(2, 9, 2) will give us a list where each number is 2 greater than the previous number:__\n",
    "\n",
    "`>>> my_range2 = range(2, 9, 2)`\n",
    "\n",
    "`>>> print(list(my_range2))`\n",
    "\n",
    "`[2, 4, 6, 8]`\n",
    "\n",
    "We can skip as many numbers as we want! In this example, we’ll start at 1 and skip 10 between each number until we get to 100:\n",
    "\n",
    "`>>> my_range3 = range(1, 100, 10)`\n",
    "\n",
    "`>>> print(list(my_range3))`\n",
    "\n",
    "`[1, 11, 21, 31, 41, 51, 61, 71, 81, 91]`\n",
    "\n",
    "Our list stops at 91 because the next number in the sequence would be 101, which is greater than 100 (our stopping point).\n",
    "\n"
   ]
  },
  {
   "cell_type": "markdown",
   "metadata": {},
   "source": [
    "#### Exercises\n",
    "1. Modify the range function that created list1 such that it:\n",
    "\n",
    "* Starts at 5\n",
    "* Has a difference of 3 between each item\n",
    "* Ends before 15"
   ]
  },
  {
   "cell_type": "code",
   "execution_count": 25,
   "metadata": {},
   "outputs": [],
   "source": [
    "list1 = range(5, 15, 3)"
   ]
  },
  {
   "cell_type": "markdown",
   "metadata": {},
   "source": [
    "2. Create a range object called list2 that:\n",
    "\n",
    "* Starts at 0\n",
    "* Has a difference of 5 between each item\n",
    "* Ends before 40"
   ]
  },
  {
   "cell_type": "code",
   "execution_count": 26,
   "metadata": {},
   "outputs": [],
   "source": [
    "list2 = range(0,40,5)"
   ]
  },
  {
   "cell_type": "markdown",
   "metadata": {},
   "source": [
    "*****\n",
    "## **Practice**\n"
   ]
  },
  {
   "cell_type": "markdown",
   "metadata": {},
   "source": [
    "1. Maria is entering customer data for her web design business. You’re going to help her organize her data.\n",
    "\n",
    "Start by turning this list of customer first names into a list called first_names. Make sure to enter the names in this order:\n",
    "\n",
    "* Ainsley\n",
    "* Ben\n",
    "* Chani\n",
    "* Depak"
   ]
  },
  {
   "cell_type": "code",
   "execution_count": 27,
   "metadata": {},
   "outputs": [],
   "source": [
    "first_names = ['Ainsley', 'Ben', 'Chani', 'Depak']"
   ]
  },
  {
   "cell_type": "markdown",
   "metadata": {},
   "source": [
    "2. Create an empty list called age."
   ]
  },
  {
   "cell_type": "code",
   "execution_count": 28,
   "metadata": {},
   "outputs": [],
   "source": [
    "age = []"
   ]
  },
  {
   "cell_type": "markdown",
   "metadata": {},
   "source": [
    "3. Depak’s age is 42.<br>Use .append() to add 42 to age."
   ]
  },
  {
   "cell_type": "code",
   "execution_count": 29,
   "metadata": {},
   "outputs": [],
   "source": [
    "age.append(42)"
   ]
  },
  {
   "cell_type": "markdown",
   "metadata": {},
   "source": [
    "4. Maria needs a list of the ages for all customers. Create a new list called all_ages that adds age with the following list, containing the ages for Ainsley, Ben, and Chani:\n",
    "\n",
    "   `[32, 41, 29]`\n",
    "\n",
    "   Make sure all_ages begins with the ages for Ainsley, Ben, and Chani and ends with Depak’s age (stored in age)!\n",
    "\n"
   ]
  },
  {
   "cell_type": "code",
   "execution_count": 30,
   "metadata": {},
   "outputs": [],
   "source": [
    "all_ages = [32, 41, 29] + age #The list goes first because of the order of the names"
   ]
  },
  {
   "cell_type": "markdown",
   "metadata": {},
   "source": [
    "5.Create a new variable called name_and_age that combines first_names and all_ages using zip"
   ]
  },
  {
   "cell_type": "code",
   "execution_count": 31,
   "metadata": {},
   "outputs": [],
   "source": [
    "name_and_age = zip(first_names,all_ages)"
   ]
  },
  {
   "cell_type": "markdown",
   "metadata": {},
   "source": [
    "6.Create a range object called ids with an id number for each customer. Since there are 4 customers, so id values should go from 0 to 3."
   ]
  },
  {
   "cell_type": "code",
   "execution_count": 32,
   "metadata": {},
   "outputs": [],
   "source": [
    "ids = range(4)"
   ]
  },
  {
   "cell_type": "markdown",
   "metadata": {},
   "source": [
    "***\n",
    "## Sort \n",
    "\n",
    "Sometimes, we want to sort a list in either numerical (1, 2, 3, …) or alphabetical (a, b, c, …) order.\n",
    "\n",
    "We can sort a list in place using .sort(). Suppose that we have a list of names:\n",
    "\n",
    "`names = ['Xander', 'Buffy', 'Angel', 'Willow', 'Giles']`\n",
    "\n",
    "`print(names)`\n",
    "\n",
    "This would print:\n",
    "\n",
    "`\n",
    "['Xander', 'Buffy', 'Angel', 'Willow', 'Giles']`\n",
    "\n",
    "Now we apply .sort():\n",
    "\n",
    "`names.sort()`\n",
    "`print(names)`\n",
    "\n",
    "And we get:\n",
    "\n",
    "`['Angel', 'Buffy', 'Giles', 'Willow', 'Xander']`\n",
    "\n",
    "Notice that sort goes after our list, names. If we try sort(names), we will get a NameError.\n",
    "\n",
    "__Sort does not return anything So, if we try to assign names.sort() to a variable, our new variable would be None:__\n",
    "\n",
    "`sorted_names = names.sort()`\n",
    "\n",
    "`print(sorted_names)`\n",
    "\n",
    "This prints:\n",
    "\n",
    "None\n",
    "Although sorted_names is None, the line sorted_names = names.sort() still edited names:\n",
    "\n",
    "`>>> print(names)`\n",
    "\n",
    "`['Angel', 'Buffy', 'Giles', 'Willow', 'Xander']`"
   ]
  },
  {
   "cell_type": "markdown",
   "metadata": {},
   "source": [
    "***\n",
    "## Sorted\n",
    "\n",
    "A second way of sorting a list is to use sorted. sorted is different from .sort() in several ways:\n",
    "\n",
    "* It comes before a list, instead of after.\n",
    "* It generates a new list.\n",
    "* Let’s return to our list of names:__\n",
    "\n",
    "`names = ['Xander', 'Buffy', 'Angel', 'Willow', 'Giles']`\n",
    "\n",
    "__Using sorted, we can create a new list, called sorted_names__:\n",
    "\n",
    "sorted_names = sorted(names)`\n",
    "\n",
    "`print(sorted_names)`\n",
    "\n",
    "This yields the list sorted alphabetically:\n",
    "\n",
    "`['Angel', 'Buffy', 'Giles', 'Willow', 'Xander']`\n",
    "\n",
    "Note that using sorted did not change names:\n",
    "\n",
    "`>>> print(names)`\n",
    "\n",
    "`['Xander', 'Buffy', 'Angel', 'Willow', 'Giles']`"
   ]
  },
  {
   "cell_type": "markdown",
   "metadata": {},
   "source": [
    "****\n",
    "## Excercises"
   ]
  },
  {
   "cell_type": "code",
   "execution_count": 4,
   "metadata": {
    "scrolled": true
   },
   "outputs": [
    {
     "name": "stdout",
     "output_type": "stream",
     "text": [
      "[1, 1, 2, 3, 5, 8]\n",
      "[1, 1, 2, 3, 5, 8]\n"
     ]
    }
   ],
   "source": [
    "def append_sum(lst):\n",
    "  sumResult = lst[-2] + lst[-1]\n",
    "  lst.append(sumResult)\n",
    "  sumResult = lst[-2] + lst[-1]\n",
    "  lst.append(sumResult)\n",
    "  sumResult = lst[-2] + lst[-1]\n",
    "  lst.append(sumResult)\n",
    "  print(lst)\n",
    "  return lst\n",
    "\n",
    "print(append_sum([1, 1, 2]))\n"
   ]
  },
  {
   "cell_type": "code",
   "execution_count": 34,
   "metadata": {},
   "outputs": [
    {
     "name": "stdout",
     "output_type": "stream",
     "text": [
      "7\n"
     ]
    }
   ],
   "source": [
    "def larger_list(lst1,lst2):\n",
    "  if len(lst1) >= len(lst2):\n",
    "    return lst1[-1]\n",
    "  else:\n",
    "    return lst2[-1]\n",
    "\n",
    "print(larger_list([4, 10, 2, 5,7], [-10, 2, 5, 10]))"
   ]
  },
  {
   "cell_type": "code",
   "execution_count": 35,
   "metadata": {},
   "outputs": [
    {
     "name": "stdout",
     "output_type": "stream",
     "text": [
      "False\n"
     ]
    }
   ],
   "source": [
    "def more_than_n(lst,item,n):\n",
    "  if lst.count(item) >= n :\n",
    "    return True\n",
    "  else:\n",
    "    return False\n",
    "\n",
    "print(more_than_n([2, 4, 6, 2, 3, 2, 1, 2], 2, 7))"
   ]
  },
  {
   "cell_type": "code",
   "execution_count": 36,
   "metadata": {},
   "outputs": [
    {
     "name": "stdout",
     "output_type": "stream",
     "text": [
      "[0, 3, 6, 9, 12, 15, 18, 21, 8]\n"
     ]
    }
   ],
   "source": [
    "def append_size(lst):\n",
    "  lstLenght = len(lst)\n",
    "  lst.append(lstLenght)\n",
    "  return lst\n",
    "\n",
    "list = list(range(0,22,3))\n",
    "print(append_size(list))"
   ]
  },
  {
   "cell_type": "markdown",
   "metadata": {},
   "source": [
    "Toma el lenght del array y despues lo concatena a la ultima posicion"
   ]
  },
  {
   "cell_type": "code",
   "execution_count": 37,
   "metadata": {},
   "outputs": [
    {
     "name": "stdout",
     "output_type": "stream",
     "text": [
      "[-10, 2, 2, 4, 5, 5, 10, 10]\n"
     ]
    }
   ],
   "source": [
    "def combine_sort(lst1,lst2):\n",
    "  return sorted(lst1+lst2)\n",
    "\n",
    "print(combine_sort([4, 10, 2, 5], [-10, 2, 5, 10]))\n",
    "\n"
   ]
  },
  {
   "cell_type": "code",
   "execution_count": 38,
   "metadata": {},
   "outputs": [
    {
     "name": "stdout",
     "output_type": "stream",
     "text": [
      "[4, 23, 42]\n"
     ]
    }
   ],
   "source": [
    "def remove_middle(lst, start,end):\n",
    "  return lst[0:start]+lst[end+1:]\n",
    "\n",
    "print(remove_middle([4, 8, 15, 16, 23, 42], 1, 3))"
   ]
  },
  {
   "cell_type": "markdown",
   "metadata": {},
   "source": [
    "*****\n",
    "<br>\n",
    "Create a function named more_frequent_item that has three parameters named lst, item1, and item2.\n",
    "\n",
    "Return either item1 or item2 depending on which item appears more often in lst.\n",
    "\n",
    "If the two items appear the same number of times, return item1."
   ]
  },
  {
   "cell_type": "code",
   "execution_count": 39,
   "metadata": {},
   "outputs": [
    {
     "name": "stdout",
     "output_type": "stream",
     "text": [
      "2\n"
     ]
    }
   ],
   "source": [
    "def more_frequent_item(lst,item1,item2):\n",
    "  if (lst.count(item1)) >= (lst.count(item2)):\n",
    "    return item1\n",
    "  else:\n",
    "    return item2 \n",
    "print(more_frequent_item([2, 3, 3, 2, 3, 2, 3, 2, 3,2,2,2,2,2], 2, 3))"
   ]
  },
  {
   "cell_type": "code",
   "execution_count": 5,
   "metadata": {},
   "outputs": [
    {
     "name": "stdout",
     "output_type": "stream",
     "text": [
      "[(13262.0, 'Mohamed'), (4816.0, 'Sara'), (6839.0, 'Xia'), (5054.0, 'Paul'), (14724.0, 'Valentina'), (5360.0, 'Jide'), (7640.0, 'Aaron'), (6072.0, 'Emily'), (2750.0, 'Nikita'), (12064.0, 'Paul'), (8320.0, 'Priscilla')]\n",
      "There are 11 medical records. \n",
      "Here is the first medical record:  (13262.0, 'Mohamed')\n",
      "Here are the medical records sorted by insurance cost: [(2750.0, 'Nikita'), (4816.0, 'Sara'), (5054.0, 'Paul'), (5360.0, 'Jide'), (6072.0, 'Emily'), (6839.0, 'Xia'), (7640.0, 'Aaron'), (8320.0, 'Priscilla'), (12064.0, 'Paul'), (13262.0, 'Mohamed'), (14724.0, 'Valentina')]\n",
      "Here are the three cheapest insurance costs in our medical records:  [(2750.0, 'Nikita'), (4816.0, 'Sara'), (5054.0, 'Paul')]\n",
      "Here are the three most expensive insurance costs in our medical records:  [(12064.0, 'Paul'), (13262.0, 'Mohamed'), (14724.0, 'Valentina')]\n",
      "There are 2 individuals with the name Paul in our medical records.\n",
      "[(5360.0, 'Jide'), (6072.0, 'Emily'), (6839.0, 'Xia'), (7640.0, 'Aaron')]\n"
     ]
    }
   ],
   "source": [
    "names = [\"Mohamed\", \"Sara\", \"Xia\", \"Paul\", \"Valentina\", \"Jide\", \"Aaron\", \"Emily\", \"Nikita\", \"Paul\"]\n",
    "insurance_costs = [13262.0, 4816.0, 6839.0, 5054.0, 14724.0, 5360.0, 7640.0, 6072.0, 2750.0, 12064.0]\n",
    "\n",
    "# Add your code here\n",
    "names.append('Priscilla')\n",
    "insurance_costs.append(8320.0)\n",
    "\n",
    "medical_records = list(zip(insurance_costs,names))\n",
    "print(medical_records)\n",
    "\n",
    "num_medical_records = len(medical_records)\n",
    "print(\"There are \"+ str(num_medical_records)+ \" medical records. \")\n",
    "\n",
    "first_medical_record = medical_records[0]\n",
    "print(\"Here is the first medical record: \" ,first_medical_record)\n",
    "\n",
    "medical_records.sort()\n",
    "\n",
    "\n",
    "print(\"Here are the medical records sorted by insurance cost: \" + str(medical_records))\n",
    "\n",
    "cheapest_three= medical_records[:3]\n",
    "print(\"Here are the three cheapest insurance costs in our medical records: \", cheapest_three)\n",
    "\n",
    "priciest_three = medical_records[-3:]\n",
    "print(\"Here are the three most expensive insurance costs in our medical records: \", priciest_three)\n",
    "\n",
    "occurrences_paul = names.count(\"Paul\")\n",
    "\n",
    "print(\"There are \" + str(occurrences_paul) +\" individuals with the name Paul in our medical records.\")\n",
    "\n",
    "alphabeticallyMedRecs = list(zip(insurance_costs, sorted(names)))\n",
    "\n",
    "middle_five_records = medical_records[3: + 7:]\n",
    "print(middle_five_records)\n",
    "\n"
   ]
  },
  {
   "cell_type": "code",
   "execution_count": null,
   "metadata": {},
   "outputs": [],
   "source": []
  }
 ],
 "metadata": {
  "kernelspec": {
   "display_name": "Python 3",
   "language": "python",
   "name": "python3"
  },
  "language_info": {
   "codemirror_mode": {
    "name": "ipython",
    "version": 3
   },
   "file_extension": ".py",
   "mimetype": "text/x-python",
   "name": "python",
   "nbconvert_exporter": "python",
   "pygments_lexer": "ipython3",
   "version": "3.8.3"
  }
 },
 "nbformat": 4,
 "nbformat_minor": 4
}
