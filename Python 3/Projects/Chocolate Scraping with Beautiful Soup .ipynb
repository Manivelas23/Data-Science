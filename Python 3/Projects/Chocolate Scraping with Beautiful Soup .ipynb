{
 "cells": [
  {
   "cell_type": "markdown",
   "metadata": {},
   "source": [
    "# Chocolate Scraping with Beautiful Soup "
   ]
  },
  {
   "cell_type": "markdown",
   "metadata": {},
   "source": [
    "There's a website that has over 1700 reviews of chocolate bars from all around the world. It’s displayed in the web browser on this page.\n",
    "\n",
    "The data is displayed in a table, instead of in a csv or json. Thankfully, we have the power of BeautifulSoup that will help us transform this webpage into a DataFrame that we can manipulate and analyze.\n",
    "\n",
    "The rating scale is from 1-5, as described in this review guide. A 1 is “unpleasant” chocolate, while a 5 is a bar that transcends “beyond the ordinary limits”.\n",
    "\n",
    "Some questions we thought about when we found this dataset were: Where are the best cocoa beans grown? Which countries produce the highest-rated bars? What’s the relationship between cocoa solids percentage and rating?\n",
    "\n",
    "We will find a way to answer these questions, or uncover more questions, using BeautifulSoup and Pandas"
   ]
  },
  {
   "cell_type": "markdown",
   "metadata": {},
   "source": [
    "### Importing the modules"
   ]
  },
  {
   "cell_type": "code",
   "execution_count": 93,
   "metadata": {},
   "outputs": [],
   "source": [
    "from bs4 import BeautifulSoup\n",
    "import requests\n",
    "import pandas as pd\n",
    "import matplotlib.pyplot as plt\n",
    "import numpy as np"
   ]
  },
  {
   "cell_type": "markdown",
   "metadata": {},
   "source": [
    "### Parsing the site"
   ]
  },
  {
   "cell_type": "code",
   "execution_count": 94,
   "metadata": {},
   "outputs": [],
   "source": [
    "site = requests.get(\n",
    "    'https://content.codecademy.com/courses/beautifulsoup/cacao/index.html')\\\n",
    "\n",
    "soup = BeautifulSoup(site.content, 'html.parser')"
   ]
  },
  {
   "cell_type": "markdown",
   "metadata": {},
   "source": [
    "### How are ratings distributed?"
   ]
  },
  {
   "cell_type": "code",
   "execution_count": 95,
   "metadata": {
    "scrolled": true
   },
   "outputs": [
    {
     "data": {
      "image/png": "[encoded data removed]",
      "text/plain": [
       "<Figure size 432x288 with 1 Axes>"
      ]
     },
     "metadata": {
      "needs_background": "light"
     },
     "output_type": "display_data"
    }
   ],
   "source": [
    "#making a list with all the ratings\n",
    "ratings = [\n",
    "    float(i.get_text()) for i in soup.select('.Rating')\n",
    "    if i.get_text() != 'Rating'\n",
    "]\n",
    "\n",
    "#making an histogram with the ratings\n",
    "plt.hist(ratings)\n",
    "plt.show()\n"
   ]
  },
  {
   "cell_type": "markdown",
   "metadata": {},
   "source": [
    "### Which chocolatier makes the best chocolate?\n",
    "Printing the Top 10 best Rated Companies and their Average Ratings"
   ]
  },
  {
   "cell_type": "code",
   "execution_count": 98,
   "metadata": {},
   "outputs": [
    {
     "data": {
      "text/plain": [
       "Company\n",
       "Tobago Estate (Pralus)                  4.000000\n",
       "Heirloom Cacao Preservation (Zokoko)    3.875000\n",
       "Ocelot                                  3.875000\n",
       "Amedei                                  3.846154\n",
       "Matale                                  3.812500\n",
       "Patric                                  3.791667\n",
       "Idilio (Felchlin)                       3.775000\n",
       "Acalli                                  3.750000\n",
       "Chocola'te                              3.750000\n",
       "Christopher Morel (Felchlin)            3.750000\n",
       "Name: Ratings, dtype: float64"
      ]
     },
     "execution_count": 98,
     "metadata": {},
     "output_type": "execute_result"
    }
   ],
   "source": [
    "companies = [i.get_text() for i in soup.select('.Company')]\n",
    "companies.remove(companies[0])\n",
    "\n",
    "#making a DataFrame with the company names and the ratings\n",
    "df = pd.DataFrame({'Company': companies, 'Ratings': ratings})\n",
    "\n",
    "#Getting tha mean value of the ratings and getting the top 10 best chocolatiers\n",
    "mean_vals = df.groupby(\"Company\").Ratings.mean()\n",
    "ten_best = mean_vals.nlargest(10)\n",
    "ten_best"
   ]
  },
  {
   "cell_type": "markdown",
   "metadata": {},
   "source": [
    "### Is more cacao better?\n",
    "We want to see if the chocolate experts tend to rate chocolate bars with higher levels of cacao to be better than those with lower levels of cacao."
   ]
  },
  {
   "cell_type": "code",
   "execution_count": 97,
   "metadata": {},
   "outputs": [
    {
     "data": {
      "image/png": "[encoded data removed]",
      "text/plain": [
       "<Figure size 432x288 with 1 Axes>"
      ]
     },
     "metadata": {
      "needs_background": "light"
     },
     "output_type": "display_data"
    },
    {
     "data": {
      "text/plain": [
       "<Figure size 432x288 with 0 Axes>"
      ]
     },
     "metadata": {},
     "output_type": "display_data"
    }
   ],
   "source": [
    "#Getting all the cocoa percentages\n",
    "percentage_data = [i for i in soup.select('.CocoaPercent')]\n",
    "percentage_data.remove(percentage_data[0])\n",
    "cocoa_percents = [int(float(i.get_text().strip('%'))) for i in percentage_data]\n",
    "\n",
    "# Adding the CocoaPercentage column to the dataframe with the Cocoa Percentages values\n",
    "df['CocoaPercentage'] = cocoa_percents\n",
    "\n",
    "\n",
    "#Make a scatterplot of ratings vs percentage of cocoa \n",
    "plt.scatter(df.CocoaPercentage, df.Ratings)\n",
    "\n",
    "z = np.polyfit(df.CocoaPercentage, df.Ratings, 1)\n",
    "line_function = np.poly1d(z)\n",
    "plt.plot(df.CocoaPercentage, line_function(df.CocoaPercentage), \"r--\")\n",
    "\n",
    "plt.show()\n",
    "plt.clf()"
   ]
  }
 ],
 "metadata": {
  "kernelspec": {
   "display_name": "Python 3",
   "language": "python",
   "name": "python3"
  },
  "language_info": {
   "codemirror_mode": {
    "name": "ipython",
    "version": 3
   },
   "file_extension": ".py",
   "mimetype": "text/x-python",
   "name": "python",
   "nbconvert_exporter": "python",
   "pygments_lexer": "ipython3",
   "version": "3.8.6"
  }
 },
 "nbformat": 4,
 "nbformat_minor": 4
}
