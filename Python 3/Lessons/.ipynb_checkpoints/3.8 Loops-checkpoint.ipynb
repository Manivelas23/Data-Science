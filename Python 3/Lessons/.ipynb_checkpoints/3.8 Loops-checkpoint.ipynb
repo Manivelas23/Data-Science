{
 "cells": [
  {
   "cell_type": "markdown",
   "metadata": {},
   "source": [
    "# Loops\n",
    "\n",
    "In this lesson, we’ll be learning about:\n",
    "\n",
    "* Loops that let us move through each item in a list, called for loops\n",
    "\n",
    "* Loops that keep going until we tell them to stop, called while loops\n",
    "\n",
    "* Loops that create new lists, called list comprehensions"
   ]
  },
  {
   "cell_type": "code",
   "execution_count": 182,
   "metadata": {},
   "outputs": [
    {
     "name": "stdout",
     "output_type": "stream",
     "text": [
      "french_bulldog\n",
      "dalmatian\n",
      "shihtzu\n",
      "poodle\n",
      "collie\n"
     ]
    }
   ],
   "source": [
    "dog_breeds = ['french_bulldog', 'dalmatian', 'shihtzu', 'poodle', 'collie']\n",
    "\n",
    "for breed in dog_breeds:\n",
    "    print(breed)"
   ]
  },
  {
   "cell_type": "markdown",
   "metadata": {},
   "source": [
    "The general way of writing a for loop is:\n",
    "<br>\n",
    "`for <temporary variable> in <list variable>:`\n",
    "    `<action>`"
   ]
  },
  {
   "cell_type": "code",
   "execution_count": 183,
   "metadata": {},
   "outputs": [
    {
     "name": "stdout",
     "output_type": "stream",
     "text": [
      "Settlers of Catan\n",
      "Carcassone\n",
      "Power Grid\n",
      "Agricola\n",
      "Scrabble\n",
      "football\n",
      "football - American\n",
      "hockey\n",
      "baseball\n",
      "cricket\n"
     ]
    }
   ],
   "source": [
    "board_games = ['Settlers of Catan', 'Carcassone', 'Power Grid', 'Agricola', 'Scrabble']\n",
    "\n",
    "sport_games = ['football', 'football - American', 'hockey', 'baseball', 'cricket']\n",
    "\n",
    "for game in board_games:\n",
    "  print(game)\n",
    "\n",
    "for i in sport_games:\n",
    "  print(i)"
   ]
  },
  {
   "cell_type": "markdown",
   "metadata": {},
   "source": [
    "***\n",
    "## Using Range in Loops"
   ]
  },
  {
   "cell_type": "markdown",
   "metadata": {},
   "source": [
    "So, an easy way to accomplish our \"WARNING!\" example would be:\n"
   ]
  },
  {
   "cell_type": "code",
   "execution_count": 184,
   "metadata": {},
   "outputs": [
    {
     "name": "stdout",
     "output_type": "stream",
     "text": [
      "WARNING!\n",
      "WARNING!\n",
      "WARNING!\n"
     ]
    }
   ],
   "source": [
    "for i in range(3):\n",
    "  print(\"WARNING!\")"
   ]
  },
  {
   "cell_type": "code",
   "execution_count": 185,
   "metadata": {},
   "outputs": [
    {
     "name": "stdout",
     "output_type": "stream",
     "text": [
      "I will not chew gum in class\n",
      "I will not chew gum in class\n",
      "I will not chew gum in class\n",
      "I will not chew gum in class\n",
      "I will not chew gum in class\n"
     ]
    }
   ],
   "source": [
    "promise = \"I will not chew gum in class\"\n",
    "\n",
    "for i in range(5):\n",
    "  print(promise)"
   ]
  },
  {
   "cell_type": "markdown",
   "metadata": {},
   "source": [
    "dd"
   ]
  },
  {
   "cell_type": "markdown",
   "metadata": {},
   "source": [
    "***\n",
    "## Using Range in Loops\n",
    "\n",
    "We’ve iterated through lists that have a discrete beginning and end. However, let’s consider this example:\n",
    "\n",
    "my_favorite_numbers = [4, 8, 15, 16, 42]\n",
    " \n",
    "`for number in my_favorite_numbers:`\n",
    "\n",
    " ` my_favorite_numbers.append(1)`\n",
    " \n",
    "What happens here? __Every time we enter the loop, we add a 1 to the end of the list that we are iterating through. As a result, we never make it to the end of the list! It keeps growing!__\n",
    "\n",
    "A loop that never terminates is called an infinite loop. These are very dangerous for your code!\n",
    "\n",
    "__A program that hits an infinite loop often becomes completely unusable. The best course of action is to never write an infinite loop.__\n",
    "\n",
    "Note: If you accidentally stumble into an infinite loop while developing on your own machine, __you can end the loop by using control + c to terminate the program.__ If you’re writing code in our online editor, you’ll need to refresh the page to get out of an infinite loop!"
   ]
  },
  {
   "cell_type": "markdown",
   "metadata": {},
   "source": [
    "***\n",
    "## Continue\n",
    "\n",
    "We often want to use a for loop to search through a list for some value:\n",
    "\n",
    "`items_on_sale = [\"blue_shirt\", \"striped_socks\", \"knit_dress\", \"red_headband\", \"dinosaur_onesie\"]`\n",
    " \n",
    "`#we want to check if the item with ID \"knit_dress\" is on sale:`\n",
    "\n",
    "`for item in items_on_sale:`\n",
    "\n",
    "`if item == \"knit_dress\":`\n",
    " \n",
    "`print(\"Knit Dress is on sale!\")`\n",
    "    \n",
    "This code goes through each item in items_on_sale and checks for a match. After we find that \"knit_dress\" is in the list items_on_sale, we don’t need to go through the rest of the items_on_sale list. Since it’s only 5 elements long, iterating through the entire list is not a big deal in this case. But what if items_on_sale had 1000 items after \"knit_dress\"? What if it had 100,000 items after \"knit_dress\"?\n",
    "\n",
    "You can stop a for loop from inside the loop by using break. When the program hits a break statement, control returns to the code outside of the for loop. For example:\n",
    "\n",
    "`items_on_sale = [\"blue_shirt\", \"striped_socks\", \"knit_dress\", \"red_headband\", \"dinosaur_onesie\"]`\n",
    " \n",
    "`print(\"Checking the sale list!\")`\n",
    "\n",
    "`for item in items_on_sale:`\n",
    "\n",
    "`  print(item)`\n",
    "\n",
    "  `if item == \"knit_dress\":`\n",
    "  \n",
    "   ` break`\n",
    "   \n",
    "`print(\"End of search!\")`\n",
    "\n",
    "This would produce the output:\n",
    "\n",
    "* `Checking the sale list!`\n",
    "* `Blue_shirt`\n",
    "* `Striped_socks`\n",
    "* `knit_dress`\n",
    "* `End of search!`\n",
    "\n",
    "We didn’t need to check \"red_headband\" or \"dinosaur_onesie\" at all!"
   ]
  },
  {
   "cell_type": "markdown",
   "metadata": {},
   "source": [
    "***\n",
    "## Break\n",
    "\n",
    "We often want to use a for loop to search through a list for some value:\n",
    "\n",
    "`items_on_sale = [\"blue_shirt\", \"striped_socks\", \"knit_dress\", \"red_headband\", \"dinosaur_onesie\"]`\n",
    " \n",
    "`#we want to check if the item with ID \"knit_dress\" is on sale:`\n",
    "\n",
    "`for item in items_on_sale:`\n",
    "\n",
    "`if item == \"knit_dress\":`\n",
    " \n",
    "`print(\"Knit Dress is on sale!\")`\n",
    "    \n",
    "This code goes through each item in items_on_sale and checks for a match. After we find that \"knit_dress\" is in the list items_on_sale, we don’t need to go through the rest of the items_on_sale list. Since it’s only 5 elements long, iterating through the entire list is not a big deal in this case. But what if items_on_sale had 1000 items after \"knit_dress\"? What if it had 100,000 items after \"knit_dress\"?\n",
    "\n",
    "You can stop a for loop from inside the loop by using break. When the program hits a break statement, control returns to the code outside of the for loop. For example:\n",
    "\n",
    "`items_on_sale = [\"blue_shirt\", \"striped_socks\", \"knit_dress\", \"red_headband\", \"dinosaur_onesie\"]`\n",
    " \n",
    "`print(\"Checking the sale list!\")`\n",
    "\n",
    "`for item in items_on_sale:`\n",
    "\n",
    "`  print(item)`\n",
    "\n",
    "  `if item == \"knit_dress\":`\n",
    "  \n",
    "   ` break`\n",
    "   \n",
    "`print(\"End of search!\")`\n",
    "\n",
    "This would produce the output:\n",
    "\n",
    "* `Checking the sale list!`\n",
    "* `Blue_shirt`\n",
    "* `Striped_socks`\n",
    "* `knit_dress`\n",
    "* `End of search!`\n",
    "\n",
    "We didn’t need to check \"red_headband\" or \"dinosaur_onesie\" at all!"
   ]
  },
  {
   "cell_type": "markdown",
   "metadata": {},
   "source": [
    "***\n",
    "## Continue\n",
    "\n",
    "When we’re iterating through lists, we may want to skip some values. Let’s say we want to print out all of the numbers in a list, unless they’re negative. We can use continue to move to the next i in the list:\n",
    "\n",
    "`big_number_list = [1, 2, -1, 4, -5, 5, 2, -9]`\n",
    " \n",
    "`for i in big_number_list:`\n",
    "\n",
    " ` if i < 0:`\n",
    " \n",
    "  `  continue`\n",
    "  \n",
    " `print(i)`\n",
    " \n",
    "This would produce the output:\n",
    "\n",
    "* 1\n",
    "* 2\n",
    "* 4\n",
    "* 5\n",
    "* 2\n",
    "\n",
    "Every time there was a negative number, the continue keyword moved the index to the next value in the list, without executing the code in the rest of the for loop."
   ]
  },
  {
   "cell_type": "code",
   "execution_count": 186,
   "metadata": {
    "scrolled": true
   },
   "outputs": [
    {
     "name": "stdout",
     "output_type": "stream",
     "text": [
      "38\n",
      "34\n",
      "26\n",
      "21\n",
      "67\n",
      "41\n"
     ]
    }
   ],
   "source": [
    "ages = [12, 38, 34, 26, 21, 19, 67, 41, 17]\n",
    "\n",
    "for i in ages:\n",
    "  if i < 21:\n",
    "    continue #si la edad edad es mayor que 21, no llega al print,sino que vuelve a iniciar otro ciclo\n",
    "  print(i)"
   ]
  },
  {
   "cell_type": "markdown",
   "metadata": {},
   "source": []
  },
  {
   "cell_type": "markdown",
   "metadata": {},
   "source": [
    "***\n",
    "## While\n",
    "\n",
    "\n",
    "__While Loops__\n",
    "\n",
    "The while loop performs a set of code until some condition is reached.\n",
    "\n",
    "While loops can be used to iterate through lists, just like for loops:\n",
    "\n",
    "`dog_breeds = ['bulldog', 'dalmation', 'shihtzu', 'poodle', 'collie']`\n",
    "\n",
    "`index = 0`\n",
    "\n",
    "`while index < len(dog_breeds):`\n",
    "\n",
    " ` print(dog_breeds[index])`\n",
    "  \n",
    "  `index += 1`\n",
    "  \n",
    "Every time the condition of the while loop (in this case, index < len(dog_breeds)) is satisfied, the code inside the while loop runs.\n",
    "\n",
    "While loops can be useful when you don’t know how many iterations it will take to satisfy a condition."
   ]
  },
  {
   "cell_type": "code",
   "execution_count": 187,
   "metadata": {},
   "outputs": [
    {
     "name": "stdout",
     "output_type": "stream",
     "text": [
      "bulldog\n",
      "dalmation\n",
      "shihtzu\n",
      "poodle\n",
      "collie\n"
     ]
    }
   ],
   "source": [
    "dog_breeds = ['bulldog', 'dalmation', 'shihtzu', 'poodle', 'collie']\n",
    " \n",
    "index = 0\n",
    "while index < len(dog_breeds):\n",
    "  print(dog_breeds[index])\n",
    "  index += 1\n"
   ]
  },
  {
   "cell_type": "code",
   "execution_count": 188,
   "metadata": {
    "scrolled": true
   },
   "outputs": [
    {
     "name": "stdout",
     "output_type": "stream",
     "text": [
      "['Loki', 'Arius', 'Obie', 'Alexa', 'Minerva', 'Dora']\n"
     ]
    }
   ],
   "source": [
    "all_students = [\"Alex\", \"Briana\", \"Cheri\", \"Daniele\", \"Dora\", \"Minerva\", \"Alexa\", \"Obie\", \"Arius\", \"Loki\"]\n",
    "students_in_poetry = []\n",
    "\n",
    "while len(students_in_poetry) < 6:\n",
    "  student = all_students.pop()\n",
    "  students_in_poetry.append(student)\n",
    "  \n",
    "print(students_in_poetry)"
   ]
  },
  {
   "cell_type": "markdown",
   "metadata": {},
   "source": [
    "***\n",
    "## Nested Loops\n",
    "\n",
    "__Nested Loops__\n",
    "\n",
    "We have seen how we can go through the elements of a list. What if we have a list made up of multiple lists? How can we loop through all of the individual elements?\n",
    "\n",
    "Suppose we are in charge of a science class, that is split into three project teams:\n",
    "\n",
    "`project_teams = [[\"Ava\", \"Samantha\", \"James\"], [\"Lucille\", \"Zed\"], [\"Edgar\", \"Gabriel\"]]`\n",
    "\n",
    "If we want to go through each student, we have to put one loop inside another:\n",
    "\n",
    "`for team in project_teams:`\n",
    "\n",
    "  `for student in team:`\n",
    "  \n",
    "   ` print(student)`\n",
    "   \n",
    "This results in:\n",
    "\n",
    "* Ava\n",
    "* Samantha\n",
    "* James\n",
    "* Lucille\n",
    "* Zed\n",
    "* Edgar\n",
    "* Gabriel"
   ]
  },
  {
   "cell_type": "code",
   "execution_count": 189,
   "metadata": {},
   "outputs": [
    {
     "name": "stdout",
     "output_type": "stream",
     "text": [
      "Ava\n",
      "Samantha\n",
      "James\n",
      "Lucille\n",
      "Zed\n",
      "Edgar\n",
      "Gabriel\n"
     ]
    }
   ],
   "source": [
    "project_teams = [[\"Ava\", \"Samantha\", \"James\"], [\"Lucille\", \"Zed\"], [\"Edgar\", \"Gabriel\"]]\n",
    "\n",
    "for team in project_teams:\n",
    "\n",
    "  for student in team:\n",
    "  \n",
    "   print(student)\n",
    "   "
   ]
  },
  {
   "cell_type": "code",
   "execution_count": 190,
   "metadata": {},
   "outputs": [
    {
     "name": "stdout",
     "output_type": "stream",
     "text": [
      "96\n"
     ]
    }
   ],
   "source": [
    "sales_data = [[12, 17, 22], [2, 10, 3], [5, 12, 13]]\n",
    "\n",
    "scoops_sold= 0\n",
    "\n",
    "for location in sales_data:\n",
    " for element in location:\n",
    "   scoops_sold += element\n",
    "\n",
    "print(scoops_sold)"
   ]
  },
  {
   "cell_type": "markdown",
   "metadata": {},
   "source": [
    "\n",
    "## List Comprehensions\n",
    "Let’s say we have scraped a certain website and gotten these words:\n",
    "\n",
    "`words = [\"@coolguy35\", \"#nofilter\", \"@kewldawg54\", \"reply\", \"timestamp\", \"@matchamom\", \"follow\", \"#updog\"]`\n",
    "\n",
    "We want to make a new list, called usernames, that has all of the strings in words with an '@' as the first character. We know we can do this with a for loop:\n",
    "\n",
    "`words = [\"@coolguy35\", \"#nofilter\", \"@kewldawg54\", \"reply\", \"timestamp\", \"@matchamom\", \"follow\", \"#updog\"]`\n",
    "`usernames = []`\n",
    " \n",
    "`for word in words:`\n",
    "\n",
    " ` if word[0] == '@':`\n",
    " \n",
    "   ` usernames.append(word)`\n",
    "   \n",
    "First, we created a new empty list, usernames, and as we looped through the words list, we added every word that matched our criterion. Now, the usernames list looks like this:\n",
    "\n",
    "`>>> print(usernames)`\n",
    "\n",
    "`[\"@coolguy35\", \"@kewldawg54\", \"@matchamom\"]`\n",
    "\n",
    "Python has a convenient shorthand to create lists like this with one line:\n",
    "\n",
    "`usernames = [word for word in words if word[0] == '@']`\n",
    "\n",
    "This is called a list comprehension. It will produce the same output as the for loop did:\n",
    "\n",
    "`[\"@coolguy35\", \"@kewldawg54\", \"@matchamom\"]`\n",
    "\n",
    "This list comprehension:\n",
    "\n",
    "* Takes an element in words\n",
    "* Assigns that element to a variable called word\n",
    "* Checks if word[0] == '@', and if so, it adds word to the new list, usernames. If not, nothing happens.\n",
    "* Repeats steps 1-3 for all of the strings in words\n",
    "\n",
    "Note: if we hadn’t done any checking (let’s say we had omitted if word[0] == '@'), the new list would be just a copy of words:\n",
    "\n",
    "`usernames = [word for word in words]`\n",
    "\n",
    "`#usernames is now [\"@coolguy35\", \"#nofilter\", \"@kewldawg54\", \"reply\", \"timestamp\", \"@matchamom\", \"follow\", \"#updog\"]`"
   ]
  },
  {
   "cell_type": "markdown",
   "metadata": {},
   "source": [
    "## More List Comprehensions\n",
    "\n",
    "Let’s say we’re working with the usernames list from the last exercise:\n",
    "\n",
    "`print(usernames)`\n",
    "`[\"@coolguy35\", \"@kewldawg54\", \"@matchamom\"]`\n",
    "\n",
    "We want to create a new list with the string \" please follow me!\" added to the end of each username. We want to call this new list messages. We can use a list comprehension to make this list with one line:\n",
    "\n",
    "\n"
   ]
  },
  {
   "cell_type": "code",
   "execution_count": 191,
   "metadata": {},
   "outputs": [
    {
     "name": "stdout",
     "output_type": "stream",
     "text": [
      "['@coolguy35 please follow me!', '@kewldawg54 please follow me!', '@matchamom please follow me!']\n"
     ]
    }
   ],
   "source": [
    "usernames = [\"@coolguy35\", \"@kewldawg54\", \"@matchamom\"]\n",
    "\n",
    "messages = [user + \" please follow me!\" for user in usernames]\n",
    "\n",
    "print(messages)"
   ]
  },
  {
   "cell_type": "markdown",
   "metadata": {},
   "source": [
    "What it does: \n",
    "\n",
    "* Takes a string in usernames\n",
    "* Assigns that string to a variable called user\n",
    "* Adds “ please follow me!” to user\n",
    "* Appends that concatenation to the new list called messages\n",
    "* Repeats steps 1-4 for all of the strings in usernames\n",
    "\n",
    "Now, messages contains these values:\n",
    "\n",
    "`[\"@coolguy35 please follow me!\", \"@kewldawg54 please follow me!\", \"@matchamom please follow me!\"]`\n",
    "\n",
    "Being able to create lists with modified values is especially useful when working with numbers. Let’s say we have this list:\n",
    "\n"
   ]
  },
  {
   "cell_type": "code",
   "execution_count": 192,
   "metadata": {},
   "outputs": [],
   "source": [
    "my_upvotes = [192, 34, 22, 175, 75, 101, 97] "
   ]
  },
  {
   "cell_type": "markdown",
   "metadata": {},
   "source": [
    "We want to add 100 to each value. We can accomplish this goal in one line:"
   ]
  },
  {
   "cell_type": "code",
   "execution_count": 193,
   "metadata": {},
   "outputs": [
    {
     "name": "stdout",
     "output_type": "stream",
     "text": [
      "[292, 134, 122, 275, 175, 201, 197]\n"
     ]
    }
   ],
   "source": [
    "updated_upvotes = [vote_value + 100 for vote_value in my_upvotes]\n",
    "print(updated_upvotes)\n"
   ]
  },
  {
   "cell_type": "markdown",
   "metadata": {},
   "source": [
    "This list comprehension:\n",
    "\n",
    "* Takes a number in my_upvotes\n",
    "* Assigns that number to a variable called vote_value\n",
    "* Adds 100 to vote_value\n",
    "* Appends that sum to the new list updated_upvotes\n",
    "* Repeats steps 1-4 for all of the numbers in my_upvotes\n",
    "\n",
    "Now, updated_upvotes contains these values:\n",
    "\n",
    "`[292, 134, 122, 275, 175, 201, 197]`"
   ]
  },
  {
   "cell_type": "code",
   "execution_count": 194,
   "metadata": {},
   "outputs": [
    {
     "name": "stdout",
     "output_type": "stream",
     "text": [
      "[32.0, 50.0, 59.0, 89.6, 23.0, 80.6, 37.4]\n"
     ]
    }
   ],
   "source": [
    "celsius = [0, 10, 15, 32, -5, 27, 3]\n",
    "\n",
    "fahrenheit = [(temperature * 9/5 +32) for temperature in celsius] #uses the formula to convert celsius in farenheit\n",
    "\n",
    "print(fahrenheit)"
   ]
  },
  {
   "cell_type": "code",
   "execution_count": 8,
   "metadata": {},
   "outputs": [
    {
     "name": "stdout",
     "output_type": "stream",
     "text": [
      "/bin/bash: -c: line 0: syntax error near unexpected token `\"https://content.codecademy.com/courses/matplotlib/rainfall.png\"'\r\n",
      "/bin/bash: -c: line 0: `[title](\"https://content.codecademy.com/courses/matplotlib/rainfall.png\")'\r\n"
     ]
    }
   ],
   "source": [
    "![title](\"https://content.codecademy.com/courses/matplotlib/rainfall.png\")"
   ]
  },
  {
   "cell_type": "markdown",
   "metadata": {},
   "source": [
    "***\n",
    "## Final excercise: Lesson Review"
   ]
  },
  {
   "cell_type": "code",
   "execution_count": 195,
   "metadata": {
    "scrolled": true
   },
   "outputs": [
    {
     "name": "stdout",
     "output_type": "stream",
     "text": [
      "[0, 1, 2, 3, 4, 5, 6, 7, 8, 9]\n",
      "[0, 1, 4, 9, 16, 25, 36, 49, 64, 81]\n",
      "[0, 1, 8, 27, 64, 125, 216, 343, 512, 729]\n"
     ]
    }
   ],
   "source": [
    "single_digits = range(0,10)\n",
    "print(list(single_digits))\n",
    "squares = []\n",
    "cubes = [(cubedNumber ** 3) for cubedNumber in single_digits]\n",
    "\n",
    "for digit in single_digits:\n",
    "  squares.append((digit ** 2))\n",
    "  \n",
    "print(squares)\n",
    "print(cubes)\n"
   ]
  },
  {
   "cell_type": "markdown",
   "metadata": {},
   "source": [
    "***\n",
    "## Looping Techniques"
   ]
  },
  {
   "cell_type": "markdown",
   "metadata": {},
   "source": [
    "* When looping through dictionaries, the key and corresponding value can be retrieved at the same time using the items() method."
   ]
  },
  {
   "cell_type": "code",
   "execution_count": 196,
   "metadata": {},
   "outputs": [
    {
     "name": "stdout",
     "output_type": "stream",
     "text": [
      "gallahad the pure\n",
      "robin the brave\n"
     ]
    }
   ],
   "source": [
    "knights = {'gallahad': 'the pure', 'robin': 'the brave'}\n",
    "for k, v in knights.items():\n",
    "    print(k, v)"
   ]
  },
  {
   "cell_type": "markdown",
   "metadata": {},
   "source": [
    "* When looping through a sequence, the position index and corresponding value can be retrieved at the same time using the enumerate() function."
   ]
  },
  {
   "cell_type": "code",
   "execution_count": 197,
   "metadata": {
    "scrolled": true
   },
   "outputs": [
    {
     "name": "stdout",
     "output_type": "stream",
     "text": [
      "0 tic\n",
      "1 tac\n",
      "2 toe\n"
     ]
    }
   ],
   "source": [
    "for i, v in enumerate(['tic', 'tac', 'toe']):\n",
    "    print(i, v)\n",
    "\n",
    "\n"
   ]
  },
  {
   "cell_type": "markdown",
   "metadata": {},
   "source": [
    "* To loop over two or more sequences at the same time, the entries can be paired with the zip() function."
   ]
  },
  {
   "cell_type": "code",
   "execution_count": 198,
   "metadata": {},
   "outputs": [
    {
     "name": "stdout",
     "output_type": "stream",
     "text": [
      "What is your name?  It is lancelot.\n",
      "What is your quest?  It is the holy grail.\n",
      "What is your favorite color?  It is blue.\n"
     ]
    }
   ],
   "source": [
    "questions = ['name', 'quest', 'favorite color']\n",
    "answers = ['lancelot', 'the holy grail', 'blue']\n",
    "for q, a in zip(questions, answers):\n",
    "    print('What is your {0}?  It is {1}.'.format(q, a))\n"
   ]
  },
  {
   "cell_type": "markdown",
   "metadata": {},
   "source": [
    "* To loop over a sequence in reverse, first specify the sequence in a forward direction and then call the reversed() function."
   ]
  },
  {
   "cell_type": "code",
   "execution_count": 199,
   "metadata": {
    "scrolled": true
   },
   "outputs": [
    {
     "name": "stdout",
     "output_type": "stream",
     "text": [
      "9\n",
      "7\n",
      "5\n",
      "3\n",
      "1\n"
     ]
    }
   ],
   "source": [
    "for i in reversed(range(1, 10, 2)):\n",
    "  print(i)"
   ]
  },
  {
   "cell_type": "markdown",
   "metadata": {},
   "source": [
    "* To loop over a sequence in sorted order, use the sorted() function which returns a new sorted list while leaving the source unaltered.\n"
   ]
  },
  {
   "cell_type": "code",
   "execution_count": 200,
   "metadata": {
    "scrolled": true
   },
   "outputs": [
    {
     "name": "stdout",
     "output_type": "stream",
     "text": [
      "apple\n",
      "apple\n",
      "banana\n",
      "orange\n",
      "orange\n",
      "pear\n"
     ]
    }
   ],
   "source": [
    "basket = ['apple', 'orange', 'apple', 'pear', 'orange', 'banana']\n",
    "for i in sorted(basket):\n",
    "  print(i)"
   ]
  },
  {
   "cell_type": "markdown",
   "metadata": {},
   "source": [
    "* Using set() on a sequence eliminates duplicate elements. The use of sorted() in combination with set() over a sequence is an idiomatic way to loop over unique elements of the sequence in sorted order."
   ]
  },
  {
   "cell_type": "code",
   "execution_count": 201,
   "metadata": {},
   "outputs": [
    {
     "name": "stdout",
     "output_type": "stream",
     "text": [
      "apple\n",
      "banana\n",
      "orange\n",
      "pear\n"
     ]
    }
   ],
   "source": [
    "basket = ['apple', 'orange', 'apple', 'pear', 'orange', 'banana']\n",
    "for f in sorted(set(basket)):\n",
    "    print(f)"
   ]
  },
  {
   "cell_type": "markdown",
   "metadata": {},
   "source": [
    "* It is sometimes tempting to change a list while you are looping over it; however, it is often simpler and safer to create a new list instead."
   ]
  },
  {
   "cell_type": "code",
   "execution_count": 202,
   "metadata": {},
   "outputs": [
    {
     "data": {
      "text/plain": [
       "[56.2, 51.7, 55.3, 52.5, 47.8]"
      ]
     },
     "execution_count": 202,
     "metadata": {},
     "output_type": "execute_result"
    }
   ],
   "source": [
    ">>> import math\n",
    ">>> raw_data = [56.2, float('NaN'), 51.7, 55.3, 52.5, float('NaN'), 47.8]\n",
    ">>> filtered_data = []\n",
    ">>> for value in raw_data:\n",
    "...     if not math.isnan(value):\n",
    "...         filtered_data.append(value)\n",
    "...\n",
    ">>> filtered_data"
   ]
  }
 ],
 "metadata": {
  "kernelspec": {
   "display_name": "Python 3",
   "language": "python",
   "name": "python3"
  },
  "language_info": {
   "codemirror_mode": {
    "name": "ipython",
    "version": 3
   },
   "file_extension": ".py",
   "mimetype": "text/x-python",
   "name": "python",
   "nbconvert_exporter": "python",
   "pygments_lexer": "ipython3",
   "version": "3.8.3"
  },
  "toc": {
   "base_numbering": 1,
   "nav_menu": {},
   "number_sections": true,
   "sideBar": true,
   "skip_h1_title": false,
   "title_cell": "Table of Contents",
   "title_sidebar": "Contents",
   "toc_cell": false,
   "toc_position": {},
   "toc_section_display": true,
   "toc_window_display": false
  }
 },
 "nbformat": 4,
 "nbformat_minor": 4
}
