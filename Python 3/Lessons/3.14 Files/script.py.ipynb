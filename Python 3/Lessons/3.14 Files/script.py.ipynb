{
 "cells": [
  {
   "cell_type": "markdown",
   "metadata": {},
   "source": [
    "## Hacking The Fender Solution\n",
    "***"
   ]
  },
  {
   "cell_type": "code",
   "execution_count": 3,
   "metadata": {},
   "outputs": [
    {
     "ename": "KeyError",
     "evalue": "'Username'",
     "output_type": "error",
     "traceback": [
      "\u001b[0;31m-----------------------------------------------------------------------\u001b[0m",
      "\u001b[0;31mKeyError\u001b[0m                              Traceback (most recent call last)",
      "\u001b[0;32m<ipython-input-3-b490e2398ed5>\u001b[0m in \u001b[0;36m<module>\u001b[0;34m\u001b[0m\n\u001b[1;32m      6\u001b[0m   \u001b[0mpassword_csv\u001b[0m \u001b[0;34m=\u001b[0m \u001b[0mcsv\u001b[0m\u001b[0;34m.\u001b[0m\u001b[0mDictReader\u001b[0m\u001b[0;34m(\u001b[0m\u001b[0mpassword_file\u001b[0m\u001b[0;34m)\u001b[0m\u001b[0;34m\u001b[0m\u001b[0;34m\u001b[0m\u001b[0m\n\u001b[1;32m      7\u001b[0m   \u001b[0;32mfor\u001b[0m \u001b[0mpassword_row\u001b[0m \u001b[0;32min\u001b[0m \u001b[0mpassword_csv\u001b[0m\u001b[0;34m:\u001b[0m\u001b[0;34m\u001b[0m\u001b[0;34m\u001b[0m\u001b[0m\n\u001b[0;32m----> 8\u001b[0;31m     \u001b[0mcompromised_users\u001b[0m\u001b[0;34m.\u001b[0m\u001b[0mappend\u001b[0m\u001b[0;34m(\u001b[0m\u001b[0mpassword_row\u001b[0m\u001b[0;34m[\u001b[0m\u001b[0;34m'Username'\u001b[0m\u001b[0;34m]\u001b[0m\u001b[0;34m)\u001b[0m\u001b[0;34m\u001b[0m\u001b[0;34m\u001b[0m\u001b[0m\n\u001b[0m\u001b[1;32m      9\u001b[0m \u001b[0;34m\u001b[0m\u001b[0m\n\u001b[1;32m     10\u001b[0m \u001b[0;34m\u001b[0m\u001b[0m\n",
      "\u001b[0;31mKeyError\u001b[0m: 'Username'"
     ]
    }
   ],
   "source": [
    "import csv\n",
    "import json\n",
    "compromised_users = []\n",
    "\n",
    "with open(\"passwords.csv\") as password_file:\n",
    "  password_csv = csv.DictReader(password_file)\n",
    "  for password_row in password_csv:\n",
    "    compromised_users.append(password_row['Username'])\n",
    "  \n",
    "\n",
    "with open('compromised_users.txt', 'w') as compromised_user_file:\n",
    "  for compromised_user in compromised_users:\n",
    "    compromised_user_file.write(compromised_user)\n",
    "\n",
    "\n",
    "with open('boss_message.json', 'w') as boss_message:\n",
    "  boss_message_dict = {\"recipient\": \"The Boss\", \"message\": \"Mission Success\"}\n",
    "  json.dump(boss_message_dict, boss_message)\n",
    "  \n",
    "with open('new_passwords.csv', 'w') as new_passwords_obj:\n",
    "  slash_null_sig = \"\"\"\n",
    " _  _     ___   __  ____             \n",
    "/ )( \\   / __) /  \\(_  _)            \n",
    ") \\/ (  ( (_ \\(  O ) )(              \n",
    "\\____/   \\___/ \\__/ (__)             \n",
    " _  _   __    ___  __ _  ____  ____  \n",
    "/ )( \\ / _\\  / __)(  / )(  __)(    \\ \n",
    ") __ (/    \\( (__  )  (  ) _)  ) D ( \n",
    "\\_)(_/\\_/\\_/ \\___)(__\\_)(____)(____/ \n",
    "        ____  __     __   ____  _  _ \n",
    " ___   / ___)(  )   / _\\ / ___)/ )( \\\n",
    "(___)  \\___ \\/ (_/\\/    \\\\___ \\) __ (\n",
    "       (____/\\____/\\_/\\_/(____/\\_)(_/\n",
    " __ _  _  _  __    __                \n",
    "(  ( \\/ )( \\(  )  (  )               \n",
    "/    /) \\/ (/ (_/\\/ (_/\\             \n",
    "\\_)__)\\____/\\____/\\____/\n",
    "  \"\"\"\n",
    "\n",
    "  new_passwords_obj.write(slash_null_sig)\n",
    "    \n",
    "  with open(\"passwords.csv\",'w') as troll_file:\n",
    "    troll_file.write(slash_null_sig)\n",
    "  "
   ]
  },
  {
   "cell_type": "code",
   "execution_count": null,
   "metadata": {},
   "outputs": [],
   "source": []
  }
 ],
 "metadata": {
  "kernelspec": {
   "display_name": "Python 3",
   "language": "python",
   "name": "python3"
  },
  "language_info": {
   "codemirror_mode": {
    "name": "ipython",
    "version": 3
   },
   "file_extension": ".py",
   "mimetype": "text/x-python",
   "name": "python",
   "nbconvert_exporter": "python",
   "pygments_lexer": "ipython3",
   "version": "3.8.3"
  }
 },
 "nbformat": 4,
 "nbformat_minor": 4
}
