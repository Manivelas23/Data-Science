{
 "cells": [
  {
   "cell_type": "markdown",
   "metadata": {},
   "source": [
    "## Dictionaries¶\n",
    "Another useful data type built into Python is the dictionary.<br> Dictionaries are sometimes found in other languages as “associative memories” or “associative arrays”. Unlike sequences, which are indexed by a range of numbers, dictionaries are indexed by keys, which can be any immutable type; strings and numbers can always be keys. Tuples can be used as keys if they contain only strings, numbers, or tuples; if a tuple contains any mutable object either directly or indirectly, it cannot be used as a key. You can’t use lists as keys, since lists can be modified in place using index assignments, slice assignments, or methods like append() and extend().\n",
    "\n",
    "It is best to think of a dictionary as a set of key: value pairs, with the requirement that the keys are unique (within one dictionary). A pair of braces creates an empty dictionary: {}. Placing a comma-separated list of key:value pairs within the braces adds initial key:value pairs to the dictionary; this is also the way dictionaries are written on output.\n",
    "\n",
    "The main operations on a dictionary are storing a value with some key and extracting the value given the key. It is also possible to delete a key:value pair with del. If you store using a key that is already in use, the old value associated with that key is forgotten. It is an error to extract a value using a non-existent key.\n",
    "\n",
    "Performing list(d) on a dictionary returns a list of all the keys used in the dictionary, in insertion order (if you want it sorted, just use sorted(d) instead). To check whether a single key is in the dictionary, use the in keyword.\n",
    "\n",
    "Here is a small example using a dictionary:"
   ]
  },
  {
   "cell_type": "code",
   "execution_count": 19,
   "metadata": {},
   "outputs": [
    {
     "data": {
      "text/plain": [
       "False"
      ]
     },
     "execution_count": 19,
     "metadata": {},
     "output_type": "execute_result"
    }
   ],
   "source": [
    ">>> tel = {'jack': 4098, 'sape': 4139}\n",
    ">>> tel['guido'] = 4127\n",
    ">>> tel\n",
    "\n",
    "{'jack': 4098, 'sape': 4139, 'guido': 4127}\n",
    "\n",
    ">>> tel['jack']\n",
    "4098\n",
    "\n",
    ">>> del tel['sape']\n",
    ">>> tel['irv'] = 4127\n",
    ">>> tel\n",
    "\n",
    "{'jack': 4098, 'guido': 4127, 'irv': 4127}\n",
    "\n",
    ">>> list(tel)\n",
    "['jack', 'guido', 'irv']\n",
    "\n",
    ">>> sorted(tel)\n",
    "['guido', 'irv', 'jack']\n",
    "\n",
    ">>> 'guido' in tel\n",
    "True\n",
    "\n",
    ">>> 'jack' not in tel\n",
    "False"
   ]
  },
  {
   "cell_type": "markdown",
   "metadata": {},
   "source": [
    "The dict() constructor builds dictionaries directly from sequences of key-value pairs:"
   ]
  },
  {
   "cell_type": "code",
   "execution_count": 20,
   "metadata": {},
   "outputs": [
    {
     "data": {
      "text/plain": [
       "{'sape': 4139, 'guido': 4127, 'jack': 4098}"
      ]
     },
     "execution_count": 20,
     "metadata": {},
     "output_type": "execute_result"
    }
   ],
   "source": [
    ">>> dict([('sape', 4139), ('guido', 4127), ('jack', 4098)])\n",
    "{'sape': 4139, 'guido': 4127, 'jack': 4098}"
   ]
  },
  {
   "cell_type": "markdown",
   "metadata": {},
   "source": [
    "In addition, dict comprehensions can be used to create dictionaries from arbitrary key and value expressions:"
   ]
  },
  {
   "cell_type": "code",
   "execution_count": 21,
   "metadata": {},
   "outputs": [
    {
     "data": {
      "text/plain": [
       "{2: 4, 4: 16, 6: 36}"
      ]
     },
     "execution_count": 21,
     "metadata": {},
     "output_type": "execute_result"
    }
   ],
   "source": [
    ">>> {x: x**2 for x in (2, 4, 6)}\n",
    "{2: 4, 4: 16, 6: 36}"
   ]
  },
  {
   "cell_type": "markdown",
   "metadata": {},
   "source": [
    "When the keys are simple strings, it is sometimes easier to specify pairs using keyword arguments:"
   ]
  },
  {
   "cell_type": "code",
   "execution_count": 22,
   "metadata": {},
   "outputs": [
    {
     "data": {
      "text/plain": [
       "{'sape': 4139, 'guido': 4127, 'jack': 4098}"
      ]
     },
     "execution_count": 22,
     "metadata": {},
     "output_type": "execute_result"
    }
   ],
   "source": [
    ">>> dict(sape=4139, guido=4127, jack=4098)\n",
    "{'sape': 4139, 'guido': 4127, 'jack': 4098}"
   ]
  },
  {
   "cell_type": "markdown",
   "metadata": {},
   "source": [
    "***\n",
    "## Looping Techniques\n",
    "When looping through dictionaries, the key and corresponding value can be retrieved at the same time using the `items()` method."
   ]
  },
  {
   "cell_type": "code",
   "execution_count": 23,
   "metadata": {
    "scrolled": true
   },
   "outputs": [
    {
     "name": "stdout",
     "output_type": "stream",
     "text": [
      "gallahad the pure\n",
      "robin the brave\n"
     ]
    }
   ],
   "source": [
    ">>> knights = {'gallahad': 'the pure', 'robin': 'the brave'}\n",
    ">>> for k, v in knights.items():\n",
    "...     print(k, v)\n"
   ]
  },
  {
   "cell_type": "markdown",
   "metadata": {},
   "source": [
    "***\n",
    "## Check  Existence\n",
    "To check if the key exists in the dictionary:\n"
   ]
  },
  {
   "cell_type": "code",
   "execution_count": 24,
   "metadata": {},
   "outputs": [],
   "source": [
    "building_heights = {\"Burj Khalifa\": 828, \"Shanghai Tower\": 632, \"Abraj Al Bait\": 601, \"Ping An\": 599, \"Lotte World Tower\": 554.5, \"One World Trade\": 541.3}\n",
    "\n",
    "key_to_check = \"Landmark 81\"\n",
    " \n",
    "if key_to_check in building_heights:\n",
    "  print(building_heights[\"Landmark 81\"])\n"
   ]
  },
  {
   "cell_type": "markdown",
   "metadata": {},
   "source": [
    "This will not throw an error, because `key_to_check` in `building_heights` will return `False`, and so we never try to access the key."
   ]
  },
  {
   "cell_type": "markdown",
   "metadata": {},
   "source": [
    "***\n",
    "## .get( )\n",
    "\n",
    "Dictionaries have a `.get()` method to search for a value. If the key you are trying to `get()`does not exist, it will return None by default:"
   ]
  },
  {
   "cell_type": "code",
   "execution_count": 25,
   "metadata": {},
   "outputs": [
    {
     "name": "stdout",
     "output_type": "stream",
     "text": [
      "632\n",
      "None\n"
     ]
    }
   ],
   "source": [
    "building_heights = {\"Burj Khalifa\": 828, \"Shanghai Tower\": 632, \"Abraj Al Bait\": 601, \"Ping An\": 599, \"Lotte World Tower\": 554.5, \"One World Trade\": 541.3}\n",
    " \n",
    "#this line will return 632:\n",
    "print(building_heights.get(\"Shanghai Tower\"))\n",
    " \n",
    "#this line will return None:\n",
    "print(building_heights.get(\"My House\"))\n"
   ]
  },
  {
   "cell_type": "markdown",
   "metadata": {},
   "source": [
    "You can also specify a value to return if the key doesn’t exist. For example, we might want to return a building height of 0 if our desired building is not in the dictionary:\n",
    "\n",
    "`>>> building_heights.get('Shanghai Tower', 0)`\n",
    "\n",
    "632\n",
    "\n",
    "`>>> building_heights.get('Mt Olympus', 0)`\n",
    "\n",
    "0\n",
    "\n",
    "`>>> building_heights.get('Kilimanjaro', 'No Value')`\n",
    "\n",
    "'No Value'\n"
   ]
  },
  {
   "cell_type": "markdown",
   "metadata": {},
   "source": [
    "##### Example:"
   ]
  },
  {
   "cell_type": "code",
   "execution_count": 26,
   "metadata": {},
   "outputs": [
    {
     "name": "stdout",
     "output_type": "stream",
     "text": [
      "100019\n",
      "100000\n"
     ]
    }
   ],
   "source": [
    "user_ids = {\"teraCoder\": 100019, \"pythonGuy\": 182921, \"samTheJavaMaam\": 123112, \"lyleLoop\": 102931, \"keysmithKeith\": 129384}\n",
    "\n",
    "tc_id = user_ids.get(\"teraCoder\",100000)\n",
    "print(tc_id)\n",
    "\n",
    "stack_id = user_ids.get(\"superStackSmash\",100000)\n",
    "print(stack_id)"
   ]
  },
  {
   "cell_type": "markdown",
   "metadata": {},
   "source": [
    "***\n",
    "## Delete a Key\n",
    "\n",
    "Sometimes we want to get a key and remove it from the dictionary. Imagine we were running a raffle, and we have this dictionary mapping ticket numbers to prizes:"
   ]
  },
  {
   "cell_type": "code",
   "execution_count": 27,
   "metadata": {},
   "outputs": [],
   "source": [
    "raffle = {223842: \"Teddy Bear\", 872921: \"Concert Tickets\", 320291: \"Gift Basket\", 412123: \"Necklace\", 298787: \"Pasta Maker\"}"
   ]
  },
  {
   "cell_type": "markdown",
   "metadata": {},
   "source": [
    "When we get a ticket number, we want to return the prize and also remove that pair from the dictionary, since the prize has been given away. We can use `.pop()` to do this. Just like with `.get()`, we can provide a default value to return if the key does not exist in the dictionary:\n"
   ]
  },
  {
   "cell_type": "code",
   "execution_count": 31,
   "metadata": {},
   "outputs": [
    {
     "data": {
      "text/plain": [
       "{223842: 'Teddy Bear', 412123: 'Necklace', 298787: 'Pasta Maker'}"
      ]
     },
     "execution_count": 31,
     "metadata": {},
     "output_type": "execute_result"
    }
   ],
   "source": [
    ">>> raffle.pop(320291, \"No Prize\")\n",
    "\"Gift Basket\"\n",
    "\n",
    ">>> raffle\n",
    "{223842: \"Teddy Bear\", 872921: \"Concert Tickets\", 412123: \"Necklace\", 298787: \"Pasta Maker\"}\n",
    "\n",
    ">>> raffle.pop(100000, \"No Prize\")\n",
    "\"No Prize\"\n",
    "\n",
    ">>> raffle\n",
    "{223842: \"Teddy Bear\", 872921: \"Concert Tickets\", 412123: \"Necklace\", 298787: \"Pasta Maker\"}\n",
    "\n",
    ">>> raffle.pop(872921, \"No Prize\")\n",
    "\n",
    "\"Concert Tickets\"\n",
    ">>> raffle\n",
    "{223842: \"Teddy Bear\", 412123: \"Necklace\", 298787: \"Pasta Maker\"}\n"
   ]
  },
  {
   "cell_type": "markdown",
   "metadata": {},
   "source": [
    "**.pop() works to delete items from a dictionary, when you know the key value.**"
   ]
  },
  {
   "cell_type": "markdown",
   "metadata": {},
   "source": [
    "***\n",
    "## Get All Keys\n",
    "Dictionaries also have a `.keys()` method that returns a `dict_keys` object. A `dict_keys` object is a view object, which provides a look at the current state of the dictionary, without the user being able to modify anything. The `dict_keys` object returned by `.keys()` is a set of the keys in the dictionary. **You cannot add or remove elements from a `dict_keys` object, but it can be used in the place of a list for iteration**:\n",
    "\n",
    "`for student in test_scores.keys():`\n",
    "\n",
    " ` print(student)`\n",
    " \n",
    "**will yield:**\n",
    "\n",
    "* \"Grace\"\n",
    "* \"Jeffrey\"\n",
    "* \"Sylvia\"\n",
    "* \"Pedro\"\n",
    "* \"Martin\"\n",
    "* \"Dina\""
   ]
  },
  {
   "cell_type": "code",
   "execution_count": 32,
   "metadata": {},
   "outputs": [
    {
     "name": "stdout",
     "output_type": "stream",
     "text": [
      "dict_keys(['teraCoder', 'pythonGuy', 'samTheJavaMaam', 'lyleLoop', 'keysmithKeith'])\n",
      "dict_keys(['functions', 'syntax', 'control flow', 'loops', 'lists', 'classes', 'dictionaries'])\n"
     ]
    }
   ],
   "source": [
    "user_ids = {\"teraCoder\": 100019, \"pythonGuy\": 182921, \"samTheJavaMaam\": 123112, \"lyleLoop\": 102931, \"keysmithKeith\": 129384}\n",
    "num_exercises = {\"functions\": 10, \"syntax\": 13, \"control flow\": 15, \"loops\": 22, \"lists\": 19, \"classes\": 18, \"dictionaries\": 18}\n",
    "\n",
    "users = user_ids.keys()\n",
    "lessons = num_exercises.keys()\n",
    "\n",
    "print(users)\n",
    "print(lessons)"
   ]
  },
  {
   "cell_type": "markdown",
   "metadata": {},
   "source": [
    "## Get All Values\n",
    "Dictionaries have a `.values()` method that returns a `dict_values` object (just like a dict_keys object but for values!) with all of the values in the dictionary. It can be used in the place of a list for iteration:"
   ]
  },
  {
   "cell_type": "code",
   "execution_count": 33,
   "metadata": {},
   "outputs": [
    {
     "name": "stdout",
     "output_type": "stream",
     "text": [
      "[80, 72, 90]\n",
      "[88, 68, 81]\n",
      "[80, 82, 84]\n",
      "[98, 96, 95]\n",
      "[78, 80, 78]\n",
      "[64, 60, 75]\n"
     ]
    }
   ],
   "source": [
    "test_scores = {\"Grace\":[80, 72, 90], \"Jeffrey\":[88, 68, 81], \"Sylvia\":[80, 82, 84], \"Pedro\":[98, 96, 95], \"Martin\":[78, 80, 78], \"Dina\":[64, 60, 75]}\n",
    " \n",
    "for score_list in test_scores.values():\n",
    "    print(score_list)\n",
    "    #will yield:"
   ]
  },
  {
   "cell_type": "markdown",
   "metadata": {},
   "source": [
    "**There is no built-in function to get all of the values as a list, but if you really want to, you can use:**\n",
    "\n",
    "`list(test_scores.values())`\n",
    "\n",
    "However, for most purposes, the `dict_list` object will act the way you want a list to act."
   ]
  },
  {
   "cell_type": "markdown",
   "metadata": {},
   "source": [
    "## Get All Items\n",
    "\n",
    "You can **get both the keys and the values with the `.items()` method**. Like `.keys()` and `.values()`, it returns a `dict_list object`. Each element of the `dict_list` returned by `.items()` **is a tuple** consisting of:\n",
    "\n",
    "`(key, value)`\n",
    "\n",
    "so to iterate through, you can use this syntax:\n"
   ]
  },
  {
   "cell_type": "code",
   "execution_count": 36,
   "metadata": {},
   "outputs": [
    {
     "name": "stdout",
     "output_type": "stream",
     "text": [
      "Apple has a value of 184 billion dollars. \n",
      "Google has a value of 141.7 billion dollars. \n",
      "Microsoft has a value of 80 billion dollars. \n",
      "Coca-Cola has a value of 69.7 billion dollars. \n",
      "Amazon has a value of 64.8 billion dollars. \n"
     ]
    }
   ],
   "source": [
    "biggest_brands = {\"Apple\": 184, \"Google\": 141.7, \"Microsoft\": 80, \"Coca-Cola\": 69.7, \"Amazon\": 64.8}\n",
    " \n",
    "for company, value in biggest_brands.items():\n",
    "  print(company + \" has a value of \" + str(value) + \" billion dollars. \")\n",
    "\n",
    "#which would yield this output:"
   ]
  },
  {
   "cell_type": "code",
   "execution_count": 37,
   "metadata": {},
   "outputs": [
    {
     "name": "stdout",
     "output_type": "stream",
     "text": [
      "Women make up 28 percent of CEOs.\n",
      "Women make up 9 percent of Engineering Managers.\n",
      "Women make up 58 percent of Pharmacists.\n",
      "Women make up 40 percent of Physicians.\n",
      "Women make up 37 percent of Lawyers.\n",
      "Women make up 9 percent of Aerospace Engineers.\n"
     ]
    }
   ],
   "source": [
    "pct_women_in_occupation = {\"CEO\": 28, \"Engineering Manager\": 9, \"Pharmacist\": 58, \"Physician\": 40, \"Lawyer\": 37, \"Aerospace Engineer\": 9}\n",
    "\n",
    "for key,value in pct_women_in_occupation.items():\n",
    "  print(\"Women make up {value} percent of {key}s.\".format(key=key,value=value))"
   ]
  },
  {
   "cell_type": "markdown",
   "metadata": {},
   "source": [
    "***\n",
    "## Exercises"
   ]
  },
  {
   "cell_type": "code",
   "execution_count": 2,
   "metadata": {},
   "outputs": [
    {
     "name": "stdout",
     "output_type": "stream",
     "text": [
      "{'Mariana': {'Age': 27, 'Sex': 'Female', 'BMI': 31.1, 'Children': 2, 'Smoker': 'Non-smoker', 'Insurance_cost': 6607.0}, 'Connie': {'Age': 43, 'Sex': 'Female', 'BMI': 25.3, 'Children': 3, 'Smoker': 'Non-smoker', 'Insurance_cost': 8886.0}, 'Isaac': {'Age': 35, 'Sex': 'Male', 'BMI': 20.6, 'Children': 4, 'Smoker': 'Smoker', 'Insurance_cost': 16444.0}, 'Valentina': {'Age': 52, 'Sex': 'Female', 'BMI': 18.7, 'Children': 1, 'Smoker': 'Non-smoker', 'Insurance_cost': 6420.0}, 'Franco': {'Age': 16, 'Sex': 1, 'Smoker': 'Non-smoker', 'BMI': 1.2, 'Insurance_cost': 8000}}\n"
     ]
    }
   ],
   "source": [
    "# Add your code here\n",
    "medical_costs = {}\n",
    "medical_costs.update({'Mariana':6607.0,'Vinay':3225.0})\n",
    "\n",
    "medical_costs.update({'Connie':8886.0,'Isaac':16444.0,'Valentina':6420.0})\n",
    "\n",
    "medical_costs[\"Vinay\"] = 3325.0\n",
    "\n",
    "#print(medical_costs)\n",
    "\n",
    "total_cost = 0\n",
    "\n",
    "for i in medical_costs.values():\n",
    "  total_cost+=i\n",
    "\n",
    "average_cost = total_cost / len(medical_costs)\n",
    "\n",
    "#print(\"Average Insurance Cost: {average_cost}\".format(average_cost=average_cost))\n",
    "\n",
    "names = [\"Marina\",\"Vinay\",\"Connie\",\"Isaac\",\"Valentina\"]\n",
    "ages = [27,24,43,35,52] \n",
    "\n",
    "names_to_ages = {x:y for x,y in zip(names,ages)}\n",
    "#print(names_to_ages)\n",
    "\n",
    "marina_age = names_to_ages.get('Marina', None)\n",
    "#print(\"Marina's age is {marina_age}\".format(marina_age=marina_age))\n",
    "\n",
    "medical_records = {}\n",
    "\n",
    "medical_records.update({'Mariana':{\"Age\": 27, \"Sex\": \"Female\", \"BMI\": 31.1, \"Children\": 2, \"Smoker\": \"Non-smoker\", \"Insurance_cost\": 6607.0}})\n",
    "\n",
    "medical_records.update({'Vinay':{\"Age\": 24, \"Sex\": \"Male\", \"BMI\": 26.9, \"Children\": 0, \"Smoker\": \"Non-smoker\", \"Insurance_cost\": 3225.0},\n",
    "'Connie':{\"Age\": 43, \"Sex\": \"Female\", \"BMI\": 25.3, \"Children\": 3, \"Smoker\": \"Non-smoker\", \"Insurance_cost\":8886.0},\n",
    "'Isaac':{\"Age\": 35, \"Sex\": \"Male\", \"BMI\": 20.6, \"Children\": 4, \"Smoker\": \"Smoker\", \"Insurance_cost\":16444.0},\n",
    "'Valentina':{\"Age\": 52, \"Sex\": \"Female\", \"BMI\": 18.7, \"Children\": 1, \"Smoker\": \"Non-smoker\", \"Insurance_cost\":6420.0}})\n",
    "\n",
    "#print(medical_records)\n",
    "\n",
    "#print(\"Connie's insurance cost is {Connies_insurance_cost} dollars.\".format(Connies_insurance_cost = medical_records[\"Connie\"][\"Insurance_cost\"]))\n",
    "\n",
    "medical_records.pop('Vinay')\n",
    "\n",
    "#for key,value in medical_records.items():\n",
    "  #print('{name} is a {age} year old {sex} {smoker} with a BMI of {bmi} and insurance cost of {insurance_cost}'.format(name=key,age=value[\"Age\"],sex=value[\"Sex\"],smoker=value[\"Smoker\"],bmi=value[\"BMI\"],insurance_cost=value[\"Insurance_cost\"]))\n",
    "    \n",
    "  \n",
    "def update_medical_records(name,age,sex,smoker,bmi,insurance_cost):\n",
    "  if name not in medical_records.keys():\n",
    "    medical_records.update({name:{\"Age\":age,\"Sex\":sex,\"Smoker\":smoker,\"BMI\":bmi,\"Insurance_cost\":insurance_cost}})\n",
    "    print(medical_records)\n",
    "  else:\n",
    "    print('The name already exists!')\n",
    "\n",
    "update_medical_records('Franco',16,1,'Non-smoker',1.2,8000)\n",
    "\n",
    "\n",
    "\n",
    "\n"
   ]
  }
 ],
 "metadata": {
  "kernelspec": {
   "display_name": "Python 3",
   "language": "python",
   "name": "python3"
  },
  "language_info": {
   "codemirror_mode": {
    "name": "ipython",
    "version": 3
   },
   "file_extension": ".py",
   "mimetype": "text/x-python",
   "name": "python",
   "nbconvert_exporter": "python",
   "pygments_lexer": "ipython3",
   "version": "3.8.6"
  },
  "toc": {
   "base_numbering": 1,
   "nav_menu": {},
   "number_sections": true,
   "sideBar": true,
   "skip_h1_title": false,
   "title_cell": "Table of Contents",
   "title_sidebar": "Contents",
   "toc_cell": false,
   "toc_position": {},
   "toc_section_display": true,
   "toc_window_display": false
  }
 },
 "nbformat": 4,
 "nbformat_minor": 4
}
