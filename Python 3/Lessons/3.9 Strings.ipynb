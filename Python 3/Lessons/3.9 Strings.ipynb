{
 "cells": [
  {
   "cell_type": "code",
   "execution_count": 315,
   "metadata": {},
   "outputs": [
    {
     "name": "stdout",
     "output_type": "stream",
     "text": [
      "ikouki\n"
     ]
    }
   ],
   "source": [
    "first_name = \"Reiko\"\n",
    "last_name = \"Matsuki\"\n",
    "\n",
    "def password_generator(fn,ln):\n",
    "  passwordGenerated = fn[len(fn)-3:]+ln[len(ln)-3:]\n",
    "  return passwordGenerated\n",
    "\n",
    "temp_password = password_generator(first_name,last_name)\n",
    "print(temp_password)"
   ]
  },
  {
   "cell_type": "markdown",
   "metadata": {},
   "source": [
    "***\n",
    "## Negative Indices\n",
    "\n",
    "In the previous exercise, we used len() to get a slice of characters at the end of a string.\n",
    "\n",
    "There’s a much easier way to do this — we can use negative indices! __Negative indices count backward from the end of the string, so `string_name[-1]` is the last character of the string, string_name[-2] is the second last character of the string, etc.__\n",
    "\n",
    "Here are some examples:\n",
    "\n"
   ]
  },
  {
   "cell_type": "code",
   "execution_count": 316,
   "metadata": {},
   "outputs": [
    {
     "name": "stdout",
     "output_type": "stream",
     "text": [
      "y\n",
      "r\n",
      "rry\n"
     ]
    }
   ],
   "source": [
    "favorite_fruit = 'blueberry'\n",
    "print(favorite_fruit[-1])\n",
    "# => 'y'\n",
    " \n",
    "print(favorite_fruit[-2])\n",
    "# => 'r'\n",
    " \n",
    "print(favorite_fruit[-3:])\n",
    "# => 'rry'"
   ]
  },
  {
   "cell_type": "markdown",
   "metadata": {},
   "source": [
    "Then, concatenate the string \"R\" with a slice of first_name that includes everything but the first character, \"B\", and save it to a new string fixed_first_name"
   ]
  },
  {
   "cell_type": "code",
   "execution_count": 317,
   "metadata": {},
   "outputs": [
    {
     "name": "stdout",
     "output_type": "stream",
     "text": [
      "Rob\n"
     ]
    }
   ],
   "source": [
    "first_name = \"Bob\"\n",
    "last_name = \"Daily\"\n",
    "\n",
    "fixed_first_name = \"R\"+first_name[len(first_name)-2:] \n",
    "print(fixed_first_name)"
   ]
  },
  {
   "cell_type": "markdown",
   "metadata": {},
   "source": [
    "***\n",
    "## Escape Characters\n",
    "\n",
    "Occasionally when working with strings, you’ll find that you want to include characters that already have a special meaning in python. For example let’s say I create the string\n",
    "\n",
    "`favorite_fruit_conversation = \"He said, \"blueberries are my favorite!\"\"`\n",
    "\n",
    "We’ll have accidentally ended the string before we wanted to by including the \" character. The way we can do this is by introducing escape characters. __By adding a backslash in front of the special character we want to escape, \\\", we can include it in a string.__\n",
    "\n",
    "__`favorite_fruit_conversation = \"He said, \\\"blueberries are my favorite!\\\"\"`__"
   ]
  },
  {
   "cell_type": "code",
   "execution_count": 318,
   "metadata": {
    "scrolled": true
   },
   "outputs": [
    {
     "name": "stdout",
     "output_type": "stream",
     "text": [
      "He said, \"blueberries are my favorite!\"\n"
     ]
    }
   ],
   "source": [
    "favorite_fruit_conversation = \"He said, \\\"blueberries are my favorite!\\\"\"\n",
    "print(favorite_fruit_conversation)"
   ]
  },
  {
   "cell_type": "code",
   "execution_count": 319,
   "metadata": {},
   "outputs": [],
   "source": [
    "password = \"theycallme\\\"crazy\\\"91\""
   ]
  },
  {
   "cell_type": "markdown",
   "metadata": {},
   "source": [
    "## Strings and Conditionals (Part One)"
   ]
  },
  {
   "cell_type": "code",
   "execution_count": 320,
   "metadata": {},
   "outputs": [
    {
     "data": {
      "text/plain": [
       "True"
      ]
     },
     "execution_count": 320,
     "metadata": {},
     "output_type": "execute_result"
    }
   ],
   "source": [
    "def letter_check(word,letter):\n",
    "  for i in word:\n",
    "    if letter == i:\n",
    "      return True\n",
    "\n",
    "      \n",
    "letter_check(\"Pacha\", \"a\")"
   ]
  },
  {
   "cell_type": "markdown",
   "metadata": {},
   "source": [
    "## Strings and Conditionals (Part Two)"
   ]
  },
  {
   "cell_type": "markdown",
   "metadata": {},
   "source": [
    "There’s an even easier __way than iterating through the entire string to determine if a character is in a string. We can do this type of check more efficiently using in. in checks if one string is part of another string.__\n",
    "\n",
    "Here is what the syntax of in looks like:\n",
    "\n",
    "`letter in word`\n",
    "\n",
    "Here, letter in word is a __boolean expression__ that is True if the string letter is in the string word. Here are some examples:\n"
   ]
  },
  {
   "cell_type": "code",
   "execution_count": 321,
   "metadata": {
    "scrolled": true
   },
   "outputs": [
    {
     "name": "stdout",
     "output_type": "stream",
     "text": [
      "True\n",
      "False\n"
     ]
    }
   ],
   "source": [
    "print(\"e\" in \"blueberry\")\n",
    "# => True\n",
    "print(\"a\" in \"blueberry\")\n",
    "# => False"
   ]
  },
  {
   "cell_type": "markdown",
   "metadata": {},
   "source": [
    "In fact, this method is more powerful than the function you wrote in the last exercise because it not only works with letters, but with entire strings as well."
   ]
  },
  {
   "cell_type": "code",
   "execution_count": 322,
   "metadata": {},
   "outputs": [
    {
     "name": "stdout",
     "output_type": "stream",
     "text": [
      "True\n",
      "False\n"
     ]
    }
   ],
   "source": [
    "print(\"blue\" in \"blueberry\")\n",
    "# => True\n",
    "print(\"blue\" in \"strawberry\")\n",
    "# => False"
   ]
  },
  {
   "cell_type": "code",
   "execution_count": 323,
   "metadata": {},
   "outputs": [
    {
     "name": "stdout",
     "output_type": "stream",
     "text": [
      "True\n"
     ]
    }
   ],
   "source": [
    "def contains(big_string,little_string):\n",
    "  return little_string in big_string\n",
    "\n",
    "print(contains(\"Watermelon\",\"melon\"))"
   ]
  },
  {
   "cell_type": "markdown",
   "metadata": {},
   "source": [
    "Write a function called `common_letters` that takes two arguments, `string_one` and `string_two` and then returns a list with all of the letters they have in common.\n",
    "\n",
    "The letters in the returned list should be unique. For example,\n",
    "\n",
    "`common_letters(\"banana\", \"cream\")`\n",
    "\n",
    "should return`['a'].`"
   ]
  },
  {
   "cell_type": "code",
   "execution_count": 324,
   "metadata": {
    "scrolled": true
   },
   "outputs": [
    {
     "name": "stdout",
     "output_type": "stream",
     "text": [
      "['e', 'q', 'u', 'b', 'r', 'a', 'd', 'o']\n"
     ]
    }
   ],
   "source": [
    "def common_letters(string_one, string_two):\n",
    "  common = []\n",
    "  for letter in string_one:\n",
    "    if (letter in string_two) and not (letter in common):\n",
    "      common.append(letter)\n",
    "  return common\n",
    "\n",
    "print(common_letters(\"equilibrado\",\"quebrado\"))"
   ]
  },
  {
   "cell_type": "markdown",
   "metadata": {},
   "source": [
    "## Exercises"
   ]
  },
  {
   "cell_type": "markdown",
   "metadata": {},
   "source": [
    "Copeland’s Corporate Company has finalized what they want their username and temporary password creation to be and have enlisted your help, once again, to build the function to generate them. In this exercise, \n",
    "you will create two functions, `username_generator` and `password_generator.`\n",
    "\n",
    "Let’s start with `username_generator. `\n",
    "\n",
    "Create a function called `username_generator` take two inputs, __first_name__ and __last_name__ and returns a username. The username should be a slice of the __first three letters of their first name__ and __the first four letters of their last name__. If their first name is less than three letters or their last name is less than four letters it should use their entire names.\n",
    "\n",
    "For example, if the employee’s name is __Abe Simpson__ the function should generate the __username AbeSimp.__"
   ]
  },
  {
   "cell_type": "code",
   "execution_count": 1,
   "metadata": {},
   "outputs": [
    {
     "name": "stdout",
     "output_type": "stream",
     "text": [
      "FraAgui\n"
     ]
    }
   ],
   "source": [
    "def username_generator(firstname,lastname):\n",
    "  return firstname[:3] + lastname[:4]\n",
    "\n",
    "print(username_generator(\"Franco\",\"Aguilar\"))"
   ]
  },
  {
   "cell_type": "markdown",
   "metadata": {},
   "source": [
    "Now for the temporary password, they want the function to take the input user name and shift all of the letters by one to the right, so the last letter of the username ends up as the first letter and so forth. \n",
    "\n",
    "For example, if the __username is AbeSimp__, then the temporary __password generated should be pAbeSim.__"
   ]
  },
  {
   "cell_type": "code",
   "execution_count": 326,
   "metadata": {},
   "outputs": [
    {
     "name": "stdout",
     "output_type": "stream",
     "text": [
      "AbeSimp\n",
      "pAbeSimp\n"
     ]
    },
    {
     "data": {
      "text/plain": [
       "'pAbeSimp'"
      ]
     },
     "execution_count": 326,
     "metadata": {},
     "output_type": "execute_result"
    }
   ],
   "source": [
    "#Function previously created to generate an username\n",
    "def username_generator(firstname,lastname):\n",
    "  return firstname[:3] + lastname[:4]\n",
    "\n",
    "usernameGenerated = username_generator(\"Abe\",\"Simpson\")\n",
    "print(username_generator(\"Abe\",\"Simpson\"))\n",
    "\n",
    "#Function  created to generate a password\n",
    "def password_generator(username):\n",
    "  password = username[len(username)-1]+username[0:]\n",
    "  print(password)\n",
    "  return password\n",
    "\n",
    "password_generator(usernameGenerated)"
   ]
  },
  {
   "cell_type": "markdown",
   "metadata": {},
   "source": [
    "Inside `password_generator` create a for loop that iterates through the indices username by going from 0 to Inside `password_generator` create a for loop that iterates through the indices username by going from 0 to len(username).\n",
    "\n",
    "To shift the letters right, at each letter the for loop should add the previous letter to the string password."
   ]
  },
  {
   "cell_type": "code",
   "execution_count": 327,
   "metadata": {},
   "outputs": [
    {
     "name": "stdout",
     "output_type": "stream",
     "text": [
      "pAbeSim\n"
     ]
    }
   ],
   "source": [
    "def username_generator(firstname,lastname):\n",
    "  return firstname[:3] + lastname[:4]\n",
    "\n",
    "usernameGenerated = username_generator(\"Abe\",\"Simpson\")\n",
    "\n",
    "\n",
    "def password_generator(username):\n",
    "  password = \"\"\n",
    "  for i in range(len(username)):\n",
    "    password = password + username[i-1]\n",
    "  return password\n",
    "\n",
    "print(password_generator(usernameGenerated))"
   ]
  },
  {
   "cell_type": "markdown",
   "metadata": {},
   "source": [
    "## Formatting Methods\n",
    "\n",
    "There are three string methods that can change the casing of a string. These are `.lower()`, `.upper()`, and `.title().`\n",
    "\n",
    "* `.lower()` returns the string with all lowercase characters.\n",
    "* `.upper()` returns the string with all uppercase characters.\n",
    "* `.title()` returns the string in title case, which means the first letter of each word is capitalized.\n",
    "\n",
    "__It’s important to remember that string methods can only create new strings, they do not change the original string.__"
   ]
  },
  {
   "cell_type": "markdown",
   "metadata": {},
   "source": [
    "* You’re a programmer working for an organization that is trying to digitize and store poetry called Preserve the Verse.You’ve been given two strings, the title of a poem and it’s author, and have been asked to reformat them slightly to fit the conventions of the organization’s database.\n",
    "\n",
    "Make `poem_title` have title case and save it to `poem_title_fixed.`"
   ]
  },
  {
   "cell_type": "code",
   "execution_count": 328,
   "metadata": {
    "scrolled": true
   },
   "outputs": [
    {
     "name": "stdout",
     "output_type": "stream",
     "text": [
      "spring storm Spring Storm\n"
     ]
    }
   ],
   "source": [
    "poem_title = \"spring storm\"\n",
    "poem_author = \"William Carlos Williams\"\n",
    "\n",
    "poem_title_fixed = poem_title.title()\n",
    "print(poem_title,poem_title_fixed)\n"
   ]
  },
  {
   "cell_type": "markdown",
   "metadata": {},
   "source": [
    "* The organization’s database also needs the author’s name to be uppercase only.\n",
    "\n",
    "Make `poem_author` __uppercase__ and save it to __`poem_author_fixed`__"
   ]
  },
  {
   "cell_type": "code",
   "execution_count": 329,
   "metadata": {},
   "outputs": [
    {
     "name": "stdout",
     "output_type": "stream",
     "text": [
      "William Carlos Williams WILLIAM CARLOS WILLIAMS\n"
     ]
    }
   ],
   "source": [
    "poem_author_fixed = poem_author.upper()\n",
    "print(poem_author,poem_author_fixed)\n"
   ]
  },
  {
   "cell_type": "markdown",
   "metadata": {},
   "source": [
    "## Splitting Strings\n",
    "`.split()` is performed on a string, takes one argument, and __returns a list of substrings found between the given argument__ *(which in the case of .split() is known as the delimiter).* \n",
    "\n",
    "The following syntax should be used:\n",
    "\n",
    "__`string_name.split(delimiter)`__\n",
    "\n",
    "*If you do not provide an argument for .split() it will default to splitting at spaces.*\n",
    "\n",
    "For example, consider the following strings:"
   ]
  },
  {
   "cell_type": "code",
   "execution_count": 330,
   "metadata": {
    "scrolled": true
   },
   "outputs": [
    {
     "name": "stdout",
     "output_type": "stream",
     "text": [
      "['Like', 'seven', 'inches', 'from', 'the', 'midday', 'sun']\n"
     ]
    }
   ],
   "source": [
    "man_its_a_hot_one = \"Like seven inches from the midday sun\"\n",
    "print(man_its_a_hot_one.split())"
   ]
  },
  {
   "cell_type": "markdown",
   "metadata": {},
   "source": [
    "`.split` __returned a list with each word in the string__. <br> Important to note: if we run .split() on a string with no spaces, we will get the same string in return."
   ]
  },
  {
   "cell_type": "markdown",
   "metadata": {},
   "source": [
    "#### Example:"
   ]
  },
  {
   "cell_type": "code",
   "execution_count": 331,
   "metadata": {},
   "outputs": [
    {
     "name": "stdout",
     "output_type": "stream",
     "text": [
      "['The', 'sky', 'has', 'given', 'over']\n"
     ]
    }
   ],
   "source": [
    "line_one = \"The sky has given over\"\n",
    "\n",
    "line_one_words = line_one.split()\n",
    "print(line_one_words)"
   ]
  },
  {
   "cell_type": "markdown",
   "metadata": {},
   "source": [
    "## Splitting Strings II\n",
    "\n",
    "If we provide an argument for `.split()` we can dictate the character we want our string to be split on. **This argument should be provided as a string itself.**\n",
    "\n",
    "Consider the following example:"
   ]
  },
  {
   "cell_type": "code",
   "execution_count": 332,
   "metadata": {},
   "outputs": [
    {
     "name": "stdout",
     "output_type": "stream",
     "text": [
      "['sa', 'ta', 'a']\n"
     ]
    }
   ],
   "source": [
    "greatest_guitarist = \"santana\"\n",
    "print(greatest_guitarist.split('n'))"
   ]
  },
  {
   "cell_type": "markdown",
   "metadata": {},
   "source": [
    "We provided **'n'** as the argument for `.split()` so our string “santana” got split at each 'n' character into a list of three strings.\n",
    "\n",
    "What do you think happens if we split the same string at 'a'?"
   ]
  },
  {
   "cell_type": "code",
   "execution_count": 333,
   "metadata": {},
   "outputs": [
    {
     "name": "stdout",
     "output_type": "stream",
     "text": [
      "['s', 'nt', 'n', '']\n"
     ]
    }
   ],
   "source": [
    "print(greatest_guitarist.split('a'))"
   ]
  },
  {
   "cell_type": "markdown",
   "metadata": {},
   "source": [
    "Notice that there is an **unexpected extra '' string in this list. When you split a string on a character that it also ends with, you’ll end up with an empty string at the end of the list.**\n",
    "\n",
    "You can use any string as the argument for `.split()`, making it a versatile and powerful tool."
   ]
  },
  {
   "cell_type": "markdown",
   "metadata": {},
   "source": [
    "#### Exercises"
   ]
  },
  {
   "cell_type": "markdown",
   "metadata": {},
   "source": [
    "Your boss at the Poetry organization sent over a bunch of author names that he wants you to prepare for importing into the database. Annoyingly, he sent them over as a long string with the names separated by commas.\n",
    "\n",
    "Using `.split()` and the provided string, **create a list called author_names containing each individual author name as it’s own string.**"
   ]
  },
  {
   "cell_type": "code",
   "execution_count": 334,
   "metadata": {},
   "outputs": [],
   "source": [
    "authors = \"Audre Lorde,Gabriela Mistral,Jean Toomer,An Qi,Walt Whitman,Shel Silverstein,Carmen Boullosa,Kamala Suraiyya,Langston Hughes,Adrienne Rich,Nikki Giovanni\""
   ]
  },
  {
   "cell_type": "code",
   "execution_count": 335,
   "metadata": {
    "scrolled": true
   },
   "outputs": [
    {
     "name": "stdout",
     "output_type": "stream",
     "text": [
      "['Audre Lorde', 'Gabriela Mistral', 'Jean Toomer', 'An Qi', 'Walt Whitman', 'Shel Silverstein', 'Carmen Boullosa', 'Kamala Suraiyya', 'Langston Hughes', 'Adrienne Rich', 'Nikki Giovanni']\n"
     ]
    }
   ],
   "source": [
    "authors = \"Audre Lorde,Gabriela Mistral,Jean Toomer,An Qi,Walt Whitman,Shel Silverstein,Carmen Boullosa,Kamala Suraiyya,Langston Hughes,Adrienne Rich,Nikki Giovanni\"\n",
    "\n",
    "author_names = authors.split(',') #Esto retorna una lista con cada nombre y apellido en dentro de cada indice\n",
    "\n",
    "print(author_names)"
   ]
  },
  {
   "cell_type": "markdown",
   "metadata": {},
   "source": [
    "Create another list called `author_last_names` that **only contains the last names** of the poets in the provided string."
   ]
  },
  {
   "cell_type": "code",
   "execution_count": 336,
   "metadata": {},
   "outputs": [
    {
     "name": "stdout",
     "output_type": "stream",
     "text": [
      "['Lorde', 'Mistral', 'Toomer', 'Qi', 'Whitman', 'Silverstein', 'Boullosa', 'Suraiyya', 'Hughes', 'Rich', 'Giovanni']\n"
     ]
    }
   ],
   "source": [
    "author_last_names = []\n",
    "for name in author_names:\n",
    "  author_last_names.append(name.split()[-1])\n",
    "  \n",
    "print(author_last_names)"
   ]
  },
  {
   "cell_type": "markdown",
   "metadata": {},
   "source": [
    "***\n",
    "## Joining Strings\n",
    "\n",
    "`.join()` is essentially the **opposite** of `.split()`, it **joins a list of strings together with a given \n",
    "delimiter**. \n",
    "\n",
    "*The syntax of .join() is:*\n",
    "\n",
    "`'delimiter'.join(list_you_want_to_join)`\n",
    "\n",
    "Now this may seem a little weird, because with `.split()` the argument was the delimiter, but now the argument is the list. This is because join is still a string method, which means it has to act on a string. The string `.join()` acts on is the delimiter you want to join with, therefore the list you want to join has to be the argument.\n",
    "\n",
    "This can be a bit confusing, so let’s take a look at an example:"
   ]
  },
  {
   "cell_type": "code",
   "execution_count": 337,
   "metadata": {},
   "outputs": [
    {
     "name": "stdout",
     "output_type": "stream",
     "text": [
      "My Spanish Harlem Mona Lisa\n"
     ]
    }
   ],
   "source": [
    "my_munequita = ['My', 'Spanish', 'Harlem', 'Mona', 'Lisa']\n",
    "print(' '.join(my_munequita))"
   ]
  },
  {
   "cell_type": "markdown",
   "metadata": {},
   "source": [
    "We take the list of strings, `my_munequita`, and **we joined it together with our delimiter, '  ', which is a space.** The **space is important if you are trying to build a sentence from words**, otherwise, we would have ended up with:"
   ]
  },
  {
   "cell_type": "code",
   "execution_count": 338,
   "metadata": {},
   "outputs": [
    {
     "name": "stdout",
     "output_type": "stream",
     "text": [
      "MySpanishHarlemMonaLisa\n"
     ]
    }
   ],
   "source": [
    "print(''.join(my_munequita))"
   ]
  },
  {
   "cell_type": "markdown",
   "metadata": {},
   "source": [
    "#### Example:"
   ]
  },
  {
   "cell_type": "markdown",
   "metadata": {},
   "source": [
    "Use .join() to combine these words into a sentence and save that sentence as the string reapers_line_one."
   ]
  },
  {
   "cell_type": "code",
   "execution_count": 339,
   "metadata": {},
   "outputs": [],
   "source": [
    "reapers_line_one_words = [\"Black\", \"reapers\", \"with\", \"the\", \"sound\", \"of\", \"steel\", \"on\", \"stones\"]\n",
    "\n",
    "reapers_line_one = ' '.join(reapers_line_one_words)"
   ]
  },
  {
   "cell_type": "markdown",
   "metadata": {},
   "source": [
    "***\n",
    "## Joining Strings II\n",
    "\n",
    "In the last exercise, we joined together a list of words using a space as the delimiter to create a sentence. In fact, you can use any string as a delimiter to join together a list of strings. For example, if we have the list:"
   ]
  },
  {
   "cell_type": "code",
   "execution_count": 340,
   "metadata": {},
   "outputs": [],
   "source": [
    "santana_songs = ['Oye Como Va', 'Smooth', 'Black Magic Woman', 'Samba Pa Ti', 'Maria Maria']"
   ]
  },
  {
   "cell_type": "markdown",
   "metadata": {},
   "source": [
    "We could join this list together with ANY string. **One often used string is a comma , because then we can create a string of comma separated variables, or CSV.**"
   ]
  },
  {
   "cell_type": "code",
   "execution_count": 341,
   "metadata": {},
   "outputs": [
    {
     "name": "stdout",
     "output_type": "stream",
     "text": [
      "Oye Como Va,Smooth,Black Magic Woman,Samba Pa Ti,Maria Maria\n"
     ]
    }
   ],
   "source": [
    "santana_songs_csv = ','.join(santana_songs)\n",
    "print(santana_songs_csv)"
   ]
  },
  {
   "cell_type": "markdown",
   "metadata": {},
   "source": [
    "**You’ll often find data stored in CSVs because it is an efficient, simple file type used by popular programs like Excel or Google Spreadsheets.**\n",
    "\n",
    "You can also join using **escape sequences as the delimiter**\n",
    "\n",
    "Consider the following example:\n"
   ]
  },
  {
   "cell_type": "code",
   "execution_count": 342,
   "metadata": {},
   "outputs": [
    {
     "name": "stdout",
     "output_type": "stream",
     "text": [
      "Well I'm from the barrio\n",
      "You hear my rhythm on your radio\n",
      "You feel the turning of the world so soft and slow\n",
      "Turning you 'round and 'round\n"
     ]
    }
   ],
   "source": [
    "smooth_fifth_verse_lines = ['Well I\\'m from the barrio', 'You hear my rhythm on your radio', 'You feel the turning of the world so soft and slow', 'Turning you \\'round and \\'round']\n",
    "smooth_fifth_verse = '\\n'.join(smooth_fifth_verse_lines)\n",
    "print(smooth_fifth_verse)"
   ]
  },
  {
   "cell_type": "markdown",
   "metadata": {},
   "source": [
    "This code is taking the list of strings and joining them using a newline \\n as the delimiter. Then it prints the result and produces the output:"
   ]
  },
  {
   "cell_type": "markdown",
   "metadata": {},
   "source": [
    "#### Example:"
   ]
  },
  {
   "cell_type": "markdown",
   "metadata": {},
   "source": [
    "You’ve been given a list, `winter_trees_lines`, that contains all the lines to William Carlos Williams poem, Winter Trees. You’ve been asked to join together the strings in the list together into a single string that can be used to display the full poem. Name this string `winter_trees_full`\n",
    "\n",
    "**Print your result to the terminal. Make sure that each line of the poem appears on a new line in your string.**"
   ]
  },
  {
   "cell_type": "code",
   "execution_count": 343,
   "metadata": {},
   "outputs": [
    {
     "name": "stdout",
     "output_type": "stream",
     "text": [
      "All the complicated details\n",
      "of the attiring and\n",
      "the disattiring are completed!\n",
      "A liquid moon\n",
      "moves gently among\n",
      "the long branches.\n",
      "Thus having prepared their buds\n",
      "against a sure winter\n",
      "the wise trees\n",
      "stand sleeping in the cold.\n"
     ]
    }
   ],
   "source": [
    "winter_trees_lines = ['All the complicated details', 'of the attiring and', 'the disattiring are completed!', 'A liquid moon', 'moves gently among', 'the long branches.', 'Thus having prepared their buds', 'against a sure winter', 'the wise trees', 'stand sleeping in the cold.']\n",
    "\n",
    "\n",
    "winter_trees_full = '\\n'.join(winter_trees_lines)\n",
    "print(winter_trees_full)"
   ]
  },
  {
   "cell_type": "markdown",
   "metadata": {},
   "source": [
    "***\n",
    "## .strip()\n",
    "`.strip()`. Stripping a string **removes all whitespace characters from the beginning and end**. Consider the following example:"
   ]
  },
  {
   "cell_type": "code",
   "execution_count": 344,
   "metadata": {},
   "outputs": [
    {
     "name": "stdout",
     "output_type": "stream",
     "text": [
      "rob thomas\n"
     ]
    }
   ],
   "source": [
    "featuring = \"           rob thomas                 \"\n",
    "print(featuring.strip())"
   ]
  },
  {
   "cell_type": "markdown",
   "metadata": {},
   "source": [
    "All the whitespace on either side of the string has been stripped, but **the whitespace in the middle has been preserved.**\n",
    "\n",
    "You can also use `.strip()` **with a character argument**, which will strip that character from either end of the string."
   ]
  },
  {
   "cell_type": "code",
   "execution_count": 345,
   "metadata": {},
   "outputs": [
    {
     "name": "stdout",
     "output_type": "stream",
     "text": [
      "rob thomas       \n"
     ]
    }
   ],
   "source": [
    "featuring = \"!!!rob thomas       !!!!!\"\n",
    "print(featuring.strip('!'))"
   ]
  },
  {
   "cell_type": "markdown",
   "metadata": {},
   "source": [
    "By including the argument `'!'` we are able to strip all of the `!` characters from either side of the string. Notice that now that **we’ve included an argument we are no longer stripping whitespace, we are ONLY stripping the argument.**"
   ]
  },
  {
   "cell_type": "markdown",
   "metadata": {},
   "source": [
    "#### Example:"
   ]
  },
  {
   "cell_type": "markdown",
   "metadata": {},
   "source": [
    "* They sent over another list containing all the lines to the Audre Lorde poem, Love, Maybe. \n",
    "They want you to join together all of the lines into a single string that can be used to display the poem again, but this time, you’ve noticed that the list contains a ton of unnecessary whitespace that doesn’t appear in the actual poem.\n",
    "\n",
    "First, use `.strip()` on **each line in the list to remove the unnecessary whitespace** and save it as a new list `love_maybe_lines_stripped`."
   ]
  },
  {
   "cell_type": "code",
   "execution_count": 1,
   "metadata": {},
   "outputs": [],
   "source": [
    "love_maybe_lines = ['Always    ', '     in the middle of our bloodiest battles  ', 'you lay down your arms', '           like flowering mines    ','\\n' ,'   to conquer me home.    ']\n",
    "\n",
    "love_maybe_lines_stripped = []\n",
    "\n",
    "for i in love_maybe_lines:\n",
    "  i.split('\\n')\n",
    "  love_maybe_lines_stripped.append(i.strip())"
   ]
  },
  {
   "cell_type": "markdown",
   "metadata": {},
   "source": [
    "* `.join()` the lines in `love_maybe_lines_stripped` together into one large multi-line string, `love_maybe_full`, that can be printed to display the poem.\n",
    "\n",
    "Each line of the poem should show up on its own line."
   ]
  },
  {
   "cell_type": "code",
   "execution_count": 347,
   "metadata": {},
   "outputs": [
    {
     "name": "stdout",
     "output_type": "stream",
     "text": [
      "Always\n",
      "in the middle of our bloodiest battles\n",
      "you lay down your arms\n",
      "like flowering mines\n",
      "\n",
      "to conquer me home.\n"
     ]
    }
   ],
   "source": [
    "love_maybe_full = '\\n'.join(love_maybe_lines_stripped)\n",
    "print(love_maybe_full)"
   ]
  },
  {
   "cell_type": "markdown",
   "metadata": {},
   "source": [
    "***\n",
    "## .replace()\n",
    "The next string method we will cover is `.replace().` \n",
    "\n",
    "Replace **takes two arguments** and replaces all instances of the first argument in a string with the second argument. <br> The syntax is as follows:\n",
    "\n",
    "`string_name.replace(character_being_replaced, new_character)`\n",
    "\n",
    "Great! Let’s put it in context and look at an example."
   ]
  },
  {
   "cell_type": "code",
   "execution_count": 348,
   "metadata": {
    "scrolled": true
   },
   "outputs": [
    {
     "name": "stdout",
     "output_type": "stream",
     "text": [
      "You_got_the_kind_of_loving_that_can_be_so_smooth\n"
     ]
    }
   ],
   "source": [
    "with_spaces = \"You got the kind of loving that can be so smooth\"\n",
    "with_underscores = with_spaces.replace(' ', '_')\n",
    "print(with_underscores)"
   ]
  },
  {
   "cell_type": "markdown",
   "metadata": {},
   "source": [
    "Here we used `.replace()` to change every instance of a space in the string above to be an underscore instead."
   ]
  },
  {
   "cell_type": "markdown",
   "metadata": {},
   "source": [
    "#### Example:"
   ]
  },
  {
   "cell_type": "markdown",
   "metadata": {},
   "source": [
    "* The poetry organization has sent over the bio for Jean Toomer as it currently exists on their site. Notice that there was a mistake with his last name and all instances of Toomer are lacking one `o`.\n",
    "\n",
    "Use `.replace()` to change all instances of **Tomer** in the bio to **Toomer**. Save the updated bio to the string `toomer_bio_fixed`."
   ]
  },
  {
   "cell_type": "code",
   "execution_count": 349,
   "metadata": {},
   "outputs": [
    {
     "name": "stdout",
     "output_type": "stream",
     "text": [
      "\n",
      "Nathan Pinchback Toomer, who adopted the name Jean Toomer early in his literary career, was born in Washington, D.C. in 1894. Jean is the son of Nathan Toomer was a mixed-race freedman, born into slavery in 1839 in Chatham County, North Carolina. Jean Toomer is most well known for his first book Cane, which vividly portrays the life of African-Americans in southern farmlands.\n",
      "\n"
     ]
    }
   ],
   "source": [
    "toomer_bio = \\\n",
    "\"\"\"\n",
    "Nathan Pinchback Tomer, who adopted the name Jean Tomer early in his literary career, was born in Washington, D.C. in 1894. Jean is the son of Nathan Tomer was a mixed-race freedman, born into slavery in 1839 in Chatham County, North Carolina. Jean Tomer is most well known for his first book Cane, which vividly portrays the life of African-Americans in southern farmlands.\n",
    "\"\"\"\n",
    "\n",
    "toomer_bio_fixed = toomer_bio.replace('Tomer','Toomer')\n",
    "print(toomer_bio_fixed)"
   ]
  },
  {
   "cell_type": "markdown",
   "metadata": {},
   "source": [
    "***\n",
    "## .find()\n",
    ".find() takes a string as an argument and searching the string it was run on for that string. **It then returns the first index value where that string is located.**\n",
    "\n",
    "Here’s an example:"
   ]
  },
  {
   "cell_type": "code",
   "execution_count": 350,
   "metadata": {},
   "outputs": [
    {
     "name": "stdout",
     "output_type": "stream",
     "text": [
      "4\n"
     ]
    }
   ],
   "source": [
    "print('smooth'.find('t'))"
   ]
  },
  {
   "cell_type": "markdown",
   "metadata": {},
   "source": [
    "We searched the string 'smooth' for the string **'t' and found that it was at the fourth index spot**, so `.find() ` returned 4.\n",
    "\n",
    "You can also search for larger strings, and .find()  **will return the index value of the first character of that string.**\n"
   ]
  },
  {
   "cell_type": "code",
   "execution_count": 351,
   "metadata": {
    "scrolled": true
   },
   "outputs": [
    {
     "name": "stdout",
     "output_type": "stream",
     "text": [
      "2\n"
     ]
    }
   ],
   "source": [
    "print(\"smooth\".find('oo'))"
   ]
  },
  {
   "cell_type": "markdown",
   "metadata": {},
   "source": [
    "Notice here that 2 is the index of the first o."
   ]
  },
  {
   "cell_type": "markdown",
   "metadata": {},
   "source": [
    "#### Example:"
   ]
  },
  {
   "cell_type": "markdown",
   "metadata": {},
   "source": [
    "* At what index place does the word “disown” appear? Save that index place to the variable disown_placement."
   ]
  },
  {
   "cell_type": "code",
   "execution_count": 352,
   "metadata": {
    "scrolled": true
   },
   "outputs": [
    {
     "name": "stdout",
     "output_type": "stream",
     "text": [
      "20\n"
     ]
    }
   ],
   "source": [
    "god_wills_it_line_one = \"The very earth will disown you\"\n",
    "\n",
    "disown_placement = god_wills_it_line_one.find('disown')\n",
    "\n",
    "print(disown_placement)"
   ]
  },
  {
   "cell_type": "markdown",
   "metadata": {},
   "source": [
    "***\n",
    "## .format()\n",
    "\n",
    "`.format()` takes variables as an argument and includes them in the string that it is run on. You include `{}` marks as placeholders for where those variables will be imported.\n",
    "\n",
    "Consider the following function:"
   ]
  },
  {
   "cell_type": "code",
   "execution_count": 353,
   "metadata": {},
   "outputs": [],
   "source": [
    "def favorite_song_statement(song, artist):\n",
    "  return \"My favorite song is {} by {}.\".format(song, artist)"
   ]
  },
  {
   "cell_type": "markdown",
   "metadata": {},
   "source": [
    "The `function favorite_song_statement` takes two arguments, song and artist, then returns a string that includes both of the arguments and prints a sentence.\n",
    "\n",
    "Note: `.format()` can take as many arguments as there are **`{}`** in the string it is run on, which in this case in two.\n",
    "\n",
    "Here’s an example of the function being run:"
   ]
  },
  {
   "cell_type": "code",
   "execution_count": 354,
   "metadata": {},
   "outputs": [
    {
     "name": "stdout",
     "output_type": "stream",
     "text": [
      "My favorite song is Smooth by Santana.\n"
     ]
    }
   ],
   "source": [
    "print(favorite_song_statement(\"Smooth\", \"Santana\"))"
   ]
  },
  {
   "cell_type": "markdown",
   "metadata": {},
   "source": [
    "It is much easier to picture the end result `.format()` than it is to picture the end result of string concatenation and legibility is everything. You can also reuse the same base string with different variables, allowing you to cut down on unnecessary, hard to interpret code."
   ]
  },
  {
   "cell_type": "markdown",
   "metadata": {},
   "source": [
    "#### Example:"
   ]
  },
  {
   "cell_type": "markdown",
   "metadata": {},
   "source": [
    "* Write a function called `poem_title_card` that takes two inputs: the first input should be title and the second poet. The function should use `.format()` to return the following string:\n"
   ]
  },
  {
   "cell_type": "code",
   "execution_count": 355,
   "metadata": {
    "scrolled": true
   },
   "outputs": [
    {
     "name": "stdout",
     "output_type": "stream",
     "text": [
      "The poem \"I Hear America Singing\" is written by Walt Whitman.\n"
     ]
    }
   ],
   "source": [
    "def poem_title_card(title, poet):\n",
    "  poem_desc = \"The poem \\\"{}\\\" is written by {}.\".format(title, poet)\n",
    "  return poem_desc\n",
    "\n",
    "print(poem_title_card(\"I Hear America Singing\", \"Walt Whitman\"))"
   ]
  },
  {
   "cell_type": "markdown",
   "metadata": {},
   "source": [
    "## .format() II\n",
    "`.format()` can be made even more legible for other people reading your code by including keywords. Previously with .format(), you had to make sure that your variables appeared as arguments in the same order that you wanted them to appear in the string, which just added unnecessary complications when writing code.\n",
    "\n",
    "By **including keywords in the string and in the arguments, you can remove that ambiguity**. Let’s look at an example."
   ]
  },
  {
   "cell_type": "code",
   "execution_count": 1,
   "metadata": {},
   "outputs": [],
   "source": [
    "def favorite_song_statement(song, artist):\n",
    "    return \"My favorite song is {song} by {artist}.\".format(song=song, artist=artist)\n"
   ]
  },
  {
   "cell_type": "markdown",
   "metadata": {},
   "source": [
    "This makes writing AND reading the code much easier."
   ]
  },
  {
   "cell_type": "markdown",
   "metadata": {},
   "source": [
    "#### Example:"
   ]
  },
  {
   "cell_type": "markdown",
   "metadata": {},
   "source": [
    "* The function `poem_description` is supposed to use .format() to print out some quick information about a poem, but it seems to be causing some errors currently.\n",
    "\n",
    "Fix the function by using keywords in the `.format()` method.\n",
    "\n"
   ]
  },
  {
   "cell_type": "code",
   "execution_count": 357,
   "metadata": {},
   "outputs": [],
   "source": [
    "def poem_description(author,title,original_work, publishing_date):\n",
    "  poem_desc = \"The poem {title} by {author} was originally published in {original_work} in {publishing_date}.\".format(title=title, author=author, original_work=original_work, publishing_date=publishing_date)\n",
    "  return poem_desc"
   ]
  },
  {
   "cell_type": "markdown",
   "metadata": {},
   "source": [
    "Run `poem_description` with the following arguments and save the results to the variable `my_beard_description:`\n",
    "\n",
    "* author = \"Shel Silverstein\"\n",
    "* title = \"My Beard\"\n",
    "* original_work = \"Where the Sidewalk Ends\"\n",
    "* publishing_date = \"1974\""
   ]
  },
  {
   "cell_type": "code",
   "execution_count": 358,
   "metadata": {},
   "outputs": [
    {
     "name": "stdout",
     "output_type": "stream",
     "text": [
      "The poem My Beard by Shel Silverstein was originally published in Where the Sidewalk Ends in 1974.\n"
     ]
    }
   ],
   "source": [
    "my_beard_description = poem_description(\"Shel Silverstein\", \"My Beard\", \"Where the Sidewalk Ends\", \"1974\")\n",
    "print(my_beard_description)"
   ]
  },
  {
   "cell_type": "markdown",
   "metadata": {},
   "source": [
    "****\n",
    "# Review\n",
    "\n",
    "Over this lesson we’ve learned:\n",
    "\n",
    "* `.upper()`, `.title()`, and `.lower()` adjust the casing of your string.\n",
    "* `.split()` takes a string and creates a list of substrings.\n",
    "* `.join()` takes a list of strings and creates a string.\n",
    "* `.strip()` cleans off whitespace, or other noise from the beginning and end of a string.\n",
    "* `.replace()` replaces all instances of a character/string in a string with another character/string.\n",
    "* `.find()` searches a string for a character/string and returns the index value that character/string is found at.\n",
    "* `.format()` and f-strings allow you to interpolate a string with variables."
   ]
  },
  {
   "cell_type": "markdown",
   "metadata": {},
   "source": [
    "## Exercises\n"
   ]
  },
  {
   "cell_type": "code",
   "execution_count": 359,
   "metadata": {},
   "outputs": [
    {
     "name": "stdout",
     "output_type": "stream",
     "text": [
      "The poem Afterimages was published by Audre Lorde in 1997.\n",
      "The poem The Shadow was published by William Carlos Williams in 1915.\n",
      "The poem Ecstasy was published by Gabriela Mistral in 1925.\n",
      "The poem Georgia Dusk was published by Jean Toomer in 1923.\n",
      "The poem Parting Before Daybreak was published by An Qi in 2014.\n",
      "The poem The Untold Want was published by Walt Whitman in 1871.\n",
      "The poem Mr. Grumpledump's Song was published by Shel Silverstein in 2004.\n",
      "The poem Angel Sound Mexico City was published by Carmen Boullosa in 2013.\n",
      "The poem In Love was published by Kamala Suraiyya in 1965.\n",
      "The poem Dream Variations was published by Langston Hughes in 1994.\n",
      "The poem Dreamwood was published by Adrienne Rich in 1987.\n"
     ]
    }
   ],
   "source": [
    "highlighted_poems = \"Afterimages:Audre Lorde:1997,  The Shadow:William Carlos Williams:1915, Ecstasy:Gabriela Mistral:1925,   Georgia Dusk:Jean Toomer:1923,   Parting Before Daybreak:An Qi:2014, The Untold Want:Walt Whitman:1871, Mr. Grumpledump's Song:Shel Silverstein:2004, Angel Sound Mexico City:Carmen Boullosa:2013, In Love:Kamala Suraiyya:1965, Dream Variations:Langston Hughes:1994, Dreamwood:Adrienne Rich:1987\"\n",
    "\n",
    "\n",
    "highlighted_poems_list = highlighted_poems.split(',') #Dividimos la informacion de los poemas mediante comas\n",
    "\n",
    "#=> [Afterimages:Audre Lorde:1997 , The Shadow:William Carlos Williams:1915,] Esto ya no es un string, sino una lista con cada informacion del poema\n",
    "\n",
    "highlighted_poems_stripped= []\n",
    "\n",
    "\n",
    "for i in highlighted_poems_list:\n",
    "  highlighted_poems_stripped.append(i.strip()) #Eliminamos los espacios en blancos que sobran\n",
    "\n",
    "\n",
    "highlighted_poems_details = []\n",
    "\n",
    "for i in highlighted_poems_stripped:\n",
    "  highlighted_poems_details.append(i.split(':')) #Dividimos cada elemento de la lista `highlighted_poems_list` en sublistas\n",
    "\n",
    "#Antes: highlighted_poems_list = [Afterimages:Audre Lorde:1997 , The Shadow:William Carlos Williams:1915,] \n",
    "#Ahora: highlighted_poems_details = [[Afterimages, Audre Lorde, 1997 ] [The Shadow, William Carlos Williams,1915]]\n",
    "\n",
    "\n",
    "titles = []\n",
    "poets = []\n",
    "dates = []\n",
    "\n",
    "for i in highlighted_poems_details:\n",
    "  titles.append(i[0])\n",
    "  poets.append(i[1])\n",
    "  dates.append(i[2])\n",
    "  for j in i:\n",
    "    print(\"The poem {title} was published by {poet} in {date}.\".format(title = i[0], poet = i[1],date = i[2]))\n",
    "    break\n"
   ]
  },
  {
   "cell_type": "code",
   "execution_count": 12,
   "metadata": {},
   "outputs": [
    {
     "name": "stdout",
     "output_type": "stream",
     "text": [
      "https://www.codecademy.com\n",
      "https://www.wikipedia.org\n"
     ]
    }
   ],
   "source": [
    "class SearchEngineEntry:\n",
    "    \n",
    "  secure_prefix = \"https://\"\n",
    "    \n",
    "  def __init__(self, url):\n",
    "    self.link = url\n",
    " \n",
    "  def secure(self):\n",
    "    return \"{prefix}{site}\".format(prefix=self.secure_prefix, site=self.link)\n",
    " \n",
    "    \n",
    "\n",
    "codecademy = SearchEngineEntry(\"www.codecademy.com\")\n",
    "wikipedia = SearchEngineEntry(\"www.wikipedia.org\")\n",
    " \n",
    "print(codecademy.secure())\n",
    "# prints \"https://www.codecademy.com\"\n",
    " \n",
    "print(wikipedia.secure())\n",
    "# prints \"https://www.wikipedia.org\""
   ]
  }
 ],
 "metadata": {
  "kernelspec": {
   "display_name": "Python 3",
   "language": "python",
   "name": "python3"
  },
  "language_info": {
   "codemirror_mode": {
    "name": "ipython",
    "version": 3
   },
   "file_extension": ".py",
   "mimetype": "text/x-python",
   "name": "python",
   "nbconvert_exporter": "python",
   "pygments_lexer": "ipython3",
   "version": "3.8.5"
  },
  "toc": {
   "base_numbering": 1,
   "nav_menu": {},
   "number_sections": true,
   "sideBar": true,
   "skip_h1_title": false,
   "title_cell": "Table of Contents",
   "title_sidebar": "Contents",
   "toc_cell": false,
   "toc_position": {},
   "toc_section_display": true,
   "toc_window_display": false
  }
 },
 "nbformat": 4,
 "nbformat_minor": 4
}
