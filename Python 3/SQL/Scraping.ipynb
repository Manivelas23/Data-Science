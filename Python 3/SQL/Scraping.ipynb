{
 "cells": [
  {
   "cell_type": "markdown",
   "metadata": {},
   "source": [
    "* 1) Scraping de las tortugas\n",
    "* 2) Nombre de la tortuga y el url de la imagen\n",
    "* 3) Crear una tabla de sql y con pandas mostrarla \n",
    "* 4) buscar el server y el url de la imagenes\n",
    "\n",
    "https://content.codecademy.com/courses/beautifulsoup/$imagen"
   ]
  },
  {
   "cell_type": "code",
   "execution_count": 72,
   "metadata": {},
   "outputs": [
    {
     "data": {
      "text/plain": [
       "[('Aesop', 'https://content.codecademy.com/courses/beautifulsoup/aesop.png'),\n",
       " ('Caesar', 'https://content.codecademy.com/courses/beautifulsoup/caesar.png'),\n",
       " ('Sulla', 'https://content.codecademy.com/courses/beautifulsoup/sulla.png'),\n",
       " ('Spyro', 'https://content.codecademy.com/courses/beautifulsoup/spyro.png'),\n",
       " ('Zelda', 'https://content.codecademy.com/courses/beautifulsoup/zelda.png'),\n",
       " ('Bandicoot',\n",
       "  'https://content.codecademy.com/courses/beautifulsoup/bandicoot.png'),\n",
       " ('Hal', 'https://content.codecademy.com/courses/beautifulsoup/hal.png'),\n",
       " ('Mock', 'https://content.codecademy.com/courses/beautifulsoup/mock.png'),\n",
       " ('Captain Sparrow',\n",
       "  'https://content.codecademy.com/courses/beautifulsoup/captain sparrow.png')]"
      ]
     },
     "execution_count": 72,
     "metadata": {},
     "output_type": "execute_result"
    }
   ],
   "source": [
    "import pandas as pd\n",
    "import requests\n",
    "import sqlite3 \n",
    "from bs4 import BeautifulSoup\n",
    "\n",
    "webpage = requests.get(\"https://content.codecademy.com/courses/beautifulsoup/shellter.html\")\n",
    "soup = BeautifulSoup(webpage.content, \"html.parser\")\n",
    "\n",
    "turtle_names = [i.p.string for i in soup.find_all(attrs= ({'class':'box adopt'}))]\n",
    "img_urls = []\n",
    "\n",
    "for i in turtle_names:\n",
    "    img_urls.append(\"https://content.codecademy.com/courses/beautifulsoup/\"+i.lower()+'.png')\n",
    "\n",
    "turtle_information = []\n",
    "turtle_information"
   ]
  }
 ],
 "metadata": {
  "kernelspec": {
   "display_name": "Python 3",
   "language": "python",
   "name": "python3"
  },
  "language_info": {
   "codemirror_mode": {
    "name": "ipython",
    "version": 3
   },
   "file_extension": ".py",
   "mimetype": "text/x-python",
   "name": "python",
   "nbconvert_exporter": "python",
   "pygments_lexer": "ipython3",
   "version": "3.8.6"
  },
  "toc": {
   "base_numbering": 1,
   "nav_menu": {},
   "number_sections": true,
   "sideBar": true,
   "skip_h1_title": false,
   "title_cell": "Table of Contents",
   "title_sidebar": "Contents",
   "toc_cell": false,
   "toc_position": {},
   "toc_section_display": true,
   "toc_window_display": false
  }
 },
 "nbformat": 4,
 "nbformat_minor": 4
}
