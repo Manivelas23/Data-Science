{
 "cells": [
  {
   "cell_type": "markdown",
   "metadata": {},
   "source": [
    "# Python’s SQLite API"
   ]
  },
  {
   "cell_type": "markdown",
   "metadata": {},
   "source": [
    "Python has such an extensive library of modules and methods that allow you to manage data. SQL is one of the most efficient languages when it comes to working with relational databases. What if there were some way to combine the two to increase your functionality with relational databases? The good news is that we can thanks to **Python’s Database-API (DB-API)**. With **DB-API 2.0**, we can connect Python to RDBMS like `PostgreSQL(psycopg2)`, `MySQL(mysqlclient)`, `Oracle(pyodbc`), and` SQLite`. In this article we will explore the sqlite3 module, which allows us to create, read, update, and delete the data in our SQLite relational databases, but within our Python script, how cool is that? Let’s get started by viewing some of the API’s that are available to us within the module."
   ]
  },
  {
   "cell_type": "markdown",
   "metadata": {},
   "source": [
    "## Connecting to SQLite in Python"
   ]
  },
  {
   "cell_type": "code",
   "execution_count": 62,
   "metadata": {},
   "outputs": [],
   "source": [
    "import sqlite3\n",
    "import pandas as pd"
   ]
  },
  {
   "cell_type": "code",
   "execution_count": 52,
   "metadata": {},
   "outputs": [],
   "source": [
    "# Create connection to database\n",
    "conn = sqlite3.connect(\"first.db\")"
   ]
  },
  {
   "cell_type": "code",
   "execution_count": 53,
   "metadata": {},
   "outputs": [],
   "source": [
    "# Instantiate a cursor object\n",
    "cursor = conn.cursor()"
   ]
  },
  {
   "cell_type": "markdown",
   "metadata": {},
   "source": [
    "## Executing SQL Statements in Python"
   ]
  },
  {
   "cell_type": "code",
   "execution_count": 54,
   "metadata": {
    "scrolled": true
   },
   "outputs": [
    {
     "ename": "OperationalError",
     "evalue": "table students already exists",
     "output_type": "error",
     "traceback": [
      "\u001b[0;31m---------------------------------------------------------------------------\u001b[0m",
      "\u001b[0;31mOperationalError\u001b[0m                          Traceback (most recent call last)",
      "\u001b[0;32m<ipython-input-54-5aab15f029aa>\u001b[0m in \u001b[0;36m<module>\u001b[0;34m\u001b[0m\n\u001b[1;32m      1\u001b[0m \u001b[0;31m# Create students table\u001b[0m\u001b[0;34m\u001b[0m\u001b[0;34m\u001b[0m\u001b[0;34m\u001b[0m\u001b[0m\n\u001b[0;32m----> 2\u001b[0;31m cursor.execute('''CREATE TABLE students (\n\u001b[0m\u001b[1;32m      3\u001b[0m                     \u001b[0mid\u001b[0m \u001b[0mINTEGER\u001b[0m \u001b[0mPRIMARY\u001b[0m \u001b[0mKEY\u001b[0m\u001b[0;34m,\u001b[0m\u001b[0;34m\u001b[0m\u001b[0;34m\u001b[0m\u001b[0m\n\u001b[1;32m      4\u001b[0m                     \u001b[0mname\u001b[0m \u001b[0mTEXT\u001b[0m \u001b[0mNOT\u001b[0m \u001b[0mNULL\u001b[0m\u001b[0;34m,\u001b[0m\u001b[0;34m\u001b[0m\u001b[0;34m\u001b[0m\u001b[0m\n\u001b[1;32m      5\u001b[0m                     \u001b[0memail\u001b[0m \u001b[0mTEXT\u001b[0m \u001b[0mNOT\u001b[0m \u001b[0mNULL\u001b[0m \u001b[0mUNIQUE\u001b[0m\u001b[0;34m,\u001b[0m\u001b[0;34m\u001b[0m\u001b[0;34m\u001b[0m\u001b[0m\n",
      "\u001b[0;31mOperationalError\u001b[0m: table students already exists"
     ]
    }
   ],
   "source": [
    "# Create students table\n",
    "cursor.execute('''CREATE TABLE students (\n",
    "                    id INTEGER PRIMARY KEY,\n",
    "                    name TEXT NOT NULL,\n",
    "                    email TEXT NOT NULL UNIQUE,\n",
    "                    major_code INTEGER,\n",
    "                    grad_date datetime,\n",
    "                    grade REAL NOT NULL)''')"
   ]
  },
  {
   "cell_type": "code",
   "execution_count": null,
   "metadata": {
    "scrolled": true
   },
   "outputs": [],
   "source": [
    "# Add a row of data to students table\n",
    "cursor.execute('''INSERT INTO students VALUES (101, 'Alex', 'alex@codeu.com', 32, '2022-05-16', 'Pass')''')"
   ]
  },
  {
   "cell_type": "markdown",
   "metadata": {},
   "source": [
    "To insert multiple values at once we can use the `executemany()` method, a variation of the execute method which allows us to execute multiple commands in a single API call. Let’s create a list of student data that follows the students table schema so that the data can be added swiftly:\n",
    "\n"
   ]
  },
  {
   "cell_type": "code",
   "execution_count": 55,
   "metadata": {},
   "outputs": [
    {
     "ename": "SyntaxError",
     "evalue": "EOL while scanning string literal (<ipython-input-55-823d6583621f>, line 2)",
     "output_type": "error",
     "traceback": [
      "\u001b[0;36m  File \u001b[0;32m\"<ipython-input-55-823d6583621f>\"\u001b[0;36m, line \u001b[0;32m2\u001b[0m\n\u001b[0;31m    (103, 'Stac# Create a list of tuples of the major codes\u001b[0m\n\u001b[0m                                                           ^\u001b[0m\n\u001b[0;31mSyntaxError\u001b[0m\u001b[0;31m:\u001b[0m EOL while scanning string literal\n"
     ]
    }
   ],
   "source": [
    "students = [(102, 'Joe', 'joseph@codeu.com', 32, '2022-05-16', 'Pass'),\n",
    "            (103, 'Stac# Create a list of tuples of the major codes\n",
    "major_codes = cursor.execute(\"SELECT major_code FROM students;\").fetchall()\n",
    " \n",
    "# Obtain the average of the tuple list by using for loops\n",
    "sum = 0\n",
    "for num in major_codes: \n",
    "    for i in num: \n",
    "        sum = sum + i \n",
    "average = sum / len(major_codes)\n",
    " \n",
    "# Show average\n",
    "print(average)y', 'stacy@codeu.com', 10, '2022-05-16', 'Pass'),\n",
    "            (104, 'Angela', 'angela@codeu.com', 21, '2022-12-20', 'Pass'),\n",
    "            (105, 'Mark', 'mark@codeu.com', 21, '2022-12-20', 'Fail'),\n",
    "            (106, 'Nathan', 'nathaniel@codeu.com', 21, '2022-12-20', 'Pass')\n",
    "            ]\n",
    " \n",
    "# Insert values into the students table\n",
    "cursor.executemany('''INSERT INTO students VALUES (?,?,?,?,?,?)''', students)\n",
    "\n",
    "# Commit changes to database\n",
    "conn.commit()"
   ]
  },
  {
   "cell_type": "markdown",
   "metadata": {},
   "source": [
    "We use 6 question marks as placeholders to represent each of the 6 fields in the database that we will insert values into. Having made changes to our database, we need to ensure that the changes will be visible to others who may be working with our database. We use the `commit()` method on our connection to make sure these changes are committed."
   ]
  },
  {
   "cell_type": "markdown",
   "metadata": {},
   "source": [
    "## Reading our SQL data with Python"
   ]
  },
  {
   "cell_type": "markdown",
   "metadata": {},
   "source": [
    "To read the data within our database, we can use multiple methods. The most simple is to use a for loop that iterates through our database and calls some SQL statement:"
   ]
  },
  {
   "cell_type": "code",
   "execution_count": 56,
   "metadata": {
    "scrolled": true
   },
   "outputs": [
    {
     "name": "stdout",
     "output_type": "stream",
     "text": [
      "(102, 'Joe', 'joseph@codeu.com', 32, '2022-05-16', 'Pass')\n",
      "(103, 'Stacy', 'stacy@codeu.com', 10, '2022-05-16', 'Pass')\n",
      "(104, 'Angela', 'angela@codeu.com', 21, '2022-12-20', 'Pass')\n",
      "(105, 'Mark', 'mark@codeu.com', 21, '2022-12-20', 'Fail')\n",
      "(106, 'Nathan', 'nathaniel@codeu.com', 21, '2022-12-20', 'Pass')\n"
     ]
    }
   ],
   "source": [
    "# data = cursor.execute(\"SELECT * FROM students\")\n",
    "for row in cursor.execute(\"SELECT * FROM students\"):\n",
    "    print(row)"
   ]
  },
  {
   "cell_type": "markdown",
   "metadata": {},
   "source": [
    "There are a number of sqlite3 methods that will retrieve data, these being\n",
    "\n",
    "* `fetchone()`\n",
    "* `fetchmany()`\n",
    "* `fetchall()`"
   ]
  },
  {
   "cell_type": "code",
   "execution_count": 57,
   "metadata": {},
   "outputs": [
    {
     "data": {
      "text/plain": [
       "(102, 'Joe', 'joseph@codeu.com', 32, '2022-05-16', 'Pass')"
      ]
     },
     "execution_count": 57,
     "metadata": {},
     "output_type": "execute_result"
    }
   ],
   "source": [
    "#When we simply want to return the first row that fulfills a query, we can use fetchone()\n",
    "cursor.execute(\"SELECT * FROM students\").fetchone()"
   ]
  },
  {
   "cell_type": "markdown",
   "metadata": {},
   "source": [
    "To return a specific number of rows from our database that correspond to a particular query, we can call **`fetchmany()`** on our statement, and set the number of rows as a parameter. Like `fetchone()`, this call will return the first rows that match our query."
   ]
  },
  {
   "cell_type": "code",
   "execution_count": 58,
   "metadata": {},
   "outputs": [
    {
     "data": {
      "text/plain": [
       "[(102, 'Joe', 'joseph@codeu.com', 32, '2022-05-16', 'Pass'),\n",
       " (103, 'Stacy', 'stacy@codeu.com', 10, '2022-05-16', 'Pass'),\n",
       " (104, 'Angela', 'angela@codeu.com', 21, '2022-12-20', 'Pass')]"
      ]
     },
     "execution_count": 58,
     "metadata": {},
     "output_type": "execute_result"
    }
   ],
   "source": [
    "# Return first three rows in students\n",
    "cursor.execute(\"SELECT * FROM students\").fetchmany(3)"
   ]
  },
  {
   "cell_type": "markdown",
   "metadata": {},
   "source": [
    "If we want to return all rows associated with a certain SQL statement, we can call the `fetchall()` method:\n"
   ]
  },
  {
   "cell_type": "code",
   "execution_count": 59,
   "metadata": {},
   "outputs": [
    {
     "data": {
      "text/plain": [
       "[(102, 'Joe', 'joseph@codeu.com', 32, '2022-05-16', 'Pass'),\n",
       " (103, 'Stacy', 'stacy@codeu.com', 10, '2022-05-16', 'Pass'),\n",
       " (104, 'Angela', 'angela@codeu.com', 21, '2022-12-20', 'Pass'),\n",
       " (105, 'Mark', 'mark@codeu.com', 21, '2022-12-20', 'Fail'),\n",
       " (106, 'Nathan', 'nathaniel@codeu.com', 21, '2022-12-20', 'Pass')]"
      ]
     },
     "execution_count": 59,
     "metadata": {},
     "output_type": "execute_result"
    }
   ],
   "source": [
    "# Return all rows in students\n",
    "cursor.execute(\"SELECT * FROM students\").fetchall()"
   ]
  },
  {
   "cell_type": "markdown",
   "metadata": {},
   "source": [
    "*Notice that using for loops and the `fetchone()` method return tuples, while `fetchmany()` and `fetchall()` return lists of tuples.*"
   ]
  },
  {
   "cell_type": "markdown",
   "metadata": {},
   "source": [
    "All of your SQLite syntax will work in Python. You can use clauses like `WHERE`, `COUNT`, etc."
   ]
  },
  {
   "cell_type": "code",
   "execution_count": 60,
   "metadata": {},
   "outputs": [
    {
     "data": {
      "text/plain": [
       "(4,)"
      ]
     },
     "execution_count": 60,
     "metadata": {},
     "output_type": "execute_result"
    }
   ],
   "source": [
    "# Return the number of rows with a passing grade\n",
    "cursor.execute(\"\"\"SELECT COUNT(*) FROM students WHERE Grade = 'Pass';\"\"\").fetchone()"
   ]
  },
  {
   "cell_type": "markdown",
   "metadata": {},
   "source": [
    "Let’s say that we would like to find the average of the major codes field. We can use Python methods `sum()` and `len()` on our result set to obtain the mean value of the field."
   ]
  },
  {
   "cell_type": "code",
   "execution_count": 61,
   "metadata": {},
   "outputs": [
    {
     "name": "stdout",
     "output_type": "stream",
     "text": [
      "21.0\n"
     ]
    }
   ],
   "source": [
    "# Create a list of tuples of the major codes\n",
    "major_codes = cursor.execute(\"SELECT major_code FROM students;\").fetchall()\n",
    " \n",
    "# Obtain the average of the tuple list by using for loops\n",
    "sum = 0\n",
    "for num in major_codes: \n",
    "    for i in num: \n",
    "        sum = sum + i \n",
    "average = sum / len(major_codes)\n",
    " \n",
    "# Show average\n",
    "print(average)"
   ]
  },
  {
   "cell_type": "code",
   "execution_count": 66,
   "metadata": {},
   "outputs": [
    {
     "name": "stdout",
     "output_type": "stream",
     "text": [
      "    id    name                email  major_code   grad_date grade\n",
      "0  104  Angela     angela@codeu.com          21  2022-12-20  Pass\n",
      "1  105    Mark       mark@codeu.com          21  2022-12-20  Fail\n",
      "2  106  Nathan  nathaniel@codeu.com          21  2022-12-20  Pass\n"
     ]
    }
   ],
   "source": [
    "# Create a new dataframe from the result set\n",
    "df = pd.read_sql_query('''SELECT * from students WHERE major_code = 21;''', conn)\n",
    " \n",
    "# Show new dataframe\n",
    "print(df)"
   ]
  },
  {
   "cell_type": "code",
   "execution_count": 67,
   "metadata": {},
   "outputs": [
    {
     "data": {
      "text/plain": [
       "21.0"
      ]
     },
     "execution_count": 67,
     "metadata": {},
     "output_type": "execute_result"
    }
   ],
   "source": [
    "# Return the average of major code\n",
    "df['major_code'].mean()"
   ]
  }
 ],
 "metadata": {
  "kernelspec": {
   "display_name": "Python 3",
   "language": "python",
   "name": "python3"
  },
  "language_info": {
   "codemirror_mode": {
    "name": "ipython",
    "version": 3
   },
   "file_extension": ".py",
   "mimetype": "text/x-python",
   "name": "python",
   "nbconvert_exporter": "python",
   "pygments_lexer": "ipython3",
   "version": "3.8.6"
  },
  "toc": {
   "base_numbering": 1,
   "nav_menu": {},
   "number_sections": true,
   "sideBar": true,
   "skip_h1_title": false,
   "title_cell": "Table of Contents",
   "title_sidebar": "Contents",
   "toc_cell": false,
   "toc_position": {},
   "toc_section_display": true,
   "toc_window_display": false
  }
 },
 "nbformat": 4,
 "nbformat_minor": 4
}
