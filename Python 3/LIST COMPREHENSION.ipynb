{
 "cells": [
  {
   "cell_type": "markdown",
   "metadata": {},
   "source": [
    "1. Create a new list named double_nums by multiplying each number in nums by two."
   ]
  },
  {
   "cell_type": "code",
   "execution_count": 45,
   "metadata": {},
   "outputs": [
    {
     "name": "stdout",
     "output_type": "stream",
     "text": [
      "[8, 16, 30, 32, 46, 84]\n"
     ]
    }
   ],
   "source": [
    "nums = [4, 8, 15, 16, 23, 42]\n",
    "\n",
    "double_nums = [i*2 for i  in nums]\n",
    "print(double_nums)"
   ]
  },
  {
   "cell_type": "markdown",
   "metadata": {},
   "source": [
    "2. You’ve been given a list of the numbers between 0 and 10. We created this list using the range function! Create a new list named squares that contains the square of every number in this list."
   ]
  },
  {
   "cell_type": "code",
   "execution_count": 46,
   "metadata": {},
   "outputs": [
    {
     "name": "stdout",
     "output_type": "stream",
     "text": [
      "[0, 1, 4, 9, 16, 25, 36, 49, 64, 81, 100]\n"
     ]
    }
   ],
   "source": [
    "nums = range(11)\n",
    "squares = [i**2 for i in nums]\n",
    "print(squares)"
   ]
  },
  {
   "cell_type": "markdown",
   "metadata": {},
   "source": [
    "3. Create a new list named add_ten that adds ten to every element in the list nums."
   ]
  },
  {
   "cell_type": "code",
   "execution_count": 47,
   "metadata": {
    "scrolled": true
   },
   "outputs": [
    {
     "name": "stdout",
     "output_type": "stream",
     "text": [
      "[4, 8, 15, 16, 23, 42]\n",
      "[14, 18, 25, 26, 33, 52]\n"
     ]
    }
   ],
   "source": [
    "nums = [4, 8, 15, 16, 23, 42]\n",
    "add_ten = [i+10 for i in nums]\n",
    "print(nums)\n",
    "print(add_ten)"
   ]
  },
  {
   "cell_type": "markdown",
   "metadata": {},
   "source": [
    "3. Create a new list named divide_by_two that contains half of every element in the list nums. Make sure to divide by 2, not 2.0!"
   ]
  },
  {
   "cell_type": "code",
   "execution_count": 48,
   "metadata": {},
   "outputs": [
    {
     "name": "stdout",
     "output_type": "stream",
     "text": [
      "[4, 8, 15, 16, 23, 42]\n",
      "[2.0, 4.0, 7.5, 8.0, 11.5, 21.0]\n"
     ]
    }
   ],
   "source": [
    "nums = [4, 8, 15, 16, 23, 42]\n",
    "divide_by_two = [i/2 for i in nums]\n",
    "print(nums)\n",
    "print(divide_by_two)"
   ]
  },
  {
   "cell_type": "markdown",
   "metadata": {},
   "source": [
    "4. Create a new list named parity that contains a 1 or a 0 for each element of nums. For each element, if that element was even, the new list should contain a 0. If the element was odd, the new list should contain a 1."
   ]
  },
  {
   "cell_type": "code",
   "execution_count": 49,
   "metadata": {},
   "outputs": [
    {
     "name": "stdout",
     "output_type": "stream",
     "text": [
      "[0, 0, 1, 0, 1, 0]\n"
     ]
    }
   ],
   "source": [
    "nums = [4, 8, 15, 16, 23, 42]\n",
    "\n",
    "parity = [0 if i%2==0 else 1 for i in nums]\n",
    "print(parity)"
   ]
  },
  {
   "cell_type": "markdown",
   "metadata": {},
   "source": [
    "Create a new list named greetings that adds \"Hello, \" in front of each name in the list names."
   ]
  },
  {
   "cell_type": "code",
   "execution_count": 50,
   "metadata": {},
   "outputs": [
    {
     "name": "stdout",
     "output_type": "stream",
     "text": [
      "['Hello, Elaine', 'Hello, George', 'Hello, Jerry', 'Hello, Cosmo']\n"
     ]
    }
   ],
   "source": [
    "names = [\"Elaine\", \"George\", \"Jerry\", \"Cosmo\"]\n",
    "greetings = [\"Hello, \" + i for i in names]\n",
    "print(greetings)"
   ]
  },
  {
   "cell_type": "markdown",
   "metadata": {},
   "source": [
    "Create a new list named first_character that contains the first character from every name in the list names"
   ]
  },
  {
   "cell_type": "code",
   "execution_count": 51,
   "metadata": {
    "scrolled": true
   },
   "outputs": [
    {
     "name": "stdout",
     "output_type": "stream",
     "text": [
      "['E', 'G', 'J', 'C']\n"
     ]
    }
   ],
   "source": [
    "names = [\"Elaine\", \"George\", \"Jerry\", \"Cosmo\"]\n",
    "first_character = [i[0] for i in names]\n",
    "print(first_character)"
   ]
  },
  {
   "cell_type": "markdown",
   "metadata": {},
   "source": [
    "Create a new list named lengths that contains the size of each name in the list of names"
   ]
  },
  {
   "cell_type": "code",
   "execution_count": 52,
   "metadata": {},
   "outputs": [
    {
     "name": "stdout",
     "output_type": "stream",
     "text": [
      "[6, 6, 5, 5]\n"
     ]
    }
   ],
   "source": [
    "names = [\"Elaine\", \"George\", \"Jerry\", \"Cosmo\"]\n",
    "lengths = [len(i) for i in names]\n",
    "print(lengths)"
   ]
  },
  {
   "cell_type": "markdown",
   "metadata": {},
   "source": [
    "Create a new list named opposite that contains the opposite boolean for each element in the list booleans."
   ]
  },
  {
   "cell_type": "code",
   "execution_count": 53,
   "metadata": {},
   "outputs": [
    {
     "name": "stdout",
     "output_type": "stream",
     "text": [
      "[False, True, False]\n"
     ]
    }
   ],
   "source": [
    "booleans = [True, False, True]\n",
    "opposite = [not i for i in booleans]\n",
    "print(opposite)"
   ]
  },
  {
   "cell_type": "markdown",
   "metadata": {},
   "source": [
    "Create a new list called is_Jerry, in which an entry at position i is True if the entry in names at position i equals \"Jerry\". The entry should be False otherwise"
   ]
  },
  {
   "cell_type": "code",
   "execution_count": 54,
   "metadata": {
    "scrolled": true
   },
   "outputs": [
    {
     "name": "stdout",
     "output_type": "stream",
     "text": [
      "[False, False, True, False]\n"
     ]
    }
   ],
   "source": [
    "names = [\"Elaine\", \"George\", \"Jerry\", \"Cosmo\"]\n",
    "\n",
    "is_Jerry = [True if i == \"Jerry\" else False for  i in names]\n",
    "print(is_Jerry)"
   ]
  },
  {
   "cell_type": "markdown",
   "metadata": {},
   "source": [
    "Create a new list called greater_than_two, in which an entry at position i is True if the entry in nums at position i is greater than 2."
   ]
  },
  {
   "cell_type": "code",
   "execution_count": 55,
   "metadata": {
    "scrolled": true
   },
   "outputs": [
    {
     "name": "stdout",
     "output_type": "stream",
     "text": [
      "[True, False, True, True, False]\n"
     ]
    }
   ],
   "source": [
    "nums = [5, -10, 40, 20, 0]\n",
    "greater_than_two = [True if i > 2 else False for i in nums]\n",
    "print(greater_than_two)"
   ]
  },
  {
   "cell_type": "markdown",
   "metadata": {},
   "source": [
    "Create a new list named product that contains the product of each sub-list of nested_lists."
   ]
  },
  {
   "cell_type": "code",
   "execution_count": 56,
   "metadata": {},
   "outputs": [
    {
     "name": "stdout",
     "output_type": "stream",
     "text": [
      "[32, 240, 966]\n"
     ]
    }
   ],
   "source": [
    "nested_lists = [[4, 8], [15, 16], [23, 42]]\n",
    "product = [i*j for (j,i) in nested_lists] #i=[1,0] y j=[0,1] \n",
    "print(product)"
   ]
  },
  {
   "cell_type": "markdown",
   "metadata": {},
   "source": [
    "Create a new list named greater_than that contains True if the first number in the sub-list is greater than the second number in the sub-list, and False otherwise."
   ]
  },
  {
   "cell_type": "code",
   "execution_count": 57,
   "metadata": {},
   "outputs": [
    {
     "name": "stdout",
     "output_type": "stream",
     "text": [
      "[False, True, False]\n"
     ]
    }
   ],
   "source": [
    "nested_lists = [[4, 8], [16, 15], [23, 42]]\n",
    "greater_than = [True if i > j else False for (i,j) in nested_lists]\n",
    "print(greater_than)"
   ]
  },
  {
   "cell_type": "markdown",
   "metadata": {},
   "source": [
    "Create a new list named first_only that contains the first element in each sub-list of nested_lists."
   ]
  },
  {
   "cell_type": "code",
   "execution_count": 58,
   "metadata": {},
   "outputs": [
    {
     "name": "stdout",
     "output_type": "stream",
     "text": [
      "[4, 16, 23]\n"
     ]
    }
   ],
   "source": [
    "nested_lists = [[4, 8], [16, 15], [23, 42]]\n",
    "first_only = [i for (i,j) in nested_lists]\n",
    "print(first_only)"
   ]
  },
  {
   "cell_type": "markdown",
   "metadata": {},
   "source": [
    "Use list comprehension and the zip function to create a new list named sums that sums corresponding items in lists a and b. For example, the first item in the new list should be 5 from adding 1 and 4 together."
   ]
  },
  {
   "cell_type": "code",
   "execution_count": 59,
   "metadata": {},
   "outputs": [
    {
     "name": "stdout",
     "output_type": "stream",
     "text": [
      "[5.0, 7.0, 9.0]\n"
     ]
    }
   ],
   "source": [
    "a = [1.0, 2.0, 3.0]\n",
    "\n",
    "b = [4.0, 5.0, 6.0]\n",
    "\n",
    "sums = [i+j for (i,j) in zip(a,b)]\n",
    "\n",
    "print(sums)\n"
   ]
  },
  {
   "cell_type": "markdown",
   "metadata": {},
   "source": [
    "Use list comprehension and the zip function to create a new list named quotients that divides the elements in list b by those in list a . For example, the second item in the new list should be 2.5 from dividing 5.0 by 2.0."
   ]
  },
  {
   "cell_type": "code",
   "execution_count": 60,
   "metadata": {},
   "outputs": [
    {
     "name": "stdout",
     "output_type": "stream",
     "text": [
      "[4.0, 2.5, 2.0]\n"
     ]
    }
   ],
   "source": [
    "a = [1.0, 2.0, 3.0]\n",
    "b = [4.0, 5.0, 6.0]\n",
    "\n",
    "quotients = [j/i for (i,j) in zip(a,b)]\n",
    "print(quotients)"
   ]
  },
  {
   "cell_type": "markdown",
   "metadata": {},
   "source": [
    "You’ve been given two lists: a list of capitals and a list of countries. Create a new list named locations that contains the string \"capital, country\" for each item in the original lists. For example, if the 5th item in the capitals list is \"Lima\" and the 5th item in the countries list is \"Peru\", then the 5th item in the new list should be \"Lima, Peru\""
   ]
  },
  {
   "cell_type": "code",
   "execution_count": 61,
   "metadata": {},
   "outputs": [
    {
     "name": "stdout",
     "output_type": "stream",
     "text": [
      "['Santiago, Chile', 'Paris, France', 'Copenhagen, Denmark']\n"
     ]
    }
   ],
   "source": [
    "capitals = [\"Santiago\", \"Paris\", \"Copenhagen\"]\n",
    "countries = [\"Chile\", \"France\", \"Denmark\"]\n",
    "\n",
    "locations = [i+ \", \"+j for (i,j) in zip(capitals,countries)]\n",
    "\n",
    "print(locations)"
   ]
  },
  {
   "cell_type": "markdown",
   "metadata": {},
   "source": [
    "You’ve been given two lists: a list of names and a list of ages. Create a new list named users that contains the string \"Name: name, Age: age\" for each pair of elements in the original lists. For example, if the 5th item in the names list is \"Aiyana\" and the 5th item in ages is 42, then the 5th item in the new list should be \"Name: Aiyana, Age: 42\".\n",
    "\n",
    "As you did in the previous exercise, concatenate your strings together using +. Make sure to add proper capitalization and spaces."
   ]
  },
  {
   "cell_type": "code",
   "execution_count": 62,
   "metadata": {},
   "outputs": [
    {
     "name": "stdout",
     "output_type": "stream",
     "text": [
      "['Name: Shilah, Age: 14', 'Name: Arya, Age: 9', 'Name: Kele, Age: 35']\n"
     ]
    }
   ],
   "source": [
    "names = [\"Shilah\", \"Arya\", \"Kele\"]\n",
    "ages = [14, 9, 35]\n",
    "\n",
    "users = [\"Name: \" + i + \", Age: \" + str(j) for(i,j) in zip(names,ages)]\n",
    "\n",
    "print(users)"
   ]
  },
  {
   "cell_type": "markdown",
   "metadata": {},
   "source": [
    "Create a new list named greater_than that contains True or False depending on whether the corresponding item in list a is greater than the one in list b. For example, if the 2nd item in list a is 3, and the 2nd item in list b is 5, the 2nd item in the new list should be False."
   ]
  },
  {
   "cell_type": "code",
   "execution_count": 63,
   "metadata": {
    "scrolled": true
   },
   "outputs": [
    {
     "name": "stdout",
     "output_type": "stream",
     "text": [
      "[True, True, False]\n"
     ]
    }
   ],
   "source": [
    "a = [30, 42, 10]\n",
    "b = [15, 16, 17]\n",
    "\n",
    "greater_than = [True if i > j else False for(i,j) in zip(a,b)]\n",
    "\n",
    "print(greater_than)"
   ]
  },
  {
   "cell_type": "markdown",
   "metadata": {},
   "source": [
    "for i in actual_insurance_costs:\n",
    "  total_cost += i"
   ]
  }
 ],
 "metadata": {
  "kernelspec": {
   "display_name": "Python 3",
   "language": "python",
   "name": "python3"
  },
  "language_info": {
   "codemirror_mode": {
    "name": "ipython",
    "version": 3
   },
   "file_extension": ".py",
   "mimetype": "text/x-python",
   "name": "python",
   "nbconvert_exporter": "python",
   "pygments_lexer": "ipython3",
   "version": "3.8.3"
  }
 },
 "nbformat": 4,
 "nbformat_minor": 4
}
